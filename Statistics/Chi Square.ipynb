{
 "cells": [
  {
   "cell_type": "code",
   "execution_count": 1,
   "id": "5e4d91b8-f17b-4191-bf3e-7bb1cf6cf689",
   "metadata": {},
   "outputs": [],
   "source": [
    "import scipy.stats as st\n",
    "import numpy as np"
   ]
  },
  {
   "cell_type": "code",
   "execution_count": 4,
   "id": "94b47d65-c33a-45e3-973e-ea903c88cb49",
   "metadata": {},
   "outputs": [
    {
     "data": {
      "text/plain": [
       "(52, 52, 7)"
      ]
     },
     "execution_count": 4,
     "metadata": {},
     "output_type": "execute_result"
    }
   ],
   "source": [
    "expected = [8,6,7,9,6,9,7]\n",
    "observed = [7,8,6,9,9,6,7]\n",
    "sum(expected),sum(observed),len(expected)"
   ]
  },
  {
   "cell_type": "code",
   "execution_count": 5,
   "id": "6fbcce79-ffb0-401c-a48d-c1ec1bd83930",
   "metadata": {},
   "outputs": [],
   "source": [
    "#chi square to find goodness of fit?\n",
    "#chi square goodness of fit"
   ]
  },
  {
   "cell_type": "code",
   "execution_count": 6,
   "id": "d9a55e39-7b68-46d2-97ca-14a1bfe00008",
   "metadata": {},
   "outputs": [
    {
     "data": {
      "text/plain": [
       "(3.4345238095238093, 0.7526596580922865)"
      ]
     },
     "execution_count": 6,
     "metadata": {},
     "output_type": "execute_result"
    }
   ],
   "source": [
    "chisquare_test_statistics,p_value = st.chisquare(observed,expected)\n",
    "chisquare_test_statistics,p_value"
   ]
  },
  {
   "cell_type": "code",
   "execution_count": 7,
   "id": "bdf9350e-083f-4ce5-9736-c04d60a2378b",
   "metadata": {},
   "outputs": [
    {
     "data": {
      "text/plain": [
       "12.591587243743977"
      ]
     },
     "execution_count": 7,
     "metadata": {},
     "output_type": "execute_result"
    }
   ],
   "source": [
    "significance = 0.05\n",
    "dof = len(observed)-1\n",
    "critical_value = st.chi2.ppf(1-significance,dof)\n",
    "critical_value"
   ]
  },
  {
   "cell_type": "code",
   "execution_count": 9,
   "id": "d224a3ad-8440-497d-9efd-dfdcad60c22c",
   "metadata": {},
   "outputs": [
    {
     "name": "stdout",
     "output_type": "stream",
     "text": [
      "Fail to reject Null Hypothesis\n"
     ]
    }
   ],
   "source": [
    "if chisquare_test_statistics>critical_value:\n",
    "    print('Reject Null hypothesis')\n",
    "else:\n",
    "    print('Fail to reject Null Hypothesis')"
   ]
  },
  {
   "cell_type": "code",
   "execution_count": null,
   "id": "e07cc95e-b124-4194-a077-088af0bee839",
   "metadata": {},
   "outputs": [],
   "source": []
  }
 ],
 "metadata": {
  "kernelspec": {
   "display_name": "Python 3 (ipykernel)",
   "language": "python",
   "name": "python3"
  },
  "language_info": {
   "codemirror_mode": {
    "name": "ipython",
    "version": 3
   },
   "file_extension": ".py",
   "mimetype": "text/x-python",
   "name": "python",
   "nbconvert_exporter": "python",
   "pygments_lexer": "ipython3",
   "version": "3.10.8"
  }
 },
 "nbformat": 4,
 "nbformat_minor": 5
}
