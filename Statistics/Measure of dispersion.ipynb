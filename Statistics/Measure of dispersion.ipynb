{
 "cells": [
  {
   "cell_type": "code",
   "execution_count": 1,
   "id": "b74747c0-70b7-4f74-82b5-aa8f331f855c",
   "metadata": {},
   "outputs": [],
   "source": [
    "#Variance and standard deviation"
   ]
  },
  {
   "cell_type": "code",
   "execution_count": 5,
   "id": "5cd9fb0c-029b-4c45-81e1-c28ae7ce82f8",
   "metadata": {},
   "outputs": [
    {
     "data": {
      "text/plain": [
       "array([98, 72, 70, 67, 85, 61, 80, 67, 94, 69])"
      ]
     },
     "execution_count": 5,
     "metadata": {},
     "output_type": "execute_result"
    }
   ],
   "source": [
    "import numpy as np\n",
    "age = np.random.randint(60,100,(10))\n",
    "age"
   ]
  },
  {
   "cell_type": "code",
   "execution_count": 7,
   "id": "3755154d-dc37-4ab1-9e2d-0ddd86fa670a",
   "metadata": {},
   "outputs": [
    {
     "data": {
      "text/plain": [
       "(76.3, 139.20999999999998, 11.79872874508097)"
      ]
     },
     "execution_count": 7,
     "metadata": {},
     "output_type": "execute_result"
    }
   ],
   "source": [
    "np.mean(age),np.var(age),np.std(age)"
   ]
  },
  {
   "cell_type": "code",
   "execution_count": 8,
   "id": "807af2e5-272d-412f-9028-e149642461cd",
   "metadata": {},
   "outputs": [],
   "source": [
    "import pandas as pd"
   ]
  },
  {
   "cell_type": "code",
   "execution_count": 10,
   "id": "c23fbf4f-2772-4100-a4ce-318113e673cd",
   "metadata": {},
   "outputs": [],
   "source": [
    "data=[[10,12,13],[34,23,45],[32,34,21]]"
   ]
  },
  {
   "cell_type": "code",
   "execution_count": 15,
   "id": "c4ae4960-833c-4538-8727-e4696fe4a6f5",
   "metadata": {},
   "outputs": [
    {
     "data": {
      "text/html": [
       "<div>\n",
       "<style scoped>\n",
       "    .dataframe tbody tr th:only-of-type {\n",
       "        vertical-align: middle;\n",
       "    }\n",
       "\n",
       "    .dataframe tbody tr th {\n",
       "        vertical-align: top;\n",
       "    }\n",
       "\n",
       "    .dataframe thead th {\n",
       "        text-align: right;\n",
       "    }\n",
       "</style>\n",
       "<table border=\"1\" class=\"dataframe\">\n",
       "  <thead>\n",
       "    <tr style=\"text-align: right;\">\n",
       "      <th></th>\n",
       "      <th>a</th>\n",
       "      <th>b</th>\n",
       "      <th>c</th>\n",
       "    </tr>\n",
       "  </thead>\n",
       "  <tbody>\n",
       "    <tr>\n",
       "      <th>0</th>\n",
       "      <td>10</td>\n",
       "      <td>12</td>\n",
       "      <td>13</td>\n",
       "    </tr>\n",
       "    <tr>\n",
       "      <th>1</th>\n",
       "      <td>34</td>\n",
       "      <td>23</td>\n",
       "      <td>45</td>\n",
       "    </tr>\n",
       "    <tr>\n",
       "      <th>2</th>\n",
       "      <td>32</td>\n",
       "      <td>34</td>\n",
       "      <td>21</td>\n",
       "    </tr>\n",
       "  </tbody>\n",
       "</table>\n",
       "</div>"
      ],
      "text/plain": [
       "    a   b   c\n",
       "0  10  12  13\n",
       "1  34  23  45\n",
       "2  32  34  21"
      ]
     },
     "execution_count": 15,
     "metadata": {},
     "output_type": "execute_result"
    }
   ],
   "source": [
    "df=pd.DataFrame(data,columns=['a','b','c'])\n",
    "df"
   ]
  },
  {
   "cell_type": "code",
   "execution_count": 17,
   "id": "e99f4d79-5f73-44cd-9066-0048f3fdb806",
   "metadata": {},
   "outputs": [
    {
     "data": {
      "text/plain": [
       "(a    177.333333\n",
       " b    121.000000\n",
       " c    277.333333\n",
       " dtype: float64,\n",
       " a    177.333333\n",
       " b    121.000000\n",
       " c    277.333333\n",
       " dtype: float64)"
      ]
     },
     "execution_count": 17,
     "metadata": {},
     "output_type": "execute_result"
    }
   ],
   "source": [
    "df.var(),df.var(axis=0)#axis = 0  for row wise variance"
   ]
  },
  {
   "cell_type": "code",
   "execution_count": 18,
   "id": "8aedc277-e022-40cd-83d1-e8c8ecd641dd",
   "metadata": {},
   "outputs": [
    {
     "data": {
      "text/plain": [
       "(a    13.316656\n",
       " b    11.000000\n",
       " c    16.653328\n",
       " dtype: float64,\n",
       " a    13.316656\n",
       " b    11.000000\n",
       " c    16.653328\n",
       " dtype: float64)"
      ]
     },
     "execution_count": 18,
     "metadata": {},
     "output_type": "execute_result"
    }
   ],
   "source": [
    "df.std(),df.std(axis=0)"
   ]
  },
  {
   "cell_type": "code",
   "execution_count": 19,
   "id": "3b46adae-aad9-4304-971e-a5ab58af3899",
   "metadata": {},
   "outputs": [],
   "source": [
    "eg = [178,177,176,177,178.2,178,175,179,180,175,178.9,176.2,177,172.5,178,176.5]"
   ]
  },
  {
   "cell_type": "code",
   "execution_count": 20,
   "id": "89154729-1061-4012-bf0d-b4cc275f78c0",
   "metadata": {},
   "outputs": [
    {
     "data": {
      "text/plain": [
       "1.7885814036548633"
      ]
     },
     "execution_count": 20,
     "metadata": {},
     "output_type": "execute_result"
    }
   ],
   "source": [
    "np.std(eg)"
   ]
  },
  {
   "cell_type": "code",
   "execution_count": null,
   "id": "277fc80f-f8af-4566-89b5-fbcec57accfc",
   "metadata": {},
   "outputs": [],
   "source": []
  }
 ],
 "metadata": {
  "kernelspec": {
   "display_name": "Python 3 (ipykernel)",
   "language": "python",
   "name": "python3"
  },
  "language_info": {
   "codemirror_mode": {
    "name": "ipython",
    "version": 3
   },
   "file_extension": ".py",
   "mimetype": "text/x-python",
   "name": "python",
   "nbconvert_exporter": "python",
   "pygments_lexer": "ipython3",
   "version": "3.10.8"
  }
 },
 "nbformat": 4,
 "nbformat_minor": 5
}
