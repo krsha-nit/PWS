{
 "cells": [
  {
   "cell_type": "code",
   "execution_count": null,
   "id": "6ce58e24-3617-403f-a695-23313138ba39",
   "metadata": {},
   "outputs": [],
   "source": [
    "Q1. Create a list in python using the followings: 2,3,4,5,6,7 with variable ‘a’\n",
    "Add ‘mango to the above list\n",
    "Also add banana, grapes & orange in the list\n",
    "insert apple in the 5th position of a variable ‘a’\n",
    "Remove last item from the list"
   ]
  },
  {
   "cell_type": "code",
   "execution_count": 4,
   "id": "dacde9b7-e788-4889-8acb-ba2c9ae54a0f",
   "metadata": {},
   "outputs": [],
   "source": [
    "l=[2,3,4,5,6,7,'a']"
   ]
  },
  {
   "cell_type": "code",
   "execution_count": 5,
   "id": "91efa483-8256-4a27-9b7e-d16fa365e0c7",
   "metadata": {},
   "outputs": [
    {
     "data": {
      "text/plain": [
       "[2, 3, 4, 5, 6, 7, 'a', 'mango']"
      ]
     },
     "execution_count": 5,
     "metadata": {},
     "output_type": "execute_result"
    }
   ],
   "source": [
    "l.append('mango')\n",
    "l"
   ]
  },
  {
   "cell_type": "code",
   "execution_count": 7,
   "id": "ad8782d8-6054-4fab-8cd8-2f94756fafd1",
   "metadata": {},
   "outputs": [
    {
     "data": {
      "text/plain": [
       "[2, 3, 4, 5, 6, 7, 'a', 'mango', 'banana', 'grapes', 'orange']"
      ]
     },
     "execution_count": 7,
     "metadata": {},
     "output_type": "execute_result"
    }
   ],
   "source": [
    "l = l + ['banana','grapes','orange']\n",
    "l"
   ]
  },
  {
   "cell_type": "code",
   "execution_count": 8,
   "id": "0aabddbe-d49d-41e4-97dc-5d68e1fe37cb",
   "metadata": {},
   "outputs": [],
   "source": [
    "l[6] = 'apple'"
   ]
  },
  {
   "cell_type": "code",
   "execution_count": 9,
   "id": "db5f5042-a2c0-46ed-8fac-55552e2887e0",
   "metadata": {},
   "outputs": [
    {
     "data": {
      "text/plain": [
       "[2, 3, 4, 5, 6, 7, 'apple', 'mango', 'banana', 'grapes', 'orange']"
      ]
     },
     "execution_count": 9,
     "metadata": {},
     "output_type": "execute_result"
    }
   ],
   "source": [
    "l"
   ]
  },
  {
   "cell_type": "code",
   "execution_count": null,
   "id": "daa5163c-7439-4d6b-99f4-aab559c6016d",
   "metadata": {},
   "outputs": [],
   "source": [
    "Q2. Using the above list slice from 1:4\n",
    "L = [1,2,3,4,5,6,7]"
   ]
  },
  {
   "cell_type": "code",
   "execution_count": 10,
   "id": "56b59a73-8269-45ce-b909-f67df1bb194b",
   "metadata": {},
   "outputs": [],
   "source": [
    "L = [1,2,3,4,5,6,7]"
   ]
  },
  {
   "cell_type": "code",
   "execution_count": 12,
   "id": "dbb7b14e-cbd0-494d-89c4-a29a237ea5b7",
   "metadata": {},
   "outputs": [
    {
     "data": {
      "text/plain": [
       "[2, 3, 4]"
      ]
     },
     "execution_count": 12,
     "metadata": {},
     "output_type": "execute_result"
    }
   ],
   "source": [
    "L[1:4]"
   ]
  },
  {
   "cell_type": "code",
   "execution_count": null,
   "id": "c23db780-b79f-440c-86ec-a4b0d7e3d179",
   "metadata": {},
   "outputs": [],
   "source": [
    "Q3. Reverse the order of given string L = [4,5,6,8,3] Without using reverse() function."
   ]
  },
  {
   "cell_type": "code",
   "execution_count": 16,
   "id": "27220cd4-8f97-48ab-9ba5-a174dc899405",
   "metadata": {},
   "outputs": [
    {
     "data": {
      "text/plain": [
       "[3, 8, 6, 5, 4]"
      ]
     },
     "execution_count": 16,
     "metadata": {},
     "output_type": "execute_result"
    }
   ],
   "source": [
    "L = [4,5,6,8,3]\n",
    "L.reverse()\n",
    "L"
   ]
  },
  {
   "cell_type": "code",
   "execution_count": 17,
   "id": "b5e7576e-d95b-4816-91ba-9b8ab9c4774a",
   "metadata": {},
   "outputs": [
    {
     "data": {
      "text/plain": [
       "[4, 5, 6, 8, 3]"
      ]
     },
     "execution_count": 17,
     "metadata": {},
     "output_type": "execute_result"
    }
   ],
   "source": [
    "L[::-1]"
   ]
  },
  {
   "cell_type": "code",
   "execution_count": null,
   "id": "53a45d36-00eb-4d5a-8ab7-fed70c467857",
   "metadata": {},
   "outputs": [],
   "source": [
    "Q4. Use list comprehension to square the given list L=[2,4,7,3,6,8]"
   ]
  },
  {
   "cell_type": "code",
   "execution_count": 18,
   "id": "92bb51a5-3c10-46c2-892e-8eba7253e8d2",
   "metadata": {},
   "outputs": [
    {
     "data": {
      "text/plain": [
       "[4, 16, 49, 9, 36, 64]"
      ]
     },
     "execution_count": 18,
     "metadata": {},
     "output_type": "execute_result"
    }
   ],
   "source": [
    "L=[2,4,7,3,6,8]\n",
    "[x**2 for x in L]"
   ]
  },
  {
   "cell_type": "code",
   "execution_count": null,
   "id": "8bf9f157-0bc8-4fc9-84a5-3a26612cb6ce",
   "metadata": {},
   "outputs": [],
   "source": [
    "Q5. Create a function that takes in a tuple of integers and returns the sum of the integers. Test the\n",
    "function with a tuple of your choice."
   ]
  },
  {
   "cell_type": "code",
   "execution_count": 25,
   "id": "8669e793-21ea-4a1d-9231-55efaf927cb4",
   "metadata": {},
   "outputs": [],
   "source": [
    "def tup_sum(t):\n",
    "    return sum(t)"
   ]
  },
  {
   "cell_type": "code",
   "execution_count": 28,
   "id": "b4e1a6f9-97fa-4dc1-83be-2c3745eb418f",
   "metadata": {},
   "outputs": [
    {
     "data": {
      "text/plain": [
       "21.6"
      ]
     },
     "execution_count": 28,
     "metadata": {},
     "output_type": "execute_result"
    }
   ],
   "source": [
    "tup_sum((1,2,3,2,2,5.3,6.3))"
   ]
  },
  {
   "cell_type": "code",
   "execution_count": null,
   "id": "43d57922-1a7f-4e7d-8a67-ae11de2c95c4",
   "metadata": {},
   "outputs": [],
   "source": [
    "Q6. Create two sets of your favourite fruits, and use the union() method to combine them into a single set.\n",
    "Print the resulting set to the console."
   ]
  },
  {
   "cell_type": "code",
   "execution_count": 29,
   "id": "5fe519b3-bcce-4ff3-9063-25013965feb4",
   "metadata": {},
   "outputs": [],
   "source": [
    "fruits1 = {\"apple\", \"banana\", \"pear\"}\n",
    "fruits2 = {\"orange\", \"grape\", \"kiwi\"}"
   ]
  },
  {
   "cell_type": "code",
   "execution_count": 30,
   "id": "71fbb0cc-a2ec-4522-9e19-27a38990b62b",
   "metadata": {},
   "outputs": [
    {
     "data": {
      "text/plain": [
       "{'apple', 'banana', 'grape', 'kiwi', 'orange', 'pear'}"
      ]
     },
     "execution_count": 30,
     "metadata": {},
     "output_type": "execute_result"
    }
   ],
   "source": [
    "fruits1.union(fruits2)"
   ]
  },
  {
   "cell_type": "code",
   "execution_count": null,
   "id": "8d792223-e52b-49b5-9e13-6a265eb4a17c",
   "metadata": {},
   "outputs": [],
   "source": [
    "Q7. Create a set of random words, and use the add() method to add a new word to the set. Print the\n",
    "resulting set to the console."
   ]
  },
  {
   "cell_type": "code",
   "execution_count": 31,
   "id": "0e8307fc-decf-4135-92cf-b56482b1df15",
   "metadata": {},
   "outputs": [
    {
     "name": "stdout",
     "output_type": "stream",
     "text": [
      "{'programming', 'world', 'hello', 'python'}\n"
     ]
    }
   ],
   "source": [
    "words = {\"hello\", \"world\", \"python\"}\n",
    "words.add(\"programming\")\n",
    "print(words)"
   ]
  },
  {
   "cell_type": "code",
   "execution_count": null,
   "id": "ca58b011-925b-4b08-845a-27035ab8cb7d",
   "metadata": {},
   "outputs": [],
   "source": [
    "Q8. Create a set of your favourite animals, and use the remove() method to remove one animal from the\n",
    "set. Print the resulting set to the console."
   ]
  },
  {
   "cell_type": "code",
   "execution_count": 37,
   "id": "3d677c20-d3c2-47fc-b76e-7ab79b0422bb",
   "metadata": {},
   "outputs": [],
   "source": [
    "animals = {\"dog\", \"cat\", \"hamster\", \"parrot\"}"
   ]
  },
  {
   "cell_type": "code",
   "execution_count": 38,
   "id": "7e5660e4-3e7a-46eb-a400-bf4f71f3671d",
   "metadata": {},
   "outputs": [
    {
     "data": {
      "text/plain": [
       "{'dog', 'hamster', 'parrot'}"
      ]
     },
     "execution_count": 38,
     "metadata": {},
     "output_type": "execute_result"
    }
   ],
   "source": [
    "animals.remove('cat')\n",
    "animals"
   ]
  },
  {
   "cell_type": "code",
   "execution_count": null,
   "id": "3e58aec4-0a49-4603-8427-4d794644866c",
   "metadata": {},
   "outputs": [],
   "source": [
    "Q9. favorite_books = {\"1984\", \"To Kill a Mockingbird\", \"Pride and Prejudice\"}\n",
    "favorite_movies = [\"The Shawshank Redemption\", \"The Godfather\", \"The Dark Knight\"]\n",
    "Use the zip() function to combine the book set and movie list into a list of tuples representing book/\n",
    "movie pairs. Print the resulting list."
   ]
  },
  {
   "cell_type": "code",
   "execution_count": 48,
   "id": "9f874ec9-6c2e-42e1-8631-f2e4ab7cc31a",
   "metadata": {},
   "outputs": [],
   "source": [
    "favorite_books = [\"1984\", \"To Kill a Mockingbird\", \"Pride and Prejudice\"]\n",
    "favorite_movies = [\"The Shawshank Redemption\", \"The Godfather\", \"The Dark Knight\"]"
   ]
  },
  {
   "cell_type": "code",
   "execution_count": 49,
   "id": "e864c36a-4646-4e37-a3ad-48f2239b3717",
   "metadata": {},
   "outputs": [],
   "source": [
    "book_movie = zip(favorite_books,favorite_movies)"
   ]
  },
  {
   "cell_type": "code",
   "execution_count": 50,
   "id": "0865b500-7db8-4c09-a03e-794beeb11d28",
   "metadata": {},
   "outputs": [
    {
     "data": {
      "text/plain": [
       "[('1984', 'The Shawshank Redemption'),\n",
       " ('To Kill a Mockingbird', 'The Godfather'),\n",
       " ('Pride and Prejudice', 'The Dark Knight')]"
      ]
     },
     "execution_count": 50,
     "metadata": {},
     "output_type": "execute_result"
    }
   ],
   "source": [
    "list(book_movie)"
   ]
  },
  {
   "cell_type": "code",
   "execution_count": null,
   "id": "7235430a-70de-4705-bd1a-2dfa740004f7",
   "metadata": {},
   "outputs": [],
   "source": [
    "Q10. Write a Python program to find the difference between consecutive numbers in a list."
   ]
  },
  {
   "cell_type": "code",
   "execution_count": 54,
   "id": "c0851e88-36a1-4b85-9566-c2f1ee78fb87",
   "metadata": {},
   "outputs": [],
   "source": [
    "def consecutive_diff(list_):\n",
    "    diff = []\n",
    "    for i in range(len(list_)-1):\n",
    "        diff.append(list_[i+1]-list_[i])\n",
    "                    \n",
    "    return diff"
   ]
  },
  {
   "cell_type": "code",
   "execution_count": 56,
   "id": "98d386da-a4d9-45a9-8254-e8a4150fab25",
   "metadata": {},
   "outputs": [
    {
     "data": {
      "text/plain": [
       "[1, 2, -1, 4, 2, -8]"
      ]
     },
     "execution_count": 56,
     "metadata": {},
     "output_type": "execute_result"
    }
   ],
   "source": [
    "consecutive_diff([2,3,5,4,8,10,2])"
   ]
  },
  {
   "cell_type": "code",
   "execution_count": null,
   "id": "60549d6c-b54a-46aa-89c6-42d61efb8afd",
   "metadata": {},
   "outputs": [],
   "source": []
  }
 ],
 "metadata": {
  "kernelspec": {
   "display_name": "Python 3 (ipykernel)",
   "language": "python",
   "name": "python3"
  },
  "language_info": {
   "codemirror_mode": {
    "name": "ipython",
    "version": 3
   },
   "file_extension": ".py",
   "mimetype": "text/x-python",
   "name": "python",
   "nbconvert_exporter": "python",
   "pygments_lexer": "ipython3",
   "version": "3.10.8"
  }
 },
 "nbformat": 4,
 "nbformat_minor": 5
}
