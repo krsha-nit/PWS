{
 "cells": [
  {
   "cell_type": "code",
   "execution_count": null,
   "id": "4b39383d-acb6-4727-9efe-2659c5923ded",
   "metadata": {},
   "outputs": [],
   "source": [
    "Q1. Write a Python program that defines a function called \"add_numbers\" that takes two arguments (i.e.,\n",
    "numbers) and returns their sum. Within the function, add the two numbers together and return the result\n",
    "using the return statement. Call the function with the values 5 and 6, and print out the returned result.\n",
    "This will result in the addition of 5 and 6, with the output of the program being the sum of these two\n",
    "numbers."
   ]
  },
  {
   "cell_type": "code",
   "execution_count": 1,
   "id": "1b34c39d-69ad-4bd1-8603-edea01a038f8",
   "metadata": {},
   "outputs": [],
   "source": [
    "def add_numbers(a,b):\n",
    "    return a+b\n",
    "#or\n",
    "add_numbers2 = lambda a,b: a+b"
   ]
  },
  {
   "cell_type": "code",
   "execution_count": 2,
   "id": "711510b2-4609-4352-b9df-f2d246f639cc",
   "metadata": {},
   "outputs": [
    {
     "data": {
      "text/plain": [
       "(11, 11)"
      ]
     },
     "execution_count": 2,
     "metadata": {},
     "output_type": "execute_result"
    }
   ],
   "source": [
    "add_numbers(5,6), add_numbers2(5,6)"
   ]
  },
  {
   "cell_type": "code",
   "execution_count": 12,
   "id": "49b79a90-44c9-4682-b182-f01fc6e15938",
   "metadata": {},
   "outputs": [
    {
     "ename": "SyntaxError",
     "evalue": "invalid syntax (4176430120.py, line 1)",
     "output_type": "error",
     "traceback": [
      "\u001b[0;36m  Cell \u001b[0;32mIn[12], line 1\u001b[0;36m\u001b[0m\n\u001b[0;31m    Q2. Write a Python program that calculates the square root of a given number using a built-in function.\u001b[0m\n\u001b[0m              ^\u001b[0m\n\u001b[0;31mSyntaxError\u001b[0m\u001b[0;31m:\u001b[0m invalid syntax\n"
     ]
    }
   ],
   "source": [
    "Q2. Write a Python program that calculates the square root of a given number using a built-in function.\n",
    "Specifically, the program should take an integer or float input from the user, calculate its square root\n",
    "using the 'sqrt()' function from the 'math' module, and print out the result to the user. As an example,\n",
    "calculate the square root of the number 625 using this program, which should output the value of 25."
   ]
  },
  {
   "cell_type": "code",
   "execution_count": 3,
   "id": "b28de29f-ecc7-43dd-894d-9170812f5546",
   "metadata": {},
   "outputs": [],
   "source": [
    "import math"
   ]
  },
  {
   "cell_type": "code",
   "execution_count": 9,
   "id": "85d19224-fdab-43bc-8a86-15f1ef218265",
   "metadata": {},
   "outputs": [],
   "source": [
    "def sq_rt():\n",
    "    num = float(input('Enter a number: '))\n",
    "    return math.sqrt(num)"
   ]
  },
  {
   "cell_type": "code",
   "execution_count": 11,
   "id": "d853b62a-745f-467a-bc76-026f9ace5e37",
   "metadata": {},
   "outputs": [
    {
     "name": "stdin",
     "output_type": "stream",
     "text": [
      "Enter a number:  25\n"
     ]
    },
    {
     "data": {
      "text/plain": [
       "5.0"
      ]
     },
     "execution_count": 11,
     "metadata": {},
     "output_type": "execute_result"
    }
   ],
   "source": [
    "sq_rt()"
   ]
  },
  {
   "cell_type": "code",
   "execution_count": null,
   "id": "36eb5677-eca4-4e02-a036-6623bd4ca046",
   "metadata": {},
   "outputs": [],
   "source": [
    "Q3.Write a program that prints all prime numbers between 0 to 50."
   ]
  },
  {
   "cell_type": "code",
   "execution_count": 20,
   "id": "56c74ff9-072f-4287-bd13-4615dad51014",
   "metadata": {},
   "outputs": [],
   "source": [
    "def prime_num(list_):\n",
    "    cnt = 0\n",
    "    prime = []\n",
    "    for i in list_:\n",
    "        for j in range(1,i+1):\n",
    "            if i%j == 0:\n",
    "                cnt+=1\n",
    "        if cnt == 2:\n",
    "            prime.append(i)\n",
    "        cnt = 0\n",
    "        \n",
    "    return prime"
   ]
  },
  {
   "cell_type": "code",
   "execution_count": 21,
   "id": "d99c772c-6399-42dc-bd49-d4bbf7ccde35",
   "metadata": {},
   "outputs": [
    {
     "data": {
      "text/plain": [
       "[2, 3, 5, 7, 11, 13, 17, 19, 23, 29, 31, 37, 41, 43, 47]"
      ]
     },
     "execution_count": 21,
     "metadata": {},
     "output_type": "execute_result"
    }
   ],
   "source": [
    "prime_num(list(range(1,51)))"
   ]
  },
  {
   "cell_type": "code",
   "execution_count": null,
   "id": "5ad5eae1-8e99-4b65-a584-ab0a2cb3da66",
   "metadata": {},
   "outputs": [],
   "source": [
    "Q4.How can we swap the values of three variables (let's say a, b, and c) without using a fourth variable?\n",
    "For example, if we have a=5, b=8, and c=9, how can we obtain a=9, b=5, and c=8? The challenge is to\n",
    "perform this operation without using an additional variable to store any of the values during the\n",
    "swapping process."
   ]
  },
  {
   "cell_type": "code",
   "execution_count": 22,
   "id": "ee1ee0bb-1d12-4bcd-8f09-eedb31b0a576",
   "metadata": {},
   "outputs": [],
   "source": [
    "a,b,c=5,8,9"
   ]
  },
  {
   "cell_type": "code",
   "execution_count": 24,
   "id": "60c25b7e-5ee7-4d50-99ec-32784f409070",
   "metadata": {},
   "outputs": [
    {
     "data": {
      "text/plain": [
       "(9, 5, 8)"
      ]
     },
     "execution_count": 24,
     "metadata": {},
     "output_type": "execute_result"
    }
   ],
   "source": [
    "a=a+b+c #a=22\n",
    "b=a-(b+c)#b=5=a\n",
    "c=a-(b+c)#c=b=8\n",
    "a=a-(b+c)#a=c=9\n",
    "a,b,c"
   ]
  },
  {
   "cell_type": "code",
   "execution_count": null,
   "id": "84808da7-cd9c-4d59-80ab-dde28cd9ba86",
   "metadata": {},
   "outputs": [],
   "source": [
    "Q5. Can you write a program that determines the nature of a given number (in this case, 87) as being\n",
    "positive, negative, or zero? The program should be designed to take the number as input and perform the\n",
    "necessary calculations to determine if the number is positive (i.e., greater than zero), negative (i.e., less\n",
    "than zero), or zero (i.e., equal to zero). The output of the program should indicate which of these three\n",
    "categories the given number falls into."
   ]
  },
  {
   "cell_type": "code",
   "execution_count": 26,
   "id": "dbbcf990-c5fa-4343-8c26-dcc7e2564b2a",
   "metadata": {},
   "outputs": [],
   "source": [
    "def nat_num():\n",
    "    num=float(input('Enter a num: '))\n",
    "    if num>0:\n",
    "        return 'positive'\n",
    "    elif num<0:\n",
    "        return 'negative'\n",
    "    else:\n",
    "        return 'zero'"
   ]
  },
  {
   "cell_type": "code",
   "execution_count": 28,
   "id": "3d351451-9586-40bb-a345-17419b74d0c0",
   "metadata": {},
   "outputs": [
    {
     "name": "stdin",
     "output_type": "stream",
     "text": [
      "Enter a num:  0\n"
     ]
    },
    {
     "data": {
      "text/plain": [
       "'zero'"
      ]
     },
     "execution_count": 28,
     "metadata": {},
     "output_type": "execute_result"
    }
   ],
   "source": [
    "nat_num()"
   ]
  },
  {
   "cell_type": "code",
   "execution_count": null,
   "id": "cb3563bf-f0ac-4432-87ff-7275c7b0b277",
   "metadata": {},
   "outputs": [],
   "source": [
    "Q6. How can you create a program that determines whether a given number (in this case, 98) is even or\n",
    "odd? The program should be designed to take the number as input and perform the necessary\n",
    "calculations to determine whether it is divisible by two. If the number is divisible by two without leaving a\n",
    "remainder, it is an even number, and if there is a remainder, it is an odd number. The output of the\n",
    "program should indicate whether the given number is even or odd."
   ]
  },
  {
   "cell_type": "code",
   "execution_count": 29,
   "id": "bcb6d104-ba26-4c4a-889e-4dbef046d385",
   "metadata": {},
   "outputs": [],
   "source": [
    "def even_odd():\n",
    "    num=float(input('Enter a num: '))\n",
    "    if num%2==0:\n",
    "        return 'even'\n",
    "    else:\n",
    "        return 'odd'"
   ]
  },
  {
   "cell_type": "code",
   "execution_count": 31,
   "id": "6a0da12a-7452-4f92-9883-86ecec26f7c6",
   "metadata": {},
   "outputs": [
    {
     "name": "stdin",
     "output_type": "stream",
     "text": [
      "Enter a num:  90\n"
     ]
    },
    {
     "data": {
      "text/plain": [
       "'even'"
      ]
     },
     "execution_count": 31,
     "metadata": {},
     "output_type": "execute_result"
    }
   ],
   "source": [
    "even_odd()"
   ]
  },
  {
   "cell_type": "code",
   "execution_count": null,
   "id": "9b23ea64-1629-481b-ba9b-d20e8638896f",
   "metadata": {},
   "outputs": [],
   "source": [
    "Q7.Write a program for sum of digits.the digits are 76543 and the output should be 25."
   ]
  },
  {
   "cell_type": "code",
   "execution_count": 41,
   "id": "ba624938-da6f-4249-bf0d-ff65e03ea1fc",
   "metadata": {},
   "outputs": [],
   "source": [
    "def sum_digits():\n",
    "    sum_d = 0\n",
    "    num = (input('Enter a num: '))\n",
    "    num_list = [str(x) for x in (num)]\n",
    "    for i in num_list:\n",
    "        sum_d = sum_d+int(i)\n",
    "        \n",
    "    return sum_d"
   ]
  },
  {
   "cell_type": "code",
   "execution_count": 42,
   "id": "644ba970-6579-44c2-b20c-214d417f2606",
   "metadata": {},
   "outputs": [
    {
     "name": "stdin",
     "output_type": "stream",
     "text": [
      "Enter a num:  45521\n"
     ]
    },
    {
     "data": {
      "text/plain": [
       "17"
      ]
     },
     "execution_count": 42,
     "metadata": {},
     "output_type": "execute_result"
    }
   ],
   "source": [
    "sum_digits()"
   ]
  },
  {
   "cell_type": "code",
   "execution_count": null,
   "id": "de4909c8-96ab-4524-a160-df951bb68737",
   "metadata": {},
   "outputs": [],
   "source": [
    "Q8.Write a program for reversing the given number 5436 and the output should be 6345."
   ]
  },
  {
   "cell_type": "code",
   "execution_count": 39,
   "id": "2d26d68f-2368-4955-89b3-17407d6ca5d0",
   "metadata": {},
   "outputs": [],
   "source": [
    "def rev_num():\n",
    "    num = input('Enter a number: ')\n",
    "    \n",
    "    return num[::-1]\n",
    "              "
   ]
  },
  {
   "cell_type": "code",
   "execution_count": 40,
   "id": "c56e70b8-e55f-48af-9e18-5b1df203fcc9",
   "metadata": {},
   "outputs": [
    {
     "name": "stdin",
     "output_type": "stream",
     "text": [
      "Enter a number:  5436\n"
     ]
    },
    {
     "data": {
      "text/plain": [
       "'6345'"
      ]
     },
     "execution_count": 40,
     "metadata": {},
     "output_type": "execute_result"
    }
   ],
   "source": [
    "rev_num()"
   ]
  },
  {
   "cell_type": "code",
   "execution_count": null,
   "id": "7d0879ec-1aa1-49eb-ab7d-cf9dce59a6ae",
   "metadata": {},
   "outputs": [],
   "source": [
    "Q9.Write a program to check if a given number 371 is an Armstrong number?"
   ]
  },
  {
   "cell_type": "code",
   "execution_count": 44,
   "id": "d7841f98-adf4-4a5f-8112-aadde383cba2",
   "metadata": {},
   "outputs": [],
   "source": [
    "def arm_num():\n",
    "    num = input('Enter a number: ')\n",
    "    \n",
    "    sum = 0\n",
    "    for i in num:\n",
    "        sum+= int(i)**3\n",
    "        \n",
    "    if sum == int(num):\n",
    "        return \"Yes, it's an Armstrong Number.\"\n",
    "    else:\n",
    "        return \"Not an Armstrong Number.\""
   ]
  },
  {
   "cell_type": "code",
   "execution_count": 50,
   "id": "1e9cbf46-2c3a-451e-8d69-94ac97ce627f",
   "metadata": {},
   "outputs": [
    {
     "name": "stdin",
     "output_type": "stream",
     "text": [
      "Enter a number:  370\n"
     ]
    },
    {
     "data": {
      "text/plain": [
       "\"Yes, it's an Armstrong Number.\""
      ]
     },
     "execution_count": 50,
     "metadata": {},
     "output_type": "execute_result"
    }
   ],
   "source": [
    "arm_num()"
   ]
  },
  {
   "cell_type": "code",
   "execution_count": null,
   "id": "f0af4c6b-4648-45f9-aa4a-2da6707b4e33",
   "metadata": {},
   "outputs": [],
   "source": [
    "Q10.Write a program the given year is 1996, a leap year."
   ]
  },
  {
   "cell_type": "code",
   "execution_count": 51,
   "id": "c32f0a42-a04a-42b6-8c50-66a03fa1dd6c",
   "metadata": {},
   "outputs": [],
   "source": [
    "def leap_year():\n",
    "    year = input('Enter a year to check: ')\n",
    "    \n",
    "    if int(year)%4==0:\n",
    "        return 'Yes, a leap year.'\n",
    "    else:\n",
    "        return 'Not a leap year.'"
   ]
  },
  {
   "cell_type": "code",
   "execution_count": 53,
   "id": "64fd822b-de70-4dd5-8b8c-992eb98910fb",
   "metadata": {},
   "outputs": [
    {
     "name": "stdin",
     "output_type": "stream",
     "text": [
      "Enter a year to check:  2004\n"
     ]
    },
    {
     "data": {
      "text/plain": [
       "'Yes, a leap year.'"
      ]
     },
     "execution_count": 53,
     "metadata": {},
     "output_type": "execute_result"
    }
   ],
   "source": [
    "leap_year()"
   ]
  },
  {
   "cell_type": "code",
   "execution_count": null,
   "id": "8bbf28e6-12c5-40c5-acdf-346f8949b7dd",
   "metadata": {},
   "outputs": [],
   "source": []
  }
 ],
 "metadata": {
  "kernelspec": {
   "display_name": "Python 3 (ipykernel)",
   "language": "python",
   "name": "python3"
  },
  "language_info": {
   "codemirror_mode": {
    "name": "ipython",
    "version": 3
   },
   "file_extension": ".py",
   "mimetype": "text/x-python",
   "name": "python",
   "nbconvert_exporter": "python",
   "pygments_lexer": "ipython3",
   "version": "3.10.8"
  }
 },
 "nbformat": 4,
 "nbformat_minor": 5
}
