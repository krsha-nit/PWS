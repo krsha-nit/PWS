{
 "cells": [
  {
   "cell_type": "code",
   "execution_count": null,
   "id": "e877b2dd-d675-4b7f-a664-6ab922b335d2",
   "metadata": {},
   "outputs": [],
   "source": [
    "Q1. Create a dictionary called fruits with the following key-value pairs:\n",
    "\"apple\": 0.75\n",
    "\"banana\": 1.25\n",
    "\"orange\": 0.90\n",
    "Then, print out the price of a banana."
   ]
  },
  {
   "cell_type": "code",
   "execution_count": 2,
   "id": "e663b75a-9db9-479c-84a0-46643337c1ea",
   "metadata": {},
   "outputs": [],
   "source": [
    "fruits = {\"apple\": 0.75,\n",
    "\"banana\": 1.25,\n",
    "\"orange\": 0.90}"
   ]
  },
  {
   "cell_type": "code",
   "execution_count": 4,
   "id": "41464e03-0ba9-4761-a014-e03aab5fcdc6",
   "metadata": {},
   "outputs": [
    {
     "data": {
      "text/plain": [
       "{'apple': 0.75, 'banana': 1.25, 'orange': 0.9}"
      ]
     },
     "execution_count": 4,
     "metadata": {},
     "output_type": "execute_result"
    }
   ],
   "source": [
    "fruits"
   ]
  },
  {
   "cell_type": "code",
   "execution_count": 6,
   "id": "2514faeb-bb12-4ff4-bbd8-7b829e208e18",
   "metadata": {},
   "outputs": [
    {
     "data": {
      "text/plain": [
       "1.25"
      ]
     },
     "execution_count": 6,
     "metadata": {},
     "output_type": "execute_result"
    }
   ],
   "source": [
    "fruits['banana']"
   ]
  },
  {
   "cell_type": "code",
   "execution_count": null,
   "id": "1301805a-5213-46b7-b8ef-5faa45a02e3e",
   "metadata": {},
   "outputs": [],
   "source": [
    "Q2. Create an empty dictionary called ages. Add the following key-value pairs to the dictionary:\n",
    "\"Alice\": 30\n",
    "\"Bob\": 25\n",
    "\"Charlie\": 35\n",
    "Then, print out the age of Charlie."
   ]
  },
  {
   "cell_type": "code",
   "execution_count": 7,
   "id": "b9e83cf5-f24d-4df0-8616-9e487ab92e82",
   "metadata": {},
   "outputs": [],
   "source": [
    "ages = {\"Alice\": 30,\n",
    "\"Bob\": 25,\n",
    "\"Charlie\": 35\n",
    "}"
   ]
  },
  {
   "cell_type": "code",
   "execution_count": 8,
   "id": "3b06e83a-6e33-4862-bee1-2dc343c9642c",
   "metadata": {},
   "outputs": [
    {
     "data": {
      "text/plain": [
       "35"
      ]
     },
     "execution_count": 8,
     "metadata": {},
     "output_type": "execute_result"
    }
   ],
   "source": [
    "ages['Charlie']"
   ]
  },
  {
   "cell_type": "code",
   "execution_count": null,
   "id": "34cd9404-be29-41dd-ab8a-2614e19379e0",
   "metadata": {},
   "outputs": [],
   "source": [
    "Q3. Write a function called word_count(text) that takes a string as input and returns a dictionary where\n",
    "each key is a word in the text and its value is the number of times that word appears in the text. For\n",
    "example, word_count(\"hello world hello\") should return {\"hello\": 2, \"world\": 1}."
   ]
  },
  {
   "cell_type": "code",
   "execution_count": 15,
   "id": "6c46b8a3-ecb9-4903-8cab-d588247e6907",
   "metadata": {},
   "outputs": [],
   "source": [
    "#good one, revise afterwards\n",
    "def word_count(text):\n",
    "    final_dict = {}\n",
    "    dic = set(text.split()) # to get unique words\n",
    "    for word in dic:\n",
    "        word_cnt = text.split().count(word)\n",
    "        final_dict[word] = word_cnt\n",
    "        \n",
    "    return final_dict"
   ]
  },
  {
   "cell_type": "code",
   "execution_count": 14,
   "id": "e1bb8fd3-083b-49dd-8a81-d617792e1b96",
   "metadata": {},
   "outputs": [
    {
     "data": {
      "text/plain": [
       "{'world': 1, 'hello': 2}"
      ]
     },
     "execution_count": 14,
     "metadata": {},
     "output_type": "execute_result"
    }
   ],
   "source": [
    "word_count(\"hello world hello\")"
   ]
  },
  {
   "cell_type": "code",
   "execution_count": null,
   "id": "c5775bf6-7a3c-4eae-8d1b-78184dabc4c6",
   "metadata": {},
   "outputs": [],
   "source": [
    "Q4. Create a dictionary called phone_book with the following key-value pairs:\n",
    "\"Alice\": \"555-1234\"\n",
    "\"Bob\": \"555-5678\"\n",
    "\"Charlie\": \"555-9012\"\n",
    "Then, prompt the user to enter a name and print out the corresponding phone number. If the name is not\n",
    "in the phone book, print out a message saying that the name was not found."
   ]
  },
  {
   "cell_type": "code",
   "execution_count": 16,
   "id": "532f360a-3a9b-4684-ba92-db7ccac33c7f",
   "metadata": {},
   "outputs": [],
   "source": [
    "phone_book = {\"Alice\": \"555-1234\",\n",
    "\"Bob\": \"555-5678\",\n",
    "\"Charlie\": \"555-9012\"}"
   ]
  },
  {
   "cell_type": "code",
   "execution_count": 29,
   "id": "6bf3a351-8382-4b62-9514-32f0464da85d",
   "metadata": {},
   "outputs": [],
   "source": [
    "def phone_num(name):\n",
    "    if not (name in phone_book.keys()):\n",
    "        return 'Name not found'\n",
    "    else:\n",
    "        return phone_book[name]"
   ]
  },
  {
   "cell_type": "code",
   "execution_count": 34,
   "id": "16b5e91d-6a30-4d1a-9ca5-e42702c7257e",
   "metadata": {},
   "outputs": [
    {
     "data": {
      "text/plain": [
       "('555-5678', 'Name not found')"
      ]
     },
     "execution_count": 34,
     "metadata": {},
     "output_type": "execute_result"
    }
   ],
   "source": [
    "phone_num('Bob'),phone_num('Bobby')"
   ]
  },
  {
   "cell_type": "code",
   "execution_count": null,
   "id": "ed064a1a-ec24-423e-8c59-97801114e58e",
   "metadata": {},
   "outputs": [],
   "source": [
    "Q5. Write a program that prompts the user to enter a number between 1 and 10. If the number is less than\n",
    "5, print out \"Too low!\", otherwise print out \"Too high!\"."
   ]
  },
  {
   "cell_type": "code",
   "execution_count": 37,
   "id": "5050b0ec-0875-4846-829d-cbbbfab054db",
   "metadata": {},
   "outputs": [],
   "source": [
    "def low_high():\n",
    "    num = int(input('Enter a number between 1 and 10: '))\n",
    "    \n",
    "    if num<5:\n",
    "        return 'Too low!'\n",
    "    else:\n",
    "        return 'Too high!'"
   ]
  },
  {
   "cell_type": "code",
   "execution_count": 40,
   "id": "e1613b39-252e-4301-a29e-fa11c99aea7a",
   "metadata": {},
   "outputs": [
    {
     "name": "stdin",
     "output_type": "stream",
     "text": [
      "Enter a number between 1 and 10:  4\n"
     ]
    },
    {
     "data": {
      "text/plain": [
       "'Too low!'"
      ]
     },
     "execution_count": 40,
     "metadata": {},
     "output_type": "execute_result"
    }
   ],
   "source": [
    "low_high()"
   ]
  },
  {
   "cell_type": "code",
   "execution_count": null,
   "id": "03317d28-46a1-4f84-a609-e9910aed91be",
   "metadata": {},
   "outputs": [],
   "source": [
    "Q6. Write a program that prompts the user to enter a password. If the password is \"password123\", print\n",
    "out \"Access granted\", otherwise print out \"Access denied\"."
   ]
  },
  {
   "cell_type": "code",
   "execution_count": 42,
   "id": "321d0bce-60d7-4973-8e89-6b1717ac529f",
   "metadata": {},
   "outputs": [],
   "source": [
    "def password():\n",
    "    passwor = input('Enter the password: ')\n",
    "    \n",
    "    if passwor  == 'password123':\n",
    "        return 'Access granted'\n",
    "    else:\n",
    "        return 'Access denied'"
   ]
  },
  {
   "cell_type": "code",
   "execution_count": 44,
   "id": "8a6c7734-3e8a-4959-a174-335c199a542e",
   "metadata": {},
   "outputs": [
    {
     "name": "stdin",
     "output_type": "stream",
     "text": [
      "Enter the password:  password123\n"
     ]
    },
    {
     "data": {
      "text/plain": [
       "'Access granted'"
      ]
     },
     "execution_count": 44,
     "metadata": {},
     "output_type": "execute_result"
    }
   ],
   "source": [
    "password()"
   ]
  },
  {
   "cell_type": "code",
   "execution_count": null,
   "id": "3080034a-0838-477b-9a92-5fe0ba64a757",
   "metadata": {},
   "outputs": [],
   "source": [
    "Q7. Write a program that prompts the user to enter a positive integer. Then, use a loop to print out all the\n",
    "odd numbers from 1 to that integer."
   ]
  },
  {
   "cell_type": "code",
   "execution_count": 47,
   "id": "3d2ce030-4d37-49d3-883b-54f9454dbc01",
   "metadata": {},
   "outputs": [],
   "source": [
    "def odd_num():\n",
    "    odd = []\n",
    "    num = int(input('Enter a positive number: '))\n",
    "    for i in range(1,num+1):\n",
    "        if i%2!=0:\n",
    "            odd.append(i)\n",
    "            \n",
    "    return odd"
   ]
  },
  {
   "cell_type": "code",
   "execution_count": 48,
   "id": "ec0f3dab-f945-46da-a6e6-68c7411a6b2c",
   "metadata": {},
   "outputs": [
    {
     "name": "stdin",
     "output_type": "stream",
     "text": [
      "Enter a positive number:  12\n"
     ]
    },
    {
     "data": {
      "text/plain": [
       "[1, 3, 5, 7, 9, 11]"
      ]
     },
     "execution_count": 48,
     "metadata": {},
     "output_type": "execute_result"
    }
   ],
   "source": [
    "odd_num()"
   ]
  },
  {
   "cell_type": "code",
   "execution_count": null,
   "id": "e7b61fd5-f87a-4d71-bdb4-eb09de293d31",
   "metadata": {},
   "outputs": [],
   "source": [
    "Q8. Write a program that generates a random number between 1 and 100 and then prompts the user to\n",
    "guess the number. If the user's guess is too low, print out \"Too low!\", if the guess is too high, print out \"Too\n",
    "high!\", and if the guess is correct, print out \"You win!\"."
   ]
  },
  {
   "cell_type": "code",
   "execution_count": 54,
   "id": "aecacec1-2170-4993-9da1-bfa53c513545",
   "metadata": {},
   "outputs": [],
   "source": [
    "def game():\n",
    "    import random\n",
    "        \n",
    "    rand_num = random.randint(1,100)\n",
    "    num = int(input('Enter a number between 1 and 100: '))\n",
    "    if num>rand_num:\n",
    "        return 'too high'\n",
    "    elif num <rand_num:\n",
    "        return 'too low'\n",
    "    else:\n",
    "        return 'Correct guess,  you win!'"
   ]
  },
  {
   "cell_type": "code",
   "execution_count": 55,
   "id": "2f4488de-bed9-4681-a49b-7534eea94a43",
   "metadata": {},
   "outputs": [
    {
     "name": "stdin",
     "output_type": "stream",
     "text": [
      "Enter a number between 1 and 100:  4\n"
     ]
    },
    {
     "data": {
      "text/plain": [
       "'too low'"
      ]
     },
     "execution_count": 55,
     "metadata": {},
     "output_type": "execute_result"
    }
   ],
   "source": [
    "game()"
   ]
  },
  {
   "cell_type": "code",
   "execution_count": null,
   "id": "814557d7-c3f9-4f26-93c9-1cedf41f189d",
   "metadata": {},
   "outputs": [],
   "source": [
    "Q9. Write a program that generates a random number between 1 and 10 and then prompts the user to\n",
    "guess the number. The user has three attempts to guess the number. If the user guesses correctly within\n",
    "three attempts, print out \"You win!\", otherwise print out \"You lose!\"."
   ]
  },
  {
   "cell_type": "code",
   "execution_count": 79,
   "id": "7c6129fd-75cb-4bcb-927f-ae700f08d5e2",
   "metadata": {},
   "outputs": [],
   "source": [
    "def game():\n",
    "    import random\n",
    "    rand_num = random.randint(1,11) \n",
    "    cnt = 0\n",
    "    num='a'\n",
    "    while cnt!=3 or num!=rand_num:\n",
    "        num = int(input('Enter a number between 1 and 10: '))  \n",
    "        if num>rand_num:\n",
    "            return 'too high'\n",
    "        else:\n",
    "            return 'too low'\n",
    "        cnt+=1\n",
    "        \n",
    "        if num == rand_num:\n",
    "            return 'You win!'\n",
    "        else:\n",
    "            return 'You lose!'"
   ]
  },
  {
   "cell_type": "code",
   "execution_count": 80,
   "id": "5abc53e2-5261-4b36-9607-d8b8a229539f",
   "metadata": {},
   "outputs": [
    {
     "name": "stdin",
     "output_type": "stream",
     "text": [
      "Enter a number between 1 and 10:  2\n"
     ]
    },
    {
     "data": {
      "text/plain": [
       "'too low'"
      ]
     },
     "execution_count": 80,
     "metadata": {},
     "output_type": "execute_result"
    }
   ],
   "source": [
    "game()"
   ]
  },
  {
   "cell_type": "code",
   "execution_count": null,
   "id": "3980dda8-d911-407c-8501-0ca05b8c5a35",
   "metadata": {},
   "outputs": [],
   "source": []
  },
  {
   "cell_type": "code",
   "execution_count": null,
   "id": "dfb90485-b156-42a3-9d1b-b60a333be845",
   "metadata": {},
   "outputs": [],
   "source": [
    "Q10. Write a program that prompts the user to enter their age and then prints out whether they are a child\n",
    "(age 0-12), a teenager (age 13-19), an adult (age 20-59), or a senior (age 60+)"
   ]
  },
  {
   "cell_type": "code",
   "execution_count": 61,
   "id": "993b1f36-713b-4921-9023-885b1b8c4aaf",
   "metadata": {},
   "outputs": [],
   "source": [
    "def age_group():\n",
    "    age = int(input('Enter your age: '))\n",
    "    \n",
    "    if age>=60:\n",
    "        return 'Senior 60+'\n",
    "    elif age>19:\n",
    "        return 'an adult 20-59'\n",
    "    elif age>12:\n",
    "        return 'a teenager 13-19'\n",
    "    else:\n",
    "        return 'a child 0-12'"
   ]
  },
  {
   "cell_type": "code",
   "execution_count": 62,
   "id": "341edd01-2b85-4a8e-88e5-7b60f87f9a24",
   "metadata": {},
   "outputs": [
    {
     "name": "stdin",
     "output_type": "stream",
     "text": [
      "Enter your age:  55\n"
     ]
    },
    {
     "data": {
      "text/plain": [
       "'an adult 20-59'"
      ]
     },
     "execution_count": 62,
     "metadata": {},
     "output_type": "execute_result"
    }
   ],
   "source": [
    "age_group()"
   ]
  },
  {
   "cell_type": "code",
   "execution_count": null,
   "id": "a17a76e8-2e1c-4cdc-b393-d0fe36f533f2",
   "metadata": {},
   "outputs": [],
   "source": []
  }
 ],
 "metadata": {
  "kernelspec": {
   "display_name": "Python 3 (ipykernel)",
   "language": "python",
   "name": "python3"
  },
  "language_info": {
   "codemirror_mode": {
    "name": "ipython",
    "version": 3
   },
   "file_extension": ".py",
   "mimetype": "text/x-python",
   "name": "python",
   "nbconvert_exporter": "python",
   "pygments_lexer": "ipython3",
   "version": "3.10.8"
  }
 },
 "nbformat": 4,
 "nbformat_minor": 5
}
