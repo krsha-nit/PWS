{
 "cells": [
  {
   "cell_type": "code",
   "execution_count": 1,
   "id": "8172e419-a3b8-4079-839f-5d4c3a6e1323",
   "metadata": {},
   "outputs": [],
   "source": [
    "import pandas as pd"
   ]
  },
  {
   "cell_type": "code",
   "execution_count": 2,
   "id": "d5708361-0265-4a10-89aa-b66ff6bc5b96",
   "metadata": {},
   "outputs": [],
   "source": [
    "a= pd.read_csv('Practice set6.txt',header=None)"
   ]
  },
  {
   "cell_type": "code",
   "execution_count": 3,
   "id": "166c80a6-6f98-43d8-a752-de38809c155f",
   "metadata": {},
   "outputs": [
    {
     "data": {
      "text/plain": [
       "0    Q1. Write a program that prints the first 10 even numbers using a for loop.\n",
       "Name: 0, dtype: object"
      ]
     },
     "execution_count": 3,
     "metadata": {},
     "output_type": "execute_result"
    }
   ],
   "source": [
    "pd.set_option('display.max_colwidth', 1000)\n",
    "a.loc[0]"
   ]
  },
  {
   "cell_type": "code",
   "execution_count": 4,
   "id": "b4e7320b-f554-40ce-8b6a-5c655f4ab774",
   "metadata": {},
   "outputs": [],
   "source": [
    "def first10even():\n",
    "    even = []\n",
    "    for i in range(100):\n",
    "        if i%2==0:\n",
    "            even.append(i)\n",
    "    \n",
    "    return even[:10]\n"
   ]
  },
  {
   "cell_type": "code",
   "execution_count": 5,
   "id": "6e3e6fd3-b4d5-4f35-98dd-df74c4ae9346",
   "metadata": {},
   "outputs": [
    {
     "data": {
      "text/plain": [
       "[0, 2, 4, 6, 8, 10, 12, 14, 16, 18]"
      ]
     },
     "execution_count": 5,
     "metadata": {},
     "output_type": "execute_result"
    }
   ],
   "source": [
    "first10even()"
   ]
  },
  {
   "cell_type": "code",
   "execution_count": 6,
   "id": "5c6b557a-72ed-4fa9-85cb-154aba94a28e",
   "metadata": {},
   "outputs": [
    {
     "data": {
      "text/plain": [
       "0    Q2. Write a program that takes a list of strings and prints out each string in reverse order using a for loop.\n",
       "Name: 1, dtype: object"
      ]
     },
     "execution_count": 6,
     "metadata": {},
     "output_type": "execute_result"
    }
   ],
   "source": [
    "a.iloc[1]"
   ]
  },
  {
   "cell_type": "code",
   "execution_count": 7,
   "id": "fba8656f-ccdf-4cfe-b056-468a30caa434",
   "metadata": {},
   "outputs": [],
   "source": [
    "def reverse_str(str_):\n",
    "    #return str_[::-1]\n",
    "    rev_str = ''\n",
    "    for i in str_:\n",
    "        rev_str = i+rev_str\n",
    "        \n",
    "    return rev_str"
   ]
  },
  {
   "cell_type": "code",
   "execution_count": 8,
   "id": "638771ac-df4c-4e85-9a99-5579e0ac401a",
   "metadata": {},
   "outputs": [
    {
     "data": {
      "text/plain": [
       "'dcba'"
      ]
     },
     "execution_count": 8,
     "metadata": {},
     "output_type": "execute_result"
    }
   ],
   "source": [
    "reverse_str('abcd')"
   ]
  },
  {
   "cell_type": "code",
   "execution_count": 9,
   "id": "b0c546ca-ffd2-4dbc-bc61-2788b328dc8f",
   "metadata": {},
   "outputs": [
    {
     "data": {
      "text/plain": [
       "0    Q3. Write a program that prints the multiplication table of a given number using a for loop.\n",
       "Name: 2, dtype: object"
      ]
     },
     "execution_count": 9,
     "metadata": {},
     "output_type": "execute_result"
    }
   ],
   "source": [
    "a.iloc[2]"
   ]
  },
  {
   "cell_type": "code",
   "execution_count": 10,
   "id": "894f834f-eda2-488c-8dad-5036ded17ad5",
   "metadata": {},
   "outputs": [],
   "source": [
    "def mult_tbl(num):\n",
    "    for i in range(1,11):\n",
    "        print(f'{num} * {i} = {num*i}')"
   ]
  },
  {
   "cell_type": "code",
   "execution_count": 11,
   "id": "0a5217d5-7288-4aff-8d68-cfa940a6cf9a",
   "metadata": {},
   "outputs": [
    {
     "name": "stdout",
     "output_type": "stream",
     "text": [
      "19 * 1 = 19\n",
      "19 * 2 = 38\n",
      "19 * 3 = 57\n",
      "19 * 4 = 76\n",
      "19 * 5 = 95\n",
      "19 * 6 = 114\n",
      "19 * 7 = 133\n",
      "19 * 8 = 152\n",
      "19 * 9 = 171\n",
      "19 * 10 = 190\n"
     ]
    }
   ],
   "source": [
    "mult_tbl(19)"
   ]
  },
  {
   "cell_type": "code",
   "execution_count": 12,
   "id": "f616262f-60d5-4e6d-b954-f26df4acd737",
   "metadata": {},
   "outputs": [
    {
     "data": {
      "text/plain": [
       "0    Q4. Write a program that takes a list of integers as input and returns the sum of all the numbers in the list using a for loop.\n",
       "Name: 3, dtype: object"
      ]
     },
     "execution_count": 12,
     "metadata": {},
     "output_type": "execute_result"
    }
   ],
   "source": [
    "a.iloc[3]"
   ]
  },
  {
   "cell_type": "code",
   "execution_count": 13,
   "id": "ecd191b7-a1c9-4ce3-8e7f-1efcc7acdb8c",
   "metadata": {},
   "outputs": [],
   "source": [
    "def sum_list(list_):\n",
    "    sum_=0\n",
    "    for i in list_:\n",
    "        sum_+=i\n",
    "        \n",
    "    return sum_"
   ]
  },
  {
   "cell_type": "code",
   "execution_count": 14,
   "id": "fc08265e-8b14-41b3-bedd-bf9d7da2f167",
   "metadata": {},
   "outputs": [
    {
     "data": {
      "text/plain": [
       "24"
      ]
     },
     "execution_count": 14,
     "metadata": {},
     "output_type": "execute_result"
    }
   ],
   "source": [
    "sum_list([4,5,6,9])"
   ]
  },
  {
   "cell_type": "code",
   "execution_count": 15,
   "id": "92502b26-88e6-47c3-baa0-fa9c61c1a097",
   "metadata": {},
   "outputs": [
    {
     "data": {
      "text/plain": [
       "0    Q5. Write a program that prompts the user for a positive integer and then prints out all the prime numbers up to that number using a for loop.\n",
       "Name: 4, dtype: object"
      ]
     },
     "execution_count": 15,
     "metadata": {},
     "output_type": "execute_result"
    }
   ],
   "source": [
    "a.iloc[4]"
   ]
  },
  {
   "cell_type": "code",
   "execution_count": 16,
   "id": "0012064a-b88d-4a80-9c97-e004d89b2985",
   "metadata": {},
   "outputs": [],
   "source": [
    "def prime_num():\n",
    "    num = int(input('Enter a positive integer: '))\n",
    "    cnt = 0\n",
    "    prime = []\n",
    "    \n",
    "    for i in range(num+1):\n",
    "        for j in range(1,i+1):\n",
    "            if i%j == 0:\n",
    "                cnt += 1\n",
    "            \n",
    "        if cnt == 2:\n",
    "            prime.append(i)\n",
    "            \n",
    "        cnt = 0\n",
    "        \n",
    "    return prime"
   ]
  },
  {
   "cell_type": "code",
   "execution_count": 17,
   "id": "c07823a1-f043-4f84-ac9b-7beee676577f",
   "metadata": {},
   "outputs": [
    {
     "name": "stdin",
     "output_type": "stream",
     "text": [
      "Enter a positive integer:  25\n"
     ]
    },
    {
     "data": {
      "text/plain": [
       "[2, 3, 5, 7, 11, 13, 17, 19, 23]"
      ]
     },
     "execution_count": 17,
     "metadata": {},
     "output_type": "execute_result"
    }
   ],
   "source": [
    "prime_num()"
   ]
  },
  {
   "cell_type": "code",
   "execution_count": 18,
   "id": "74f131b1-15c3-41f6-9ef3-4fe4a61fe37c",
   "metadata": {},
   "outputs": [
    {
     "data": {
      "text/plain": [
       "0    Q6. Write a program that prompts the user to enter a password until the correct password is entered using a while loop.\n",
       "Name: 5, dtype: object"
      ]
     },
     "execution_count": 18,
     "metadata": {},
     "output_type": "execute_result"
    }
   ],
   "source": [
    "a.iloc[5]"
   ]
  },
  {
   "cell_type": "code",
   "execution_count": 19,
   "id": "ad2f20a8-aae8-4e91-a27c-f5b84b133e5a",
   "metadata": {},
   "outputs": [],
   "source": [
    "def password():\n",
    "    key = input('Enter your password: ')\n",
    "    while key != 'Password123':\n",
    "        print('Incorrect password, try again!')\n",
    "        key = input('Enter your password agian: ')\n",
    "    else:\n",
    "        print('Sign in successful!')"
   ]
  },
  {
   "cell_type": "code",
   "execution_count": 20,
   "id": "193bd8d8-bb00-4a85-8e73-e5ff2f443105",
   "metadata": {},
   "outputs": [
    {
     "name": "stdin",
     "output_type": "stream",
     "text": [
      "Enter your password:  Password\n"
     ]
    },
    {
     "name": "stdout",
     "output_type": "stream",
     "text": [
      "Incorrect password, try again!\n"
     ]
    },
    {
     "name": "stdin",
     "output_type": "stream",
     "text": [
      "Enter your password agian:  Password123\n"
     ]
    },
    {
     "name": "stdout",
     "output_type": "stream",
     "text": [
      "Sign in successful!\n"
     ]
    }
   ],
   "source": [
    "password()"
   ]
  },
  {
   "cell_type": "code",
   "execution_count": 21,
   "id": "d4a9a6e0-0b4c-4d2b-a24f-e67df2488be0",
   "metadata": {},
   "outputs": [
    {
     "data": {
      "text/plain": [
       "0    Q7. Write a program that takes a list of strings and prints out each string in reverse order using a while loop.\n",
       "Name: 6, dtype: object"
      ]
     },
     "execution_count": 21,
     "metadata": {},
     "output_type": "execute_result"
    }
   ],
   "source": [
    "a.iloc[6]"
   ]
  },
  {
   "cell_type": "code",
   "execution_count": 22,
   "id": "dcc7dc57-cce6-4457-9b92-fdd4bdf77396",
   "metadata": {},
   "outputs": [],
   "source": [
    "def reverse_list():\n",
    "    list_ = (input('Enter the strings with space: '))\n",
    "    cnt=0\n",
    "    list_ = list_.split()\n",
    "    while cnt != len(list_):\n",
    "        print(list_[cnt][::-1])\n",
    "        \n",
    "        cnt+=1"
   ]
  },
  {
   "cell_type": "code",
   "execution_count": 23,
   "id": "313beb61-d572-41dc-897c-a7b64ee5e744",
   "metadata": {},
   "outputs": [
    {
     "name": "stdin",
     "output_type": "stream",
     "text": [
      "Enter the strings with space:  abc def ghi jkl\n"
     ]
    },
    {
     "name": "stdout",
     "output_type": "stream",
     "text": [
      "cba\n",
      "fed\n",
      "ihg\n",
      "lkj\n"
     ]
    }
   ],
   "source": [
    "reverse_list()"
   ]
  },
  {
   "cell_type": "code",
   "execution_count": 24,
   "id": "f2fbc714-cabd-40ec-866b-183f95d045b6",
   "metadata": {},
   "outputs": [
    {
     "data": {
      "text/plain": [
       "0    Q8. Write a program that prompts the user to enter a positive integer and then prints out all the Fibonacci numbers up to that number using a while loop.\n",
       "Name: 7, dtype: object"
      ]
     },
     "execution_count": 24,
     "metadata": {},
     "output_type": "execute_result"
    }
   ],
   "source": [
    "a.iloc[7]"
   ]
  },
  {
   "cell_type": "code",
   "execution_count": 25,
   "id": "d257376b-ada1-48e2-8e8d-8702600c1219",
   "metadata": {},
   "outputs": [],
   "source": [
    "def fib_ser():\n",
    "    num = int(input('Enter a positive number: '))\n",
    "    #cnt = 0\n",
    "    a,b = 0,1\n",
    "    fib = []\n",
    "    while a<num:\n",
    "        fib.append(a)\n",
    "        a,b = b, a+b\n",
    "        #cnt+=1\n",
    "    \n",
    "    return fib"
   ]
  },
  {
   "cell_type": "code",
   "execution_count": 26,
   "id": "ebbafd30-588b-4816-87ee-04c40908ae45",
   "metadata": {},
   "outputs": [
    {
     "name": "stdin",
     "output_type": "stream",
     "text": [
      "Enter a positive number:  244\n"
     ]
    },
    {
     "data": {
      "text/plain": [
       "[0, 1, 1, 2, 3, 5, 8, 13, 21, 34, 55, 89, 144, 233]"
      ]
     },
     "execution_count": 26,
     "metadata": {},
     "output_type": "execute_result"
    }
   ],
   "source": [
    "fib_ser()"
   ]
  },
  {
   "cell_type": "code",
   "execution_count": 27,
   "id": "4e28570b-5643-4e7f-9dea-cf50b2d089c9",
   "metadata": {},
   "outputs": [
    {
     "data": {
      "text/plain": [
       "0    Q9. Write a program that takes a list of integers as input and returns the product of all the numbers in the list using a while loop.\n",
       "Name: 8, dtype: object"
      ]
     },
     "execution_count": 27,
     "metadata": {},
     "output_type": "execute_result"
    }
   ],
   "source": [
    "a.iloc[8]"
   ]
  },
  {
   "cell_type": "code",
   "execution_count": 29,
   "id": "74f4b2d8-a7ff-4721-80a2-57eea3b6007d",
   "metadata": {},
   "outputs": [],
   "source": [
    "def prod_list():\n",
    "    list_ = (input('Enter the list of integers with a space: '))\n",
    "    list_ = [int(x) for x in list_.split()]\n",
    "    cnt = 0\n",
    "    prod = 1\n",
    "    while cnt!=len(list_):\n",
    "        prod*=list_[cnt]\n",
    "        cnt+=1\n",
    "        \n",
    "    return prod"
   ]
  },
  {
   "cell_type": "code",
   "execution_count": 31,
   "id": "352e3e4b-d087-4c6e-aafc-2777a41df915",
   "metadata": {},
   "outputs": [
    {
     "name": "stdin",
     "output_type": "stream",
     "text": [
      "Enter the list of integers with a space:  2 24 3\n"
     ]
    },
    {
     "data": {
      "text/plain": [
       "144"
      ]
     },
     "execution_count": 31,
     "metadata": {},
     "output_type": "execute_result"
    }
   ],
   "source": [
    "prod_list()"
   ]
  },
  {
   "cell_type": "code",
   "execution_count": 32,
   "id": "9a88e34e-71f7-4eb0-8db8-f1de22282c65",
   "metadata": {},
   "outputs": [
    {
     "data": {
      "text/plain": [
       "0    Q10. Write a program that prompts the user to enter a positive integer and then prints out the factorial of that number using a while loop.\n",
       "Name: 9, dtype: object"
      ]
     },
     "execution_count": 32,
     "metadata": {},
     "output_type": "execute_result"
    }
   ],
   "source": [
    "a.iloc[9]"
   ]
  },
  {
   "cell_type": "code",
   "execution_count": 36,
   "id": "802d24ff-f4fd-4ebb-8929-e67325d50a70",
   "metadata": {},
   "outputs": [],
   "source": [
    "def factorical():\n",
    "    num = int(input('Enter a positive number: '))\n",
    "    cnt = 1\n",
    "    prod = 1\n",
    "    \n",
    "    \n",
    "    while cnt!=num+1:\n",
    "        prod*=cnt\n",
    "        cnt+=1\n",
    "    \n",
    "    return prod"
   ]
  },
  {
   "cell_type": "code",
   "execution_count": 38,
   "id": "810795e3-3ba6-40cf-926a-1bef848adba1",
   "metadata": {},
   "outputs": [
    {
     "name": "stdin",
     "output_type": "stream",
     "text": [
      "Enter a positive number:  1\n"
     ]
    },
    {
     "data": {
      "text/plain": [
       "1"
      ]
     },
     "execution_count": 38,
     "metadata": {},
     "output_type": "execute_result"
    }
   ],
   "source": [
    "factorical()"
   ]
  },
  {
   "cell_type": "code",
   "execution_count": null,
   "id": "c1e8c2bd-1d97-4464-9c9e-361a47d81004",
   "metadata": {},
   "outputs": [],
   "source": []
  }
 ],
 "metadata": {
  "kernelspec": {
   "display_name": "Python 3 (ipykernel)",
   "language": "python",
   "name": "python3"
  },
  "language_info": {
   "codemirror_mode": {
    "name": "ipython",
    "version": 3
   },
   "file_extension": ".py",
   "mimetype": "text/x-python",
   "name": "python",
   "nbconvert_exporter": "python",
   "pygments_lexer": "ipython3",
   "version": "3.10.8"
  }
 },
 "nbformat": 4,
 "nbformat_minor": 5
}
