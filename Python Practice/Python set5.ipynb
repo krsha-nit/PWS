{
 "cells": [
  {
   "cell_type": "code",
   "execution_count": 17,
   "id": "1fa79306-c5e1-4e9d-b6f4-788972c2e2a7",
   "metadata": {},
   "outputs": [],
   "source": [
    "import pandas as pd"
   ]
  },
  {
   "cell_type": "markdown",
   "id": "32d9d979-b748-49fd-9266-fb4fce75bd64",
   "metadata": {},
   "source": [
    "# !!Check the solution for punctation marks and all\n",
    "Q1. Can you create a Python program that reads a text file and counts the number of words contained within it?The program should be designed to read the file and break it down into individual words, using spaces, punctuation marks, and other delimiters to separate the words. It should then count the number of words found in the file and display this count as output. The program should be flexible enough to work with different text files and should be able to handle a variety of formatting and punctuation styles."
   ]
  },
  {
   "cell_type": "code",
   "execution_count": 22,
   "id": "57c1e782-4e0c-4adc-a5b0-9fb09ba62e16",
   "metadata": {},
   "outputs": [],
   "source": [
    "with open('Practice set5.txt') as f:\n",
    "    txt = f.readlines()"
   ]
  },
  {
   "cell_type": "code",
   "execution_count": 25,
   "id": "c08c986d-91fe-4764-97df-f6638eb2371a",
   "metadata": {},
   "outputs": [
    {
     "data": {
      "text/plain": [
       "432"
      ]
     },
     "execution_count": 25,
     "metadata": {},
     "output_type": "execute_result"
    }
   ],
   "source": [
    "cnt=0\n",
    "for row in txt:\n",
    "    cnt+=len(row.split())\n",
    "    \n",
    "cnt"
   ]
  },
  {
   "cell_type": "markdown",
   "id": "a7af7892-0fdb-41c9-9953-273bad3900da",
   "metadata": {},
   "source": [
    "Q2. Could you help me create a Python program that can find and display the longest word in a text file? The program should be able to read any text file and separate its contents into individual words, taking into account various delimiters like spaces, punctuation marks, and other characters. Then, it should compare the length of each word and determine which one is the longest, and finally, print that word as output. The program should be versatile enough to work with various text files and be able to handle different formatting styles and punctuation."
   ]
  },
  {
   "cell_type": "code",
   "execution_count": null,
   "id": "fbaaf204-2c69-4bb4-a4d2-3cb4764ad7c9",
   "metadata": {},
   "outputs": [],
   "source": [
    "longest = ''\n",
    "for row in txt:\n",
    "    for word in "
   ]
  }
 ],
 "metadata": {
  "kernelspec": {
   "display_name": "Python 3 (ipykernel)",
   "language": "python",
   "name": "python3"
  },
  "language_info": {
   "codemirror_mode": {
    "name": "ipython",
    "version": 3
   },
   "file_extension": ".py",
   "mimetype": "text/x-python",
   "name": "python",
   "nbconvert_exporter": "python",
   "pygments_lexer": "ipython3",
   "version": "3.10.8"
  }
 },
 "nbformat": 4,
 "nbformat_minor": 5
}
