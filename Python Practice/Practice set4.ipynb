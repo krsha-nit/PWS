{
 "cells": [
  {
   "cell_type": "code",
   "execution_count": null,
   "id": "6336eaa9-f40f-4514-9f4d-f186a19ce523",
   "metadata": {},
   "outputs": [],
   "source": [
    "Q1. Create a class called \"Person\" with properties for \"name\", \"age\", and \"gender\". Create an object of this\n",
    "class and print out its properties."
   ]
  },
  {
   "cell_type": "code",
   "execution_count": 1,
   "id": "dd80bda8-288e-4573-be02-c3eda9630791",
   "metadata": {},
   "outputs": [],
   "source": [
    "class person:\n",
    "    def __init__(self,name,age,gender):\n",
    "        self.name = name\n",
    "        self.age = age\n",
    "        self.gender = gender"
   ]
  },
  {
   "cell_type": "code",
   "execution_count": 2,
   "id": "e4aeaf2e-20df-41f1-b04b-e007efcd904b",
   "metadata": {},
   "outputs": [],
   "source": [
    "a = person('AK',43,'Male')"
   ]
  },
  {
   "cell_type": "code",
   "execution_count": 4,
   "id": "99a802bb-9bd0-42b6-88db-58c557587bab",
   "metadata": {},
   "outputs": [
    {
     "data": {
      "text/plain": [
       "('AK', 43, 'Male')"
      ]
     },
     "execution_count": 4,
     "metadata": {},
     "output_type": "execute_result"
    }
   ],
   "source": [
    "a.name,a.age,a.gender"
   ]
  },
  {
   "cell_type": "code",
   "execution_count": null,
   "id": "a835fb19-3353-4592-a186-1615a0f5911d",
   "metadata": {},
   "outputs": [],
   "source": [
    "Q2. Write a Python class called \"Rectangle\" with attributes for \"width\" and \"height\". Implement methods\n",
    "to calculate the area and perimeter of the rectangle. Create an instance of this class and use it to print out\n",
    "the rectangle's area and perimeter."
   ]
  },
  {
   "cell_type": "code",
   "execution_count": 16,
   "id": "8d771d4f-c84c-4d8c-92bc-0240c01eaf6a",
   "metadata": {},
   "outputs": [],
   "source": [
    "class rectange:\n",
    "    def __init__(self,width,height):\n",
    "        self.width = width\n",
    "        self.height = height\n",
    "    \n",
    "    def area(self):\n",
    "        return self.width*self.height\n",
    "    \n",
    "    def perimeter(self):\n",
    "        return 2*(self.width+self.height)"
   ]
  },
  {
   "cell_type": "code",
   "execution_count": 17,
   "id": "ee405b92-1a61-49bb-864e-da91e171508d",
   "metadata": {},
   "outputs": [
    {
     "data": {
      "text/plain": [
       "(<__main__.rectange at 0x7f2d819914b0>, __main__.rectange)"
      ]
     },
     "execution_count": 17,
     "metadata": {},
     "output_type": "execute_result"
    }
   ],
   "source": [
    "b = rectange(40,50)\n",
    "b,type(b)"
   ]
  },
  {
   "cell_type": "code",
   "execution_count": 18,
   "id": "5a40ddc9-ce8b-4642-9ebe-5524c730ff84",
   "metadata": {},
   "outputs": [
    {
     "data": {
      "text/plain": [
       "(40, 50, 2000, 180)"
      ]
     },
     "execution_count": 18,
     "metadata": {},
     "output_type": "execute_result"
    }
   ],
   "source": [
    "b.width,b.height,b.area(),b.perimeter()"
   ]
  },
  {
   "cell_type": "code",
   "execution_count": null,
   "id": "cc92d931-60db-44c1-9412-fbadc5cc4463",
   "metadata": {},
   "outputs": [],
   "source": [
    "Q3. Write a Python class called \"BankAccount\" with attributes for \"balance\" and \"interest_rate\".\n",
    "Implement methods to deposit and withdraw money from the account, as well as to calculate the interest\n",
    "earned on the balance based on the interest rate. Create an instance of this class and use it to test out the\n",
    "implemented methods for deposit, withdrawal, and interest calculation."
   ]
  },
  {
   "cell_type": "code",
   "execution_count": 19,
   "id": "f28caa3c-6030-4f1e-9eec-b4d758e4230d",
   "metadata": {},
   "outputs": [],
   "source": [
    "class BankAccount:\n",
    "    def __init__(self,balance,interest_rate):\n",
    "        self.balance = balance\n",
    "        self.interest_rate = interest_rate\n",
    "        \n",
    "    def deposite(self,amt):\n",
    "        self.balance+=amt\n",
    "        return self.balance\n",
    "    def withdraw(self,amount):\n",
    "        if self.balance>amount:\n",
    "            self.balance-=amount\n",
    "            return self.balance\n",
    "        else:\n",
    "            return 'Insuff Balance'\n",
    "    def interest_cal(self,time):\n",
    "        return self.balance*self.interest_rate*time\n",
    "        "
   ]
  },
  {
   "cell_type": "code",
   "execution_count": 20,
   "id": "e25558da-5af6-4122-8596-97145d66641a",
   "metadata": {},
   "outputs": [],
   "source": [
    "c=BankAccount(5000,0.05)"
   ]
  },
  {
   "cell_type": "code",
   "execution_count": 21,
   "id": "b2a1fcec-6799-4f8f-9114-3ca479f5ce75",
   "metadata": {},
   "outputs": [
    {
     "data": {
      "text/plain": [
       "(5000, 0.05)"
      ]
     },
     "execution_count": 21,
     "metadata": {},
     "output_type": "execute_result"
    }
   ],
   "source": [
    "c.balance,c.interest_rate"
   ]
  },
  {
   "cell_type": "code",
   "execution_count": 22,
   "id": "ba11fcde-2077-451d-a7b9-89834ff580e6",
   "metadata": {},
   "outputs": [
    {
     "data": {
      "text/plain": [
       "1250.0"
      ]
     },
     "execution_count": 22,
     "metadata": {},
     "output_type": "execute_result"
    }
   ],
   "source": [
    "c.interest_cal(5)"
   ]
  },
  {
   "cell_type": "code",
   "execution_count": 23,
   "id": "e85ff645-8fcb-4e4d-a667-5debb9e9f06b",
   "metadata": {},
   "outputs": [
    {
     "data": {
      "text/plain": [
       "8000"
      ]
     },
     "execution_count": 23,
     "metadata": {},
     "output_type": "execute_result"
    }
   ],
   "source": [
    "c.deposite(3000)"
   ]
  },
  {
   "cell_type": "code",
   "execution_count": 24,
   "id": "66e3ce03-9141-461b-8e20-400eb65fe145",
   "metadata": {},
   "outputs": [
    {
     "data": {
      "text/plain": [
       "6000"
      ]
     },
     "execution_count": 24,
     "metadata": {},
     "output_type": "execute_result"
    }
   ],
   "source": [
    "c.withdraw(2000)"
   ]
  },
  {
   "cell_type": "code",
   "execution_count": 25,
   "id": "2f97b72b-3d29-47b2-be37-0672d14d8416",
   "metadata": {},
   "outputs": [
    {
     "data": {
      "text/plain": [
       "'Insuff Balance'"
      ]
     },
     "execution_count": 25,
     "metadata": {},
     "output_type": "execute_result"
    }
   ],
   "source": [
    "c.withdraw(10000)"
   ]
  },
  {
   "cell_type": "markdown",
   "id": "1f8192e9-9e22-425d-9ffa-add3d5e5bed6",
   "metadata": {},
   "source": [
    "# yet to solve\n",
    "Q4. Write a Python class called \"Animal\" with attributes for \"name\" and \"species\". Create a subclass of\n",
    "\"Animal\" called \"Dog\" with additional attributes for \"breed\" and \"owner\". Implement both classes with\n",
    "appropriate methods and constructors to initialise their properties. Create instances of both classes and\n",
    "use them to print out the various properties of the animals and dogs, such as their names, species,\n",
    "breeds, and owners."
   ]
  },
  {
   "cell_type": "code",
   "execution_count": 26,
   "id": "eb1c1269-1a37-432a-bee2-67b15af1fd25",
   "metadata": {},
   "outputs": [],
   "source": [
    "class Animal:\n",
    "    def __init__(self,name,species):\n",
    "        self.name = name\n",
    "        self.species = species\n",
    "        \n",
    "    class dog:\n",
    "        def __init__(self,breed,owner):\n",
    "            self.breed = breed\n",
    "            self.owner = owner"
   ]
  },
  {
   "cell_type": "code",
   "execution_count": 27,
   "id": "fc3deee8-2f0a-42cd-8704-5abfc506a107",
   "metadata": {},
   "outputs": [],
   "source": [
    "a = Animal('a','c')"
   ]
  },
  {
   "cell_type": "code",
   "execution_count": 28,
   "id": "017dbffc-8804-426b-8868-8e7634cd0b6e",
   "metadata": {},
   "outputs": [
    {
     "data": {
      "text/plain": [
       "__main__.Animal.dog"
      ]
     },
     "execution_count": 28,
     "metadata": {},
     "output_type": "execute_result"
    }
   ],
   "source": [
    "a.dog"
   ]
  },
  {
   "cell_type": "code",
   "execution_count": null,
   "id": "581a6745-624b-4191-9d1e-740dd3722e64",
   "metadata": {},
   "outputs": [],
   "source": []
  },
  {
   "cell_type": "code",
   "execution_count": null,
   "id": "8078e312-a783-4b86-8c70-0f918040a368",
   "metadata": {},
   "outputs": [],
   "source": []
  },
  {
   "cell_type": "code",
   "execution_count": null,
   "id": "d9222e5a-6400-4816-84db-40455bae00d7",
   "metadata": {},
   "outputs": [],
   "source": [
    "Q5. Create a class called \"Car\" with properties for \"make\", \"model\", and \"year\". Create a subclass of \"Car\"\n",
    "called \"ElectricCar\" with additional properties for \"battery_size\" and \"range\". Create objects of both\n",
    "classes and print out their properties."
   ]
  },
  {
   "cell_type": "code",
   "execution_count": null,
   "id": "8fb5ecfa-d117-4a43-964c-46755ef36a38",
   "metadata": {},
   "outputs": [],
   "source": []
  }
 ],
 "metadata": {
  "kernelspec": {
   "display_name": "Python 3 (ipykernel)",
   "language": "python",
   "name": "python3"
  },
  "language_info": {
   "codemirror_mode": {
    "name": "ipython",
    "version": 3
   },
   "file_extension": ".py",
   "mimetype": "text/x-python",
   "name": "python",
   "nbconvert_exporter": "python",
   "pygments_lexer": "ipython3",
   "version": "3.10.8"
  }
 },
 "nbformat": 4,
 "nbformat_minor": 5
}
