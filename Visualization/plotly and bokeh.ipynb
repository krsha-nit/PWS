{
 "cells": [
  {
   "cell_type": "code",
   "execution_count": 2,
   "id": "40f02d5e-4cf3-4d38-9600-35b5fe63c813",
   "metadata": {},
   "outputs": [],
   "source": [
    "#plotly and bokeh in google colab"
   ]
  },
  {
   "cell_type": "code",
   "execution_count": null,
   "id": "25e486f3-3aa9-4872-9355-907e983f304a",
   "metadata": {},
   "outputs": [],
   "source": []
  }
 ],
 "metadata": {
  "kernelspec": {
   "display_name": "Python 3 (ipykernel)",
   "language": "python",
   "name": "python3"
  },
  "language_info": {
   "codemirror_mode": {
    "name": "ipython",
    "version": 3
   },
   "file_extension": ".py",
   "mimetype": "text/x-python",
   "name": "python",
   "nbconvert_exporter": "python",
   "pygments_lexer": "ipython3",
   "version": "3.10.8"
  }
 },
 "nbformat": 4,
 "nbformat_minor": 5
}
