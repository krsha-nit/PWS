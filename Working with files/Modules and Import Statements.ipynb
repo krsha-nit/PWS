{
 "cells": [
  {
   "cell_type": "code",
   "execution_count": 1,
   "id": "b7ca7b49-fa6e-4585-9e3c-d12d617173bf",
   "metadata": {},
   "outputs": [],
   "source": [
    "#https://purple-florist-jbxqf.pwskills.app/?folder=/config/workspace"
   ]
  },
  {
   "cell_type": "code",
   "execution_count": null,
   "id": "573ecac7-de60-487c-bffe-6cf7e316fc7b",
   "metadata": {},
   "outputs": [],
   "source": []
  }
 ],
 "metadata": {
  "kernelspec": {
   "display_name": "Python 3 (ipykernel)",
   "language": "python",
   "name": "python3"
  },
  "language_info": {
   "codemirror_mode": {
    "name": "ipython",
    "version": 3
   },
   "file_extension": ".py",
   "mimetype": "text/x-python",
   "name": "python",
   "nbconvert_exporter": "python",
   "pygments_lexer": "ipython3",
   "version": "3.10.8"
  }
 },
 "nbformat": 4,
 "nbformat_minor": 5
}
