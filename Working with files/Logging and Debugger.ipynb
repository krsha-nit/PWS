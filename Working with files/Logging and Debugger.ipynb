{
 "cells": [
  {
   "cell_type": "code",
   "execution_count": null,
   "id": "e5a20df9-90c7-4807-a700-c536fc6e5230",
   "metadata": {},
   "outputs": [],
   "source": [
    "#if there is any error, print only gives detail in console"
   ]
  },
  {
   "cell_type": "code",
   "execution_count": 1,
   "id": "1c610d9e-e489-4986-a33a-196474974fff",
   "metadata": {},
   "outputs": [],
   "source": [
    "import logging"
   ]
  },
  {
   "cell_type": "code",
   "execution_count": null,
   "id": "045c5578-79e8-4e59-a793-e315a0cabf13",
   "metadata": {},
   "outputs": [],
   "source": [
    "logging.basicConfig(filename='logfile.log',level = logging.INFO)"
   ]
  },
  {
   "cell_type": "code",
   "execution_count": null,
   "id": "2e0a9a39-e7f7-42af-a10c-0097bce62872",
   "metadata": {},
   "outputs": [],
   "source": [
    "logging.info('this is line of execution')"
   ]
  },
  {
   "cell_type": "code",
   "execution_count": null,
   "id": "ed572b47-926a-439d-b083-99b0bea2636d",
   "metadata": {},
   "outputs": [],
   "source": [
    "logging.error('this is my error')"
   ]
  },
  {
   "cell_type": "code",
   "execution_count": null,
   "id": "7e6fbce4-547d-4974-bb53-9f4909ff8111",
   "metadata": {},
   "outputs": [],
   "source": [
    "logging.critical('this is critical')"
   ]
  },
  {
   "cell_type": "code",
   "execution_count": null,
   "id": "70f0b7f2-2b49-4a1a-88e9-555caf2e8003",
   "metadata": {},
   "outputs": [],
   "source": [
    "logging.warning('this is warning')"
   ]
  },
  {
   "cell_type": "code",
   "execution_count": null,
   "id": "47581903-8013-460c-b11b-6301aea5486d",
   "metadata": {},
   "outputs": [],
   "source": [
    "logging.debug('this is debug')"
   ]
  },
  {
   "cell_type": "code",
   "execution_count": null,
   "id": "4d24e40c-3ed6-4d0c-b0fb-c5f76144631d",
   "metadata": {},
   "outputs": [],
   "source": [
    "logging.noset('this is noset')"
   ]
  },
  {
   "cell_type": "code",
   "execution_count": null,
   "id": "4caa0502-a15d-4c4b-bc0c-9d33c6b1132c",
   "metadata": {},
   "outputs": [],
   "source": [
    "logging.shutdown()"
   ]
  },
  {
   "cell_type": "code",
   "execution_count": 2,
   "id": "1fb46895-2c56-4a45-8207-377122660e4e",
   "metadata": {},
   "outputs": [],
   "source": [
    "logging.basicConfig(filename = 'testa.log',\n",
    "                    level = logging.DEBUG, \n",
    "                    format = '%(asctime)s %(name)s %(levelname)s %(message)s')"
   ]
  },
  {
   "cell_type": "code",
   "execution_count": 3,
   "id": "f8a63f7f-db08-48c1-aa54-d35a16df36d8",
   "metadata": {},
   "outputs": [],
   "source": [
    "logging.info('this is info')"
   ]
  },
  {
   "cell_type": "code",
   "execution_count": 4,
   "id": "1e0d351c-6f0c-4ace-965b-9a1a3403defa",
   "metadata": {},
   "outputs": [],
   "source": [
    "logging.shutdown()"
   ]
  },
  {
   "cell_type": "code",
   "execution_count": null,
   "id": "b7116c4f-dd7f-4865-becf-8a86e1cf662c",
   "metadata": {},
   "outputs": [],
   "source": [
    "#when you're not able to understand any program like loop and statement use logging"
   ]
  },
  {
   "cell_type": "code",
   "execution_count": null,
   "id": "4e9cca05-7d30-471f-8e98-2e30ebbb1ab0",
   "metadata": {},
   "outputs": [],
   "source": []
  }
 ],
 "metadata": {
  "kernelspec": {
   "display_name": "Python 3 (ipykernel)",
   "language": "python",
   "name": "python3"
  },
  "language_info": {
   "codemirror_mode": {
    "name": "ipython",
    "version": 3
   },
   "file_extension": ".py",
   "mimetype": "text/x-python",
   "name": "python",
   "nbconvert_exporter": "python",
   "pygments_lexer": "ipython3",
   "version": "3.10.8"
  }
 },
 "nbformat": 4,
 "nbformat_minor": 5
}
