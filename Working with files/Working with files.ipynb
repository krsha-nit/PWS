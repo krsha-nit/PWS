{
 "cells": [
  {
   "cell_type": "code",
   "execution_count": 22,
   "id": "3782342e-c803-4c9c-b2f9-efe71236f3f7",
   "metadata": {},
   "outputs": [],
   "source": [
    "f = open('test.txt','w')"
   ]
  },
  {
   "cell_type": "code",
   "execution_count": 23,
   "id": "6117898a-e967-42ad-bc4c-2cd40919f95e",
   "metadata": {},
   "outputs": [
    {
     "data": {
      "text/plain": [
       "'/home/jovyan/work/Working with files'"
      ]
     },
     "execution_count": 23,
     "metadata": {},
     "output_type": "execute_result"
    }
   ],
   "source": [
    "pwd #to check present working directory"
   ]
  },
  {
   "cell_type": "code",
   "execution_count": 24,
   "id": "6e216849-7c0f-4495-8c2a-5745703c4e5d",
   "metadata": {},
   "outputs": [
    {
     "name": "stdout",
     "output_type": "stream",
     "text": [
      " Assignment.ipynb   test.txt  'Working with files.ipynb'\n"
     ]
    }
   ],
   "source": [
    "ls #list files available in that directory"
   ]
  },
  {
   "cell_type": "code",
   "execution_count": 25,
   "id": "d487b8e1-67f8-4895-92b5-6f92e40d59dc",
   "metadata": {},
   "outputs": [
    {
     "data": {
      "text/plain": [
       "24"
      ]
     },
     "execution_count": 25,
     "metadata": {},
     "output_type": "execute_result"
    }
   ],
   "source": [
    "f.write('Adding some line to file')"
   ]
  },
  {
   "cell_type": "code",
   "execution_count": 18,
   "id": "ca8fa073-cbcb-4993-b2d6-912aa3179315",
   "metadata": {},
   "outputs": [],
   "source": [
    "#unless you close it, you'll not be able to view the added line\n",
    "f.close() "
   ]
  },
  {
   "cell_type": "code",
   "execution_count": 26,
   "id": "4e2f3b14-d817-47e2-8b4c-f3b717a3e363",
   "metadata": {},
   "outputs": [],
   "source": [
    "#to add/append somthing in existing file, 'w'- overwrite on existing data\n",
    "f = open('test.txt','a')\n",
    "f.write('Adding next line to file')\n",
    "f.close()"
   ]
  },
  {
   "cell_type": "code",
   "execution_count": 27,
   "id": "2789ff22-1b2b-422a-bb22-0c894d9cc8e3",
   "metadata": {},
   "outputs": [],
   "source": [
    "#read operation\n",
    "data = open('test.txt','r')"
   ]
  },
  {
   "cell_type": "code",
   "execution_count": 28,
   "id": "ede2cd99-a02f-4e33-912f-537664a35d0e",
   "metadata": {},
   "outputs": [
    {
     "data": {
      "text/plain": [
       "'Adding some line to fileAdding next line to file'"
      ]
     },
     "execution_count": 28,
     "metadata": {},
     "output_type": "execute_result"
    }
   ],
   "source": [
    "data.read()"
   ]
  },
  {
   "cell_type": "code",
   "execution_count": 29,
   "id": "67c2284c-22c0-4c4c-9195-0ec355a7aa54",
   "metadata": {},
   "outputs": [
    {
     "data": {
      "text/plain": [
       "''"
      ]
     },
     "execution_count": 29,
     "metadata": {},
     "output_type": "execute_result"
    }
   ],
   "source": [
    "data.read() #if you run twice, cursor will be at end and hence showing ''"
   ]
  },
  {
   "cell_type": "code",
   "execution_count": 32,
   "id": "60b176ec-98a7-42bb-998f-ac251df1b6a4",
   "metadata": {},
   "outputs": [
    {
     "data": {
      "text/plain": [
       "'ding some line to fileAdding next line to file'"
      ]
     },
     "execution_count": 32,
     "metadata": {},
     "output_type": "execute_result"
    }
   ],
   "source": [
    "#to reset cursor\n",
    "data.seek(2)\n",
    "data.read()"
   ]
  },
  {
   "cell_type": "code",
   "execution_count": 40,
   "id": "56acca84-1c29-4faa-80e8-3479bcdb6057",
   "metadata": {},
   "outputs": [],
   "source": [
    "data1 = open('test.txt','r')"
   ]
  },
  {
   "cell_type": "code",
   "execution_count": 41,
   "id": "5bbbf6d9-5312-4d22-a550-1393b063a88a",
   "metadata": {},
   "outputs": [
    {
     "name": "stdout",
     "output_type": "stream",
     "text": [
      "Adding some line to fileAdding next line to file\n",
      "A\n",
      "B\n"
     ]
    }
   ],
   "source": [
    "for i in data1:\n",
    "    print(i)\n",
    "    print('A\\nB')"
   ]
  },
  {
   "cell_type": "code",
   "execution_count": 42,
   "id": "93ac8db2-1130-47b1-a6a2-47b3f1dad535",
   "metadata": {},
   "outputs": [],
   "source": [
    "#file size?\n",
    "import os"
   ]
  },
  {
   "cell_type": "code",
   "execution_count": 44,
   "id": "d851818f-f37f-4b85-8a36-b2b94a88dc4d",
   "metadata": {},
   "outputs": [
    {
     "data": {
      "text/plain": [
       "48"
      ]
     },
     "execution_count": 44,
     "metadata": {},
     "output_type": "execute_result"
    }
   ],
   "source": [
    "os.path.getsize('test.txt') #file size in bytes"
   ]
  },
  {
   "cell_type": "code",
   "execution_count": 45,
   "id": "c4e44b7d-17ae-4bd9-8724-c2ceb726aee3",
   "metadata": {},
   "outputs": [],
   "source": [
    "#to copy?\n",
    "import shutil"
   ]
  },
  {
   "cell_type": "code",
   "execution_count": 46,
   "id": "84f02836-852f-4988-96d9-4a6b2bd63021",
   "metadata": {},
   "outputs": [
    {
     "data": {
      "text/plain": [
       "'new_test.txt'"
      ]
     },
     "execution_count": 46,
     "metadata": {},
     "output_type": "execute_result"
    }
   ],
   "source": [
    "shutil.copy('test.txt', 'new_test.txt')"
   ]
  },
  {
   "cell_type": "code",
   "execution_count": 47,
   "id": "19cf463f-96e5-4628-a9e0-124e7eeb728b",
   "metadata": {},
   "outputs": [],
   "source": [
    "#to remove a file\n",
    "os.remove('test.txt')"
   ]
  },
  {
   "cell_type": "code",
   "execution_count": 48,
   "id": "396f7d7b-48d3-4164-ba6b-feb90ebac58a",
   "metadata": {},
   "outputs": [
    {
     "name": "stdout",
     "output_type": "stream",
     "text": [
      "Adding some line to fileAdding next line to file\n"
     ]
    }
   ],
   "source": [
    "#another way to open a file??\n",
    "\n",
    "with open('new_test.txt','r') as f:\n",
    "    print(f.read())"
   ]
  },
  {
   "cell_type": "code",
   "execution_count": 50,
   "id": "dadafcc8-90f5-4e70-a9da-7dc6f04dac3b",
   "metadata": {},
   "outputs": [],
   "source": [
    "#rename a file\n",
    "os.rename('new_test.txt', 'rename_test.txt')"
   ]
  },
  {
   "cell_type": "code",
   "execution_count": null,
   "id": "ddb4d657-302a-43b1-8dbf-40b6a4967800",
   "metadata": {},
   "outputs": [],
   "source": []
  }
 ],
 "metadata": {
  "kernelspec": {
   "display_name": "Python 3 (ipykernel)",
   "language": "python",
   "name": "python3"
  },
  "language_info": {
   "codemirror_mode": {
    "name": "ipython",
    "version": 3
   },
   "file_extension": ".py",
   "mimetype": "text/x-python",
   "name": "python",
   "nbconvert_exporter": "python",
   "pygments_lexer": "ipython3",
   "version": "3.10.8"
  }
 },
 "nbformat": 4,
 "nbformat_minor": 5
}
