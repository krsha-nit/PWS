{
 "cells": [
  {
   "cell_type": "code",
   "execution_count": 6,
   "id": "47cfa9cc-4b80-413e-bbdb-3306089fcee3",
   "metadata": {},
   "outputs": [],
   "source": [
    "#read and write diff files\n",
    "#jason also stores data in similar key value format\n",
    "data = {\n",
    "    'name' : 'Ram',\n",
    "    'email' : 'ram.com',\n",
    "    'mob' : 123,\n",
    "    'course' : ['ds','ml' ]\n",
    "}"
   ]
  },
  {
   "cell_type": "code",
   "execution_count": 7,
   "id": "8303f097-45f5-4b6b-a22f-904939191f37",
   "metadata": {},
   "outputs": [],
   "source": [
    "import json"
   ]
  },
  {
   "cell_type": "code",
   "execution_count": 9,
   "id": "23d6e626-d8a5-4fb9-921b-50874d7b08c2",
   "metadata": {},
   "outputs": [],
   "source": [
    "# to store dictionary type of file, use json\n",
    "with open('test2.json','w') as f:\n",
    "    json.dump(data,f)"
   ]
  },
  {
   "cell_type": "code",
   "execution_count": 10,
   "id": "1965cdeb-1918-4b74-b5c8-85893873c17b",
   "metadata": {},
   "outputs": [],
   "source": [
    "# to read json file\n",
    "with open('test2.json','r') as f:\n",
    "    data1 = json.load(f)"
   ]
  },
  {
   "cell_type": "code",
   "execution_count": 11,
   "id": "8ba6c995-5a9f-427c-9745-0af1c52223fc",
   "metadata": {},
   "outputs": [
    {
     "data": {
      "text/plain": [
       "{'name': 'Ram', 'email': 'ram.com', 'mob': 123, 'course': ['ds', 'ml']}"
      ]
     },
     "execution_count": 11,
     "metadata": {},
     "output_type": "execute_result"
    }
   ],
   "source": [
    "data1"
   ]
  },
  {
   "cell_type": "code",
   "execution_count": 13,
   "id": "527420c8-b5fb-4ff0-9505-69a8391da4cd",
   "metadata": {},
   "outputs": [
    {
     "data": {
      "text/plain": [
       "'ml'"
      ]
     },
     "execution_count": 13,
     "metadata": {},
     "output_type": "execute_result"
    }
   ],
   "source": [
    "data1['course'][1]"
   ]
  },
  {
   "cell_type": "code",
   "execution_count": 16,
   "id": "ccd6b217-73b4-4a42-8739-88d1f1506f43",
   "metadata": {
    "jp-MarkdownHeadingCollapsed": true,
    "tags": []
   },
   "outputs": [],
   "source": [
    "data3 = [['a','b','c']\n",
    "         ,[1,2,3],\n",
    "         [4,5,6],\n",
    "         [7,8,9]]"
   ]
  },
  {
   "cell_type": "code",
   "execution_count": 15,
   "id": "81f6e9e1-e4e5-4112-99a5-0251ca13ab0e",
   "metadata": {},
   "outputs": [],
   "source": [
    "import csv"
   ]
  },
  {
   "cell_type": "code",
   "execution_count": 17,
   "id": "6bc0cf23-60de-421b-a7e7-a7c39b978c13",
   "metadata": {},
   "outputs": [],
   "source": [
    "#to write list of list in csv file\n",
    "with open('test3.csv','w') as f:\n",
    "    w = csv.writer(f)\n",
    "    for i in data3:\n",
    "        w.writerow(i)"
   ]
  },
  {
   "cell_type": "code",
   "execution_count": 18,
   "id": "6956193f-9e58-4d18-b6ae-10556127bcc9",
   "metadata": {},
   "outputs": [
    {
     "name": "stdout",
     "output_type": "stream",
     "text": [
      "['a', 'b', 'c']\n",
      "['1', '2', '3']\n",
      "['4', '5', '6']\n",
      "['7', '8', '9']\n"
     ]
    }
   ],
   "source": [
    "#to read csv\n",
    "with open('test3.csv','r') as f:\n",
    "    read = csv.reader(f)\n",
    "    for i in read:\n",
    "        print(i)"
   ]
  },
  {
   "cell_type": "code",
   "execution_count": 24,
   "id": "ffcb3ae7-ec8f-48f0-b22d-5cf09245b574",
   "metadata": {},
   "outputs": [
    {
     "data": {
      "text/plain": [
       "<_csv.reader at 0x7f9244739770>"
      ]
     },
     "execution_count": 24,
     "metadata": {},
     "output_type": "execute_result"
    }
   ],
   "source": [
    "read"
   ]
  },
  {
   "cell_type": "code",
   "execution_count": 26,
   "id": "a3ca8c80-9dcc-4118-bdcb-f4cc3dffc6f8",
   "metadata": {},
   "outputs": [],
   "source": [
    "#wirte read binary file\n",
    "with open('test4.bin','wb') as f:\n",
    "    f.write(b'\\x01\\x02\\x03')"
   ]
  },
  {
   "cell_type": "code",
   "execution_count": 27,
   "id": "bf6591ed-c67f-49b9-b7da-acbaa0e21dd1",
   "metadata": {},
   "outputs": [
    {
     "name": "stdout",
     "output_type": "stream",
     "text": [
      "b'\\x01\\x02\\x03'\n"
     ]
    }
   ],
   "source": [
    "with open('test4.bin','rb') as f:\n",
    "    print(f.read())"
   ]
  },
  {
   "cell_type": "markdown",
   "id": "b83b8251-6650-4fae-a5f5-0395e25b7c2b",
   "metadata": {},
   "source": [
    "# Buffered Read and Write & other file methods\n",
    "#for a very big file, read and write in chunks "
   ]
  },
  {
   "cell_type": "code",
   "execution_count": 29,
   "id": "5c8bb30d-b1f6-4e8b-a81e-c4c7f267e411",
   "metadata": {},
   "outputs": [],
   "source": [
    "import io "
   ]
  },
  {
   "cell_type": "code",
   "execution_count": 30,
   "id": "b85b0762-a762-4a72-bf89-673cd04254af",
   "metadata": {},
   "outputs": [],
   "source": [
    "with open('test_b.txt','wb') as f:\n",
    "    file = io.BufferedWriter(f)\n",
    "    file.write(b'this is first line\\n')\n",
    "    file.write(b'this is second line')\n",
    "    file.flush() #similar to file.close()\n",
    "        "
   ]
  },
  {
   "cell_type": "code",
   "execution_count": 34,
   "id": "be13da81-5371-4c0a-b640-1f90a773c8c7",
   "metadata": {},
   "outputs": [
    {
     "name": "stdout",
     "output_type": "stream",
     "text": [
      "b'this is '\n"
     ]
    }
   ],
   "source": [
    "with open('test_b.txt','rb') as f:\n",
    "    file = io.BufferedReader(f)\n",
    "    data = file.read(8) #buffer size/chuck size = 8\n",
    "    print(data)"
   ]
  },
  {
   "cell_type": "code",
   "execution_count": null,
   "id": "dd2f5e07-ccd6-4c2e-84e1-bd29b3ef0bcd",
   "metadata": {},
   "outputs": [],
   "source": []
  }
 ],
 "metadata": {
  "kernelspec": {
   "display_name": "Python 3 (ipykernel)",
   "language": "python",
   "name": "python3"
  },
  "language_info": {
   "codemirror_mode": {
    "name": "ipython",
    "version": 3
   },
   "file_extension": ".py",
   "mimetype": "text/x-python",
   "name": "python",
   "nbconvert_exporter": "python",
   "pygments_lexer": "ipython3",
   "version": "3.10.8"
  }
 },
 "nbformat": 4,
 "nbformat_minor": 5
}
