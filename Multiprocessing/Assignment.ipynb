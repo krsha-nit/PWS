{
 "cells": [
  {
   "cell_type": "markdown",
   "id": "1277ff51-2d14-45d8-bc73-9fc5dbf1fc63",
   "metadata": {},
   "source": [
    "Q1. What is multiprocessing in python? Why is it useful?\n",
    "Q2. What are the differences between multiprocessing and multithreading?\n",
    "Q3. Write a python code to create a process using the multiprocessing module.\n",
    "Q4. What is a multiprocessing pool in python? Why is it used?\n",
    "Q5. How can we create a pool of worker processes in python using the multiprocessing module?\n",
    "Q6. Write a python program to create 4 processes, each process should print a different number using the\n",
    "multiprocessing module in python."
   ]
  }
 ],
 "metadata": {
  "kernelspec": {
   "display_name": "Python 3 (ipykernel)",
   "language": "python",
   "name": "python3"
  },
  "language_info": {
   "codemirror_mode": {
    "name": "ipython",
    "version": 3
   },
   "file_extension": ".py",
   "mimetype": "text/x-python",
   "name": "python",
   "nbconvert_exporter": "python",
   "pygments_lexer": "ipython3",
   "version": "3.10.9"
  }
 },
 "nbformat": 4,
 "nbformat_minor": 5
}
