{
 "cells": [
  {
   "cell_type": "code",
   "execution_count": 44,
   "id": "4861f1bd-0496-4d4a-9830-a5fafd37bcd6",
   "metadata": {},
   "outputs": [],
   "source": [
    "def test(n,p):\n",
    "    return n**p"
   ]
  },
  {
   "cell_type": "code",
   "execution_count": 45,
   "id": "96082269-7705-4cfc-af93-742b1c42ecb0",
   "metadata": {},
   "outputs": [
    {
     "data": {
      "text/plain": [
       "(9, 729)"
      ]
     },
     "execution_count": 45,
     "metadata": {},
     "output_type": "execute_result"
    }
   ],
   "source": [
    "test(3,2),test(9,3)"
   ]
  },
  {
   "cell_type": "code",
   "execution_count": 62,
   "id": "7344cbf9-1a28-4476-a989-1a020f128349",
   "metadata": {},
   "outputs": [],
   "source": [
    "#another way to write concise test function\n",
    "#short hand function\n",
    "test1 = lambda n,p: n**p"
   ]
  },
  {
   "cell_type": "code",
   "execution_count": 63,
   "id": "2b32a9b1-6afd-433c-a09b-5ab87d403141",
   "metadata": {},
   "outputs": [
    {
     "data": {
      "text/plain": [
       "(9, 729)"
      ]
     },
     "execution_count": 63,
     "metadata": {},
     "output_type": "execute_result"
    }
   ],
   "source": [
    "test1(3,2),test1(9,3)"
   ]
  },
  {
   "cell_type": "code",
   "execution_count": 48,
   "id": "51a30e9f-d414-49f4-97f7-101d782e90d5",
   "metadata": {},
   "outputs": [],
   "source": [
    "sum_2num = lambda a,b: a+b"
   ]
  },
  {
   "cell_type": "code",
   "execution_count": 49,
   "id": "f902b10f-d474-484f-b24d-cc57275b6ec7",
   "metadata": {},
   "outputs": [
    {
     "data": {
      "text/plain": [
       "84"
      ]
     },
     "execution_count": 49,
     "metadata": {},
     "output_type": "execute_result"
    }
   ],
   "source": [
    "sum_2num(40,44)"
   ]
  },
  {
   "cell_type": "code",
   "execution_count": 50,
   "id": "bb2b5d7d-ee05-4fcf-a31c-712d4f258475",
   "metadata": {},
   "outputs": [],
   "source": [
    "c_to_f = lambda c: (9/5)*c + 32"
   ]
  },
  {
   "cell_type": "code",
   "execution_count": 51,
   "id": "fd423081-86ad-4981-82cb-3066e03730a5",
   "metadata": {},
   "outputs": [
    {
     "data": {
      "text/plain": [
       "(32.0, 212.0)"
      ]
     },
     "execution_count": 51,
     "metadata": {},
     "output_type": "execute_result"
    }
   ],
   "source": [
    "c_to_f(0),c_to_f(100)"
   ]
  },
  {
   "cell_type": "code",
   "execution_count": 55,
   "id": "5fe42fac-f655-48f9-a4e3-28fe4a1daf38",
   "metadata": {},
   "outputs": [
    {
     "data": {
      "text/plain": [
       "89.6"
      ]
     },
     "execution_count": 55,
     "metadata": {},
     "output_type": "execute_result"
    }
   ],
   "source": [
    "c_to_f(32)"
   ]
  },
  {
   "cell_type": "code",
   "execution_count": 59,
   "id": "3f4c73e9-706e-4a34-a28a-8ee821e1146f",
   "metadata": {},
   "outputs": [],
   "source": [
    "max_2no = lambda x,y: max(x,y)\n",
    "max_2no = lambda x,y: x if x>y else y"
   ]
  },
  {
   "cell_type": "code",
   "execution_count": 61,
   "id": "7490d351-50c5-4998-9fcd-7205bd25e647",
   "metadata": {},
   "outputs": [
    {
     "data": {
      "text/plain": [
       "10"
      ]
     },
     "execution_count": 61,
     "metadata": {},
     "output_type": "execute_result"
    }
   ],
   "source": [
    "max_2no(4,10)"
   ]
  },
  {
   "cell_type": "code",
   "execution_count": 64,
   "id": "c06ac052-c709-4882-b356-7a98588c5cc6",
   "metadata": {},
   "outputs": [],
   "source": [
    "len_str = lambda st: len(st)"
   ]
  },
  {
   "cell_type": "code",
   "execution_count": 65,
   "id": "6439ac5d-1f35-4f2c-b63a-98c4e645fc90",
   "metadata": {},
   "outputs": [
    {
     "data": {
      "text/plain": [
       "3"
      ]
     },
     "execution_count": 65,
     "metadata": {},
     "output_type": "execute_result"
    }
   ],
   "source": [
    "len_str('abc')"
   ]
  },
  {
   "cell_type": "code",
   "execution_count": 66,
   "id": "5370b712-8a03-4f57-94db-7fe1c9b7aabd",
   "metadata": {},
   "outputs": [],
   "source": [
    "len_words = lambda sent: len(sent.split())"
   ]
  },
  {
   "cell_type": "code",
   "execution_count": 67,
   "id": "a143e42d-eb20-4675-bd3e-ebe4ef13651e",
   "metadata": {},
   "outputs": [
    {
     "data": {
      "text/plain": [
       "7"
      ]
     },
     "execution_count": 67,
     "metadata": {},
     "output_type": "execute_result"
    }
   ],
   "source": [
    "len_words('this is an example of 7 words')"
   ]
  },
  {
   "cell_type": "code",
   "execution_count": null,
   "id": "20eda5d6-3fdc-4216-bfee-8313104f315a",
   "metadata": {},
   "outputs": [],
   "source": []
  }
 ],
 "metadata": {
  "kernelspec": {
   "display_name": "Python 3 (ipykernel)",
   "language": "python",
   "name": "python3"
  },
  "language_info": {
   "codemirror_mode": {
    "name": "ipython",
    "version": 3
   },
   "file_extension": ".py",
   "mimetype": "text/x-python",
   "name": "python",
   "nbconvert_exporter": "python",
   "pygments_lexer": "ipython3",
   "version": "3.10.8"
  }
 },
 "nbformat": 4,
 "nbformat_minor": 5
}
