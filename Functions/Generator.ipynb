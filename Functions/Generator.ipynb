{
 "cells": [
  {
   "cell_type": "code",
   "execution_count": 1,
   "id": "7b252290-65d5-4fa6-8c85-da49455ea21b",
   "metadata": {},
   "outputs": [
    {
     "data": {
      "text/plain": [
       "range(1, 10)"
      ]
     },
     "execution_count": 1,
     "metadata": {},
     "output_type": "execute_result"
    }
   ],
   "source": [
    "range(1,10)"
   ]
  },
  {
   "cell_type": "code",
   "execution_count": 2,
   "id": "a206cff2-634a-44ea-8393-e6909adcfdcf",
   "metadata": {},
   "outputs": [],
   "source": [
    "#unless we iterate over range or pass it through list it'll not generate the elements"
   ]
  },
  {
   "cell_type": "code",
   "execution_count": 3,
   "id": "f873d715-f06e-4805-8c76-941fe712f1de",
   "metadata": {},
   "outputs": [
    {
     "name": "stdout",
     "output_type": "stream",
     "text": [
      "1\n",
      "2\n",
      "3\n",
      "4\n",
      "5\n",
      "6\n",
      "7\n",
      "8\n",
      "9\n"
     ]
    }
   ],
   "source": [
    "for i in range(1,10):\n",
    "    print(i)"
   ]
  },
  {
   "cell_type": "code",
   "execution_count": 4,
   "id": "1a661958-e375-4a87-b6cc-ba3d9a29e174",
   "metadata": {},
   "outputs": [],
   "source": [
    "l = [1,2,3,4,5,6,7,'ab','cd']"
   ]
  },
  {
   "cell_type": "code",
   "execution_count": 5,
   "id": "3a82ad01-6f00-409f-a8f5-7ab33fc861fb",
   "metadata": {},
   "outputs": [],
   "source": [
    "def test1(list_):\n",
    "    a = []\n",
    "    for i in list_:\n",
    "        if type(i) == int:\n",
    "            a.append(i)\n",
    "    return a"
   ]
  },
  {
   "cell_type": "code",
   "execution_count": 6,
   "id": "46d2215f-dbf7-45e9-8285-774637d3c201",
   "metadata": {},
   "outputs": [
    {
     "data": {
      "text/plain": [
       "[1, 2, 3, 4, 5, 6, 7]"
      ]
     },
     "execution_count": 6,
     "metadata": {},
     "output_type": "execute_result"
    }
   ],
   "source": [
    "test1(l)"
   ]
  },
  {
   "cell_type": "code",
   "execution_count": 9,
   "id": "d7fc30a2-4aac-4678-a231-da3470240752",
   "metadata": {},
   "outputs": [],
   "source": [
    "# as len(list_) increases, functions will take more and more time\n",
    "# if we have 1M data, think of time it'll take\n",
    "# but range doesn't hold all the data at once, it only remembers the last generated data so to know what to generate next\n",
    "# yield is used for such case where you want generator instead of actual data\n",
    "# this will help save memory space"
   ]
  },
  {
   "cell_type": "code",
   "execution_count": 10,
   "id": "88486f2f-6540-4eae-9b6f-5cd4e2c7f67d",
   "metadata": {},
   "outputs": [],
   "source": [
    "#Fibonacci series\n",
    "#0,1,1,2,3,5,8,13,..\n",
    "#next number is sum of last 2 data\n",
    "def fib(n):\n",
    "    a,b = 0,1\n",
    "    for i in range(n):\n",
    "        yield a\n",
    "        a,b = b,a+b\n",
    "        \n",
    "#we are using yield instead of print/return"
   ]
  },
  {
   "cell_type": "code",
   "execution_count": 11,
   "id": "41318896-566d-46e1-896f-2d38b2be4217",
   "metadata": {},
   "outputs": [
    {
     "data": {
      "text/plain": [
       "<generator object fib at 0x7fd50e585a10>"
      ]
     },
     "execution_count": 11,
     "metadata": {},
     "output_type": "execute_result"
    }
   ],
   "source": [
    "fib(10)"
   ]
  },
  {
   "cell_type": "code",
   "execution_count": 12,
   "id": "9821a234-1dab-49d2-b9d0-a33dfe5c43b1",
   "metadata": {},
   "outputs": [
    {
     "data": {
      "text/plain": [
       "[0, 1, 1, 2, 3, 5, 8, 13, 21, 34]"
      ]
     },
     "execution_count": 12,
     "metadata": {},
     "output_type": "execute_result"
    }
   ],
   "source": [
    "list(fib(10))"
   ]
  },
  {
   "cell_type": "code",
   "execution_count": null,
   "id": "29aa5116-5776-4081-9045-f5f24f2d6e4a",
   "metadata": {},
   "outputs": [],
   "source": []
  }
 ],
 "metadata": {
  "kernelspec": {
   "display_name": "Python 3 (ipykernel)",
   "language": "python",
   "name": "python3"
  },
  "language_info": {
   "codemirror_mode": {
    "name": "ipython",
    "version": 3
   },
   "file_extension": ".py",
   "mimetype": "text/x-python",
   "name": "python",
   "nbconvert_exporter": "python",
   "pygments_lexer": "ipython3",
   "version": "3.10.8"
  }
 },
 "nbformat": 4,
 "nbformat_minor": 5
}
