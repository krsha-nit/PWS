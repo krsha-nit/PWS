{
 "cells": [
  {
   "cell_type": "code",
   "execution_count": 2,
   "id": "3ec9a11b-0b37-4986-a129-604332622f22",
   "metadata": {},
   "outputs": [],
   "source": [
    "def test(a,b,c,d,e):\n",
    "    pass"
   ]
  },
  {
   "cell_type": "code",
   "execution_count": 3,
   "id": "e61a7daf-579f-412e-9bf3-2711ed0d6de8",
   "metadata": {},
   "outputs": [],
   "source": [
    "#if not sure about # of arguments that will be passed"
   ]
  },
  {
   "cell_type": "code",
   "execution_count": 4,
   "id": "53c110ba-ef4a-49ef-b593-af999f36b115",
   "metadata": {},
   "outputs": [],
   "source": [
    "test(1,2,3,4,5)"
   ]
  },
  {
   "cell_type": "code",
   "execution_count": 5,
   "id": "c1ea1b9c-5145-4c5c-ac81-72eeede41421",
   "metadata": {},
   "outputs": [
    {
     "ename": "TypeError",
     "evalue": "test() takes 5 positional arguments but 6 were given",
     "output_type": "error",
     "traceback": [
      "\u001b[0;31m---------------------------------------------------------------------------\u001b[0m",
      "\u001b[0;31mTypeError\u001b[0m                                 Traceback (most recent call last)",
      "Cell \u001b[0;32mIn[5], line 1\u001b[0m\n\u001b[0;32m----> 1\u001b[0m \u001b[43mtest\u001b[49m\u001b[43m(\u001b[49m\u001b[38;5;241;43m1\u001b[39;49m\u001b[43m,\u001b[49m\u001b[38;5;241;43m2\u001b[39;49m\u001b[43m,\u001b[49m\u001b[38;5;241;43m3\u001b[39;49m\u001b[43m,\u001b[49m\u001b[38;5;241;43m4\u001b[39;49m\u001b[43m,\u001b[49m\u001b[38;5;241;43m5\u001b[39;49m\u001b[43m,\u001b[49m\u001b[38;5;241;43m6\u001b[39;49m\u001b[43m)\u001b[49m\n",
      "\u001b[0;31mTypeError\u001b[0m: test() takes 5 positional arguments but 6 were given"
     ]
    }
   ],
   "source": [
    "test(1,2,3,4,5,6)"
   ]
  },
  {
   "cell_type": "code",
   "execution_count": 16,
   "id": "1402678d-6656-43f7-b720-52630ebf3f64",
   "metadata": {},
   "outputs": [],
   "source": [
    "def test1(*args): #you can give any keyword instead of args\n",
    "    return args"
   ]
  },
  {
   "cell_type": "code",
   "execution_count": 17,
   "id": "6f89a32f-5e62-4ef7-a22d-fd6f310b6745",
   "metadata": {},
   "outputs": [
    {
     "data": {
      "text/plain": [
       "((1, 2), (1, 2, 3, 5, 6, 7, 8, 9, 10), ('a', [1, 2, 3], (1, 2, 3)))"
      ]
     },
     "execution_count": 17,
     "metadata": {},
     "output_type": "execute_result"
    }
   ],
   "source": [
    "test1(1,2),test1(1,2,3,5,6,7,8,9,10),test1('a',[1,2,3],(1,2,3))"
   ]
  },
  {
   "cell_type": "code",
   "execution_count": 18,
   "id": "ff8dae42-e891-452d-82cf-10cc5c9d7b65",
   "metadata": {},
   "outputs": [],
   "source": [
    "def test2(*ab):\n",
    "    return ab"
   ]
  },
  {
   "cell_type": "code",
   "execution_count": 19,
   "id": "f88500a1-7848-4a23-b478-4fefa33f8604",
   "metadata": {},
   "outputs": [
    {
     "data": {
      "text/plain": [
       "(1, [2, 3], (5, 6))"
      ]
     },
     "execution_count": 19,
     "metadata": {},
     "output_type": "execute_result"
    }
   ],
   "source": [
    "test2(1,[2,3],(5,6))"
   ]
  },
  {
   "cell_type": "code",
   "execution_count": 20,
   "id": "e64fe1a3-d87e-4bcd-ab08-7210802f84b0",
   "metadata": {},
   "outputs": [],
   "source": [
    "def test3(*args,a):\n",
    "    return args,a"
   ]
  },
  {
   "cell_type": "code",
   "execution_count": 21,
   "id": "3bbd7442-3c96-4174-a931-7fbde960f514",
   "metadata": {},
   "outputs": [
    {
     "ename": "TypeError",
     "evalue": "test3() missing 1 required keyword-only argument: 'a'",
     "output_type": "error",
     "traceback": [
      "\u001b[0;31m---------------------------------------------------------------------------\u001b[0m",
      "\u001b[0;31mTypeError\u001b[0m                                 Traceback (most recent call last)",
      "Cell \u001b[0;32mIn[21], line 1\u001b[0m\n\u001b[0;32m----> 1\u001b[0m \u001b[43mtest3\u001b[49m\u001b[43m(\u001b[49m\u001b[38;5;241;43m1\u001b[39;49m\u001b[43m)\u001b[49m\n",
      "\u001b[0;31mTypeError\u001b[0m: test3() missing 1 required keyword-only argument: 'a'"
     ]
    }
   ],
   "source": [
    "test3(1)"
   ]
  },
  {
   "cell_type": "code",
   "execution_count": 23,
   "id": "704df8d8-1bd2-4c85-98e5-454fcd74393a",
   "metadata": {},
   "outputs": [
    {
     "data": {
      "text/plain": [
       "((1,), 2)"
      ]
     },
     "execution_count": 23,
     "metadata": {},
     "output_type": "execute_result"
    }
   ],
   "source": [
    "test3(1,a=2)#need atleast 2 values, n-1 for args and last one for a"
   ]
  },
  {
   "cell_type": "code",
   "execution_count": 27,
   "id": "9952e344-a482-4c90-95cf-074a20669740",
   "metadata": {},
   "outputs": [],
   "source": [
    "#function to append and give all list values\n",
    "def test4(*args):\n",
    "    l=[]\n",
    "    for i in args:\n",
    "        if type(i) == list:\n",
    "            l.append(i)\n",
    "            \n",
    "    return l"
   ]
  },
  {
   "cell_type": "code",
   "execution_count": 28,
   "id": "c98fe36c-0b2a-4852-a89f-6776e574b9e2",
   "metadata": {},
   "outputs": [
    {
     "data": {
      "text/plain": [
       "[]"
      ]
     },
     "execution_count": 28,
     "metadata": {},
     "output_type": "execute_result"
    }
   ],
   "source": [
    "test4(1,2,3)"
   ]
  },
  {
   "cell_type": "code",
   "execution_count": 29,
   "id": "590784d8-5805-41c5-a2b4-08441685e4f2",
   "metadata": {},
   "outputs": [
    {
     "data": {
      "text/plain": [
       "[[4, 5, 6], ['a', 'b', 'c']]"
      ]
     },
     "execution_count": 29,
     "metadata": {},
     "output_type": "execute_result"
    }
   ],
   "source": [
    "test4(1,2,[4,5,6],(2,3,4),['a','b','c'])"
   ]
  },
  {
   "cell_type": "code",
   "execution_count": 30,
   "id": "28365912-b7d2-47c8-93e6-4aaedf92921e",
   "metadata": {},
   "outputs": [],
   "source": [
    "#for dynamic multiple key value pair as dictionary"
   ]
  },
  {
   "cell_type": "code",
   "execution_count": 31,
   "id": "eb9715a1-413d-43f6-9b6e-cd752b743370",
   "metadata": {},
   "outputs": [],
   "source": [
    "def test5(**kwargs): #** -- it can take multiple key:value pair\n",
    "    return kwargs"
   ]
  },
  {
   "cell_type": "code",
   "execution_count": 32,
   "id": "55a7c486-74f9-4dcd-9729-27c90fd4709a",
   "metadata": {},
   "outputs": [
    {
     "data": {
      "text/plain": [
       "({}, dict)"
      ]
     },
     "execution_count": 32,
     "metadata": {},
     "output_type": "execute_result"
    }
   ],
   "source": [
    "test5(),type(test5())"
   ]
  },
  {
   "cell_type": "code",
   "execution_count": 34,
   "id": "fca0973b-abb8-48b6-8a38-55997b4c8154",
   "metadata": {},
   "outputs": [
    {
     "data": {
      "text/plain": [
       "{'a': 34, 'b': 'ad', 'c': [1, 2, 3], 'd': {'abc', 'def'}}"
      ]
     },
     "execution_count": 34,
     "metadata": {},
     "output_type": "execute_result"
    }
   ],
   "source": [
    "test5(a=34, b= 'ad', c = [1,2,3], d = {'abc','def'})"
   ]
  },
  {
   "cell_type": "code",
   "execution_count": 50,
   "id": "490ed63f-8a81-4871-8c06-a807e5395766",
   "metadata": {},
   "outputs": [],
   "source": [
    "#go through dic and return only dic\n",
    "def test6(**kwargs):\n",
    "    l = []\n",
    "    for i in kwargs.keys():\n",
    "        if type(kwargs[i]) == list:\n",
    "            l.append({i: kwargs[i]})\n",
    "            \n",
    "    return l"
   ]
  },
  {
   "cell_type": "code",
   "execution_count": 51,
   "id": "dc964288-ade8-4f52-b2d1-51a97a9d183b",
   "metadata": {},
   "outputs": [
    {
     "data": {
      "text/plain": [
       "[{'c': [1, 2, 3]}, {'g': ['a', 'b']}]"
      ]
     },
     "execution_count": 51,
     "metadata": {},
     "output_type": "execute_result"
    }
   ],
   "source": [
    "test6(a=34, b= 'ad', c = [1,2,3], g = ['a','b'], d = {'abc','def'})"
   ]
  },
  {
   "cell_type": "code",
   "execution_count": 52,
   "id": "61bedf90-cf9a-49fc-b1aa-7f71ba30576d",
   "metadata": {},
   "outputs": [],
   "source": [
    "def test7(*args,**kwargs):\n",
    "    return args,kwargs"
   ]
  },
  {
   "cell_type": "code",
   "execution_count": 59,
   "id": "e1bcf98f-8613-4fbf-b8fb-cec34391b074",
   "metadata": {},
   "outputs": [
    {
     "data": {
      "text/plain": [
       "((1, 2, [3, 4]), {'a': 23, 'b': [1, 2], 'c': (4, 5)})"
      ]
     },
     "execution_count": 59,
     "metadata": {},
     "output_type": "execute_result"
    }
   ],
   "source": [
    "test7(1,2,[3,4],a=23,b=[1,2], c= (4,5))"
   ]
  },
  {
   "cell_type": "code",
   "execution_count": 60,
   "id": "24211d1c-bd3e-4de8-a923-82270cf3584e",
   "metadata": {},
   "outputs": [
    {
     "ename": "SyntaxError",
     "evalue": "positional argument follows keyword argument (3098268961.py, line 1)",
     "output_type": "error",
     "traceback": [
      "\u001b[0;36m  Cell \u001b[0;32mIn[60], line 1\u001b[0;36m\u001b[0m\n\u001b[0;31m    test7(1,2,[3,4],a=23,b=[1,2], c= (4,5),'ab','cd')\u001b[0m\n\u001b[0m                                                    ^\u001b[0m\n\u001b[0;31mSyntaxError\u001b[0m\u001b[0;31m:\u001b[0m positional argument follows keyword argument\n"
     ]
    }
   ],
   "source": [
    "test7(1,2,[3,4],a=23,b=[1,2], c= (4,5),'ab','cd')"
   ]
  },
  {
   "cell_type": "code",
   "execution_count": 61,
   "id": "8e2dc9b4-cd01-43e2-b47c-ca26741c4522",
   "metadata": {},
   "outputs": [
    {
     "data": {
      "text/plain": [
       "((1, 2, [3, 4], 'ab', 'cd'), {'a': 23, 'b': [1, 2], 'c': (4, 5)})"
      ]
     },
     "execution_count": 61,
     "metadata": {},
     "output_type": "execute_result"
    }
   ],
   "source": [
    "test7(1,2,[3,4],'ab','cd',a=23,b=[1,2], c= (4,5))"
   ]
  },
  {
   "cell_type": "code",
   "execution_count": null,
   "id": "c7838975-4343-4128-898a-6a2898685e69",
   "metadata": {},
   "outputs": [],
   "source": []
  }
 ],
 "metadata": {
  "kernelspec": {
   "display_name": "Python 3 (ipykernel)",
   "language": "python",
   "name": "python3"
  },
  "language_info": {
   "codemirror_mode": {
    "name": "ipython",
    "version": 3
   },
   "file_extension": ".py",
   "mimetype": "text/x-python",
   "name": "python",
   "nbconvert_exporter": "python",
   "pygments_lexer": "ipython3",
   "version": "3.10.8"
  }
 },
 "nbformat": 4,
 "nbformat_minor": 5
}
