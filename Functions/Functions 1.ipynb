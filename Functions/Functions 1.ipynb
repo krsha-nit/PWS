{
 "cells": [
  {
   "cell_type": "code",
   "execution_count": 1,
   "id": "5b794f6d-3b13-457f-b6b5-a89a3cd0c828",
   "metadata": {},
   "outputs": [
    {
     "name": "stdout",
     "output_type": "stream",
     "text": [
      "this\n"
     ]
    }
   ],
   "source": [
    "print('this')"
   ]
  },
  {
   "cell_type": "code",
   "execution_count": 2,
   "id": "77158f71-672b-464e-a4ad-8238abb4317d",
   "metadata": {},
   "outputs": [],
   "source": [
    "l = list('abcd')"
   ]
  },
  {
   "cell_type": "code",
   "execution_count": 3,
   "id": "fe47ce6a-e619-4212-be15-745e57859394",
   "metadata": {},
   "outputs": [
    {
     "data": {
      "text/plain": [
       "4"
      ]
     },
     "execution_count": 3,
     "metadata": {},
     "output_type": "execute_result"
    }
   ],
   "source": [
    "len(l)"
   ]
  },
  {
   "cell_type": "code",
   "execution_count": 4,
   "id": "a7c4f1a9-bd33-4286-aa05-b9879fc7a3cd",
   "metadata": {},
   "outputs": [
    {
     "ename": "SyntaxError",
     "evalue": "incomplete input (3861551224.py, line 1)",
     "output_type": "error",
     "traceback": [
      "\u001b[0;36m  Cell \u001b[0;32mIn[4], line 1\u001b[0;36m\u001b[0m\n\u001b[0;31m    def test():\u001b[0m\n\u001b[0m               ^\u001b[0m\n\u001b[0;31mSyntaxError\u001b[0m\u001b[0;31m:\u001b[0m incomplete input\n"
     ]
    }
   ],
   "source": [
    "def test():"
   ]
  },
  {
   "cell_type": "code",
   "execution_count": 5,
   "id": "60e88dff-6210-4300-81cb-4cc7cac9f423",
   "metadata": {},
   "outputs": [],
   "source": [
    "def test():\n",
    "    pass"
   ]
  },
  {
   "cell_type": "code",
   "execution_count": 6,
   "id": "2feacb18-ecf9-489c-ad71-ec828e4c7309",
   "metadata": {},
   "outputs": [],
   "source": [
    "def test1():\n",
    "    print('this is my first fun')"
   ]
  },
  {
   "cell_type": "code",
   "execution_count": 8,
   "id": "81035dfd-89b7-4c9c-a484-9e6e30c3f527",
   "metadata": {},
   "outputs": [
    {
     "name": "stdout",
     "output_type": "stream",
     "text": [
      "this is my first fun\n"
     ]
    }
   ],
   "source": [
    "test1()"
   ]
  },
  {
   "cell_type": "code",
   "execution_count": 11,
   "id": "5e97ec3a-70cd-401b-b8d2-5521e75268c5",
   "metadata": {},
   "outputs": [
    {
     "name": "stdout",
     "output_type": "stream",
     "text": [
      "this is my first fun\n"
     ]
    },
    {
     "ename": "TypeError",
     "evalue": "unsupported operand type(s) for +: 'NoneType' and 'str'",
     "output_type": "error",
     "traceback": [
      "\u001b[0;31m---------------------------------------------------------------------------\u001b[0m",
      "\u001b[0;31mTypeError\u001b[0m                                 Traceback (most recent call last)",
      "Cell \u001b[0;32mIn[11], line 2\u001b[0m\n\u001b[1;32m      1\u001b[0m \u001b[38;5;66;03m#function gives 'NoneType' when using print so can't concatenate with str\u001b[39;00m\n\u001b[0;32m----> 2\u001b[0m \u001b[43mtest1\u001b[49m\u001b[43m(\u001b[49m\u001b[43m)\u001b[49m\u001b[43m \u001b[49m\u001b[38;5;241;43m+\u001b[39;49m\u001b[43m \u001b[49m\u001b[38;5;124;43m'\u001b[39;49m\u001b[38;5;124;43mabc\u001b[39;49m\u001b[38;5;124;43m'\u001b[39;49m\n",
      "\u001b[0;31mTypeError\u001b[0m: unsupported operand type(s) for +: 'NoneType' and 'str'"
     ]
    }
   ],
   "source": [
    "#function gives 'NoneType' when using print so can't concatenate with str\n",
    "test1() + 'abc'"
   ]
  },
  {
   "cell_type": "code",
   "execution_count": 12,
   "id": "45644227-474d-48d8-9b48-a1d6de4901db",
   "metadata": {},
   "outputs": [
    {
     "name": "stdout",
     "output_type": "stream",
     "text": [
      "abc\n"
     ]
    },
    {
     "data": {
      "text/plain": [
       "NoneType"
      ]
     },
     "execution_count": 12,
     "metadata": {},
     "output_type": "execute_result"
    }
   ],
   "source": [
    "type(print('abc'))"
   ]
  },
  {
   "cell_type": "code",
   "execution_count": 13,
   "id": "cc0a3af1-76bf-4da2-a028-356e7cabd3fb",
   "metadata": {},
   "outputs": [],
   "source": [
    "def test2():\n",
    "    return 'second fun with retrun'"
   ]
  },
  {
   "cell_type": "code",
   "execution_count": 15,
   "id": "f436aa3a-3e67-42f5-a170-3d8bc18d4e39",
   "metadata": {},
   "outputs": [
    {
     "data": {
      "text/plain": [
       "'second fun with retrunabc'"
      ]
     },
     "execution_count": 15,
     "metadata": {},
     "output_type": "execute_result"
    }
   ],
   "source": [
    "test2() + 'abc'"
   ]
  },
  {
   "cell_type": "code",
   "execution_count": 17,
   "id": "c76b15d1-58ac-4760-b180-bab89940219b",
   "metadata": {},
   "outputs": [
    {
     "data": {
      "text/plain": [
       "str"
      ]
     },
     "execution_count": 17,
     "metadata": {},
     "output_type": "execute_result"
    }
   ],
   "source": [
    "type(test2()) # type is same as provided in the string"
   ]
  },
  {
   "cell_type": "code",
   "execution_count": 18,
   "id": "44c23621-af0d-4a29-85d1-1c77db74c251",
   "metadata": {},
   "outputs": [],
   "source": [
    "def test3():\n",
    "    return 1,4,'pws',34.56"
   ]
  },
  {
   "cell_type": "code",
   "execution_count": 20,
   "id": "e1485cc9-f61b-4931-8274-e1ca837a0b44",
   "metadata": {},
   "outputs": [
    {
     "data": {
      "text/plain": [
       "((1, 4, 'pws', 34.56), tuple)"
      ]
     },
     "execution_count": 20,
     "metadata": {},
     "output_type": "execute_result"
    }
   ],
   "source": [
    "test3(), type(test3())"
   ]
  },
  {
   "cell_type": "code",
   "execution_count": 21,
   "id": "4cbafe62-818b-4741-815a-7f45e60954f2",
   "metadata": {},
   "outputs": [],
   "source": [
    "a=1,2,3,4,5"
   ]
  },
  {
   "cell_type": "code",
   "execution_count": 22,
   "id": "5b775563-d044-4b19-91e1-518c48cea94f",
   "metadata": {},
   "outputs": [
    {
     "data": {
      "text/plain": [
       "((1, 2, 3, 4, 5), tuple)"
      ]
     },
     "execution_count": 22,
     "metadata": {},
     "output_type": "execute_result"
    }
   ],
   "source": [
    "a,type(a)"
   ]
  },
  {
   "cell_type": "code",
   "execution_count": 23,
   "id": "10d55e65-a1d5-4216-bf36-8e961fb2131a",
   "metadata": {},
   "outputs": [],
   "source": [
    "a,b,c,d = 1,'b',34.3,False"
   ]
  },
  {
   "cell_type": "code",
   "execution_count": 24,
   "id": "94defedf-ca67-4f5d-9db3-76a636e0dd0c",
   "metadata": {},
   "outputs": [
    {
     "data": {
      "text/plain": [
       "(1, 'b', 34.3, False, int, str, float, bool)"
      ]
     },
     "execution_count": 24,
     "metadata": {},
     "output_type": "execute_result"
    }
   ],
   "source": [
    "a,b,c,d,type(a),type(b),type(c),type(d)"
   ]
  },
  {
   "cell_type": "code",
   "execution_count": 25,
   "id": "5b93eea0-db36-4347-ae9a-0933cddb8b4b",
   "metadata": {},
   "outputs": [
    {
     "data": {
      "text/plain": [
       "'pws'"
      ]
     },
     "execution_count": 25,
     "metadata": {},
     "output_type": "execute_result"
    }
   ],
   "source": [
    "#tuple unpacking\n",
    "a,b,c,d = test3()\n",
    "c"
   ]
  },
  {
   "cell_type": "code",
   "execution_count": 27,
   "id": "5e2c98ab-13a7-4108-8fdd-6e8d5b662cd2",
   "metadata": {},
   "outputs": [
    {
     "name": "stdout",
     "output_type": "stream",
     "text": [
      "1\n",
      "4\n",
      "pws\n",
      "34.56\n"
     ]
    }
   ],
   "source": [
    "for i in test3():\n",
    "    print(i)"
   ]
  },
  {
   "cell_type": "code",
   "execution_count": 34,
   "id": "8e77e296-bac5-4def-9ab6-7421c7bb0d9d",
   "metadata": {},
   "outputs": [],
   "source": [
    "def test4():\n",
    "    a = 3*(5**4)\n",
    "    return a"
   ]
  },
  {
   "cell_type": "code",
   "execution_count": 35,
   "id": "05eba1ac-e227-44d8-8d3d-29cb3e98b309",
   "metadata": {},
   "outputs": [
    {
     "data": {
      "text/plain": [
       "1875"
      ]
     },
     "execution_count": 35,
     "metadata": {},
     "output_type": "execute_result"
    }
   ],
   "source": [
    "test4()"
   ]
  },
  {
   "cell_type": "code",
   "execution_count": 36,
   "id": "be8ecffd-247e-436e-a2c9-1011b176f60f",
   "metadata": {},
   "outputs": [],
   "source": [
    "#pass the var value\n",
    "def test5(a,b):\n",
    "    c = a+b\n",
    "    return c #or retrurn a+b"
   ]
  },
  {
   "cell_type": "code",
   "execution_count": 39,
   "id": "e61fabc3-916f-49a6-8823-f084132bd2d9",
   "metadata": {},
   "outputs": [
    {
     "ename": "TypeError",
     "evalue": "test5() missing 2 required positional arguments: 'a' and 'b'",
     "output_type": "error",
     "traceback": [
      "\u001b[0;31m---------------------------------------------------------------------------\u001b[0m",
      "\u001b[0;31mTypeError\u001b[0m                                 Traceback (most recent call last)",
      "Cell \u001b[0;32mIn[39], line 2\u001b[0m\n\u001b[1;32m      1\u001b[0m \u001b[38;5;66;03m#now we'll have to provide the arguments as many as given in the funcion\u001b[39;00m\n\u001b[0;32m----> 2\u001b[0m \u001b[43mtest5\u001b[49m\u001b[43m(\u001b[49m\u001b[43m)\u001b[49m\n",
      "\u001b[0;31mTypeError\u001b[0m: test5() missing 2 required positional arguments: 'a' and 'b'"
     ]
    }
   ],
   "source": [
    "#now we'll have to provide the arguments as many as given in the funcion\n",
    "test5()"
   ]
  },
  {
   "cell_type": "code",
   "execution_count": 40,
   "id": "75c60890-cdb1-4dba-9873-660fbca3fb35",
   "metadata": {},
   "outputs": [
    {
     "data": {
      "text/plain": [
       "94"
      ]
     },
     "execution_count": 40,
     "metadata": {},
     "output_type": "execute_result"
    }
   ],
   "source": [
    "test5(6,88)"
   ]
  },
  {
   "cell_type": "code",
   "execution_count": 41,
   "id": "8d599b89-7e11-4b42-83eb-446e121744b6",
   "metadata": {},
   "outputs": [
    {
     "data": {
      "text/plain": [
       "'ab cd'"
      ]
     },
     "execution_count": 41,
     "metadata": {},
     "output_type": "execute_result"
    }
   ],
   "source": [
    "test5('ab ', 'cd')"
   ]
  },
  {
   "cell_type": "code",
   "execution_count": 42,
   "id": "624aa5b1-dbb1-48ff-bc81-fbaad5080f77",
   "metadata": {},
   "outputs": [
    {
     "data": {
      "text/plain": [
       "[1, 2, 3, 'a', 'b']"
      ]
     },
     "execution_count": 42,
     "metadata": {},
     "output_type": "execute_result"
    }
   ],
   "source": [
    "test5([1,2,3],['a','b'])"
   ]
  },
  {
   "cell_type": "code",
   "execution_count": 43,
   "id": "1927517d-62d4-49c3-b998-300627337539",
   "metadata": {},
   "outputs": [
    {
     "data": {
      "text/plain": [
       "'ab cd'"
      ]
     },
     "execution_count": 43,
     "metadata": {},
     "output_type": "execute_result"
    }
   ],
   "source": [
    "test5(b='cd', a='ab ')"
   ]
  },
  {
   "cell_type": "code",
   "execution_count": 44,
   "id": "20661c3f-3033-4fee-8637-b7bd0125f410",
   "metadata": {},
   "outputs": [],
   "source": [
    "l = [1,2,3,4,5,'ab','pws',[7,8,9,10]]"
   ]
  },
  {
   "cell_type": "code",
   "execution_count": 50,
   "id": "9ac88c49-f37e-4e91-b9d9-804ffe8e338e",
   "metadata": {},
   "outputs": [],
   "source": [
    "#funtion to take a list and give me list of all numeric value\n",
    "def test6(list_):\n",
    "    a = []\n",
    "    for i in list_:\n",
    "        if type(i) == list:\n",
    "            for j in i:\n",
    "                if type(j) == int or type(j) == float:\n",
    "                    a.append(j)\n",
    "        elif type(i) == int or type(i) == float:\n",
    "            a.append(i)\n",
    "        \n",
    "    return a"
   ]
  },
  {
   "cell_type": "code",
   "execution_count": 51,
   "id": "aa3681e1-c62a-497e-a591-0bbe7b15b998",
   "metadata": {},
   "outputs": [
    {
     "data": {
      "text/plain": [
       "[1, 2, 3, 4, 5, 7, 8, 9, 10]"
      ]
     },
     "execution_count": 51,
     "metadata": {},
     "output_type": "execute_result"
    }
   ],
   "source": [
    "test6(l)"
   ]
  },
  {
   "cell_type": "code",
   "execution_count": 53,
   "id": "df5ddd1e-8251-40f9-a077-5bbed27ccb3f",
   "metadata": {},
   "outputs": [
    {
     "name": "stderr",
     "output_type": "stream",
     "text": [
      "/tmp/ipykernel_77/2048748389.py:2: VisibleDeprecationWarning: Creating an ndarray from ragged nested sequences (which is a list-or-tuple of lists-or-tuples-or ndarrays with different lengths or shapes) is deprecated. If you meant to do this, you must specify 'dtype=object' when creating the ndarray.\n",
      "  np.array(l)\n"
     ]
    },
    {
     "data": {
      "text/plain": [
       "array([1, 2, 3, 4, 5, 'ab', 'pws', list([7, 8, 9, 10])], dtype=object)"
      ]
     },
     "execution_count": 53,
     "metadata": {},
     "output_type": "execute_result"
    }
   ],
   "source": [
    "import numpy as np\n",
    "np.array(l)"
   ]
  },
  {
   "cell_type": "code",
   "execution_count": 63,
   "id": "3c83bd87-a66b-4ed7-99c1-90944f27a157",
   "metadata": {},
   "outputs": [],
   "source": [
    "#understand how it's done recursively!!\n",
    "\n",
    "def flat_rec(list_):\n",
    "    if len(list_) ==0:\n",
    "        return list_\n",
    "    if isinstance(list_[0],list):\n",
    "        return flat_rec(list_[0]+flat_rec(list_[1:]))\n",
    "    \n",
    "    return list_[:1] +flat_rec(list_[1:])"
   ]
  },
  {
   "cell_type": "code",
   "execution_count": 64,
   "id": "d12b2238-f687-4806-903f-1212cf3fae37",
   "metadata": {},
   "outputs": [
    {
     "data": {
      "text/plain": [
       "[1, 2, 3, 4, 5, 'ab', 'pws', 7, 8, 9, 10]"
      ]
     },
     "execution_count": 64,
     "metadata": {},
     "output_type": "execute_result"
    }
   ],
   "source": [
    "flat_rec(l)"
   ]
  },
  {
   "cell_type": "code",
   "execution_count": 65,
   "id": "15f3dc16-fec0-4ea8-a6a6-05b8db0dfeb1",
   "metadata": {},
   "outputs": [],
   "source": [
    "l2=[[[1,2,3],[4,5,6],7,8],[9,10],11,'a']"
   ]
  },
  {
   "cell_type": "code",
   "execution_count": 66,
   "id": "4bbf491a-e80d-400d-a1e8-2b8e6888aa69",
   "metadata": {},
   "outputs": [
    {
     "data": {
      "text/plain": [
       "[1, 2, 3, 4, 5, 6, 7, 8, 9, 10, 11, 'a']"
      ]
     },
     "execution_count": 66,
     "metadata": {},
     "output_type": "execute_result"
    }
   ],
   "source": [
    "flat_rec(l2)"
   ]
  },
  {
   "cell_type": "code",
   "execution_count": null,
   "id": "861f39e9-0b1f-458e-b108-9c5e2bd0f520",
   "metadata": {},
   "outputs": [],
   "source": []
  }
 ],
 "metadata": {
  "kernelspec": {
   "display_name": "Python 3 (ipykernel)",
   "language": "python",
   "name": "python3"
  },
  "language_info": {
   "codemirror_mode": {
    "name": "ipython",
    "version": 3
   },
   "file_extension": ".py",
   "mimetype": "text/x-python",
   "name": "python",
   "nbconvert_exporter": "python",
   "pygments_lexer": "ipython3",
   "version": "3.10.8"
  }
 },
 "nbformat": 4,
 "nbformat_minor": 5
}
