{
 "cells": [
  {
   "cell_type": "markdown",
   "id": "7efa5e8e-fc93-437d-97dd-39552054f786",
   "metadata": {},
   "source": [
    "1. What is multithreading in python? hy is it used? Name the module used to handle threads in python\n",
    "2. Why threading module used? rite the use of the following functions\n",
    "    activeCount()\n",
    "    currentThread()\n",
    "    enumerate()\n",
    "3. Explain the following functions\n",
    "    run()\n",
    "    start()\n",
    "    join()\n",
    "    isAlive()\n",
    "4. Write a python program to create two threads. Thread one must print the list of squares and thread two must print the list of cubes\n",
    "5. State advantages and disadvantages of multithreading\n",
    "6. Explain deadlocks and race conditions."
   ]
  }
 ],
 "metadata": {
  "kernelspec": {
   "display_name": "Python 3 (ipykernel)",
   "language": "python",
   "name": "python3"
  },
  "language_info": {
   "codemirror_mode": {
    "name": "ipython",
    "version": 3
   },
   "file_extension": ".py",
   "mimetype": "text/x-python",
   "name": "python",
   "nbconvert_exporter": "python",
   "pygments_lexer": "ipython3",
   "version": "3.10.8"
  }
 },
 "nbformat": 4,
 "nbformat_minor": 5
}
