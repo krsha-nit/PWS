{
 "cells": [
  {
   "cell_type": "code",
   "execution_count": 1,
   "id": "2d0e2a47-f4f8-43af-9159-b128b18c107c",
   "metadata": {},
   "outputs": [],
   "source": [
    "import threading"
   ]
  },
  {
   "cell_type": "code",
   "execution_count": 4,
   "id": "4067f3ab-7a5a-433b-9477-b4139fa6b8e8",
   "metadata": {},
   "outputs": [],
   "source": [
    "def test(id):\n",
    "    print(f'this is my test id: {id}')"
   ]
  },
  {
   "cell_type": "code",
   "execution_count": 5,
   "id": "b22bd235-f15f-44b4-81b0-9f7c7a76dbde",
   "metadata": {},
   "outputs": [
    {
     "name": "stdout",
     "output_type": "stream",
     "text": [
      "this is my test id: 4\n"
     ]
    }
   ],
   "source": [
    "test(4)"
   ]
  },
  {
   "cell_type": "code",
   "execution_count": 6,
   "id": "3ad797c1-1b7e-45bf-bcc4-9e133d0b3b3f",
   "metadata": {},
   "outputs": [
    {
     "name": "stdout",
     "output_type": "stream",
     "text": [
      "this is my test id: 10\n"
     ]
    }
   ],
   "source": [
    "test(10)"
   ]
  },
  {
   "cell_type": "code",
   "execution_count": 7,
   "id": "700d0bca-f648-4ed1-a9ca-9781914533fd",
   "metadata": {},
   "outputs": [
    {
     "name": "stdout",
     "output_type": "stream",
     "text": [
      "this is my test id: 5\n"
     ]
    }
   ],
   "source": [
    "test(5)"
   ]
  },
  {
   "cell_type": "code",
   "execution_count": 8,
   "id": "5400935c-07f5-4147-885d-1f9d8a9c6e9b",
   "metadata": {},
   "outputs": [],
   "source": [
    "#how to execute all above simulataneously?"
   ]
  },
  {
   "cell_type": "code",
   "execution_count": 15,
   "id": "a7f8da3d-41a2-4745-9f0b-5387d0cebcb3",
   "metadata": {},
   "outputs": [],
   "source": [
    "thread = [threading.Thread(target=test,args=(i,)) for i in [4,10,5] ]"
   ]
  },
  {
   "cell_type": "code",
   "execution_count": 16,
   "id": "88e7260f-2ad7-4dc5-b0de-bb56890875b9",
   "metadata": {},
   "outputs": [
    {
     "data": {
      "text/plain": [
       "[<Thread(Thread-8 (test), initial)>,\n",
       " <Thread(Thread-9 (test), initial)>,\n",
       " <Thread(Thread-10 (test), initial)>]"
      ]
     },
     "execution_count": 16,
     "metadata": {},
     "output_type": "execute_result"
    }
   ],
   "source": [
    "thread"
   ]
  },
  {
   "cell_type": "code",
   "execution_count": 17,
   "id": "e3a9804f-5aef-46ff-8f00-db30ac236448",
   "metadata": {},
   "outputs": [
    {
     "name": "stdout",
     "output_type": "stream",
     "text": [
      "this is my test id: 4\n",
      "this is my test id: 10\n",
      "this is my test id: 5\n"
     ]
    }
   ],
   "source": [
    "#all these are exceuted in same core\n",
    "for t in thread:\n",
    "    t.start()"
   ]
  },
  {
   "cell_type": "code",
   "execution_count": 18,
   "id": "60cbf8b2-2870-42a7-8242-ea1aa6580d9b",
   "metadata": {},
   "outputs": [],
   "source": [
    "#to import file from an external url\n",
    "import urllib.request\n",
    "\n",
    "def file_download(url,filename):\n",
    "    urllib.request.urlretrieve(url, filename)"
   ]
  },
  {
   "cell_type": "code",
   "execution_count": 19,
   "id": "15494c03-4a37-4390-99e6-4b877a858a85",
   "metadata": {},
   "outputs": [],
   "source": [
    "#see example on how to download multiple files at once - refer resource nb"
   ]
  },
  {
   "cell_type": "code",
   "execution_count": 20,
   "id": "8ec067c5-6d0c-43e1-9b18-8567f87ce3f7",
   "metadata": {},
   "outputs": [],
   "source": [
    "import time"
   ]
  },
  {
   "cell_type": "code",
   "execution_count": 27,
   "id": "1c83f8a0-f188-457d-a483-6231282510b5",
   "metadata": {},
   "outputs": [],
   "source": [
    "def test2(x):\n",
    "    for i in range(10):\n",
    "        print(f'test2 print the value of x: {x} and print the value of i: {i}')\n",
    "        time.sleep(1)"
   ]
  },
  {
   "cell_type": "code",
   "execution_count": 28,
   "id": "5854a1c5-2cc5-4d96-a73e-0dd5a5b4db50",
   "metadata": {},
   "outputs": [],
   "source": [
    "thread2 = [threading.Thread(target=test2, args=(i,)) for i in [100,10,20,5]]"
   ]
  },
  {
   "cell_type": "code",
   "execution_count": 29,
   "id": "9c86400f-d2a4-4b05-9680-2cd58863cc27",
   "metadata": {},
   "outputs": [
    {
     "name": "stdout",
     "output_type": "stream",
     "text": [
      "test2 print the value of x: 100 and print the value of i: 0\n",
      "test2 print the value of x: 10 and print the value of i: 0\n",
      "test2 print the value of x: 20 and print the value of i: 0\n",
      "test2 print the value of x: 5 and print the value of i: 0\n",
      "test2 print the value of x: 100 and print the value of i: 1\n",
      "test2 print the value of x: 20 and print the value of i: 1\n",
      "test2 print the value of x: 10 and print the value of i: 1\n",
      "test2 print the value of x: 5 and print the value of i: 1\n",
      "test2 print the value of x: 100 and print the value of i: 2\n",
      "test2 print the value of x: 20 and print the value of i: 2\n",
      "test2 print the value of x: 10 and print the value of i: 2\n",
      "test2 print the value of x: 5 and print the value of i: 2\n",
      "test2 print the value of x: 100 and print the value of i: 3\n",
      "test2 print the value of x: 20 and print the value of i: 3\n",
      "test2 print the value of x: 10 and print the value of i: 3\n",
      "test2 print the value of x: 5 and print the value of i: 3\n",
      "test2 print the value of x: 100 and print the value of i: 4\n",
      "test2 print the value of x: 20 and print the value of i: 4\n",
      "test2 print the value of x: 10 and print the value of i: 4\n",
      "test2 print the value of x: 5 and print the value of i: 4\n",
      "test2 print the value of x: 100 and print the value of i: 5\n",
      "test2 print the value of x: 20 and print the value of i: 5\n",
      "test2 print the value of x: 10 and print the value of i: 5\n",
      "test2 print the value of x: 5 and print the value of i: 5\n",
      "test2 print the value of x: 100 and print the value of i: 6\n",
      "test2 print the value of x: 20 and print the value of i: 6\n",
      "test2 print the value of x: 10 and print the value of i: 6\n",
      "test2 print the value of x: 5 and print the value of i: 6\n",
      "test2 print the value of x: 100 and print the value of i: 7\n",
      "test2 print the value of x: 20 and print the value of i: 7\n",
      "test2 print the value of x: 10 and print the value of i: 7\n",
      "test2 print the value of x: 5 and print the value of i: 7\n",
      "test2 print the value of x: 100 and print the value of i: 8\n",
      "test2 print the value of x: 20 and print the value of i: 8\n",
      "test2 print the value of x: 10 and print the value of i: 8\n",
      "test2 print the value of x: 5 and print the value of i: 8\n",
      "test2 print the value of x: 100 and print the value of i: 9\n",
      "test2 print the value of x: 20 and print the value of i: 9\n",
      "test2 print the value of x: 10 and print the value of i: 9\n",
      "test2 print the value of x: 5 and print the value of i: 9\n"
     ]
    }
   ],
   "source": [
    "for t in thread2:\n",
    "    t.start()"
   ]
  },
  {
   "cell_type": "code",
   "execution_count": 25,
   "id": "0e381f93-cc33-48f2-9152-795147599c72",
   "metadata": {},
   "outputs": [
    {
     "name": "stdout",
     "output_type": "stream",
     "text": [
      "test2 print the value of x: 10 and print the value of i: 0\n",
      "test2 print the value of x: 10 and print the value of i: 1\n",
      "test2 print the value of x: 10 and print the value of i: 2\n",
      "test2 print the value of x: 10 and print the value of i: 3\n",
      "test2 print the value of x: 10 and print the value of i: 4\n",
      "test2 print the value of x: 10 and print the value of i: 5\n",
      "test2 print the value of x: 10 and print the value of i: 6\n",
      "test2 print the value of x: 10 and print the value of i: 7\n",
      "test2 print the value of x: 10 and print the value of i: 8\n",
      "test2 print the value of x: 10 and print the value of i: 9\n"
     ]
    }
   ],
   "source": [
    "test2(10)"
   ]
  },
  {
   "cell_type": "code",
   "execution_count": 37,
   "id": "aeff7f96-960a-4666-b992-637e0883b559",
   "metadata": {},
   "outputs": [
    {
     "name": "stdout",
     "output_type": "stream",
     "text": [
      "value of x: 1, value of shared_var: 1\n",
      "value of x: 2, value of shared_var: 2\n",
      "value of x: 3, value of shared_var: 3\n",
      "value of x: 4, value of shared_var: 4\n",
      "value of x: 5, value of shared_var: 5\n"
     ]
    }
   ],
   "source": [
    "shared_var = 0\n",
    "lock_var = threading.Lock()\n",
    "\n",
    "def test4(x):\n",
    "    global shared_var\n",
    "    with lock_var:\n",
    "        shared_var+=1\n",
    "        print(f'value of x: {x}, value of shared_var: {shared_var}')\n",
    "        time.sleep(1)\n",
    "        \n",
    "thread5 = [threading.Thread(target=test4, args=(i,)) for i in [1,2,3,4,5]]\n",
    "\n",
    "for t in thread5:\n",
    "    t.start()"
   ]
  },
  {
   "cell_type": "code",
   "execution_count": null,
   "id": "666bcae5-85ea-49d9-b767-7434f2ffc2f2",
   "metadata": {},
   "outputs": [],
   "source": []
  }
 ],
 "metadata": {
  "kernelspec": {
   "display_name": "Python 3 (ipykernel)",
   "language": "python",
   "name": "python3"
  },
  "language_info": {
   "codemirror_mode": {
    "name": "ipython",
    "version": 3
   },
   "file_extension": ".py",
   "mimetype": "text/x-python",
   "name": "python",
   "nbconvert_exporter": "python",
   "pygments_lexer": "ipython3",
   "version": "3.10.8"
  }
 },
 "nbformat": 4,
 "nbformat_minor": 5
}
