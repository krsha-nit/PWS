{
 "cells": [
  {
   "cell_type": "code",
   "execution_count": 1,
   "id": "4763bd21-8e09-47fa-adde-07b88b764d2a",
   "metadata": {},
   "outputs": [],
   "source": [
    "import requests\n",
    "from bs4 import BeautifulSoup\n",
    "from urllib.request import urlopen\n",
    "import logging\n",
    "import os"
   ]
  },
  {
   "cell_type": "code",
   "execution_count": 2,
   "id": "d6a38774-64d0-41a2-b06d-b49198664782",
   "metadata": {},
   "outputs": [],
   "source": [
    "save_dir = 'image/'\n",
    "if not os.path.exists(save_dir):\n",
    "    os.makedirs(save_dir)"
   ]
  },
  {
   "cell_type": "code",
   "execution_count": 3,
   "id": "da9909be-87a8-4cb2-81d9-d3eeac453df7",
   "metadata": {},
   "outputs": [],
   "source": [
    "#to avoid being blocked from google\n",
    "headers = {\"User-Agent\": \"Mozilla/5.0 (Windows NT 10.0; Win64; x64) AppleWebKit/537.36 (KHTML, like Gecko) Chrome/58.0.3029.110 Safari/537.36\"}"
   ]
  },
  {
   "cell_type": "code",
   "execution_count": 4,
   "id": "2d624bf6-c136-43dd-aff1-10ca361a24e5",
   "metadata": {},
   "outputs": [],
   "source": [
    "query = 'barak obama'\n",
    "response = requests.get(f'https://www.google.co.in/search?q={query}&tbm=isch&ved=2ahUKEwiip5Pz0cX9AhXWodgFHVZRDFwQ2-cCegQIABAA&oq=barak+obama&gs_lcp=CgNpbWcQAzIICAAQgAQQsQMyBQgAEIAEMgUIABCABDIFCAAQgAQyBQgAEIAEMgUIABCABDIFCAAQgAQyBQgAEIAEMgUIABCABDIFCAAQgAQ6BAgjECc6BwgAEIAEEBM6BwgjEOoCECc6BAgAEEM6CwgAEIAEELEDEIMBUMgJWNkiYLImaAFwAHgAgAFriAG5CZIBAzQuOJgBAKABAaoBC2d3cy13aXotaW1nsAEKwAEB&sclient=img&ei=D_0EZOLjGtbD4t4P1qKx4AU&bih=577&biw=1280')"
   ]
  },
  {
   "cell_type": "code",
   "execution_count": 5,
   "id": "9e723ad1-f0ed-4f6a-8050-286a18886fc6",
   "metadata": {},
   "outputs": [
    {
     "data": {
      "text/plain": [
       "<Response [200]>"
      ]
     },
     "execution_count": 5,
     "metadata": {},
     "output_type": "execute_result"
    }
   ],
   "source": [
    "response"
   ]
  },
  {
   "cell_type": "code",
   "execution_count": 9,
   "id": "56ebf46c-46f2-4d0a-ad32-9b79ac12831d",
   "metadata": {},
   "outputs": [],
   "source": [
    "soup = BeautifulSoup(response.content,'html.parser')"
   ]
  },
  {
   "cell_type": "code",
   "execution_count": 11,
   "id": "6c7aafc1-26be-4347-a13e-d222be7789fb",
   "metadata": {},
   "outputs": [],
   "source": [
    "image_tags = soup.find_all(\"img\")"
   ]
  },
  {
   "cell_type": "code",
   "execution_count": 12,
   "id": "89d02374-1163-4878-a895-e0d30627ff58",
   "metadata": {},
   "outputs": [],
   "source": [
    "del image_tags[0]"
   ]
  },
  {
   "cell_type": "code",
   "execution_count": 13,
   "id": "0e6b533d-6b1d-4e7f-b81a-e2650787ecbd",
   "metadata": {},
   "outputs": [
    {
     "data": {
      "text/plain": [
       "20"
      ]
     },
     "execution_count": 13,
     "metadata": {},
     "output_type": "execute_result"
    }
   ],
   "source": [
    "len(image_tags)"
   ]
  },
  {
   "cell_type": "code",
   "execution_count": 16,
   "id": "44119aa3-f7f4-40dd-8aeb-594ec6458692",
   "metadata": {},
   "outputs": [],
   "source": [
    "image_data_mongo = []\n",
    "for i in image_tags:\n",
    "    image_url = i['src']\n",
    "    image_data = requests.get(image_url).content\n",
    "    mydict = {'index': image_url, 'image': image_data}\n",
    "    image_data_mongo.append(mydict)\n",
    "    with open(os.path.join(save_dir,f'{query}_{image_tags.index(i)}.jpg'),'wb') as f:\n",
    "        f.write(image_data)"
   ]
  },
  {
   "cell_type": "code",
   "execution_count": null,
   "id": "03fc4f91-5d7a-4605-a5a7-de100963166b",
   "metadata": {},
   "outputs": [],
   "source": []
  }
 ],
 "metadata": {
  "kernelspec": {
   "display_name": "Python 3 (ipykernel)",
   "language": "python",
   "name": "python3"
  },
  "language_info": {
   "codemirror_mode": {
    "name": "ipython",
    "version": 3
   },
   "file_extension": ".py",
   "mimetype": "text/x-python",
   "name": "python",
   "nbconvert_exporter": "python",
   "pygments_lexer": "ipython3",
   "version": "3.10.9"
  }
 },
 "nbformat": 4,
 "nbformat_minor": 5
}
