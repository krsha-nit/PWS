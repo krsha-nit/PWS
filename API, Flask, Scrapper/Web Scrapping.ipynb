{
 "cells": [
  {
   "cell_type": "code",
   "execution_count": 1,
   "id": "82bd1a53-3e52-47bd-9fc0-de5ec2dc5768",
   "metadata": {},
   "outputs": [],
   "source": [
    "import requests\n",
    "from bs4 import BeautifulSoup as bs\n",
    "from urllib.request import urlopen\n",
    "import logging"
   ]
  },
  {
   "cell_type": "code",
   "execution_count": 7,
   "id": "dc62b212-44fd-42fd-8aa1-2cd714c5859b",
   "metadata": {},
   "outputs": [
    {
     "data": {
      "text/plain": [
       "'https://www.flipkart.com/search?q=iphone12pro'"
      ]
     },
     "execution_count": 7,
     "metadata": {},
     "output_type": "execute_result"
    }
   ],
   "source": [
    "#flask get method - I can parameterize product instead of iphone12pro\n",
    "\"https://www.flipkart.com/search?q=\" + \"iphone12pro\""
   ]
  },
  {
   "cell_type": "code",
   "execution_count": 9,
   "id": "910cecd2-a27e-4642-ae3a-56170898eb9d",
   "metadata": {},
   "outputs": [],
   "source": [
    "flipcart_url = \"https://www.flipkart.com/search?q=\" + \"tv\""
   ]
  },
  {
   "cell_type": "code",
   "execution_count": 14,
   "id": "7adc0f15-efeb-4d23-928a-1fd7618d69b0",
   "metadata": {},
   "outputs": [],
   "source": [
    "urlclient = urlopen(flipcart_url)"
   ]
  },
  {
   "cell_type": "code",
   "execution_count": 15,
   "id": "e821b50c-3ff3-4c68-a17c-a53d6ec1cdd9",
   "metadata": {},
   "outputs": [],
   "source": [
    "flipcart_page = urlclient.read() #view page source from the webpage"
   ]
  },
  {
   "cell_type": "code",
   "execution_count": 18,
   "id": "85f358ef-0ed3-46c1-9f80-a9be92aa841a",
   "metadata": {},
   "outputs": [],
   "source": [
    "fk_html = bs(flipcart_page, 'html.parser')"
   ]
  },
  {
   "cell_type": "code",
   "execution_count": 20,
   "id": "4f81ea04-444d-4c80-8fb2-6f4d634a00f8",
   "metadata": {},
   "outputs": [],
   "source": [
    "a = \"/apple-iphone-12-pro-gold-512-gb/p/itm157b3be191fd1?pid=MOBFWBYZGKFYVTWH&amp;lid=LSTMOBFWBYZGKFYVTWHR65UKC&amp;marketplace=FLIPKART&amp;q=iphone12pro&amp;store=tyy%2F4io&amp;srno=s_1_1&amp;otracker=search&amp;iid=06d72a69-4950-4abf-9329-5f101b648c29.MOBFWBYZGKFYVTWH.SEARCH&amp;ssid=19kgeqzvs00000001677978104295&amp;qH=712933e6bd68e7b9\""
   ]
  },
  {
   "cell_type": "code",
   "execution_count": 22,
   "id": "1df62ff5-ca2d-4d28-aa70-80c92f1eb82a",
   "metadata": {},
   "outputs": [
    {
     "data": {
      "text/plain": [
       "'flipkart.com/apple-iphone-12-pro-gold-512-gb/p/itm157b3be191fd1?pid=MOBFWBYZGKFYVTWH&amp;lid=LSTMOBFWBYZGKFYVTWHR65UKC&amp;marketplace=FLIPKART&amp;q=iphone12pro&amp;store=tyy%2F4io&amp;srno=s_1_1&amp;otracker=search&amp;iid=06d72a69-4950-4abf-9329-5f101b648c29.MOBFWBYZGKFYVTWH.SEARCH&amp;ssid=19kgeqzvs00000001677978104295&amp;qH=712933e6bd68e7b9'"
      ]
     },
     "execution_count": 22,
     "metadata": {},
     "output_type": "execute_result"
    }
   ],
   "source": [
    "\"flipkart.com\"+a"
   ]
  },
  {
   "cell_type": "code",
   "execution_count": 24,
   "id": "951a45a8-6dcc-40b4-909e-f54d1992a36b",
   "metadata": {},
   "outputs": [],
   "source": [
    "bigbox = fk_html.find_all(\"div\", {\"class\":\"_1AtVbE col-12-12\"})"
   ]
  },
  {
   "cell_type": "code",
   "execution_count": 25,
   "id": "dffda2cb-9042-4f81-a2f7-b83205e06b97",
   "metadata": {},
   "outputs": [
    {
     "data": {
      "text/plain": [
       "30"
      ]
     },
     "execution_count": 25,
     "metadata": {},
     "output_type": "execute_result"
    }
   ],
   "source": [
    "len(bigbox)"
   ]
  },
  {
   "cell_type": "code",
   "execution_count": 27,
   "id": "c8e26dc9-468c-4914-94d0-19436e85d452",
   "metadata": {},
   "outputs": [],
   "source": [
    "#del first 3 rows as those contain headers\n",
    "del bigbox[0:3]"
   ]
  },
  {
   "cell_type": "code",
   "execution_count": 33,
   "id": "cae43a6b-5971-4a9c-b6d0-7b03889a125c",
   "metadata": {},
   "outputs": [
    {
     "data": {
      "text/plain": [
       "'/mi-5a-80-cm-32-inch-hd-ready-led-smart-android-tv-dolby-audio-2022-model/p/itm98501ffa297ba?pid=TVSGD5CS2SDUUZGN&lid=LSTTVSGD5CS2SDUUZGNWGZUUA&marketplace=FLIPKART&q=tv&store=ckf%2Fczl&srno=s_1_2&otracker=search&fm=organic&iid=4eb19e32-1c97-46dd-838e-c9cba728b2b9.TVSGD5CS2SDUUZGN.SEARCH&ppt=None&ppn=None&ssid=rfvplq0msw0000001677977972712&qH=c9a1fdac6e082dd8'"
      ]
     },
     "execution_count": 33,
     "metadata": {},
     "output_type": "execute_result"
    }
   ],
   "source": [
    "bigbox[0].div.div.div.a['href']"
   ]
  },
  {
   "cell_type": "code",
   "execution_count": 35,
   "id": "af389aa3-af01-4f06-9e5d-c9e924625f03",
   "metadata": {},
   "outputs": [
    {
     "name": "stdout",
     "output_type": "stream",
     "text": [
      "https://flipkart.com/mi-5a-80-cm-32-inch-hd-ready-led-smart-android-tv-dolby-audio-2022-model/p/itm98501ffa297ba?pid=TVSGD5CS2SDUUZGN&lid=LSTTVSGD5CS2SDUUZGNWGZUUA&marketplace=FLIPKART&q=tv&store=ckf%2Fczl&srno=s_1_2&otracker=search&fm=organic&iid=4eb19e32-1c97-46dd-838e-c9cba728b2b9.TVSGD5CS2SDUUZGN.SEARCH&ppt=None&ppn=None&ssid=rfvplq0msw0000001677977972712&qH=c9a1fdac6e082dd8\n",
      "https://flipkart.com/samsung-80-cm-32-inch-hd-ready-led-smart-tizen-tv-2022-model/p/itm3c07ddc2dd25d?pid=TVSGHY2UZA9YHWQN&lid=LSTTVSGHY2UZA9YHWQNNQENTU&marketplace=FLIPKART&q=tv&store=ckf%2Fczl&spotlightTagId=BestsellerId_ckf%2Fczl&srno=s_1_3&otracker=search&fm=organic&iid=4eb19e32-1c97-46dd-838e-c9cba728b2b9.TVSGHY2UZA9YHWQN.SEARCH&ppt=None&ppn=None&ssid=rfvplq0msw0000001677977972712&qH=c9a1fdac6e082dd8\n",
      "https://flipkart.com/infinix-y1-80-cm-32-inch-hd-ready-led-smart-linux-tv-wall-mount/p/itme5476ca89d1b0?pid=TVSGFGF34GMTB9KF&lid=LSTTVSGFGF34GMTB9KFF9JZPY&marketplace=FLIPKART&q=tv&store=ckf%2Fczl&srno=s_1_4&otracker=search&fm=organic&iid=4eb19e32-1c97-46dd-838e-c9cba728b2b9.TVSGFGF34GMTB9KF.SEARCH&ppt=None&ppn=None&ssid=rfvplq0msw0000001677977972712&qH=c9a1fdac6e082dd8\n",
      "https://flipkart.com/oneplus-y1s-108-cm-43-inch-full-hd-led-smart-android-tv-11-bezel-less-frame/p/itm178846d2e1567?pid=TVSGAXEVSNT3HBQA&lid=LSTTVSGAXEVSNT3HBQAKRCYE0&marketplace=FLIPKART&q=tv&store=ckf%2Fczl&srno=s_1_5&otracker=search&fm=organic&iid=4eb19e32-1c97-46dd-838e-c9cba728b2b9.TVSGAXEVSNT3HBQA.SEARCH&ppt=None&ppn=None&ssid=rfvplq0msw0000001677977972712&qH=c9a1fdac6e082dd8\n",
      "https://flipkart.com/thomson-alpha-80-cm-32-inch-hd-ready-led-smart-linux-tv-30-w-sound-output-bezel-less-design/p/itm0e90bcdadb9c9?pid=TVSGEMQV7R4CMTGA&lid=LSTTVSGEMQV7R4CMTGAN8OZ8J&marketplace=FLIPKART&q=tv&store=ckf%2Fczl&srno=s_1_6&otracker=search&fm=organic&iid=4eb19e32-1c97-46dd-838e-c9cba728b2b9.TVSGEMQV7R4CMTGA.SEARCH&ppt=None&ppn=None&ssid=rfvplq0msw0000001677977972712&qH=c9a1fdac6e082dd8\n",
      "https://flipkart.com/mi-5a-100-cm-40-inch-full-hd-led-smart-android-tv-dolby-audio-2022-model/p/itm6be60be56f52d?pid=TVSGD5CS4N7NWFZD&lid=LSTTVSGD5CS4N7NWFZDDJBZRI&marketplace=FLIPKART&q=tv&store=ckf%2Fczl&srno=s_1_7&otracker=search&fm=organic&iid=4eb19e32-1c97-46dd-838e-c9cba728b2b9.TVSGD5CS4N7NWFZD.SEARCH&ppt=None&ppn=None&ssid=rfvplq0msw0000001677977972712&qH=c9a1fdac6e082dd8\n",
      "https://flipkart.com/acer-series-80-cm-32-inch-hd-ready-led-smart-android-tv-11-1-5gb-ram-2022-model/p/itm5767c4e3d5359?pid=TVSGEYD98YRZGSRU&lid=LSTTVSGEYD98YRZGSRURV7URN&marketplace=FLIPKART&q=tv&store=ckf%2Fczl&srno=s_1_8&otracker=search&fm=organic&iid=4eb19e32-1c97-46dd-838e-c9cba728b2b9.TVSGEYD98YRZGSRU.SEARCH&ppt=None&ppn=None&ssid=rfvplq0msw0000001677977972712&qH=c9a1fdac6e082dd8\n",
      "https://flipkart.com/oneplus-y1s-80-cm-32-inch-hd-ready-led-smart-android-tv-11-bezel-less-frame/p/itm0a39edd7df236?pid=TVSGAXEVXNG9YBUM&lid=LSTTVSGAXEVXNG9YBUMLGWYAS&marketplace=FLIPKART&q=tv&store=ckf%2Fczl&srno=s_1_9&otracker=search&fm=organic&iid=4eb19e32-1c97-46dd-838e-c9cba728b2b9.TVSGAXEVXNG9YBUM.SEARCH&ppt=None&ppn=None&ssid=rfvplq0msw0000001677977972712&qH=c9a1fdac6e082dd8\n",
      "https://flipkart.com/lg-80-cm-32-inch-hd-ready-led-smart-webos-tv/p/itm6207e6d122567?pid=TVSFTW4CSRW8PGDQ&lid=LSTTVSFTW4CSRW8PGDQSZQIO6&marketplace=FLIPKART&q=tv&store=ckf%2Fczl&srno=s_1_10&otracker=search&fm=organic&iid=4eb19e32-1c97-46dd-838e-c9cba728b2b9.TVSFTW4CSRW8PGDQ.SEARCH&ppt=None&ppn=None&ssid=rfvplq0msw0000001677977972712&qH=c9a1fdac6e082dd8\n",
      "https://flipkart.com/samsung-crystal-4k-neo-series-108-cm-43-inch-ultra-hd-4k-led-smart-tizen-tv-black-2022-model/p/itma076c4dd16aa4?pid=TVSGEAGP9GXWCHCX&lid=LSTTVSGEAGP9GXWCHCXSVNDV5&marketplace=FLIPKART&q=tv&store=ckf%2Fczl&srno=s_1_11&otracker=search&fm=organic&iid=4eb19e32-1c97-46dd-838e-c9cba728b2b9.TVSGEAGP9GXWCHCX.SEARCH&ppt=None&ppn=None&ssid=rfvplq0msw0000001677977972712&qH=c9a1fdac6e082dd8\n",
      "https://flipkart.com/realme-100-3-cm-40-inch-full-hd-led-smart-android-tv-11-2022-model/p/itmfbee9155488c1?pid=TVSGDC5CN7XP3KNE&lid=LSTTVSGDC5CN7XP3KNEEXCHTD&marketplace=FLIPKART&q=tv&store=ckf%2Fczl&srno=s_1_12&otracker=search&fm=organic&iid=4eb19e32-1c97-46dd-838e-c9cba728b2b9.TVSGDC5CN7XP3KNE.SEARCH&ppt=None&ppn=None&ssid=rfvplq0msw0000001677977972712&qH=c9a1fdac6e082dd8\n",
      "https://flipkart.com/realme-80-cm-32-inch-hd-ready-led-smart-android-tv/p/itm56d1cf16da75b?pid=TVSFRTJQTZVKTF6Y&lid=LSTTVSFRTJQTZVKTF6YHMHXRW&marketplace=FLIPKART&q=tv&store=ckf%2Fczl&srno=s_1_13&otracker=search&fm=organic&iid=4eb19e32-1c97-46dd-838e-c9cba728b2b9.TVSFRTJQTZVKTF6Y.SEARCH&ppt=None&ppn=None&ssid=rfvplq0msw0000001677977972712&qH=c9a1fdac6e082dd8\n",
      "https://flipkart.com/mi-x-series-108-cm-43-inch-ultra-hd-4k-led-smart-android-tv-dolby-vision-30w-audio-2022-model/p/itm39b39b602f81a?pid=TVSGHEQVGZVTSEBT&lid=LSTTVSGHEQVGZVTSEBT6BSNVA&marketplace=FLIPKART&q=tv&store=ckf%2Fczl&srno=s_1_14&otracker=search&fm=organic&iid=4eb19e32-1c97-46dd-838e-c9cba728b2b9.TVSGHEQVGZVTSEBT.SEARCH&ppt=None&ppn=None&ssid=rfvplq0msw0000001677977972712&qH=c9a1fdac6e082dd8\n",
      "https://flipkart.com/samsung-crystal-4k-108-cm-43-inch-ultra-hd-4k-led-smart-tizen-tv/p/itm7dcfb3cc69fbb?pid=TVSG2CG7F2Y9YUJ3&lid=LSTTVSG2CG7F2Y9YUJ39FS3ZI&marketplace=FLIPKART&q=tv&store=ckf%2Fczl&srno=s_1_15&otracker=search&fm=organic&iid=4eb19e32-1c97-46dd-838e-c9cba728b2b9.TVSG2CG7F2Y9YUJ3.SEARCH&ppt=None&ppn=None&ssid=rfvplq0msw0000001677977972712&qH=c9a1fdac6e082dd8\n",
      "https://flipkart.com/realme-neo-80-cm-32-inch-hd-ready-led-smart-linux-tv/p/itm3493defce7f54?pid=TVSG6EFEFQTYNBMC&lid=LSTTVSG6EFEFQTYNBMCTRC86C&marketplace=FLIPKART&q=tv&store=ckf%2Fczl&srno=s_1_16&otracker=search&fm=organic&iid=4eb19e32-1c97-46dd-838e-c9cba728b2b9.TVSG6EFEFQTYNBMC.SEARCH&ppt=None&ppn=None&ssid=rfvplq0msw0000001677977972712&qH=c9a1fdac6e082dd8\n",
      "https://flipkart.com/oneplus-y1s-pro-138-cm-55-inch-ultra-hd-4k-led-smart-android-tv/p/itm5db9783099cbb?pid=TVSGJUFY5QMMWSU7&lid=LSTTVSGJUFY5QMMWSU7V52T1B&marketplace=FLIPKART&q=tv&store=ckf%2Fczl&srno=s_1_17&otracker=search&fm=organic&iid=4eb19e32-1c97-46dd-838e-c9cba728b2b9.TVSGJUFY5QMMWSU7.SEARCH&ppt=None&ppn=None&ssid=rfvplq0msw0000001677977972712&qH=c9a1fdac6e082dd8\n",
      "https://flipkart.com/iffalcon-tcl-u62-108-cm-43-inch-ultra-hd-4k-led-smart-google-tv/p/itm09fd15fcb7ee8?pid=TVSGGJTQPTRDFDGX&lid=LSTTVSGGJTQPTRDFDGXD1AZGH&marketplace=FLIPKART&q=tv&store=ckf%2Fczl&srno=s_1_18&otracker=search&fm=organic&iid=4eb19e32-1c97-46dd-838e-c9cba728b2b9.TVSGGJTQPTRDFDGX.SEARCH&ppt=None&ppn=None&ssid=rfvplq0msw0000001677977972712&qH=c9a1fdac6e082dd8\n",
      "https://flipkart.com/iffalcon-tcl-f53-79-97-cm-32-inch-hd-ready-led-smart-android-tv-11/p/itmf4e9c6c14ccb0?pid=TVSGCYVJPAJMHGUW&lid=LSTTVSGCYVJPAJMHGUWTE92JA&marketplace=FLIPKART&q=tv&store=ckf%2Fczl&srno=s_1_19&otracker=search&fm=organic&iid=4eb19e32-1c97-46dd-838e-c9cba728b2b9.TVSGCYVJPAJMHGUW.SEARCH&ppt=None&ppn=None&ssid=rfvplq0msw0000001677977972712&qH=c9a1fdac6e082dd8\n",
      "https://flipkart.com/beethosol-80-cm-32-inch-hd-ready-led-smart-android-tv/p/itm8d2b1963a203d?pid=TVSGG79MJVM6CEZV&lid=LSTTVSGG79MJVM6CEZV0GKW4Y&marketplace=FLIPKART&q=tv&store=ckf%2Fczl&srno=s_1_20&otracker=search&fm=organic&iid=4eb19e32-1c97-46dd-838e-c9cba728b2b9.TVSGG79MJVM6CEZV.SEARCH&ppt=None&ppn=None&ssid=rfvplq0msw0000001677977972712&qH=c9a1fdac6e082dd8\n",
      "https://flipkart.com/iffalcon-tcl-f53-100-cm-40-inch-full-hd-led-smart-android-tv-11/p/itm4af56d3acdfc7?pid=TVSGCYVJGZKRMXZE&lid=LSTTVSGCYVJGZKRMXZE32WAPX&marketplace=FLIPKART&q=tv&store=ckf%2Fczl&srno=s_1_21&otracker=search&fm=organic&iid=4eb19e32-1c97-46dd-838e-c9cba728b2b9.TVSGCYVJGZKRMXZE.SEARCH&ppt=None&ppn=None&ssid=rfvplq0msw0000001677977972712&qH=c9a1fdac6e082dd8\n",
      "https://flipkart.com/acer-100-cm-40-inch-full-hd-led-smart-android-tv/p/itmd0bd88d59827f?pid=TVSGHNHVWVGGUQHY&lid=LSTTVSGHNHVWVGGUQHYCG8AJV&marketplace=FLIPKART&q=tv&store=ckf%2Fczl&srno=s_1_22&otracker=search&fm=organic&iid=4eb19e32-1c97-46dd-838e-c9cba728b2b9.TVSGHNHVWVGGUQHY.SEARCH&ppt=None&ppn=None&ssid=rfvplq0msw0000001677977972712&qH=c9a1fdac6e082dd8\n",
      "https://flipkart.com/mi-x-series-125-cm-50-inch-ultra-hd-4k-led-smart-android-tv-dolby-vision-30w-audio-2022-model/p/itm85c3a9fbf7ed0?pid=TVSGHEQV4NQPS6EH&lid=LSTTVSGHEQV4NQPS6EHSZR7FS&marketplace=FLIPKART&q=tv&store=ckf%2Fczl&srno=s_1_23&otracker=search&fm=organic&iid=4eb19e32-1c97-46dd-838e-c9cba728b2b9.TVSGHEQV4NQPS6EH.SEARCH&ppt=None&ppn=None&ssid=rfvplq0msw0000001677977972712&qH=c9a1fdac6e082dd8\n",
      "https://flipkart.com/kodak-x900-80-cm-32-inch-hd-ready-led-tv/p/itmess8c66earkxq?pid=TVSESS8CYCWC6GWJ&lid=LSTTVSESS8CYCWC6GWJ4T0UQ6&marketplace=FLIPKART&q=tv&store=ckf%2Fczl&srno=s_1_24&otracker=search&fm=organic&iid=4eb19e32-1c97-46dd-838e-c9cba728b2b9.TVSESS8CYCWC6GWJ.SEARCH&ppt=None&ppn=None&ssid=rfvplq0msw0000001677977972712&qH=c9a1fdac6e082dd8\n"
     ]
    },
    {
     "ename": "AttributeError",
     "evalue": "'NoneType' object has no attribute 'a'",
     "output_type": "error",
     "traceback": [
      "\u001b[0;31m---------------------------------------------------------------------------\u001b[0m",
      "\u001b[0;31mAttributeError\u001b[0m                            Traceback (most recent call last)",
      "Cell \u001b[0;32mIn[35], line 2\u001b[0m\n\u001b[1;32m      1\u001b[0m \u001b[38;5;28;01mfor\u001b[39;00m i \u001b[38;5;129;01min\u001b[39;00m bigbox:\n\u001b[0;32m----> 2\u001b[0m     \u001b[38;5;28mprint\u001b[39m(\u001b[38;5;124m'\u001b[39m\u001b[38;5;124mhttps://flipkart.com\u001b[39m\u001b[38;5;124m'\u001b[39m \u001b[38;5;241m+\u001b[39m \u001b[43mi\u001b[49m\u001b[38;5;241;43m.\u001b[39;49m\u001b[43mdiv\u001b[49m\u001b[38;5;241;43m.\u001b[39;49m\u001b[43mdiv\u001b[49m\u001b[38;5;241;43m.\u001b[39;49m\u001b[43mdiv\u001b[49m\u001b[38;5;241;43m.\u001b[39;49m\u001b[43ma\u001b[49m[\u001b[38;5;124m'\u001b[39m\u001b[38;5;124mhref\u001b[39m\u001b[38;5;124m'\u001b[39m])\n",
      "\u001b[0;31mAttributeError\u001b[0m: 'NoneType' object has no attribute 'a'"
     ]
    }
   ],
   "source": [
    "for i in bigbox:\n",
    "    print('https://flipkart.com' + i.div.div.div.a['href'])"
   ]
  },
  {
   "cell_type": "code",
   "execution_count": 37,
   "id": "d9c6b4b1-b532-4614-80ef-0b6c08a2c9a5",
   "metadata": {},
   "outputs": [],
   "source": [
    "prod_link = \"https://flipkart.com\"+bigbox[0].div.div.div.a['href']"
   ]
  },
  {
   "cell_type": "code",
   "execution_count": 38,
   "id": "970aa9aa-760a-46e2-8c30-83a46c49be22",
   "metadata": {},
   "outputs": [
    {
     "data": {
      "text/plain": [
       "'https://flipkart.com/mi-5a-80-cm-32-inch-hd-ready-led-smart-android-tv-dolby-audio-2022-model/p/itm98501ffa297ba?pid=TVSGD5CS2SDUUZGN&lid=LSTTVSGD5CS2SDUUZGNWGZUUA&marketplace=FLIPKART&q=tv&store=ckf%2Fczl&srno=s_1_2&otracker=search&fm=organic&iid=4eb19e32-1c97-46dd-838e-c9cba728b2b9.TVSGD5CS2SDUUZGN.SEARCH&ppt=None&ppn=None&ssid=rfvplq0msw0000001677977972712&qH=c9a1fdac6e082dd8'"
      ]
     },
     "execution_count": 38,
     "metadata": {},
     "output_type": "execute_result"
    }
   ],
   "source": [
    "prod_link"
   ]
  },
  {
   "cell_type": "code",
   "execution_count": 39,
   "id": "e6128712-fb8b-4ad7-9c95-64178d9602f1",
   "metadata": {},
   "outputs": [],
   "source": [
    "prod_req = requests.get(prod_link)"
   ]
  },
  {
   "cell_type": "code",
   "execution_count": 44,
   "id": "55aff6a2-5059-4661-8841-b2a50c7593aa",
   "metadata": {},
   "outputs": [],
   "source": [
    "prod_html = bs(prod_req.text,'html.parser')"
   ]
  },
  {
   "cell_type": "code",
   "execution_count": 48,
   "id": "202fd097-067d-462a-86fc-deabedb04f51",
   "metadata": {},
   "outputs": [],
   "source": [
    "comment_box = prod_html.find_all(\"div\",{\"class\":\"_16PBlm\"})"
   ]
  },
  {
   "cell_type": "code",
   "execution_count": 49,
   "id": "1d81422b-fe1d-480a-b327-3fe4659019a1",
   "metadata": {},
   "outputs": [
    {
     "data": {
      "text/plain": [
       "11"
      ]
     },
     "execution_count": 49,
     "metadata": {},
     "output_type": "execute_result"
    }
   ],
   "source": [
    "len(comment_box)"
   ]
  },
  {
   "cell_type": "code",
   "execution_count": 56,
   "id": "9257e510-cf7b-4d19-9e27-50a052a21ade",
   "metadata": {},
   "outputs": [
    {
     "data": {
      "text/plain": [
       "'nishant yadav'"
      ]
     },
     "execution_count": 56,
     "metadata": {},
     "output_type": "execute_result"
    }
   ],
   "source": [
    "comment_box[0].div.div.find_all(\"p\",{'class':\"_2sc7ZR _2V5EHH\"})[0].text"
   ]
  },
  {
   "cell_type": "code",
   "execution_count": 57,
   "id": "dd54b866-4852-4394-9caf-11b1a6702623",
   "metadata": {},
   "outputs": [
    {
     "name": "stdout",
     "output_type": "stream",
     "text": [
      "nishant yadav\n",
      "sai kumar\n",
      "Deepak Rai\n",
      "Flipkart Customer\n",
      "Flipkart Customer\n",
      "SANTHOSH PILLALAMARRI\n",
      "RAJESH HEGDE\n",
      "MANISH THAKURDESAI\n",
      "Shobhit Saxena\n",
      "Ashok kumar\n"
     ]
    },
    {
     "ename": "AttributeError",
     "evalue": "'NoneType' object has no attribute 'div'",
     "output_type": "error",
     "traceback": [
      "\u001b[0;31m---------------------------------------------------------------------------\u001b[0m",
      "\u001b[0;31mAttributeError\u001b[0m                            Traceback (most recent call last)",
      "Cell \u001b[0;32mIn[57], line 2\u001b[0m\n\u001b[1;32m      1\u001b[0m \u001b[38;5;28;01mfor\u001b[39;00m i \u001b[38;5;129;01min\u001b[39;00m comment_box:\n\u001b[0;32m----> 2\u001b[0m     \u001b[38;5;28mprint\u001b[39m(\u001b[43mi\u001b[49m\u001b[38;5;241;43m.\u001b[39;49m\u001b[43mdiv\u001b[49m\u001b[38;5;241;43m.\u001b[39;49m\u001b[43mdiv\u001b[49m\u001b[38;5;241m.\u001b[39mfind_all(\u001b[38;5;124m\"\u001b[39m\u001b[38;5;124mp\u001b[39m\u001b[38;5;124m\"\u001b[39m,{\u001b[38;5;124m'\u001b[39m\u001b[38;5;124mclass\u001b[39m\u001b[38;5;124m'\u001b[39m:\u001b[38;5;124m\"\u001b[39m\u001b[38;5;124m_2sc7ZR _2V5EHH\u001b[39m\u001b[38;5;124m\"\u001b[39m})[\u001b[38;5;241m0\u001b[39m]\u001b[38;5;241m.\u001b[39mtext)\n",
      "\u001b[0;31mAttributeError\u001b[0m: 'NoneType' object has no attribute 'div'"
     ]
    }
   ],
   "source": [
    "for i in comment_box:\n",
    "    print(i.div.div.find_all(\"p\",{'class':\"_2sc7ZR _2V5EHH\"})[0].text)"
   ]
  },
  {
   "cell_type": "code",
   "execution_count": 58,
   "id": "3a3c0dea-be53-4b08-91f7-84c1c8b59260",
   "metadata": {},
   "outputs": [
    {
     "data": {
      "text/plain": [
       "'5'"
      ]
     },
     "execution_count": 58,
     "metadata": {},
     "output_type": "execute_result"
    }
   ],
   "source": [
    "comment_box[0].div.div.div.div.text"
   ]
  },
  {
   "cell_type": "code",
   "execution_count": 59,
   "id": "e33eb815-5c64-4869-af09-5298fc3d51fb",
   "metadata": {},
   "outputs": [
    {
     "name": "stdout",
     "output_type": "stream",
     "text": [
      "5\n",
      "5\n",
      "4\n",
      "4\n",
      "4\n",
      "5\n",
      "5\n",
      "5\n",
      "5\n",
      "5\n"
     ]
    },
    {
     "ename": "AttributeError",
     "evalue": "'NoneType' object has no attribute 'div'",
     "output_type": "error",
     "traceback": [
      "\u001b[0;31m---------------------------------------------------------------------------\u001b[0m",
      "\u001b[0;31mAttributeError\u001b[0m                            Traceback (most recent call last)",
      "Cell \u001b[0;32mIn[59], line 2\u001b[0m\n\u001b[1;32m      1\u001b[0m \u001b[38;5;28;01mfor\u001b[39;00m i \u001b[38;5;129;01min\u001b[39;00m comment_box:\n\u001b[0;32m----> 2\u001b[0m     \u001b[38;5;28mprint\u001b[39m(\u001b[43mi\u001b[49m\u001b[38;5;241;43m.\u001b[39;49m\u001b[43mdiv\u001b[49m\u001b[38;5;241;43m.\u001b[39;49m\u001b[43mdiv\u001b[49m\u001b[38;5;241m.\u001b[39mdiv\u001b[38;5;241m.\u001b[39mdiv\u001b[38;5;241m.\u001b[39mtext)\n",
      "\u001b[0;31mAttributeError\u001b[0m: 'NoneType' object has no attribute 'div'"
     ]
    }
   ],
   "source": [
    "for i in comment_box:\n",
    "    print(i.div.div.div.div.text)"
   ]
  },
  {
   "cell_type": "code",
   "execution_count": 60,
   "id": "b05a65ee-74c6-45e1-a9b6-e2f65d8f9916",
   "metadata": {},
   "outputs": [
    {
     "data": {
      "text/plain": [
       "'Terrific purchase'"
      ]
     },
     "execution_count": 60,
     "metadata": {},
     "output_type": "execute_result"
    }
   ],
   "source": [
    "comment_box[0].div.div.div.p.text"
   ]
  },
  {
   "cell_type": "code",
   "execution_count": 62,
   "id": "3e92b2b0-d086-4fec-8755-af26dd578cc0",
   "metadata": {},
   "outputs": [
    {
     "name": "stdout",
     "output_type": "stream",
     "text": [
      "Terrific purchase\n",
      "Awesome\n",
      "Very Good\n",
      "Delightful\n",
      "Nice product\n",
      "Terrific\n",
      "Highly recommended\n",
      "Highly recommended\n",
      "Excellent\n",
      "Terrific\n"
     ]
    },
    {
     "ename": "AttributeError",
     "evalue": "'NoneType' object has no attribute 'div'",
     "output_type": "error",
     "traceback": [
      "\u001b[0;31m---------------------------------------------------------------------------\u001b[0m",
      "\u001b[0;31mAttributeError\u001b[0m                            Traceback (most recent call last)",
      "Cell \u001b[0;32mIn[62], line 2\u001b[0m\n\u001b[1;32m      1\u001b[0m \u001b[38;5;28;01mfor\u001b[39;00m i \u001b[38;5;129;01min\u001b[39;00m comment_box:\n\u001b[0;32m----> 2\u001b[0m     \u001b[38;5;28mprint\u001b[39m(\u001b[43mi\u001b[49m\u001b[38;5;241;43m.\u001b[39;49m\u001b[43mdiv\u001b[49m\u001b[38;5;241;43m.\u001b[39;49m\u001b[43mdiv\u001b[49m\u001b[38;5;241m.\u001b[39mdiv\u001b[38;5;241m.\u001b[39mp\u001b[38;5;241m.\u001b[39mtext)\n",
      "\u001b[0;31mAttributeError\u001b[0m: 'NoneType' object has no attribute 'div'"
     ]
    }
   ],
   "source": [
    "for i in comment_box:\n",
    "    print(i.div.div.div.p.text)"
   ]
  },
  {
   "cell_type": "code",
   "execution_count": 66,
   "id": "74d02064-14c2-41ee-9b9c-ed9fec96f7b6",
   "metadata": {},
   "outputs": [
    {
     "data": {
      "text/plain": [
       "\"This is a detailed review after 7 days. Please read this if you have problem or concern regarding sound/picture/brightness/sd channels/wifi connectivity/miracast. PICTURE: the picture quality is really amazing. Blacks are really deep. Contrast is pretty good too. No complaints there.  BRIGHTNESS: tv is pretty bright, by default dynamic light is on and it will make your screen dull, just turn it off. I've set it to 25. No screen galre problem.SOUND: tv speakers doesn't have much bass, ide...\""
      ]
     },
     "execution_count": 66,
     "metadata": {},
     "output_type": "execute_result"
    }
   ],
   "source": [
    "comment_box[0].div.div.find_all(\"div\",{\"class\":''})[0].div.text"
   ]
  },
  {
   "cell_type": "code",
   "execution_count": 67,
   "id": "8d629d56-38fe-4c54-b299-ee97dd292160",
   "metadata": {},
   "outputs": [
    {
     "name": "stdout",
     "output_type": "stream",
     "text": [
      "This is a detailed review after 7 days. Please read this if you have problem or concern regarding sound/picture/brightness/sd channels/wifi connectivity/miracast. PICTURE: the picture quality is really amazing. Blacks are really deep. Contrast is pretty good too. No complaints there.  BRIGHTNESS: tv is pretty bright, by default dynamic light is on and it will make your screen dull, just turn it off. I've set it to 25. No screen galre problem.SOUND: tv speakers doesn't have much bass, ide...\n",
      "Super and good quality full HD ,Internet also speed connecting ,it is like one smart phone .full happy and it delivered so speed\n",
      "I m posting review after checking all it's functionalities and settings in 40inch version. Below are the summary points :* Display : looks decent. 4k and full HD content looks satisfying. casted content dispaly quality is below par (also depends on the content you are casting).bezels are thin and are made of plastic which is loosely attached to the display panel. viewing angles are good covers around 150°* Connectivity: impressive , connects to WiFi, Bluetooth , Chromecast smoothly. observ...\n",
      "This Mi TV is superb and value for money .waiting for 10 days just give feedback untill now there is no issuesPros1.picture quality2.sound 3.smart TV4.wifi connectivity and voice searchcons1.no Netflix and some important apps Installation feedback1.The installation was good the technician explain good but he force me to give feedback for him at that time and he is not even request me, he asked my mobile and wants me to open gmail and he typed the feedback for himself and finally a...\n",
      "I love this MI tv good quality with affordable price. it supports 4k video also especially dolby audio is too good suggestions : MI should give the wall hanging stand for free of cost\n",
      "MI is just awesome, obviously value for money.connectivity is super and no flaws noticed in TV till now.if anyone is looking for buy a smart TV in reasonable price then just prefer MI 4A. And finally thank you Flipkart 😊\n",
      "Good product . Best value for money Android smart tvTimely delivery & proper installation done on schedule date . Thanks to FLIPKART  .\n",
      "Really good product. value for money. Smart TV feture are in this price rang wich is great . Picture quality is preeti good , nice view angel. Go for pro model .....\n",
      "PRO is better than previous version. It runs on android. Google play store is preinstalled. The remote runs on bluetooth. Great viewing experience as it is true LED TV. HD channels looks awesome, while SD channels does not looks good due to big screen size.Sound is clear and loud enough, good for music as well.Overall its a value for money product.Delivered and installed on stipulated timelines by flipcart.\n",
      "it very nice mi tv good condition valuable for money but installation tv  to late jeeves.  pictures quality good .sounds effectively nice. can the the mi tv in flipkart it great delvery it on time  it amazing\n"
     ]
    },
    {
     "ename": "AttributeError",
     "evalue": "'NoneType' object has no attribute 'div'",
     "output_type": "error",
     "traceback": [
      "\u001b[0;31m---------------------------------------------------------------------------\u001b[0m",
      "\u001b[0;31mAttributeError\u001b[0m                            Traceback (most recent call last)",
      "Cell \u001b[0;32mIn[67], line 2\u001b[0m\n\u001b[1;32m      1\u001b[0m \u001b[38;5;28;01mfor\u001b[39;00m i \u001b[38;5;129;01min\u001b[39;00m comment_box:\n\u001b[0;32m----> 2\u001b[0m     \u001b[38;5;28mprint\u001b[39m(\u001b[43mi\u001b[49m\u001b[38;5;241;43m.\u001b[39;49m\u001b[43mdiv\u001b[49m\u001b[38;5;241;43m.\u001b[39;49m\u001b[43mdiv\u001b[49m\u001b[38;5;241m.\u001b[39mfind_all(\u001b[38;5;124m\"\u001b[39m\u001b[38;5;124mdiv\u001b[39m\u001b[38;5;124m\"\u001b[39m,{\u001b[38;5;124m\"\u001b[39m\u001b[38;5;124mclass\u001b[39m\u001b[38;5;124m\"\u001b[39m:\u001b[38;5;124m'\u001b[39m\u001b[38;5;124m'\u001b[39m})[\u001b[38;5;241m0\u001b[39m]\u001b[38;5;241m.\u001b[39mdiv\u001b[38;5;241m.\u001b[39mtext)\n",
      "\u001b[0;31mAttributeError\u001b[0m: 'NoneType' object has no attribute 'div'"
     ]
    }
   ],
   "source": [
    "for i in comment_box:\n",
    "    print(i.div.div.find_all(\"div\",{\"class\":''})[0].div.text)"
   ]
  },
  {
   "cell_type": "code",
   "execution_count": null,
   "id": "14e0787d-506b-4ac9-8b17-a128a58ffc56",
   "metadata": {},
   "outputs": [],
   "source": []
  }
 ],
 "metadata": {
  "kernelspec": {
   "display_name": "Python 3 (ipykernel)",
   "language": "python",
   "name": "python3"
  },
  "language_info": {
   "codemirror_mode": {
    "name": "ipython",
    "version": 3
   },
   "file_extension": ".py",
   "mimetype": "text/x-python",
   "name": "python",
   "nbconvert_exporter": "python",
   "pygments_lexer": "ipython3",
   "version": "3.10.8"
  }
 },
 "nbformat": 4,
 "nbformat_minor": 5
}
