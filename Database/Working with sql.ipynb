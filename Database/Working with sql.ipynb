{
 "cells": [
  {
   "cell_type": "markdown",
   "id": "f11a8dd9-62fe-4371-b048-21cfa3dd408a",
   "metadata": {},
   "source": [
    "SQL - mysql, mssql, db2, oracle = Structured data\n",
    "NOSQL (Not only SQL) - MongoDB, cassandra, hbase, influx, Neo4j = Audio, Video, \n",
    "\n",
    "Database = \n",
    "\n"
   ]
  }
 ],
 "metadata": {
  "kernelspec": {
   "display_name": "Python 3 (ipykernel)",
   "language": "python",
   "name": "python3"
  },
  "language_info": {
   "codemirror_mode": {
    "name": "ipython",
    "version": 3
   },
   "file_extension": ".py",
   "mimetype": "text/x-python",
   "name": "python",
   "nbconvert_exporter": "python",
   "pygments_lexer": "ipython3",
   "version": "3.10.8"
  }
 },
 "nbformat": 4,
 "nbformat_minor": 5
}
