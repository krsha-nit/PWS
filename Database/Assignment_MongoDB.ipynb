{
 "cells": [
  {
   "cell_type": "markdown",
   "id": "c0efa21e-57e0-4155-b7f8-84eb284f754f",
   "metadata": {},
   "source": [
    "Q1. What is MongoDB? Explain non-relational databases in short. In which scenarios it is preferred to use\n",
    "MongoDB over SQL databases?\n",
    "Q2. State and Explain the features of MongoDB.\n",
    "Q3. Write a code to connect MongoDB to Python. Also, create a database and a collection in MongoDB.\n",
    "Q4. Using the database and the collection created in question number 3, write a code to insert one record,\n",
    "and insert many records. Use the find() and find_one() methods to print the inserted record.\n",
    "Q5. Explain how you can use the find() method to query the MongoDB database. Write a simple code to\n",
    "demonstrate this.\n",
    "Q6. Explain the sort() method. Give an example to demonstrate sorting in MongoDB.\n",
    "Q7. Explain why delete_one(), delete_many(), and drop() is used."
   ]
  }
 ],
 "metadata": {
  "kernelspec": {
   "display_name": "Python 3 (ipykernel)",
   "language": "python",
   "name": "python3"
  },
  "language_info": {
   "codemirror_mode": {
    "name": "ipython",
    "version": 3
   },
   "file_extension": ".py",
   "mimetype": "text/x-python",
   "name": "python",
   "nbconvert_exporter": "python",
   "pygments_lexer": "ipython3",
   "version": "3.10.9"
  }
 },
 "nbformat": 4,
 "nbformat_minor": 5
}
