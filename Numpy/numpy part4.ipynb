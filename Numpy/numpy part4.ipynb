{
 "cells": [
  {
   "cell_type": "code",
   "execution_count": 1,
   "id": "ded16fe5-6df0-4e87-8912-81b69c1f56db",
   "metadata": {},
   "outputs": [],
   "source": [
    "#sort, search and Counting functions"
   ]
  },
  {
   "cell_type": "code",
   "execution_count": 2,
   "id": "ca9d2399-fc35-4e29-94ed-f1bbfe496828",
   "metadata": {},
   "outputs": [],
   "source": [
    "import numpy as np"
   ]
  },
  {
   "cell_type": "code",
   "execution_count": 8,
   "id": "73287f06-d002-497d-8b9c-e124c798fb2f",
   "metadata": {},
   "outputs": [],
   "source": [
    "arr = np.array([4,3,2,5,6,7,4])"
   ]
  },
  {
   "cell_type": "code",
   "execution_count": 10,
   "id": "9da204e7-fcb4-493d-a3d7-f61dba1ff28b",
   "metadata": {},
   "outputs": [
    {
     "data": {
      "text/plain": [
       "array([4, 3, 2, 5, 6, 7, 4])"
      ]
     },
     "execution_count": 10,
     "metadata": {},
     "output_type": "execute_result"
    }
   ],
   "source": [
    "np.sort(arr)\n",
    "arr"
   ]
  },
  {
   "cell_type": "code",
   "execution_count": 7,
   "id": "7b3213d3-8565-4b2e-bfa1-6620dd51be58",
   "metadata": {},
   "outputs": [
    {
     "data": {
      "text/plain": [
       "array([2, 3, 4, 4, 5, 6, 7])"
      ]
     },
     "execution_count": 7,
     "metadata": {},
     "output_type": "execute_result"
    }
   ],
   "source": [
    "arr.sort()#sort inplace\n",
    "arr"
   ]
  },
  {
   "cell_type": "code",
   "execution_count": 11,
   "id": "3ba57fc7-66c0-4c4d-9640-17022d5a9d22",
   "metadata": {},
   "outputs": [
    {
     "data": {
      "text/plain": [
       "4"
      ]
     },
     "execution_count": 11,
     "metadata": {},
     "output_type": "execute_result"
    }
   ],
   "source": [
    "np.searchsorted(arr,6)"
   ]
  },
  {
   "cell_type": "code",
   "execution_count": 12,
   "id": "6699e909-37ea-4f31-ba17-52eef853dfd0",
   "metadata": {},
   "outputs": [],
   "source": [
    "arr1 = np.array([0,324,645,65,6,6,0,234])"
   ]
  },
  {
   "cell_type": "code",
   "execution_count": 13,
   "id": "932cd470-2f70-49d4-a206-00951bcf2e17",
   "metadata": {},
   "outputs": [
    {
     "data": {
      "text/plain": [
       "6"
      ]
     },
     "execution_count": 13,
     "metadata": {},
     "output_type": "execute_result"
    }
   ],
   "source": [
    "np.count_nonzero(arr1)"
   ]
  },
  {
   "cell_type": "code",
   "execution_count": 18,
   "id": "0f5310b0-9b4a-4e25-8770-5e5c9b3df429",
   "metadata": {},
   "outputs": [
    {
     "data": {
      "text/plain": [
       "(array([1, 2, 3, 4, 5, 7]),)"
      ]
     },
     "execution_count": 18,
     "metadata": {},
     "output_type": "execute_result"
    }
   ],
   "source": [
    "np.where(arr1>0)#index of the element where condtion is true"
   ]
  },
  {
   "cell_type": "code",
   "execution_count": 20,
   "id": "8906c7c7-483d-40f6-a441-17073eb91c2c",
   "metadata": {},
   "outputs": [
    {
     "data": {
      "text/plain": [
       "array([324, 645,  65,   6,   6, 234])"
      ]
     },
     "execution_count": 20,
     "metadata": {},
     "output_type": "execute_result"
    }
   ],
   "source": [
    "np.extract(arr1>0,arr1)#array where condition is true"
   ]
  },
  {
   "cell_type": "code",
   "execution_count": 21,
   "id": "812b56e8-6220-4795-a60f-5fe4c23c62b2",
   "metadata": {},
   "outputs": [],
   "source": [
    "#byte swapping"
   ]
  },
  {
   "cell_type": "code",
   "execution_count": 22,
   "id": "6bb94246-fe67-4106-9214-3ac675bad092",
   "metadata": {},
   "outputs": [
    {
     "data": {
      "text/plain": [
       "array([  0, 324, 645,  65,   6,   6,   0, 234])"
      ]
     },
     "execution_count": 22,
     "metadata": {},
     "output_type": "execute_result"
    }
   ],
   "source": [
    "arr1"
   ]
  },
  {
   "cell_type": "code",
   "execution_count": 24,
   "id": "a7baba2a-b43b-4ca2-a08b-c688358b9490",
   "metadata": {},
   "outputs": [
    {
     "data": {
      "text/plain": [
       "(array([4, 3, 2, 5, 6, 7, 4]),\n",
       " array([288230376151711744, 216172782113783808, 144115188075855872,\n",
       "        360287970189639680, 432345564227567616, 504403158265495552,\n",
       "        288230376151711744]))"
      ]
     },
     "execution_count": 24,
     "metadata": {},
     "output_type": "execute_result"
    }
   ],
   "source": [
    "arr,arr.byteswap()#inplace = True to get the location"
   ]
  },
  {
   "cell_type": "code",
   "execution_count": 25,
   "id": "a9d0b33f-09e9-424f-9beb-9d5035937d14",
   "metadata": {},
   "outputs": [],
   "source": [
    "#copies and views"
   ]
  },
  {
   "cell_type": "code",
   "execution_count": 27,
   "id": "02e3b71e-c8a0-4e43-84e1-4c4cc7377717",
   "metadata": {},
   "outputs": [
    {
     "data": {
      "text/plain": [
       "(array([-5,  3,  2,  5,  6,  7,  4]), array([-5,  3,  2,  5,  6,  7,  4]))"
      ]
     },
     "execution_count": 27,
     "metadata": {},
     "output_type": "execute_result"
    }
   ],
   "source": [
    "ar = arr\n",
    "arr[0]=-5\n",
    "ar,arr"
   ]
  },
  {
   "cell_type": "code",
   "execution_count": 30,
   "id": "5402def8-fdb4-4b5c-a3ed-235b2c68b050",
   "metadata": {},
   "outputs": [
    {
     "data": {
      "text/plain": [
       "(array([  -5,    3,    2,    5,    6,    7, -100]),\n",
       " array([ -5,   3,   2,   5,   6,   7, -10]))"
      ]
     },
     "execution_count": 30,
     "metadata": {},
     "output_type": "execute_result"
    }
   ],
   "source": [
    "b = arr.copy()\n",
    "arr[-1]= -10\n",
    "b,arr"
   ]
  },
  {
   "cell_type": "code",
   "execution_count": 32,
   "id": "7dbff1a6-527b-4533-b41c-9f2fd447fcc5",
   "metadata": {},
   "outputs": [
    {
     "data": {
      "text/plain": [
       "(array([ -1, 324, 645,  65,   6,   6,   0, 234]),\n",
       " array([ -1, 324, 645,  65,   6,   6,   0, 234]))"
      ]
     },
     "execution_count": 32,
     "metadata": {},
     "output_type": "execute_result"
    }
   ],
   "source": [
    "arr1\n",
    "c=arr1.view() #also a shallow copy\n",
    "arr1[0]=-1\n",
    "arr1,c"
   ]
  },
  {
   "cell_type": "code",
   "execution_count": 33,
   "id": "4c668eb4-452e-4a66-af7d-88da8da403cb",
   "metadata": {},
   "outputs": [],
   "source": [
    "#numpy matrix library"
   ]
  },
  {
   "cell_type": "code",
   "execution_count": 34,
   "id": "406035b4-38e1-47a9-a185-2e93151399a5",
   "metadata": {},
   "outputs": [],
   "source": [
    "import numpy.matlib as nm"
   ]
  },
  {
   "cell_type": "code",
   "execution_count": 35,
   "id": "d40e3a7b-87cd-4a43-ad5e-9b0f1e58f26e",
   "metadata": {},
   "outputs": [
    {
     "data": {
      "text/plain": [
       "matrix([[0., 0., 0., 0., 0.]])"
      ]
     },
     "execution_count": 35,
     "metadata": {},
     "output_type": "execute_result"
    }
   ],
   "source": [
    "nm.zeros(5)"
   ]
  },
  {
   "cell_type": "code",
   "execution_count": 36,
   "id": "3182ab47-3fb1-4d15-8a23-628cb78c9c4a",
   "metadata": {},
   "outputs": [
    {
     "data": {
      "text/plain": [
       "matrix([[1., 1., 1., 1.],\n",
       "        [1., 1., 1., 1.],\n",
       "        [1., 1., 1., 1.]])"
      ]
     },
     "execution_count": 36,
     "metadata": {},
     "output_type": "execute_result"
    }
   ],
   "source": [
    "nm.ones((3,4))"
   ]
  },
  {
   "cell_type": "code",
   "execution_count": 37,
   "id": "c6043cb1-8690-4d4c-b5f1-9fa553b9d83b",
   "metadata": {},
   "outputs": [
    {
     "data": {
      "text/plain": [
       "matrix([[1., 0.],\n",
       "        [0., 1.]])"
      ]
     },
     "execution_count": 37,
     "metadata": {},
     "output_type": "execute_result"
    }
   ],
   "source": [
    "nm.eye(2)"
   ]
  },
  {
   "cell_type": "code",
   "execution_count": 38,
   "id": "f5a6e94f-fe6c-4d6e-b122-8e20223e1774",
   "metadata": {},
   "outputs": [],
   "source": [
    "#linear alebra"
   ]
  },
  {
   "cell_type": "code",
   "execution_count": 41,
   "id": "e4f1bdfe-96bc-4455-87f7-de500e079800",
   "metadata": {},
   "outputs": [
    {
     "data": {
      "text/plain": [
       "(array([[1, 0],\n",
       "        [3, 2]]),\n",
       " array([[0, 1],\n",
       "        [3, 4]]))"
      ]
     },
     "execution_count": 41,
     "metadata": {},
     "output_type": "execute_result"
    }
   ],
   "source": [
    "ar1 = np.random.randint([[2,4],[4,5]]) #np.random.randint(2,4,(4,5))\n",
    "ar2 = np.random.randint([[2,4],[4,5]])\n",
    "ar1,ar2"
   ]
  },
  {
   "cell_type": "code",
   "execution_count": 43,
   "id": "470d3f72-4a99-4395-a381-3b413375aadb",
   "metadata": {},
   "outputs": [
    {
     "data": {
      "text/plain": [
       "array([[ 0,  1],\n",
       "       [ 6, 11]])"
      ]
     },
     "execution_count": 43,
     "metadata": {},
     "output_type": "execute_result"
    }
   ],
   "source": [
    "np.dot(ar1,ar2)"
   ]
  },
  {
   "cell_type": "code",
   "execution_count": 54,
   "id": "bb97dbc7-4f6e-4152-a17a-6f877e864ad0",
   "metadata": {},
   "outputs": [
    {
     "data": {
      "text/plain": [
       "(list, numpy.ndarray)"
      ]
     },
     "execution_count": 54,
     "metadata": {},
     "output_type": "execute_result"
    }
   ],
   "source": [
    "list_ = [ '1' , '2' , '3' , '4' , '5' ]\n",
    "array_list = np.array(object = list_,dtype=int)\n",
    "type(list_),type(array_list)"
   ]
  },
  {
   "cell_type": "code",
   "execution_count": 55,
   "id": "1daf5fa2-bff3-492d-94ef-e4e84885c8d9",
   "metadata": {},
   "outputs": [
    {
     "name": "stdout",
     "output_type": "stream",
     "text": [
      "<class 'str'>\n",
      "<class 'str'>\n",
      "<class 'str'>\n",
      "<class 'str'>\n",
      "<class 'str'>\n"
     ]
    }
   ],
   "source": [
    "for i in list_:\n",
    "    print(type(i))"
   ]
  },
  {
   "cell_type": "code",
   "execution_count": 56,
   "id": "efa6dfe0-6d6e-4a78-8f3f-93fd2e981b42",
   "metadata": {},
   "outputs": [
    {
     "name": "stdout",
     "output_type": "stream",
     "text": [
      "<class 'numpy.int64'>\n",
      "<class 'numpy.int64'>\n",
      "<class 'numpy.int64'>\n",
      "<class 'numpy.int64'>\n",
      "<class 'numpy.int64'>\n"
     ]
    }
   ],
   "source": [
    "for i in array_list:\n",
    "    print(type(i))"
   ]
  },
  {
   "cell_type": "code",
   "execution_count": 57,
   "id": "9460d8fd-aeea-433e-be75-e247d2e48545",
   "metadata": {},
   "outputs": [],
   "source": [
    "num_list = [ [ 1 , 2 , 3 ] , [ 4 , 5 , 6 ] ]\n",
    "num_array = np.array(object = num_list)"
   ]
  },
  {
   "cell_type": "code",
   "execution_count": 59,
   "id": "bb733627-d514-472e-81f6-ea81a22bc1d9",
   "metadata": {},
   "outputs": [
    {
     "data": {
      "text/plain": [
       "((2, 3), 6)"
      ]
     },
     "execution_count": 59,
     "metadata": {},
     "output_type": "execute_result"
    }
   ],
   "source": [
    "num_array.shape,num_array.size"
   ]
  },
  {
   "cell_type": "code",
   "execution_count": null,
   "id": "fe96ed04-101b-42ca-8fe3-e77c3f42d09a",
   "metadata": {},
   "outputs": [],
   "source": []
  }
 ],
 "metadata": {
  "kernelspec": {
   "display_name": "Python 3 (ipykernel)",
   "language": "python",
   "name": "python3"
  },
  "language_info": {
   "codemirror_mode": {
    "name": "ipython",
    "version": 3
   },
   "file_extension": ".py",
   "mimetype": "text/x-python",
   "name": "python",
   "nbconvert_exporter": "python",
   "pygments_lexer": "ipython3",
   "version": "3.10.8"
  }
 },
 "nbformat": 4,
 "nbformat_minor": 5
}
