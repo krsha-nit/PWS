{
 "cells": [
  {
   "cell_type": "code",
   "execution_count": 1,
   "id": "1623320b-80aa-4391-814c-4fa8fa19e21c",
   "metadata": {},
   "outputs": [],
   "source": [
    "import numpy as np"
   ]
  },
  {
   "cell_type": "code",
   "execution_count": 2,
   "id": "c973820c-fb0d-4190-92e3-0e1f3bd9a1a3",
   "metadata": {},
   "outputs": [],
   "source": [
    "#Array manipulation"
   ]
  },
  {
   "cell_type": "code",
   "execution_count": 3,
   "id": "71f68bc5-9607-4dee-ba49-65b937ca7059",
   "metadata": {},
   "outputs": [],
   "source": [
    "arr = np.random.randint(1,10,(4,4))"
   ]
  },
  {
   "cell_type": "code",
   "execution_count": 6,
   "id": "ccd24861-9213-4d09-8642-08455991071d",
   "metadata": {},
   "outputs": [
    {
     "data": {
      "text/plain": [
       "(array([[9, 8],\n",
       "        [5, 6],\n",
       "        [2, 4],\n",
       "        [2, 3],\n",
       "        [5, 5],\n",
       "        [8, 6],\n",
       "        [5, 7],\n",
       "        [3, 8]]),\n",
       " array([[9, 8, 5, 6, 2, 4, 2, 3],\n",
       "        [5, 5, 8, 6, 5, 7, 3, 8]]),\n",
       " array([9, 8, 5, 6, 2, 4, 2, 3, 5, 5, 8, 6, 5, 7, 3, 8]))"
      ]
     },
     "execution_count": 6,
     "metadata": {},
     "output_type": "execute_result"
    }
   ],
   "source": [
    "arr.reshape(8,2),arr.reshape(2,8),arr.reshape(-1)"
   ]
  },
  {
   "cell_type": "code",
   "execution_count": 7,
   "id": "3080ca02-8733-4c47-9fc3-fafb20b06c3e",
   "metadata": {},
   "outputs": [
    {
     "data": {
      "text/plain": [
       "array([[9, 2, 5, 5],\n",
       "       [8, 4, 5, 7],\n",
       "       [5, 2, 8, 3],\n",
       "       [6, 3, 6, 8]])"
      ]
     },
     "execution_count": 7,
     "metadata": {},
     "output_type": "execute_result"
    }
   ],
   "source": [
    "arr.T"
   ]
  },
  {
   "cell_type": "code",
   "execution_count": 8,
   "id": "5ed60fbd-f857-43c3-a210-09fe03b4e6ee",
   "metadata": {},
   "outputs": [
    {
     "data": {
      "text/plain": [
       "(array([9, 8, 5, 6, 2, 4, 2, 3, 5, 5, 8, 6, 5, 7, 3, 8]),\n",
       " array([9, 8, 5, 6, 2, 4, 2, 3, 5, 5, 8, 6, 5, 7, 3, 8]))"
      ]
     },
     "execution_count": 8,
     "metadata": {},
     "output_type": "execute_result"
    }
   ],
   "source": [
    "arr.flatten(),arr.reshape(-1)"
   ]
  },
  {
   "cell_type": "code",
   "execution_count": 9,
   "id": "daa2c46f-f393-497f-8193-03162633783d",
   "metadata": {},
   "outputs": [
    {
     "data": {
      "text/plain": [
       "(array([[[9, 8, 5, 6]],\n",
       " \n",
       "        [[2, 4, 2, 3]],\n",
       " \n",
       "        [[5, 5, 8, 6]],\n",
       " \n",
       "        [[5, 7, 3, 8]]]),\n",
       " array([[[9, 8, 5, 6],\n",
       "         [2, 4, 2, 3],\n",
       "         [5, 5, 8, 6],\n",
       "         [5, 7, 3, 8]]]))"
      ]
     },
     "execution_count": 9,
     "metadata": {},
     "output_type": "execute_result"
    }
   ],
   "source": [
    "np.expand_dims(arr,axis=1),np.expand_dims(arr,axis=0),"
   ]
  },
  {
   "cell_type": "code",
   "execution_count": 11,
   "id": "94862337-9e73-4630-9dd7-4450ec7d271b",
   "metadata": {},
   "outputs": [
    {
     "data": {
      "text/plain": [
       "array([[1],\n",
       "       [2],\n",
       "       [3]])"
      ]
     },
     "execution_count": 11,
     "metadata": {},
     "output_type": "execute_result"
    }
   ],
   "source": [
    "data = np.array([[1],[2],[3]])\n",
    "data"
   ]
  },
  {
   "cell_type": "code",
   "execution_count": 13,
   "id": "3bb8ec5c-7e30-4e0b-b68f-3644ba7443b1",
   "metadata": {},
   "outputs": [
    {
     "data": {
      "text/plain": [
       "array([1, 2, 3])"
      ]
     },
     "execution_count": 13,
     "metadata": {},
     "output_type": "execute_result"
    }
   ],
   "source": [
    "np.squeeze(data) #opposite of expand_dims"
   ]
  },
  {
   "cell_type": "code",
   "execution_count": 15,
   "id": "9dfcb833-7bd7-4658-b767-a1c30ee3a458",
   "metadata": {},
   "outputs": [
    {
     "data": {
      "text/plain": [
       "array([1, 1, 1, 1, 2, 2, 2, 2, 3, 3, 3, 3])"
      ]
     },
     "execution_count": 15,
     "metadata": {},
     "output_type": "execute_result"
    }
   ],
   "source": [
    "np.repeat(data,4)"
   ]
  },
  {
   "cell_type": "code",
   "execution_count": 17,
   "id": "cbe9066f-b10b-4e74-b2c7-021d9470f3e9",
   "metadata": {},
   "outputs": [
    {
     "data": {
      "text/plain": [
       "array([[2],\n",
       "       [3],\n",
       "       [1]])"
      ]
     },
     "execution_count": 17,
     "metadata": {},
     "output_type": "execute_result"
    }
   ],
   "source": [
    "np.roll(data,2) #new position = index+2"
   ]
  },
  {
   "cell_type": "code",
   "execution_count": 20,
   "id": "ec03a101-c41d-43bf-9e8b-85d600cb2542",
   "metadata": {},
   "outputs": [
    {
     "data": {
      "text/plain": [
       "array([[1, 0, 0, 0],\n",
       "       [0, 2, 0, 0],\n",
       "       [0, 0, 3, 0],\n",
       "       [0, 0, 0, 4]])"
      ]
     },
     "execution_count": 20,
     "metadata": {},
     "output_type": "execute_result"
    }
   ],
   "source": [
    "np.diag(np.array([1,2,3,4]))"
   ]
  },
  {
   "cell_type": "code",
   "execution_count": 21,
   "id": "ffc0100f-6170-4831-81d0-0965f500b9fc",
   "metadata": {},
   "outputs": [],
   "source": [
    "#binary operators"
   ]
  },
  {
   "cell_type": "code",
   "execution_count": 23,
   "id": "41f7c6bd-76e2-49fc-8428-e7b87a5283de",
   "metadata": {},
   "outputs": [
    {
     "data": {
      "text/plain": [
       "(array([[4, 7, 3, 7],\n",
       "        [8, 4, 1, 6],\n",
       "        [6, 8, 6, 9]]),\n",
       " array([[1, 9, 6, 4],\n",
       "        [9, 1, 7, 4],\n",
       "        [7, 3, 9, 5]]))"
      ]
     },
     "execution_count": 23,
     "metadata": {},
     "output_type": "execute_result"
    }
   ],
   "source": [
    "arr1 = np.random.randint(1,10,(3,4))\n",
    "arr2 = np.random.randint(1,10,(3,4))\n",
    "arr1,arr2"
   ]
  },
  {
   "cell_type": "code",
   "execution_count": 24,
   "id": "27c2fd1a-f288-44b1-b293-8ea40ac4f0e8",
   "metadata": {},
   "outputs": [
    {
     "data": {
      "text/plain": [
       "(array([[ 5, 16,  9, 11],\n",
       "        [17,  5,  8, 10],\n",
       "        [13, 11, 15, 14]]),\n",
       " array([[ 3, -2, -3,  3],\n",
       "        [-1,  3, -6,  2],\n",
       "        [-1,  5, -3,  4]]),\n",
       " array([[ 4, 63, 18, 28],\n",
       "        [72,  4,  7, 24],\n",
       "        [42, 24, 54, 45]]),\n",
       " array([[4.        , 0.77777778, 0.5       , 1.75      ],\n",
       "        [0.88888889, 4.        , 0.14285714, 1.5       ],\n",
       "        [0.85714286, 2.66666667, 0.66666667, 1.8       ]]),\n",
       " array([[        4,  40353607,       729,      2401],\n",
       "        [134217728,         4,         1,      1296],\n",
       "        [   279936,       512,  10077696,     59049]]))"
      ]
     },
     "execution_count": 24,
     "metadata": {},
     "output_type": "execute_result"
    }
   ],
   "source": [
    "arr1+arr2,arr1-arr2,arr1*arr2,arr1/arr2,arr1**arr2"
   ]
  },
  {
   "cell_type": "code",
   "execution_count": 25,
   "id": "76cee1bd-0b46-44da-92a7-1654ba0313e8",
   "metadata": {},
   "outputs": [
    {
     "data": {
      "text/plain": [
       "(array([[ -5,  -8,  -4,  -8],\n",
       "        [ -9,  -5,  -2,  -7],\n",
       "        [ -7,  -9,  -7, -10]]),\n",
       " array([[ -2, -10,  -7,  -5],\n",
       "        [-10,  -2,  -8,  -5],\n",
       "        [ -8,  -4, -10,  -6]]))"
      ]
     },
     "execution_count": 25,
     "metadata": {},
     "output_type": "execute_result"
    }
   ],
   "source": [
    "~arr1,~arr2"
   ]
  },
  {
   "cell_type": "code",
   "execution_count": 26,
   "id": "897d4f7d-6a96-4ae9-82dd-432a4d57dd61",
   "metadata": {},
   "outputs": [
    {
     "data": {
      "text/plain": [
       "array([[ True, False, False,  True],\n",
       "       [False,  True, False,  True],\n",
       "       [False,  True, False,  True]])"
      ]
     },
     "execution_count": 26,
     "metadata": {},
     "output_type": "execute_result"
    }
   ],
   "source": [
    "arr1>arr2"
   ]
  },
  {
   "cell_type": "code",
   "execution_count": 27,
   "id": "7a6066b6-59d3-41e4-a9e7-76e0ba10cfa3",
   "metadata": {},
   "outputs": [],
   "source": [
    "#string operations"
   ]
  },
  {
   "cell_type": "code",
   "execution_count": 29,
   "id": "c961b0f8-480f-4bcf-90d7-66c10afbeaac",
   "metadata": {},
   "outputs": [
    {
     "data": {
      "text/plain": [
       "array(['ram', 'sam', 'mo'], dtype='<U3')"
      ]
     },
     "execution_count": 29,
     "metadata": {},
     "output_type": "execute_result"
    }
   ],
   "source": [
    "arr = np.array(['ram','sam','mo'])\n",
    "arr"
   ]
  },
  {
   "cell_type": "code",
   "execution_count": 33,
   "id": "91cc662b-7d86-4622-86ab-e6233360d7de",
   "metadata": {},
   "outputs": [
    {
     "data": {
      "text/plain": [
       "(array(['RAM', 'SAM', 'MO'], dtype='<U3'),\n",
       " array(['Ram', 'Sam', 'Mo'], dtype='<U3'),\n",
       " array(['Ram', 'Sam', 'Mo'], dtype='<U3'))"
      ]
     },
     "execution_count": 33,
     "metadata": {},
     "output_type": "execute_result"
    }
   ],
   "source": [
    "np.char.upper(arr),np.char.capitalize(arr),np.char.title(arr)"
   ]
  },
  {
   "cell_type": "code",
   "execution_count": 34,
   "id": "4be0c0aa-4427-475e-900c-2bc8f0c3ab93",
   "metadata": {},
   "outputs": [
    {
     "data": {
      "text/plain": [
       "(array([[-0.7568025 ,  0.6569866 ,  0.14112001,  0.6569866 ],\n",
       "        [ 0.98935825, -0.7568025 ,  0.84147098, -0.2794155 ],\n",
       "        [-0.2794155 ,  0.98935825, -0.2794155 ,  0.41211849]]),\n",
       " array([[-0.65364362,  0.75390225, -0.9899925 ,  0.75390225],\n",
       "        [-0.14550003, -0.65364362,  0.54030231,  0.96017029],\n",
       "        [ 0.96017029, -0.14550003,  0.96017029, -0.91113026]]),\n",
       " array([[ 1.15782128,  0.87144798, -0.14254654,  0.87144798],\n",
       "        [-6.79971146,  1.15782128,  1.55740772, -0.29100619],\n",
       "        [-0.29100619, -6.79971146, -0.29100619, -0.45231566]]),\n",
       " array([[2.        , 2.80735492, 1.5849625 , 2.80735492],\n",
       "        [3.        , 2.        , 0.        , 2.5849625 ],\n",
       "        [2.5849625 , 3.        , 2.5849625 , 3.169925  ]]),\n",
       " array([[5.45981500e+01, 1.09663316e+03, 2.00855369e+01, 1.09663316e+03],\n",
       "        [2.98095799e+03, 5.45981500e+01, 2.71828183e+00, 4.03428793e+02],\n",
       "        [4.03428793e+02, 2.98095799e+03, 4.03428793e+02, 8.10308393e+03]]),\n",
       " array([[ 64, 343,  27, 343],\n",
       "        [512,  64,   1, 216],\n",
       "        [216, 512, 216, 729]]))"
      ]
     },
     "execution_count": 34,
     "metadata": {},
     "output_type": "execute_result"
    }
   ],
   "source": [
    "#mathematical functions\n",
    "np.sin(arr1),np.cos(arr1),np.tan(arr1),np.log2(arr1),np.exp(arr1),np.power(arr1,3)"
   ]
  },
  {
   "cell_type": "code",
   "execution_count": 39,
   "id": "f70dfca3-0baa-4cd2-84ed-ff548cf71f36",
   "metadata": {},
   "outputs": [
    {
     "data": {
      "text/plain": [
       "(1, 9, 5.75, 6.0, 2.2407216099581255, 5.020833333333333)"
      ]
     },
     "execution_count": 39,
     "metadata": {},
     "output_type": "execute_result"
    }
   ],
   "source": [
    "np.min(arr1),np.max(arr1),np.mean(arr1),np.median(arr1),np.std(arr1),np.var(arr1)"
   ]
  },
  {
   "cell_type": "code",
   "execution_count": 44,
   "id": "e941e146-f6af-4081-a16f-17870d02c989",
   "metadata": {},
   "outputs": [
    {
     "data": {
      "text/plain": [
       "(1, 9, 5.75, 2.2407216099581255, 5.020833333333333)"
      ]
     },
     "execution_count": 44,
     "metadata": {},
     "output_type": "execute_result"
    }
   ],
   "source": [
    "arr1.min(),arr1.max(),arr1.mean(),arr1.std(),arr1.var() #arr1.median() doesn't work"
   ]
  },
  {
   "cell_type": "code",
   "execution_count": 45,
   "id": "950421ee-f012-4744-b522-3d091cd4352c",
   "metadata": {},
   "outputs": [],
   "source": [
    "#arthematic operation"
   ]
  },
  {
   "cell_type": "code",
   "execution_count": 46,
   "id": "183ea0e5-164e-4783-a40d-0b58768246ae",
   "metadata": {},
   "outputs": [
    {
     "data": {
      "text/plain": [
       "(array([[4, 7, 3, 7],\n",
       "        [8, 4, 1, 6],\n",
       "        [6, 8, 6, 9]]),\n",
       " array([[1, 9, 6, 4],\n",
       "        [9, 1, 7, 4],\n",
       "        [7, 3, 9, 5]]))"
      ]
     },
     "execution_count": 46,
     "metadata": {},
     "output_type": "execute_result"
    }
   ],
   "source": [
    "arr1,arr2"
   ]
  },
  {
   "cell_type": "code",
   "execution_count": 47,
   "id": "9b167f3f-a6d8-49e1-bc34-0208213e842c",
   "metadata": {},
   "outputs": [
    {
     "data": {
      "text/plain": [
       "(array([[ 3, -2, -3,  3],\n",
       "        [-1,  3, -6,  2],\n",
       "        [-1,  5, -3,  4]]),\n",
       " array([[ 3, -2, -3,  3],\n",
       "        [-1,  3, -6,  2],\n",
       "        [-1,  5, -3,  4]]))"
      ]
     },
     "execution_count": 47,
     "metadata": {},
     "output_type": "execute_result"
    }
   ],
   "source": [
    "arr1-arr2, np.subtract(arr1,arr2)"
   ]
  },
  {
   "cell_type": "code",
   "execution_count": 48,
   "id": "33b79680-daa4-4e69-9250-6750dddd780f",
   "metadata": {},
   "outputs": [
    {
     "data": {
      "text/plain": [
       "(array([[ 4, 63, 18, 28],\n",
       "        [72,  4,  7, 24],\n",
       "        [42, 24, 54, 45]]),\n",
       " array([[ 4, 63, 18, 28],\n",
       "        [72,  4,  7, 24],\n",
       "        [42, 24, 54, 45]]))"
      ]
     },
     "execution_count": 48,
     "metadata": {},
     "output_type": "execute_result"
    }
   ],
   "source": [
    "arr1*arr2,np.multiply(arr1,arr2)"
   ]
  },
  {
   "cell_type": "code",
   "execution_count": 49,
   "id": "97710abc-d591-45aa-a65e-13594ea5d43d",
   "metadata": {},
   "outputs": [
    {
     "data": {
      "text/plain": [
       "(array([[113,  92, 111],\n",
       "        [ 74, 107, 107],\n",
       "        [150, 140, 165]]),\n",
       " array([[113,  92, 111],\n",
       "        [ 74, 107, 107],\n",
       "        [150, 140, 165]]))"
      ]
     },
     "execution_count": 49,
     "metadata": {},
     "output_type": "execute_result"
    }
   ],
   "source": [
    "arr1@arr2.T,np.matmul(arr1,arr2.T)"
   ]
  },
  {
   "cell_type": "code",
   "execution_count": 50,
   "id": "221b882c-655c-4e1b-9dfd-48e3cb6490a3",
   "metadata": {},
   "outputs": [
    {
     "data": {
      "text/plain": [
       "array([[0, 7, 3, 3],\n",
       "       [8, 0, 1, 2],\n",
       "       [6, 2, 6, 4]])"
      ]
     },
     "execution_count": 50,
     "metadata": {},
     "output_type": "execute_result"
    }
   ],
   "source": [
    "np.mod(arr1,arr2)"
   ]
  },
  {
   "cell_type": "code",
   "execution_count": 52,
   "id": "a1842938-67a4-40dc-bb48-3e62d2c88e7f",
   "metadata": {},
   "outputs": [
    {
     "data": {
      "text/plain": [
       "array([[        4,  40353607,       729,      2401],\n",
       "       [134217728,         4,         1,      1296],\n",
       "       [   279936,       512,  10077696,     59049]])"
      ]
     },
     "execution_count": 52,
     "metadata": {},
     "output_type": "execute_result"
    }
   ],
   "source": [
    "np.power(arr1,arr2)"
   ]
  },
  {
   "cell_type": "code",
   "execution_count": 53,
   "id": "1e848140-e8ea-47b5-918e-30dd9f01f12c",
   "metadata": {},
   "outputs": [],
   "source": [
    "#statistical"
   ]
  },
  {
   "cell_type": "code",
   "execution_count": 54,
   "id": "9ea0f015-7cf1-4945-a53c-3d1eb492d03d",
   "metadata": {},
   "outputs": [
    {
     "data": {
      "text/plain": [
       "(5.75, 5.75)"
      ]
     },
     "execution_count": 54,
     "metadata": {},
     "output_type": "execute_result"
    }
   ],
   "source": [
    "np.mean(arr1),arr1.mean()"
   ]
  },
  {
   "cell_type": "code",
   "execution_count": 58,
   "id": "c752e20e-d5e7-4136-b20f-12f0b37f192f",
   "metadata": {},
   "outputs": [
    {
     "data": {
      "text/plain": [
       "(2.2407216099581255, 2.2407216099581255, 5.020833333333333, 5.020833333333333)"
      ]
     },
     "execution_count": 58,
     "metadata": {},
     "output_type": "execute_result"
    }
   ],
   "source": [
    "np.std(arr1),arr1.std(),np.var(arr1),arr1.var()"
   ]
  },
  {
   "cell_type": "code",
   "execution_count": 59,
   "id": "3a1f50bb-0745-4501-8162-ddfdb81099af",
   "metadata": {},
   "outputs": [
    {
     "data": {
      "text/plain": [
       "(6.0,)"
      ]
     },
     "execution_count": 59,
     "metadata": {},
     "output_type": "execute_result"
    }
   ],
   "source": [
    "np.median(arr1),#arr1.median()"
   ]
  },
  {
   "cell_type": "code",
   "execution_count": null,
   "id": "d339470f-cf9a-481e-9a43-df362227b95c",
   "metadata": {},
   "outputs": [],
   "source": []
  }
 ],
 "metadata": {
  "kernelspec": {
   "display_name": "Python 3 (ipykernel)",
   "language": "python",
   "name": "python3"
  },
  "language_info": {
   "codemirror_mode": {
    "name": "ipython",
    "version": 3
   },
   "file_extension": ".py",
   "mimetype": "text/x-python",
   "name": "python",
   "nbconvert_exporter": "python",
   "pygments_lexer": "ipython3",
   "version": "3.10.8"
  }
 },
 "nbformat": 4,
 "nbformat_minor": 5
}
