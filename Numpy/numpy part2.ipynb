{
 "cells": [
  {
   "cell_type": "code",
   "execution_count": 1,
   "id": "8b63f0d6-fa39-49ee-a2a3-f3913d9b5ad3",
   "metadata": {},
   "outputs": [],
   "source": [
    "import numpy as np"
   ]
  },
  {
   "cell_type": "code",
   "execution_count": 3,
   "id": "c18dc978-c04f-4506-8779-7e6c75634d92",
   "metadata": {},
   "outputs": [
    {
     "data": {
      "text/plain": [
       "([0, 1, 2, 3, 4], [0, 1, 2, 3, 4, 5, 6, 7, 8, 9])"
      ]
     },
     "execution_count": 3,
     "metadata": {},
     "output_type": "execute_result"
    }
   ],
   "source": [
    "list(range(5)), list(range(0,10))"
   ]
  },
  {
   "cell_type": "code",
   "execution_count": 5,
   "id": "128e1130-e391-42ff-bd77-8cc950474705",
   "metadata": {},
   "outputs": [
    {
     "ename": "TypeError",
     "evalue": "'float' object cannot be interpreted as an integer",
     "output_type": "error",
     "traceback": [
      "\u001b[0;31m---------------------------------------------------------------------------\u001b[0m",
      "\u001b[0;31mTypeError\u001b[0m                                 Traceback (most recent call last)",
      "Cell \u001b[0;32mIn[5], line 1\u001b[0m\n\u001b[0;32m----> 1\u001b[0m \u001b[38;5;28mlist\u001b[39m(\u001b[38;5;28;43mrange\u001b[39;49m\u001b[43m(\u001b[49m\u001b[38;5;241;43m0.4\u001b[39;49m\u001b[43m,\u001b[49m\u001b[38;5;241;43m10.2\u001b[39;49m\u001b[43m)\u001b[49m)\n",
      "\u001b[0;31mTypeError\u001b[0m: 'float' object cannot be interpreted as an integer"
     ]
    }
   ],
   "source": [
    "list(range(0.4,10.2))"
   ]
  },
  {
   "cell_type": "code",
   "execution_count": 10,
   "id": "fe59c0da-e49f-4832-8d0f-bcebe834ea6c",
   "metadata": {},
   "outputs": [
    {
     "data": {
      "text/plain": [
       "array([0.2, 1. , 1.8, 2.6, 3.4, 4.2, 5. , 5.8, 6.6, 7.4, 8.2, 9. , 9.8])"
      ]
     },
     "execution_count": 10,
     "metadata": {},
     "output_type": "execute_result"
    }
   ],
   "source": [
    "#arange-even a floating point numbers\n",
    "np.arange(5)\n",
    "np.arange(1,10)\n",
    "np.arange(0.2,10.5)\n",
    "np.arange(0.2,10.5,0.8)"
   ]
  },
  {
   "cell_type": "code",
   "execution_count": 11,
   "id": "a97b2720-ad7a-4927-84d7-577f1a20a12f",
   "metadata": {},
   "outputs": [
    {
     "data": {
      "text/plain": [
       "[0.2,\n",
       " 1.0,\n",
       " 1.8,\n",
       " 2.6000000000000005,\n",
       " 3.4000000000000004,\n",
       " 4.2,\n",
       " 5.000000000000001,\n",
       " 5.800000000000001,\n",
       " 6.6000000000000005,\n",
       " 7.4,\n",
       " 8.2,\n",
       " 9.0,\n",
       " 9.8]"
      ]
     },
     "execution_count": 11,
     "metadata": {},
     "output_type": "execute_result"
    }
   ],
   "source": [
    "#to convert to list\n",
    "list(np.arange(0.2,10.5,0.8))"
   ]
  },
  {
   "cell_type": "code",
   "execution_count": 12,
   "id": "0a190ab3-f4c6-4fae-bcc1-8cda1765062a",
   "metadata": {},
   "outputs": [
    {
     "data": {
      "text/plain": [
       "array([1.        , 1.21052632, 1.42105263, 1.63157895, 1.84210526,\n",
       "       2.05263158, 2.26315789, 2.47368421, 2.68421053, 2.89473684,\n",
       "       3.10526316, 3.31578947, 3.52631579, 3.73684211, 3.94736842,\n",
       "       4.15789474, 4.36842105, 4.57894737, 4.78947368, 5.        ])"
      ]
     },
     "execution_count": 12,
     "metadata": {},
     "output_type": "execute_result"
    }
   ],
   "source": [
    "#np.linspace(a,b,n) - equally dividided n numbers between a and b\n",
    "np.linspace(1,5,20)"
   ]
  },
  {
   "cell_type": "code",
   "execution_count": 15,
   "id": "1ea9a5b0-9257-4675-973e-0e5d98c22703",
   "metadata": {},
   "outputs": [
    {
     "data": {
      "text/plain": [
       "array([1.e+01, 1.e+05])"
      ]
     },
     "execution_count": 15,
     "metadata": {},
     "output_type": "execute_result"
    }
   ],
   "source": [
    "#logspace??\n",
    "np.logspace(1,5,2)"
   ]
  },
  {
   "cell_type": "code",
   "execution_count": 16,
   "id": "bf726971-0a0a-4f21-a6a8-88bd35e4394f",
   "metadata": {},
   "outputs": [
    {
     "data": {
      "text/plain": [
       "0.6989700043360189"
      ]
     },
     "execution_count": 16,
     "metadata": {},
     "output_type": "execute_result"
    }
   ],
   "source": [
    "np.log10(5)"
   ]
  },
  {
   "cell_type": "code",
   "execution_count": 21,
   "id": "6dcde508-9202-47b7-b31c-5a5dc17da2c4",
   "metadata": {},
   "outputs": [
    {
     "data": {
      "text/plain": [
       "(array([0., 0., 0., 0., 0.]),\n",
       " array([[0., 0., 0., 0.],\n",
       "        [0., 0., 0., 0.],\n",
       "        [0., 0., 0., 0.]]),\n",
       " array([[[0., 0.],\n",
       "         [0., 0.],\n",
       "         [0., 0.],\n",
       "         [0., 0.]],\n",
       " \n",
       "        [[0., 0.],\n",
       "         [0., 0.],\n",
       "         [0., 0.],\n",
       "         [0., 0.]],\n",
       " \n",
       "        [[0., 0.],\n",
       "         [0., 0.],\n",
       "         [0., 0.],\n",
       "         [0., 0.]]]))"
      ]
     },
     "execution_count": 21,
     "metadata": {},
     "output_type": "execute_result"
    }
   ],
   "source": [
    "np.zeros(5),np.zeros((3,4)),np.zeros((3,4,2))"
   ]
  },
  {
   "cell_type": "code",
   "execution_count": 22,
   "id": "04796c9d-cc2a-4d48-a46f-fcd6ebd4782c",
   "metadata": {},
   "outputs": [
    {
     "data": {
      "text/plain": [
       "array([[[[0., 0., 0., 0., 0.],\n",
       "         [0., 0., 0., 0., 0.],\n",
       "         [0., 0., 0., 0., 0.],\n",
       "         [0., 0., 0., 0., 0.]],\n",
       "\n",
       "        [[0., 0., 0., 0., 0.],\n",
       "         [0., 0., 0., 0., 0.],\n",
       "         [0., 0., 0., 0., 0.],\n",
       "         [0., 0., 0., 0., 0.]]],\n",
       "\n",
       "\n",
       "       [[[0., 0., 0., 0., 0.],\n",
       "         [0., 0., 0., 0., 0.],\n",
       "         [0., 0., 0., 0., 0.],\n",
       "         [0., 0., 0., 0., 0.]],\n",
       "\n",
       "        [[0., 0., 0., 0., 0.],\n",
       "         [0., 0., 0., 0., 0.],\n",
       "         [0., 0., 0., 0., 0.],\n",
       "         [0., 0., 0., 0., 0.]]],\n",
       "\n",
       "\n",
       "       [[[0., 0., 0., 0., 0.],\n",
       "         [0., 0., 0., 0., 0.],\n",
       "         [0., 0., 0., 0., 0.],\n",
       "         [0., 0., 0., 0., 0.]],\n",
       "\n",
       "        [[0., 0., 0., 0., 0.],\n",
       "         [0., 0., 0., 0., 0.],\n",
       "         [0., 0., 0., 0., 0.],\n",
       "         [0., 0., 0., 0., 0.]]]])"
      ]
     },
     "execution_count": 22,
     "metadata": {},
     "output_type": "execute_result"
    }
   ],
   "source": [
    "np.zeros((3,2,4,5))"
   ]
  },
  {
   "cell_type": "code",
   "execution_count": 23,
   "id": "c664e545-4c7d-4e9b-b8a6-8f484de79b3f",
   "metadata": {},
   "outputs": [
    {
     "data": {
      "text/plain": [
       "(array([1., 1., 1.]),\n",
       " array([[1., 1., 1., 1.],\n",
       "        [1., 1., 1., 1.],\n",
       "        [1., 1., 1., 1.]]))"
      ]
     },
     "execution_count": 23,
     "metadata": {},
     "output_type": "execute_result"
    }
   ],
   "source": [
    "np.ones(3),np.ones((3,4))"
   ]
  },
  {
   "cell_type": "code",
   "execution_count": 24,
   "id": "f868ed59-2ab9-402a-b7d9-3a54570b331e",
   "metadata": {},
   "outputs": [
    {
     "data": {
      "text/plain": [
       "(array([[6., 6., 6., 6.],\n",
       "        [6., 6., 6., 6.],\n",
       "        [6., 6., 6., 6.]]),\n",
       " array([[4., 4., 4., 4.],\n",
       "        [4., 4., 4., 4.],\n",
       "        [4., 4., 4., 4.]]),\n",
       " array([[-5., -5., -5., -5.],\n",
       "        [-5., -5., -5., -5.],\n",
       "        [-5., -5., -5., -5.]]))"
      ]
     },
     "execution_count": 24,
     "metadata": {},
     "output_type": "execute_result"
    }
   ],
   "source": [
    "arr = np.ones((3,4))\n",
    "arr+5,arr*4,arr-6"
   ]
  },
  {
   "cell_type": "code",
   "execution_count": 25,
   "id": "844040e9-488b-423c-a7b7-a464a6b19692",
   "metadata": {},
   "outputs": [
    {
     "data": {
      "text/plain": [
       "array([[4.64696028e-310, 0.00000000e+000],\n",
       "       [4.64767058e-310, 4.64767065e-310]])"
      ]
     },
     "execution_count": 25,
     "metadata": {},
     "output_type": "execute_result"
    }
   ],
   "source": [
    "#?empty array where is it used?\n",
    "np.empty((2,2))"
   ]
  },
  {
   "cell_type": "code",
   "execution_count": 27,
   "id": "d9a66ca9-f1a8-4cf8-add9-519bfddecff9",
   "metadata": {},
   "outputs": [
    {
     "data": {
      "text/plain": [
       "array([[1., 0., 0.],\n",
       "       [0., 1., 0.],\n",
       "       [0., 0., 1.]])"
      ]
     },
     "execution_count": 27,
     "metadata": {},
     "output_type": "execute_result"
    }
   ],
   "source": [
    "np.eye(3) #identity matrix - always a square matrix"
   ]
  },
  {
   "cell_type": "code",
   "execution_count": 28,
   "id": "eff02f81-6a7f-4716-98d2-9c731b3a9718",
   "metadata": {},
   "outputs": [],
   "source": [
    "import pandas as pd"
   ]
  },
  {
   "cell_type": "code",
   "execution_count": 29,
   "id": "005bbccb-612f-46f8-8d99-57d79c60b376",
   "metadata": {},
   "outputs": [
    {
     "data": {
      "text/html": [
       "<div>\n",
       "<style scoped>\n",
       "    .dataframe tbody tr th:only-of-type {\n",
       "        vertical-align: middle;\n",
       "    }\n",
       "\n",
       "    .dataframe tbody tr th {\n",
       "        vertical-align: top;\n",
       "    }\n",
       "\n",
       "    .dataframe thead th {\n",
       "        text-align: right;\n",
       "    }\n",
       "</style>\n",
       "<table border=\"1\" class=\"dataframe\">\n",
       "  <thead>\n",
       "    <tr style=\"text-align: right;\">\n",
       "      <th></th>\n",
       "      <th>0</th>\n",
       "      <th>1</th>\n",
       "      <th>2</th>\n",
       "      <th>3</th>\n",
       "    </tr>\n",
       "  </thead>\n",
       "  <tbody>\n",
       "    <tr>\n",
       "      <th>0</th>\n",
       "      <td>1.0</td>\n",
       "      <td>1.0</td>\n",
       "      <td>1.0</td>\n",
       "      <td>1.0</td>\n",
       "    </tr>\n",
       "    <tr>\n",
       "      <th>1</th>\n",
       "      <td>1.0</td>\n",
       "      <td>1.0</td>\n",
       "      <td>1.0</td>\n",
       "      <td>1.0</td>\n",
       "    </tr>\n",
       "    <tr>\n",
       "      <th>2</th>\n",
       "      <td>1.0</td>\n",
       "      <td>1.0</td>\n",
       "      <td>1.0</td>\n",
       "      <td>1.0</td>\n",
       "    </tr>\n",
       "  </tbody>\n",
       "</table>\n",
       "</div>"
      ],
      "text/plain": [
       "     0    1    2    3\n",
       "0  1.0  1.0  1.0  1.0\n",
       "1  1.0  1.0  1.0  1.0\n",
       "2  1.0  1.0  1.0  1.0"
      ]
     },
     "execution_count": 29,
     "metadata": {},
     "output_type": "execute_result"
    }
   ],
   "source": [
    "pd.DataFrame(arr)"
   ]
  },
  {
   "cell_type": "code",
   "execution_count": 33,
   "id": "12b92f9c-92b6-4439-8c26-ab92f1445aa9",
   "metadata": {},
   "outputs": [
    {
     "data": {
      "text/plain": [
       "(array([[0.41520664, 0.51643938, 0.6488833 ],\n",
       "        [0.17196852, 0.7637768 , 0.67174597]]),\n",
       " array([[ 1.50981246, -0.82946582,  0.51406143],\n",
       "        [ 0.00865462, -0.04894416, -0.88177826]]))"
      ]
     },
     "execution_count": 33,
     "metadata": {},
     "output_type": "execute_result"
    }
   ],
   "source": [
    "#randn-from standard normal distribution\n",
    "#rand - Create an array of the given shape and populate it with random samples from a uniform distribution over ``[0, 1)``.\n",
    "np.random.rand(2,3),np.random.randn(2,3)"
   ]
  },
  {
   "cell_type": "code",
   "execution_count": 37,
   "id": "98816088-ca66-4b4a-96d4-2ddabcaf7e2e",
   "metadata": {},
   "outputs": [
    {
     "data": {
      "text/plain": [
       "array([[5, 5, 5],\n",
       "       [5, 5, 5],\n",
       "       [5, 4, 4]])"
      ]
     },
     "execution_count": 37,
     "metadata": {},
     "output_type": "execute_result"
    }
   ],
   "source": [
    "np.random.randint(4,6,(3,3))"
   ]
  },
  {
   "cell_type": "code",
   "execution_count": 38,
   "id": "9fb02fac-55f0-4c88-a781-dcdc28428f56",
   "metadata": {},
   "outputs": [
    {
     "data": {
      "text/plain": [
       "((3, 4), 12)"
      ]
     },
     "execution_count": 38,
     "metadata": {},
     "output_type": "execute_result"
    }
   ],
   "source": [
    "arr.shape,arr.size"
   ]
  },
  {
   "cell_type": "code",
   "execution_count": 45,
   "id": "c66a765b-6d04-4e1d-977d-aead28c4a258",
   "metadata": {},
   "outputs": [
    {
     "data": {
      "text/plain": [
       "array([[[1., 1., 1.],\n",
       "        [1., 1., 1.]],\n",
       "\n",
       "       [[1., 1., 1.],\n",
       "        [1., 1., 1.]]])"
      ]
     },
     "execution_count": 45,
     "metadata": {},
     "output_type": "execute_result"
    }
   ],
   "source": [
    "arr.reshape(4,3) # should always be of same size in able to reshape any array!\n",
    "#if not sure about the array but sure about rows, columns can use -1 or any negative value\n",
    "arr.reshape(6,-1)\n",
    "arr.reshape(-45,6)\n",
    "arr.reshape(2,2,3)"
   ]
  },
  {
   "cell_type": "code",
   "execution_count": 47,
   "id": "46617eae-145b-4e40-8346-9f89a6cf85fd",
   "metadata": {},
   "outputs": [
    {
     "data": {
      "text/plain": [
       "array([[9, 1, 8, 6, 3, 8],\n",
       "       [2, 7, 9, 2, 8, 8],\n",
       "       [9, 3, 1, 2, 9, 9],\n",
       "       [7, 7, 4, 3, 7, 1],\n",
       "       [6, 3, 3, 6, 8, 7]])"
      ]
     },
     "execution_count": 47,
     "metadata": {},
     "output_type": "execute_result"
    }
   ],
   "source": [
    "arr1=np.random.randint(1,10,(5,6))\n",
    "arr1"
   ]
  },
  {
   "cell_type": "code",
   "execution_count": 49,
   "id": "d5c5fbe6-7b5a-48bf-bf33-44d5ada9bc86",
   "metadata": {},
   "outputs": [
    {
     "data": {
      "text/plain": [
       "array([9, 9, 9, 9, 9])"
      ]
     },
     "execution_count": 49,
     "metadata": {},
     "output_type": "execute_result"
    }
   ],
   "source": [
    "#to filter array with value>8\n",
    "arr1>8\n",
    "arr1[arr1>8]"
   ]
  },
  {
   "cell_type": "code",
   "execution_count": 52,
   "id": "720502e7-ace8-444f-9555-45e3da4fbe2d",
   "metadata": {},
   "outputs": [
    {
     "data": {
      "text/plain": [
       "(array([[9, 1],\n",
       "        [2, 7]]),\n",
       " array([[7, 1],\n",
       "        [8, 7]]),\n",
       " array([[9, 1],\n",
       "        [2, 7],\n",
       "        [9, 3]]))"
      ]
     },
     "execution_count": 52,
     "metadata": {},
     "output_type": "execute_result"
    }
   ],
   "source": [
    "arr1[0:2,0:2],arr1[3:5,4:],arr1[:3,:2]"
   ]
  },
  {
   "cell_type": "code",
   "execution_count": 53,
   "id": "1b1f3b2b-942e-438b-9eaa-3a89901e9da2",
   "metadata": {},
   "outputs": [],
   "source": [
    "ar1 = np.random.randint(1,5,(3,3))\n",
    "ar2 = np.random.randint(2,6,(3,3))"
   ]
  },
  {
   "cell_type": "code",
   "execution_count": 57,
   "id": "a0ef5279-3cb2-4a08-8599-b55d7ae7cd04",
   "metadata": {},
   "outputs": [
    {
     "data": {
      "text/plain": [
       "(array([[3, 1, 1],\n",
       "        [1, 4, 4],\n",
       "        [4, 2, 2]]),\n",
       " array([[4, 2, 3],\n",
       "        [3, 2, 3],\n",
       "        [4, 5, 5]]),\n",
       " array([[7, 3, 4],\n",
       "        [4, 6, 7],\n",
       "        [8, 7, 7]]),\n",
       " array([[-1, -1, -2],\n",
       "        [-2,  2,  1],\n",
       "        [ 0, -3, -3]]),\n",
       " array([[12,  2,  3],\n",
       "        [ 3,  8, 12],\n",
       "        [16, 10, 10]]))"
      ]
     },
     "execution_count": 57,
     "metadata": {},
     "output_type": "execute_result"
    }
   ],
   "source": [
    "ar1,ar2,ar1+ar2,ar1-ar2,ar1*ar2 #index wise operation even multiply not matrix mult"
   ]
  },
  {
   "cell_type": "code",
   "execution_count": 58,
   "id": "2e4ff78d-fbc7-4874-a451-0937d79d67d2",
   "metadata": {},
   "outputs": [
    {
     "data": {
      "text/plain": [
       "array([[19, 13, 17],\n",
       "       [32, 30, 35],\n",
       "       [30, 22, 28]])"
      ]
     },
     "execution_count": 58,
     "metadata": {},
     "output_type": "execute_result"
    }
   ],
   "source": [
    "ar1@ar2 #matrix multiplication"
   ]
  },
  {
   "cell_type": "code",
   "execution_count": 60,
   "id": "f92a23e8-ba90-48cc-9761-505babec986a",
   "metadata": {},
   "outputs": [
    {
     "name": "stderr",
     "output_type": "stream",
     "text": [
      "/tmp/ipykernel_106/2492459060.py:1: RuntimeWarning: divide by zero encountered in divide\n",
      "  ar1/0 #does not give error but inf for infinity\n"
     ]
    },
    {
     "data": {
      "text/plain": [
       "array([[inf, inf, inf],\n",
       "       [inf, inf, inf],\n",
       "       [inf, inf, inf]])"
      ]
     },
     "execution_count": 60,
     "metadata": {},
     "output_type": "execute_result"
    }
   ],
   "source": [
    "ar1/0 #does not give error but inf for infinity"
   ]
  },
  {
   "cell_type": "code",
   "execution_count": 63,
   "id": "2cfa1e66-ac60-445e-bf5e-2a543a11ffa1",
   "metadata": {},
   "outputs": [
    {
     "name": "stderr",
     "output_type": "stream",
     "text": [
      "/tmp/ipykernel_106/3887623802.py:1: RuntimeWarning: divide by zero encountered in divide\n",
      "  np.eye(3)/0\n",
      "/tmp/ipykernel_106/3887623802.py:1: RuntimeWarning: invalid value encountered in divide\n",
      "  np.eye(3)/0\n"
     ]
    },
    {
     "data": {
      "text/plain": [
       "array([[inf, nan, nan],\n",
       "       [nan, inf, nan],\n",
       "       [nan, nan, inf]])"
      ]
     },
     "execution_count": 63,
     "metadata": {},
     "output_type": "execute_result"
    }
   ],
   "source": [
    "np.eye(3)/0"
   ]
  },
  {
   "cell_type": "code",
   "execution_count": 64,
   "id": "f2eecdc3-b4fe-45f9-b7d9-ca80d5519adf",
   "metadata": {},
   "outputs": [],
   "source": [
    "#broadcasting\n",
    "ar = np.zeros((3,4))"
   ]
  },
  {
   "cell_type": "code",
   "execution_count": 65,
   "id": "71184510-3919-4bb0-a77c-11e27663ab6f",
   "metadata": {},
   "outputs": [
    {
     "data": {
      "text/plain": [
       "array([[5., 5., 5., 5.],\n",
       "       [5., 5., 5., 5.],\n",
       "       [5., 5., 5., 5.]])"
      ]
     },
     "execution_count": 65,
     "metadata": {},
     "output_type": "execute_result"
    }
   ],
   "source": [
    "ar+5"
   ]
  },
  {
   "cell_type": "code",
   "execution_count": 68,
   "id": "177587e3-7f98-4a4c-b653-5ce93c48884c",
   "metadata": {},
   "outputs": [
    {
     "data": {
      "text/plain": [
       "array([1, 2, 3, 4])"
      ]
     },
     "execution_count": 68,
     "metadata": {},
     "output_type": "execute_result"
    }
   ],
   "source": [
    "a=np.array([1,2,3,4])\n",
    "a"
   ]
  },
  {
   "cell_type": "code",
   "execution_count": 67,
   "id": "d72f8cef-23fa-43b8-b3ab-ac5270b2e07d",
   "metadata": {},
   "outputs": [
    {
     "data": {
      "text/plain": [
       "array([[1., 2., 3., 4.],\n",
       "       [1., 2., 3., 4.],\n",
       "       [1., 2., 3., 4.]])"
      ]
     },
     "execution_count": 67,
     "metadata": {},
     "output_type": "execute_result"
    }
   ],
   "source": [
    "ar+a"
   ]
  },
  {
   "cell_type": "code",
   "execution_count": 73,
   "id": "6c75b117-3e16-4069-9b7b-aac2a72fbcaa",
   "metadata": {},
   "outputs": [
    {
     "data": {
      "text/plain": [
       "(array([[3, 4, 5]]),\n",
       " array([[3],\n",
       "        [4],\n",
       "        [5]]))"
      ]
     },
     "execution_count": 73,
     "metadata": {},
     "output_type": "execute_result"
    }
   ],
   "source": [
    "b = np.array([[3,4,5]])# can't transponse 1-D array\n",
    "b,b.T"
   ]
  },
  {
   "cell_type": "code",
   "execution_count": 75,
   "id": "bab45472-6b39-42e7-ac82-8ebabc527a10",
   "metadata": {},
   "outputs": [
    {
     "data": {
      "text/plain": [
       "array([[3., 3., 3., 3.],\n",
       "       [4., 4., 4., 4.],\n",
       "       [5., 5., 5., 5.]])"
      ]
     },
     "execution_count": 75,
     "metadata": {},
     "output_type": "execute_result"
    }
   ],
   "source": [
    "ar+b.T"
   ]
  },
  {
   "cell_type": "code",
   "execution_count": 84,
   "id": "5f2b05da-8343-43b2-8386-ab2cb23d86e1",
   "metadata": {},
   "outputs": [
    {
     "data": {
      "text/plain": [
       "(array([[1.73205081, 1.73205081, 1.73205081, 1.73205081],\n",
       "        [2.        , 2.        , 2.        , 2.        ],\n",
       "        [2.23606798, 2.23606798, 2.23606798, 2.23606798]]),\n",
       " array([[0.47712125, 0.47712125, 0.47712125, 0.47712125],\n",
       "        [0.60205999, 0.60205999, 0.60205999, 0.60205999],\n",
       "        [0.69897   , 0.69897   , 0.69897   , 0.69897   ]]),\n",
       " array([[ 20.08553692,  20.08553692,  20.08553692,  20.08553692],\n",
       "        [ 54.59815003,  54.59815003,  54.59815003,  54.59815003],\n",
       "        [148.4131591 , 148.4131591 , 148.4131591 , 148.4131591 ]]),\n",
       " 3.0,\n",
       " 5.0,\n",
       " 3.0,\n",
       " 5.0)"
      ]
     },
     "execution_count": 84,
     "metadata": {},
     "output_type": "execute_result"
    }
   ],
   "source": [
    "c=ar+b.T\n",
    "np.sqrt(c),np.log10(c),np.exp(c),np.min(c),np.max(c),c.min(),c.max()"
   ]
  },
  {
   "cell_type": "code",
   "execution_count": null,
   "id": "eb852b87-906e-405f-a70c-6f3f51c38e81",
   "metadata": {},
   "outputs": [],
   "source": []
  }
 ],
 "metadata": {
  "kernelspec": {
   "display_name": "Python 3 (ipykernel)",
   "language": "python",
   "name": "python3"
  },
  "language_info": {
   "codemirror_mode": {
    "name": "ipython",
    "version": 3
   },
   "file_extension": ".py",
   "mimetype": "text/x-python",
   "name": "python",
   "nbconvert_exporter": "python",
   "pygments_lexer": "ipython3",
   "version": "3.10.8"
  }
 },
 "nbformat": 4,
 "nbformat_minor": 5
}
