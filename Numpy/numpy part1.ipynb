{
 "cells": [
  {
   "cell_type": "code",
   "execution_count": 2,
   "id": "4670c8eb-ed80-4c91-9439-aede374d81ea",
   "metadata": {},
   "outputs": [],
   "source": [
    "#Numpy-Numerical python\n",
    "#primariliaryly created for array and matrix manipulation\n",
    "import numpy as np"
   ]
  },
  {
   "cell_type": "code",
   "execution_count": 3,
   "id": "f9497437-b376-494d-afaa-016469659260",
   "metadata": {},
   "outputs": [],
   "source": [
    "l = [1,2,3,4,6]"
   ]
  },
  {
   "cell_type": "code",
   "execution_count": 4,
   "id": "df52a021-7886-48f4-974c-1ff24b336f77",
   "metadata": {},
   "outputs": [
    {
     "data": {
      "text/plain": [
       "numpy.ndarray"
      ]
     },
     "execution_count": 4,
     "metadata": {},
     "output_type": "execute_result"
    }
   ],
   "source": [
    "arr=np.array(l)\n",
    "type(arr)"
   ]
  },
  {
   "cell_type": "code",
   "execution_count": 6,
   "id": "f05faa87-64d5-4376-b99d-c687513feda2",
   "metadata": {},
   "outputs": [
    {
     "data": {
      "text/plain": [
       "array([1, 2, 3, 4, 6])"
      ]
     },
     "execution_count": 6,
     "metadata": {},
     "output_type": "execute_result"
    }
   ],
   "source": [
    "np.asarray(l)#same as np.array()"
   ]
  },
  {
   "cell_type": "code",
   "execution_count": 40,
   "id": "6308de50-dfed-414f-972d-f2cd0281c738",
   "metadata": {},
   "outputs": [],
   "source": [
    "arr1 = np.array([[1,2,3],[4,5,6]])"
   ]
  },
  {
   "cell_type": "code",
   "execution_count": 41,
   "id": "d73c5830-e9cc-4880-aff7-2fc56d93c94c",
   "metadata": {},
   "outputs": [
    {
     "data": {
      "text/plain": [
       "(1, 2)"
      ]
     },
     "execution_count": 41,
     "metadata": {},
     "output_type": "execute_result"
    }
   ],
   "source": [
    "arr.ndim,arr1.ndim"
   ]
  },
  {
   "cell_type": "code",
   "execution_count": 15,
   "id": "602094ba-1885-4c7a-90bd-6d552c835a97",
   "metadata": {},
   "outputs": [
    {
     "name": "stderr",
     "output_type": "stream",
     "text": [
      "/tmp/ipykernel_1202/2246207382.py:1: VisibleDeprecationWarning: Creating an ndarray from ragged nested sequences (which is a list-or-tuple of lists-or-tuples-or ndarrays with different lengths or shapes) is deprecated. If you meant to do this, you must specify 'dtype=object' when creating the ndarray.\n",
      "  arr2 = arr1 = np.array([[1,2,3],[4,5]])\n"
     ]
    },
    {
     "data": {
      "text/plain": [
       "array([list([1, 2, 3]), list([4, 5])], dtype=object)"
      ]
     },
     "execution_count": 15,
     "metadata": {},
     "output_type": "execute_result"
    }
   ],
   "source": [
    "arr2 = arr1 = np.array([[1,2,3],[4,5]])\n",
    "arr2"
   ]
  },
  {
   "cell_type": "code",
   "execution_count": 17,
   "id": "0e0b9ec3-8092-4c2a-8ade-4d748e6dc622",
   "metadata": {},
   "outputs": [
    {
     "data": {
      "text/plain": [
       "matrix([[1, 2, 3, 4, 6]])"
      ]
     },
     "execution_count": 17,
     "metadata": {},
     "output_type": "execute_result"
    }
   ],
   "source": [
    "mat = np.matrix(l)\n",
    "mat"
   ]
  },
  {
   "cell_type": "code",
   "execution_count": 19,
   "id": "9bf415dc-13ac-4aa9-a774-a09d159ade55",
   "metadata": {},
   "outputs": [
    {
     "data": {
      "text/plain": [
       "array([1, 2, 3, 4, 6])"
      ]
     },
     "execution_count": 19,
     "metadata": {},
     "output_type": "execute_result"
    }
   ],
   "source": [
    "np.asanyarray(l)"
   ]
  },
  {
   "cell_type": "code",
   "execution_count": 20,
   "id": "79913317-fbb4-4ac7-ac04-c8fd3d06eb82",
   "metadata": {},
   "outputs": [
    {
     "data": {
      "text/plain": [
       "matrix([[1, 2, 3, 4, 6]])"
      ]
     },
     "execution_count": 20,
     "metadata": {},
     "output_type": "execute_result"
    }
   ],
   "source": [
    "np.asanyarray(mat)"
   ]
  },
  {
   "cell_type": "markdown",
   "id": "75d1a744-6a03-403d-babe-e682d7a3ed90",
   "metadata": {},
   "source": [
    "# shallow copy - numpy\n",
    "A shallow copy of an object is a copy whose properties share the same references (point to the same underlying values) as those of the source object from which the copy was made."
   ]
  },
  {
   "cell_type": "code",
   "execution_count": 24,
   "id": "e378fb0c-8108-415c-856b-4b717fe5ec67",
   "metadata": {},
   "outputs": [
    {
     "data": {
      "text/plain": [
       "(array([100,   2,   3,   4,   6]), array([100,   2,   3,   4,   6]))"
      ]
     },
     "execution_count": 24,
     "metadata": {},
     "output_type": "execute_result"
    }
   ],
   "source": [
    "a = arr\n",
    "a[0] = 100\n",
    "a, arr"
   ]
  },
  {
   "cell_type": "markdown",
   "id": "855fe3f6-a92a-4284-9d83-87c2d5770e18",
   "metadata": {},
   "source": [
    "# Deep Copy\n",
    "A deep copy of an object is a copy whose properties do not share the same references (point to the same underlying values) as those of the source object from which the copy was made."
   ]
  },
  {
   "cell_type": "code",
   "execution_count": 29,
   "id": "fb4e8d50-0906-4ba8-970f-66cdc0b7bfe4",
   "metadata": {},
   "outputs": [
    {
     "data": {
      "text/plain": [
       "(array([1, 2, 3, 4, 6]), array([100,   2,   3,   4,   6]))"
      ]
     },
     "execution_count": 29,
     "metadata": {},
     "output_type": "execute_result"
    }
   ],
   "source": [
    "b=np.copy(arr)\n",
    "b=arr.copy() #same as above\n",
    "b[0] = 1\n",
    "b,arr"
   ]
  },
  {
   "cell_type": "code",
   "execution_count": 30,
   "id": "de967771-1ea7-4508-ae5b-5269b02211b1",
   "metadata": {},
   "outputs": [
    {
     "data": {
      "text/plain": [
       "array([[ True, False, False],\n",
       "       [False,  True, False],\n",
       "       [False, False,  True]])"
      ]
     },
     "execution_count": 30,
     "metadata": {},
     "output_type": "execute_result"
    }
   ],
   "source": [
    "np.fromfunction(lambda i,j: i==j, (3,3))"
   ]
  },
  {
   "cell_type": "code",
   "execution_count": 31,
   "id": "d6edab4f-7154-4f33-8f62-5643e4fb7978",
   "metadata": {},
   "outputs": [
    {
     "data": {
      "text/plain": [
       "array([[0., 0., 0.],\n",
       "       [0., 1., 2.],\n",
       "       [0., 2., 4.]])"
      ]
     },
     "execution_count": 31,
     "metadata": {},
     "output_type": "execute_result"
    }
   ],
   "source": [
    "np.fromfunction(lambda i,j: i*j, (3,3))"
   ]
  },
  {
   "cell_type": "code",
   "execution_count": 33,
   "id": "1461daef-efca-44fa-85eb-73fda849b8fe",
   "metadata": {},
   "outputs": [],
   "source": [
    "iter1 = (i*i for i in range(5))"
   ]
  },
  {
   "cell_type": "code",
   "execution_count": 34,
   "id": "89d9b60c-4ed1-4f8a-ba67-888f8ac79748",
   "metadata": {},
   "outputs": [
    {
     "data": {
      "text/plain": [
       "array([ 0,  1,  4,  9, 16])"
      ]
     },
     "execution_count": 34,
     "metadata": {},
     "output_type": "execute_result"
    }
   ],
   "source": [
    "np.fromiter(iter1,int)"
   ]
  },
  {
   "cell_type": "code",
   "execution_count": 35,
   "id": "8e00d72a-44b1-40f2-a5ce-8e69fc69585b",
   "metadata": {},
   "outputs": [
    {
     "data": {
      "text/plain": [
       "array([23., 45., 56.])"
      ]
     },
     "execution_count": 35,
     "metadata": {},
     "output_type": "execute_result"
    }
   ],
   "source": [
    "np.fromstring('23 45 56',sep= ' ')"
   ]
  },
  {
   "cell_type": "code",
   "execution_count": 38,
   "id": "61aa5d04-6e32-409a-968e-569279767332",
   "metadata": {},
   "outputs": [
    {
     "data": {
      "text/plain": [
       "array([23., 45., 56.])"
      ]
     },
     "execution_count": 38,
     "metadata": {},
     "output_type": "execute_result"
    }
   ],
   "source": [
    "np.fromstring('23, 45, 56',sep= ', ')\n",
    "np.fromstring('23, 45, 56',sep= ',')"
   ]
  },
  {
   "cell_type": "code",
   "execution_count": 47,
   "id": "59b05eec-27d9-4917-9fe5-ad12623221da",
   "metadata": {},
   "outputs": [
    {
     "data": {
      "text/plain": [
       "(array([[1, 2, 3],\n",
       "        [4, 5, 6]]),\n",
       " 2)"
      ]
     },
     "execution_count": 47,
     "metadata": {},
     "output_type": "execute_result"
    }
   ],
   "source": [
    "arr1,arr1.ndim"
   ]
  },
  {
   "cell_type": "code",
   "execution_count": 50,
   "id": "cab91ab9-bb2a-431d-b688-ec991d6be7a0",
   "metadata": {},
   "outputs": [
    {
     "data": {
      "text/plain": [
       "(6, 5)"
      ]
     },
     "execution_count": 50,
     "metadata": {},
     "output_type": "execute_result"
    }
   ],
   "source": [
    "arr1.size, arr.size #no of elements"
   ]
  },
  {
   "cell_type": "code",
   "execution_count": 51,
   "id": "3e7166a9-d393-443e-8d28-b49822a944d5",
   "metadata": {},
   "outputs": [
    {
     "data": {
      "text/plain": [
       "((5,), (2, 3))"
      ]
     },
     "execution_count": 51,
     "metadata": {},
     "output_type": "execute_result"
    }
   ],
   "source": [
    "arr.shape, arr1.shape"
   ]
  },
  {
   "cell_type": "code",
   "execution_count": 52,
   "id": "4cf0c0f2-036c-4280-8146-7a319156ee4c",
   "metadata": {},
   "outputs": [
    {
     "data": {
      "text/plain": [
       "(dtype('int64'), dtype('int64'))"
      ]
     },
     "execution_count": 52,
     "metadata": {},
     "output_type": "execute_result"
    }
   ],
   "source": [
    "arr.dtype, arr1.dtype"
   ]
  },
  {
   "cell_type": "code",
   "execution_count": null,
   "id": "4d8e3b49-86c9-4699-9e85-6513dafc1325",
   "metadata": {},
   "outputs": [],
   "source": []
  }
 ],
 "metadata": {
  "kernelspec": {
   "display_name": "Python 3 (ipykernel)",
   "language": "python",
   "name": "python3"
  },
  "language_info": {
   "codemirror_mode": {
    "name": "ipython",
    "version": 3
   },
   "file_extension": ".py",
   "mimetype": "text/x-python",
   "name": "python",
   "nbconvert_exporter": "python",
   "pygments_lexer": "ipython3",
   "version": "3.10.8"
  }
 },
 "nbformat": 4,
 "nbformat_minor": 5
}
