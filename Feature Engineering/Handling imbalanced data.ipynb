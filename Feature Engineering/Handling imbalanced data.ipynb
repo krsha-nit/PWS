{
 "cells": [
  {
   "cell_type": "code",
   "execution_count": 2,
   "id": "06c1f3b3-0cd2-499d-9ea3-f1d3b4c44c82",
   "metadata": {},
   "outputs": [
    {
     "name": "stdout",
     "output_type": "stream",
     "text": [
      "900 100\n"
     ]
    }
   ],
   "source": [
    "import numpy as np\n",
    "import pandas as pd\n",
    "\n",
    "np.random.seed(123) #for reproducibility\n",
    "\n",
    "#create a df with 2 classes\n",
    "n_samples = 1000\n",
    "class_0_ratio = 0.9\n",
    "n_class_0 = int(n_samples*class_0_ratio)\n",
    "n_class_1 = n_samples - n_class_0\n",
    "print(n_class_0,n_class_1)"
   ]
  },
  {
   "cell_type": "code",
   "execution_count": 4,
   "id": "94849caa-9208-46d0-a2cb-2ce32e64671c",
   "metadata": {},
   "outputs": [],
   "source": [
    "#create df with imbalanced data\n",
    "class_0 = pd.DataFrame({\n",
    "    'feature_1': np.random.normal(loc=0,scale=1,size=n_class_0),\n",
    "    'feature_2': np.random.normal(loc=0,scale=1,size=n_class_0),\n",
    "    'target': [0]*n_class_0\n",
    "})\n",
    "\n",
    "class_1 = pd.DataFrame({\n",
    "    'feature_1': np.random.normal(loc=0,scale=1,size=n_class_1),\n",
    "    'feature_2': np.random.normal(loc=0,scale=1,size=n_class_1),\n",
    "    'target': [1]*n_class_1\n",
    "})\n",
    "\n",
    "df = pd.concat([class_0,class_1]).reset_index(drop=True)"
   ]
  },
  {
   "cell_type": "code",
   "execution_count": 7,
   "id": "a546d7ec-c10c-40fd-ba75-c9f51169873a",
   "metadata": {},
   "outputs": [
    {
     "data": {
      "text/plain": [
       "(   feature_1  feature_2  target\n",
       " 0  -1.085631   0.551302       0\n",
       " 1   0.997345   0.419589       0\n",
       " 2   0.282978   1.815652       0\n",
       " 3  -1.506295  -0.252750       0\n",
       " 4  -0.578600  -0.292004       0,\n",
       "      feature_1  feature_2  target\n",
       " 995  -0.623629   0.845701       1\n",
       " 996   0.239810  -1.119923       1\n",
       " 997  -0.868240  -0.359297       1\n",
       " 998   0.902006  -1.609695       1\n",
       " 999   0.697490   0.013570       1,\n",
       " 0    900\n",
       " 1    100\n",
       " Name: target, dtype: int64)"
      ]
     },
     "execution_count": 7,
     "metadata": {},
     "output_type": "execute_result"
    }
   ],
   "source": [
    "df.head(),df.tail(),df['target'].value_counts()"
   ]
  },
  {
   "cell_type": "code",
   "execution_count": 8,
   "id": "f9c098b6-4570-4c9c-94de-06df19206067",
   "metadata": {},
   "outputs": [],
   "source": [
    "#upsampling\n",
    "df_minority = df[df.target ==1]\n",
    "df_majority = df[df.target ==0]"
   ]
  },
  {
   "cell_type": "code",
   "execution_count": 9,
   "id": "b04e1194-fe9b-45e9-a5af-9ed7d3bbc73b",
   "metadata": {},
   "outputs": [],
   "source": [
    "from sklearn.utils import resample"
   ]
  },
  {
   "cell_type": "code",
   "execution_count": 11,
   "id": "85990681-3e49-427d-80ab-8f75bdcd2523",
   "metadata": {},
   "outputs": [],
   "source": [
    "df_minority_upsampled = resample(df_minority,replace=True, #sample with replacement, bootstrap\n",
    "         n_samples=len(df_majority),\n",
    "         random_state = 123\n",
    "        )"
   ]
  },
  {
   "cell_type": "code",
   "execution_count": 13,
   "id": "9ca7c4fb-90a7-425e-a26c-b0c1f7ff61e7",
   "metadata": {},
   "outputs": [
    {
     "data": {
      "text/plain": [
       "((900, 3),\n",
       " 1    900\n",
       " Name: target, dtype: int64)"
      ]
     },
     "execution_count": 13,
     "metadata": {},
     "output_type": "execute_result"
    }
   ],
   "source": [
    "df_minority_upsampled.shape,df_minority_upsampled['target'].value_counts()"
   ]
  },
  {
   "cell_type": "code",
   "execution_count": 15,
   "id": "54b9a029-fab1-4443-81e4-3278b0585292",
   "metadata": {},
   "outputs": [],
   "source": [
    "df_upsampled = pd.concat([df_majority,df_minority_upsampled])"
   ]
  },
  {
   "cell_type": "code",
   "execution_count": 16,
   "id": "6a22b5cf-93ed-4b90-8282-582ab385813c",
   "metadata": {},
   "outputs": [
    {
     "data": {
      "text/plain": [
       "0    900\n",
       "1    900\n",
       "Name: target, dtype: int64"
      ]
     },
     "execution_count": 16,
     "metadata": {},
     "output_type": "execute_result"
    }
   ],
   "source": [
    "df_upsampled['target'].value_counts()"
   ]
  },
  {
   "cell_type": "code",
   "execution_count": 17,
   "id": "04df7b1e-2da7-459d-bc7f-e9b4a4677815",
   "metadata": {},
   "outputs": [],
   "source": [
    "#downsampling"
   ]
  },
  {
   "cell_type": "code",
   "execution_count": 18,
   "id": "07534504-02c8-43d2-a6d7-fc5d1eff3c35",
   "metadata": {},
   "outputs": [],
   "source": [
    "#create df with imbalanced data\n",
    "class_0 = pd.DataFrame({\n",
    "    'feature_1': np.random.normal(loc=0,scale=1,size=n_class_0),\n",
    "    'feature_2': np.random.normal(loc=0,scale=1,size=n_class_0),\n",
    "    'target': [0]*n_class_0\n",
    "})\n",
    "\n",
    "class_1 = pd.DataFrame({\n",
    "    'feature_1': np.random.normal(loc=0,scale=1,size=n_class_1),\n",
    "    'feature_2': np.random.normal(loc=0,scale=1,size=n_class_1),\n",
    "    'target': [1]*n_class_1\n",
    "})\n",
    "\n",
    "df = pd.concat([class_0,class_1]).reset_index(drop=True)"
   ]
  },
  {
   "cell_type": "code",
   "execution_count": 19,
   "id": "39d12cbf-01b7-479b-b610-a4e503512830",
   "metadata": {},
   "outputs": [],
   "source": [
    "\n",
    "df_minority = df[df.target ==1]\n",
    "df_majority = df[df.target ==0]"
   ]
  },
  {
   "cell_type": "code",
   "execution_count": 20,
   "id": "2f627bad-c5d9-4777-826d-c33868fc702c",
   "metadata": {},
   "outputs": [],
   "source": [
    "df_majority_downsampled = resample(df_majority,replace=False, #sample with replacement, bootstrap\n",
    "         n_samples=len(df_minority),\n",
    "         random_state = 123\n",
    "        )"
   ]
  },
  {
   "cell_type": "code",
   "execution_count": 21,
   "id": "7e12b57f-55ec-49a4-864a-e94af3fe9344",
   "metadata": {},
   "outputs": [
    {
     "data": {
      "text/plain": [
       "(100, 3)"
      ]
     },
     "execution_count": 21,
     "metadata": {},
     "output_type": "execute_result"
    }
   ],
   "source": [
    "df_majority_downsampled.shape"
   ]
  },
  {
   "cell_type": "code",
   "execution_count": 22,
   "id": "86b79918-c3b3-44cd-a15e-1c68fe98a7c7",
   "metadata": {},
   "outputs": [],
   "source": [
    "df_downsampled = pd.concat([df_majority_downsampled,df_minority])"
   ]
  },
  {
   "cell_type": "code",
   "execution_count": 23,
   "id": "efe4fb61-998f-4132-af26-7f8c6cbb9b78",
   "metadata": {},
   "outputs": [
    {
     "data": {
      "text/plain": [
       "0    100\n",
       "1    100\n",
       "Name: target, dtype: int64"
      ]
     },
     "execution_count": 23,
     "metadata": {},
     "output_type": "execute_result"
    }
   ],
   "source": [
    "df_downsampled.target.value_counts()"
   ]
  },
  {
   "cell_type": "code",
   "execution_count": 24,
   "id": "d2f9ef0e-33f4-467a-ad75-bfdfe22852b6",
   "metadata": {},
   "outputs": [],
   "source": [
    "#downsampling is bad as we are loosing a lot of data"
   ]
  },
  {
   "cell_type": "code",
   "execution_count": null,
   "id": "1dc98ad2-9ace-488e-bc42-57c707c20bc6",
   "metadata": {},
   "outputs": [],
   "source": []
  }
 ],
 "metadata": {
  "kernelspec": {
   "display_name": "Python 3 (ipykernel)",
   "language": "python",
   "name": "python3"
  },
  "language_info": {
   "codemirror_mode": {
    "name": "ipython",
    "version": 3
   },
   "file_extension": ".py",
   "mimetype": "text/x-python",
   "name": "python",
   "nbconvert_exporter": "python",
   "pygments_lexer": "ipython3",
   "version": "3.10.8"
  }
 },
 "nbformat": 4,
 "nbformat_minor": 5
}
