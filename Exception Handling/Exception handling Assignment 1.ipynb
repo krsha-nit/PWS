{
 "cells": [
  {
   "cell_type": "markdown",
   "id": "41fd59fc-a920-4715-94de-8fa1fc395e5c",
   "metadata": {},
   "source": [
    "1. Exception? Diff b/w Exception and Syntax errors.\n",
    "\n",
    "2. What happens when an exception is not handled? Example.\n",
    "\n",
    "3. which python statements are used to catch and handle exceptions? Example.\n",
    "\n",
    "4. try and else, finally and raise\n",
    "\n",
    "5. Custom exceptoins in python? Why is it needed? Example.\n",
    "\n",
    "6. Create a custom exception class. Use this class to handle an exception."
   ]
  },
  {
   "cell_type": "code",
   "execution_count": null,
   "id": "62446e76-3aff-44eb-b4db-49c828788c1f",
   "metadata": {},
   "outputs": [],
   "source": []
  }
 ],
 "metadata": {
  "kernelspec": {
   "display_name": "Python 3 (ipykernel)",
   "language": "python",
   "name": "python3"
  },
  "language_info": {
   "codemirror_mode": {
    "name": "ipython",
    "version": 3
   },
   "file_extension": ".py",
   "mimetype": "text/x-python",
   "name": "python",
   "nbconvert_exporter": "python",
   "pygments_lexer": "ipython3",
   "version": "3.10.8"
  }
 },
 "nbformat": 4,
 "nbformat_minor": 5
}
