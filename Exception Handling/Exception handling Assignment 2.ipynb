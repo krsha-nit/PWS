{
 "cells": [
  {
   "cell_type": "markdown",
   "id": "40edc615-1b25-462b-b370-1c689d44c574",
   "metadata": {},
   "source": [
    "Q1. Explain why we have to use the Exception class while creating a Custom Exception.\n",
    "Note: Here Exception class refers to the base class for all the exceptions.\n",
    "Q2. Write a python program to print Python Exception Hierarchy.\n",
    "Q3. What errors are defined in the ArithmeticError class? Explain any two with an example.\n",
    "Q4. Why LookupError class is used? Explain with an example KeyError and IndexError.\n",
    "Q5. Explain ImportError. What is ModuleNotFoundError?\n",
    "Q6. List down some best practices for exception handling in python."
   ]
  },
  {
   "cell_type": "code",
   "execution_count": null,
   "id": "7f5193d5-dc27-435d-b844-182a69bc87d5",
   "metadata": {},
   "outputs": [],
   "source": []
  }
 ],
 "metadata": {
  "kernelspec": {
   "display_name": "Python 3 (ipykernel)",
   "language": "python",
   "name": "python3"
  },
  "language_info": {
   "codemirror_mode": {
    "name": "ipython",
    "version": 3
   },
   "file_extension": ".py",
   "mimetype": "text/x-python",
   "name": "python",
   "nbconvert_exporter": "python",
   "pygments_lexer": "ipython3",
   "version": "3.10.8"
  }
 },
 "nbformat": 4,
 "nbformat_minor": 5
}
