{
 "cells": [
  {
   "cell_type": "code",
   "execution_count": null,
   "id": "b9a7cfed-8561-494c-825d-2af2742c7a40",
   "metadata": {},
   "outputs": [],
   "source": [
    "#use always a specific exception not superclass\n",
    "\n",
    "#superclass\n",
    "try:\n",
    "    10/0\n",
    "except Exception as e:\n",
    "    print(e)\n",
    "    \n",
    "#specific\n",
    "try:\n",
    "    10/0\n",
    "except ZeroDivisionError as e:\n",
    "    print(e)"
   ]
  },
  {
   "cell_type": "code",
   "execution_count": null,
   "id": "e36874e3-6a6b-4181-bc7b-29d38d1222d5",
   "metadata": {},
   "outputs": [],
   "source": [
    "#print valid msg\n",
    "try:\n",
    "    10/0\n",
    "except ZeroDivisionError as e:\n",
    "    print('this is zerodivion error with error: ', e)"
   ]
  },
  {
   "cell_type": "code",
   "execution_count": null,
   "id": "52af1b76-4387-4074-9f50-d0caa2336c63",
   "metadata": {},
   "outputs": [],
   "source": [
    "#always try to log\n",
    "import logging\n",
    "logging.basicConfig(filename='errorlog.log',level = logging.ERROR)\n",
    "try:\n",
    "    10/0\n",
    "except ZeroDivisionError as e:"
   ]
  },
  {
   "cell_type": "code",
   "execution_count": 1,
   "id": "14293b9b-693f-48b9-b3e9-18c77b1a4d06",
   "metadata": {},
   "outputs": [],
   "source": [
    "#avoid unnecessary exception handing like zerodivision error, filenotfound\n",
    "#check what error can occur and use that only"
   ]
  },
  {
   "cell_type": "code",
   "execution_count": null,
   "id": "b1adb253-7426-4188-9680-1d0c75127ae1",
   "metadata": {},
   "outputs": [],
   "source": [
    "#perpare a proper document"
   ]
  },
  {
   "cell_type": "code",
   "execution_count": null,
   "id": "f286037f-f222-4fc7-865b-3019efd6550d",
   "metadata": {},
   "outputs": [],
   "source": [
    "#cleanup all the resourses\n",
    "#e.g. use f.close() in finally statement"
   ]
  }
 ],
 "metadata": {
  "kernelspec": {
   "display_name": "Python 3 (ipykernel)",
   "language": "python",
   "name": "python3"
  },
  "language_info": {
   "codemirror_mode": {
    "name": "ipython",
    "version": 3
   },
   "file_extension": ".py",
   "mimetype": "text/x-python",
   "name": "python",
   "nbconvert_exporter": "python",
   "pygments_lexer": "ipython3",
   "version": "3.10.8"
  }
 },
 "nbformat": 4,
 "nbformat_minor": 5
}
