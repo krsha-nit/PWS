{
 "cells": [
  {
   "cell_type": "markdown",
   "id": "931ea24f",
   "metadata": {},
   "source": [
    "### Q1. What is Lasso Regression, and how does it differ from other regression techniques?\n",
    "Ans. Lasso (Least Absolute Shrinkage and Selection Operator) Regression is a linear regression technique that adds a penalty term to the ordinary least squares (OLS) cost function. The penalty term is the L1 norm (sum of absolute values) of the model's coefficients, multiplied by a regularization parameter (λ). The objective of Lasso Regression is to prevent overfitting and perform feature selection by driving some coefficients to exactly zero.\n",
    "\n",
    "Difference from Other Regression Techniques:\n",
    "The key difference between Lasso Regression and other regression techniques, such as ordinary linear regression and Ridge Regression, lies in the penalty term. Lasso uses the L1 regularization penalty, which can force some coefficients to be exactly zero, leading to a sparse model with fewer features. In contrast, Ridge Regression (L2 regularization) shrinks coefficients towards zero but rarely eliminates them entirely. Ordinary linear regression does not include any penalty term and estimates the coefficients solely based on the least squares criterion.\n",
    "\n",
    "### Q2. What is the main advantage of using Lasso Regression in feature selection?\n",
    "Ans. The main advantage of Lasso Regression in feature selection is its ability to drive some coefficients to exactly zero. By doing so, Lasso performs automatic feature selection, effectively identifying and eliminating irrelevant or less important features from the model.\n",
    "\n",
    "This sparsity-inducing property of Lasso makes it especially useful when dealing with high-dimensional datasets with many predictors. It simplifies the model by retaining only the most relevant features, improving model interpretability and reducing the risk of overfitting.\n",
    "\n",
    "### Q3. How do you interpret the coefficients of a Lasso Regression model?\n",
    "Ans. Interpreting coefficients in Lasso Regression is similar to interpreting coefficients in ordinary linear regression. Each coefficient represents the change in the dependent variable associated with a one-unit change in the corresponding independent variable, holding all other variables constant.\n",
    "\n",
    "However, due to the L1 regularization penalty, some coefficients may be exactly zero, indicating that the corresponding features have been excluded from the model. The absolute magnitude of non-zero coefficients indicates the importance of each feature in predicting the target variable.\n",
    "\n",
    "### Q4. What are the tuning parameters that can be adjusted in Lasso Regression, and how do they affect the model's performance?\n",
    "Ans. The main tuning parameter in Lasso Regression is λ (lambda), also known as the regularization parameter. λ controls the strength of the L1 regularization penalty and affects the model's performance as follows:\n",
    "\n",
    "Smaller λ: A small value of λ leads to weaker regularization, allowing the model to be closer to ordinary linear regression. This may result in a model with more features and higher risk of overfitting.\n",
    "\n",
    "Larger λ: A large value of λ strengthens the regularization, increasing the likelihood of driving coefficients to exactly zero. This encourages feature selection and results in a simpler model with fewer predictors.\n",
    "\n",
    "Choosing the optimal value of λ is crucial to achieving the right balance between model complexity and generalization to new data. Cross-validation is commonly used to select the best λ by evaluating the model's performance on validation data for different λ values.\n",
    "\n",
    "### Q5. Can Lasso Regression be used for non-linear regression problems? If yes, how?\n",
    "Ans. Lasso Regression is primarily designed for linear regression problems. However, it can be extended for non-linear regression by introducing non-linear transformations of the original features. By incorporating polynomial features or other non-linear transformations, Lasso Regression can capture non-linear relationships between the features and the target variable.\n",
    "\n",
    "For example, if there is a quadratic relationship between the features and the target, we can add the squared terms of the features as additional predictors in the model. The Lasso regularization will then select the most relevant features and possibly exclude irrelevant ones, facilitating non-linear regression.\n",
    "\n",
    "### Q6. What is the difference between Ridge Regression and Lasso Regression?\n",
    "Ans. The main difference between Ridge Regression and Lasso Regression lies in the type of regularization penalty they use.\n",
    "\n",
    "Ridge Regression (L2 regularization): Adds the squared sum of coefficients to the cost function. It shrinks coefficients towards zero but does not eliminate them entirely, resulting in a model with all features included, though with reduced magnitudes.\n",
    "\n",
    "Lasso Regression (L1 regularization): Adds the sum of absolute values of coefficients to the cost function. It can drive some coefficients to exactly zero, leading to a sparse model with feature selection.\n",
    "\n",
    "The sparsity-inducing property of Lasso makes it particularly useful for feature selection, while Ridge is more suitable for situations where retaining all features is preferred, but with reduced impact from multicollinearity.\n",
    "\n",
    "### Q7. Can Lasso Regression handle multicollinearity in the input features? If yes, how?\n",
    "Ans. Yes, Lasso Regression can handle multicollinearity, which is high correlation between independent variables. In the presence of multicollinearity, ordinary linear regression can lead to unstable coefficient estimates, making interpretation challenging. However, Lasso's L1 regularization helps reduce the impact of multicollinearity by driving some correlated coefficients to exactly zero.\n",
    "\n",
    "By shrinking the coefficients towards zero, Lasso makes them less sensitive to the collinearity among predictors. As a result, Lasso Regression can provide more robust and interpretable coefficient estimates in the presence of multicollinearity.\n",
    "\n",
    "### Q8. How do you choose the optimal value of the regularization parameter (lambda) in Lasso Regression?\n",
    "Ans. The optimal value of the regularization parameter λ in Lasso Regression is typically selected through cross-validation. The data is divided into training and validation sets, and the model is trained on different subsets of the training data for various λ values.\n",
    "\n",
    "The λ value that results in the best performance on the validation set, usually measured by metrics like mean squared error (MSE) or mean absolute error (MAE), is chosen as the optimal λ. This process helps prevent overfitting and allows the model to generalize well to new, unseen data. Cross-validation ensures that the selected λ value provides the right trade-off between bias and variance, resulting in an optimal Lasso Regression model."
   ]
  },
  {
   "cell_type": "code",
   "execution_count": null,
   "id": "a10754bf",
   "metadata": {},
   "outputs": [],
   "source": []
  }
 ],
 "metadata": {
  "kernelspec": {
   "display_name": "Python 3 (ipykernel)",
   "language": "python",
   "name": "python3"
  },
  "language_info": {
   "codemirror_mode": {
    "name": "ipython",
    "version": 3
   },
   "file_extension": ".py",
   "mimetype": "text/x-python",
   "name": "python",
   "nbconvert_exporter": "python",
   "pygments_lexer": "ipython3",
   "version": "3.10.9"
  }
 },
 "nbformat": 4,
 "nbformat_minor": 5
}
