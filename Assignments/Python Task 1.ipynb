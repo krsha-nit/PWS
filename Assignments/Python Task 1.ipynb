{
 "cells": [
  {
   "cell_type": "markdown",
   "id": "938c87ae",
   "metadata": {},
   "source": [
    "#### Q1. Create a function which will take a list as an argument and return the product of all the numbers after creating a flat list.\n",
    "    Use the below-given list as an argument for your function.\n",
    "    list1 = [1,2,3,4, [44,55,66, True], False, (34,56,78,89,34), {1,2,3,3,2,1}, {1:34, \"key2\": [55, 67, 78, 89], 4: (45,\n",
    "    22, 61, 34)}, [56, 'data science'], 'Machine Learning']\n",
    "    Note: you must extract numeric keys and values of the dictionary also."
   ]
  },
  {
   "cell_type": "code",
   "execution_count": 6,
   "id": "759666a5",
   "metadata": {},
   "outputs": [
    {
     "data": {
      "text/plain": [
       "746826259789209600"
      ]
     },
     "execution_count": 6,
     "metadata": {},
     "output_type": "execute_result"
    }
   ],
   "source": [
    "def product_number(list_):\n",
    "    flat_list = []\n",
    "    \n",
    "    def extract_number(obj):\n",
    "        if isinstance(obj,(int,float)):\n",
    "            flat_list.append(obj)\n",
    "        elif isinstance(obj,list):\n",
    "            for i in obj:\n",
    "                extract_number(i)\n",
    "        elif isinstance(obj,dict):\n",
    "            for value in obj.values():\n",
    "                extract_number(value)\n",
    "            for key in obj.keys():\n",
    "                extract_number(key)\n",
    "            \n",
    "    extract_number(list_)\n",
    "    \n",
    "    product = 1\n",
    "    for num in flat_list:\n",
    "        if num is not False:\n",
    "            product *= num\n",
    "        \n",
    "    return product\n",
    "\n",
    "\n",
    "\n",
    "list1 = [1,2,3,4, [44,55,66, True], False, (34,56,78,89,34), {1,2,3,3,2,1}, {1:34, \"key2\": [55, 67, 78, 89], 4: (45,\n",
    "    22, 61, 34)}, [56, 'data science'], 'Machine Learning']\n",
    "product_number(list1)"
   ]
  },
  {
   "cell_type": "markdown",
   "id": "764f7e7a",
   "metadata": {},
   "source": [
    "#### Q2. Write a python program for encrypting a message sent to you by your friend. The logic of encryption should be such that, for a the output should be z. For b, the output should be y. For c, the output should be x respectively. Also, the whitespace should be replaced with a dollar sign. Keep the punctuationmarks unchanged.\n",
    "    Input Sentence: I want to become a Data Scientist.\n",
    "    Encrypt the above input sentence using the program you just created.\n",
    "    Note: Convert the given input sentence into lowercase before encrypting. The final output should be\n",
    "    lowercase."
   ]
  },
  {
   "cell_type": "code",
   "execution_count": 24,
   "id": "ee0b66ca",
   "metadata": {},
   "outputs": [
    {
     "name": "stdout",
     "output_type": "stream",
     "text": [
      "Encrypted Sentence: r$dzmg$gl$yvxlnv$z$wzgz$hxrvmgrhg.\n"
     ]
    }
   ],
   "source": [
    "def encrypt_message(message):\n",
    "    encrypted_message = \"\"\n",
    "    \n",
    "    for char in message:\n",
    "        if char.isalpha():\n",
    "            if char.isupper():\n",
    "                encrypted_char = chr(ord('Z') - (ord(char) - ord('A')))\n",
    "            else:\n",
    "                encrypted_char = chr(ord('z') - (ord(char) - ord('a')))\n",
    "        elif char == ' ':\n",
    "            encrypted_char = '$'\n",
    "        else:\n",
    "            encrypted_char = char\n",
    "        \n",
    "        encrypted_message += encrypted_char\n",
    "    \n",
    "    return encrypted_message.lower()\n",
    "\n",
    "\n",
    "input_sentence = \"I want to become a Data Scientist.\"\n",
    "encrypted_sentence = encrypt_message(input_sentence)\n",
    "print(\"Encrypted Sentence:\", encrypted_sentence)\n"
   ]
  },
  {
   "cell_type": "code",
   "execution_count": null,
   "id": "c62d8776",
   "metadata": {},
   "outputs": [],
   "source": []
  },
  {
   "cell_type": "code",
   "execution_count": null,
   "id": "6c1c3c38",
   "metadata": {},
   "outputs": [],
   "source": []
  }
 ],
 "metadata": {
  "kernelspec": {
   "display_name": "Python 3 (ipykernel)",
   "language": "python",
   "name": "python3"
  },
  "language_info": {
   "codemirror_mode": {
    "name": "ipython",
    "version": 3
   },
   "file_extension": ".py",
   "mimetype": "text/x-python",
   "name": "python",
   "nbconvert_exporter": "python",
   "pygments_lexer": "ipython3",
   "version": "3.10.9"
  }
 },
 "nbformat": 4,
 "nbformat_minor": 5
}
