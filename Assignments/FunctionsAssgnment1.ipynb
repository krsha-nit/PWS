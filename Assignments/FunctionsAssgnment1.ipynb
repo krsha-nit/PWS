{
 "cells": [
  {
   "cell_type": "markdown",
   "id": "c44700b3",
   "metadata": {},
   "source": [
    "## Functions Assgnment1"
   ]
  },
  {
   "cell_type": "markdown",
   "id": "95ac7872",
   "metadata": {},
   "source": [
    "#### Q1. Which keyword is used to create a function? Create a function to return a list of odd numbers in the range of 1 to 25.\n",
    "    Ans. def function_name(arg,*args,**kwargs):\n",
    "            pass"
   ]
  },
  {
   "cell_type": "code",
   "execution_count": 3,
   "id": "4d57d5b9-413f-4c27-8cab-bb057fe9f17d",
   "metadata": {},
   "outputs": [
    {
     "data": {
      "text/plain": [
       "[1, 3, 5, 7, 9, 11, 13, 15, 17, 19, 21, 23]"
      ]
     },
     "execution_count": 3,
     "metadata": {},
     "output_type": "execute_result"
    }
   ],
   "source": [
    "#Create a function to return a list of odd numbers in the range of 1 to 25.\n",
    "def odd_numbers(list_):\n",
    "    a = []\n",
    "    for i in list_:\n",
    "        if i%2 != 0:\n",
    "            a.append(i)\n",
    "    \n",
    "    return a\n",
    "odd_numbers(range(25))"
   ]
  },
  {
   "cell_type": "markdown",
   "id": "e3ca60bc",
   "metadata": {},
   "source": [
    "#### Q2. Why *args and **kwargs is used in some functions? Create a function each for *args and **kwargs to demonstrate their use.\n",
    "    Ans. In Python, *args and **kwargs are used in function definitions to allow for variable-length arguments. They provide a flexible way to pass a varying number of arguments to a function.\n",
    "\n",
    "    The *args parameter allows you to pass a variable number of positional arguments to a function. It collects all the positional arguments into a tuple within the function.\n",
    "\n",
    "    The **kwargs parameter allows you to pass a variable number of keyword arguments to a function. It collects all the keyword arguments into a dictionary within the function."
   ]
  },
  {
   "cell_type": "code",
   "execution_count": 7,
   "id": "f59b3d3b-47c2-42d7-9f1d-c49d768c4c4c",
   "metadata": {},
   "outputs": [
    {
     "name": "stdout",
     "output_type": "stream",
     "text": [
      "Hello, world!\n",
      "name: John\n",
      "age: 25\n",
      "city: New York\n"
     ]
    }
   ],
   "source": [
    "# *args\n",
    "def concatenate_strings(*args):\n",
    "    result = \"\"\n",
    "    for arg in args:\n",
    "        result += arg\n",
    "    return result\n",
    "\n",
    "# **kwargs\n",
    "def print_person_details(**kwargs):\n",
    "    for key, value in kwargs.items():\n",
    "        print(key + \": \" + value)\n",
    "\n",
    "# Using *args\n",
    "concatenated_string = concatenate_strings(\"Hello\", \", \", \"world!\")\n",
    "print(concatenated_string)  # Output: Hello, world!\n",
    "\n",
    "# Using **kwargs\n",
    "print_person_details(name=\"John\", age=\"25\", city=\"New York\")"
   ]
  },
  {
   "cell_type": "markdown",
   "id": "9088e35b",
   "metadata": {},
   "source": [
    "#### Q3. What is an iterator in python? Name the method used to initialise the iterator object and the method used for iteration. Use these methods to print the first five elements of the given list [2, 4, 6, 8, 10, 12, 14, 16,18, 20]."
   ]
  },
  {
   "cell_type": "code",
   "execution_count": 5,
   "id": "7363b7c8",
   "metadata": {},
   "outputs": [
    {
     "data": {
      "text/plain": [
       "([2, 4, 6, 8, 10], [[2, 4, 6, 8, 10]])"
      ]
     },
     "execution_count": 5,
     "metadata": {},
     "output_type": "execute_result"
    }
   ],
   "source": [
    "l1 = [2, 4, 6, 8, 10, 12, 14, 16, 18, 20]\n",
    "\n",
    "def first_five(list_):\n",
    "    for i in range(5):\n",
    "        yield list_[i]\n",
    "\n",
    "\n",
    "\n",
    "def first_five2(list_):\n",
    "    yield list_[:5]\n",
    "    \n",
    "list(first_five(l1)), list(first_five2(l1))"
   ]
  },
  {
   "cell_type": "markdown",
   "id": "1b239adf",
   "metadata": {},
   "source": [
    "#### Q4. What is a generator function in python? Why yield keyword is used? Give an example of a generator function.\n",
    "    Ans. Generator functions in Python are special functions that generate a sequence of values instead of returning a single value.Generator functions allow you to generate values on-the-fly, which can be more memory-efficient compared to storing the entire sequence in memory at once. Generator functions return a generator object that can be iterated over to retrieve the generated values, allowing you to efficiently work with large datasets or infinite sequences.\n",
    "    \n",
    "    The yield keyword is used in generator functions to define points at which the function will yield a value to the caller and temporarily suspend its execution.\n",
    "\n"
   ]
  },
  {
   "cell_type": "markdown",
   "id": "541718f5",
   "metadata": {},
   "source": [
    "#### Q5. Create a generator function for prime numbers less than 1000. Use the next() method to print the first 20 prime numbers."
   ]
  },
  {
   "cell_type": "code",
   "execution_count": 37,
   "id": "01a35339-9536-4077-bc50-56abed573541",
   "metadata": {},
   "outputs": [],
   "source": [
    "def prime_num(n):\n",
    "    cnt = 0\n",
    "    prime = []\n",
    "    for i in range(1,n+1):\n",
    "        for j in range(1,i+1):\n",
    "            if i%j ==0:\n",
    "                cnt+=1\n",
    "        if cnt==2:\n",
    "            prime.append(i)\n",
    "            \n",
    "        cnt=0\n",
    "            \n",
    "    return prime\n",
    "\n",
    "\n",
    "def prime_num2(n):\n",
    "    cnt = 0\n",
    "    #prime = []\n",
    "    for i in range(1,n+1):\n",
    "        for j in range(1,i+1):\n",
    "            if i%j ==0:\n",
    "                cnt+=1\n",
    "        if cnt==2:\n",
    "            #prime.append(i)\n",
    "            yield i\n",
    "        cnt=0\n",
    "    \n",
    "    #return prime"
   ]
  },
  {
   "cell_type": "code",
   "execution_count": 38,
   "id": "51a97748-a6f2-4741-8f61-90332d00d9bd",
   "metadata": {},
   "outputs": [
    {
     "data": {
      "text/plain": [
       "[2, 3, 5, 7, 11, 13, 17]"
      ]
     },
     "execution_count": 38,
     "metadata": {},
     "output_type": "execute_result"
    }
   ],
   "source": [
    "prime_num(17)"
   ]
  },
  {
   "cell_type": "code",
   "execution_count": 3,
   "id": "39a1eea6-e6cf-4897-9879-558c19dc48e0",
   "metadata": {},
   "outputs": [
    {
     "data": {
      "text/plain": [
       "[2, 3, 5, 7, 11, 13, 17]"
      ]
     },
     "execution_count": 3,
     "metadata": {},
     "output_type": "execute_result"
    }
   ],
   "source": [
    "list(prime_num2(17))"
   ]
  },
  {
   "cell_type": "code",
   "execution_count": 5,
   "id": "28827b67-34af-4e5b-9be6-86afc1753891",
   "metadata": {},
   "outputs": [
    {
     "data": {
      "text/plain": [
       "2"
      ]
     },
     "execution_count": 5,
     "metadata": {},
     "output_type": "execute_result"
    }
   ],
   "source": [
    "next(prime_num2(17))"
   ]
  },
  {
   "cell_type": "code",
   "execution_count": null,
   "id": "4bb41c1d-da9c-4a96-b4b9-5cf1377e4825",
   "metadata": {},
   "outputs": [],
   "source": []
  }
 ],
 "metadata": {
  "kernelspec": {
   "display_name": "Python 3 (ipykernel)",
   "language": "python",
   "name": "python3"
  },
  "language_info": {
   "codemirror_mode": {
    "name": "ipython",
    "version": 3
   },
   "file_extension": ".py",
   "mimetype": "text/x-python",
   "name": "python",
   "nbconvert_exporter": "python",
   "pygments_lexer": "ipython3",
   "version": "3.10.9"
  }
 },
 "nbformat": 4,
 "nbformat_minor": 5
}
