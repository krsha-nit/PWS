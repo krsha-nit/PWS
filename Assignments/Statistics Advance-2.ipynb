{
 "cells": [
  {
   "cell_type": "markdown",
   "id": "e5a152be",
   "metadata": {},
   "source": [
    "Q1: What are the Probability Mass Function (PMF) and Probability Density Function (PDF)? Explain with\n",
    "an example.\n",
    "\n",
    "Q2: What is Cumulative Density Function (CDF)? Explain with an example. Why CDF is used?\n",
    "\n",
    "Q3: What are some examples of situations where the normal distribution might be used as a model?\n",
    "Explain how the parameters of the normal distribution relate to the shape of the distribution.\n",
    "\n",
    "Q4: Explain the importance of Normal Distribution. Give a few real-life examples of Normal\n",
    "Distribution. \n",
    "\n",
    "Q5: What is Bernaulli Distribution? Give an Example. What is the difference between Bernoulli\n",
    "Distribution and Binomial Distribution?\n",
    "\n",
    "Q6. Consider a dataset with a mean of 50 and a standard deviation of 10. If we assume that the dataset\n",
    "is normally distributed, what is the probability that a randomly selected observation will be greater\n",
    "than 60? Use the appropriate formula and show your calculations.\n",
    "\n",
    "Q7: Explain uniform Distribution with an example.\n",
    "\n",
    "Q8: What is the z score? State the importance of the z score.\n",
    "\n",
    "Q9: What is Central Limit Theorem? State the significance of the Central Limit Theorem.\n",
    "\n",
    "Q10: State the assumptions of the Central Limit Theorem."
   ]
  },
  {
   "cell_type": "markdown",
   "id": "6817b387",
   "metadata": {},
   "source": [
    "#### Q1: What are the Probability Mass Function (PMF) and Probability Density Function (PDF)? Explain with an example.\n",
    "    Ans. Probability Mass Function (PMF) and Probability Density Function (PDF):\n",
    "    Probability Mass Function (PMF) and Probability Density Function (PDF) are concepts used in probability theory and statistics to describe the probability distribution of discrete and continuous random variables, respectively.\n",
    "\n",
    "    Probability Mass Function (PMF):\n",
    "    The PMF is a function that gives the probability of a discrete random variable taking on a specific value. For each possible value of the random variable, the PMF assigns a probability between 0 and 1, and the sum of all these probabilities is equal to 1.\n",
    "\n",
    "    Example:\n",
    "    Let's consider a fair six-sided die. The PMF of this random variable would be:\n",
    "    PMF(X = x) = 1/6 for x = 1, 2, 3, 4, 5, 6\n",
    "    PMF(X = x) = 0 for all other values of x\n",
    "\n",
    "    Probability Density Function (PDF):\n",
    "    The PDF is a function that gives the probability density of a continuous random variable at a specific value. Unlike the PMF, which provides the probability of getting a specific value, the PDF provides the probability density around that value. The probability of the random variable falling within a given interval is obtained by integrating the PDF over that interval.\n",
    "\n",
    "    Example:\n",
    "    Consider a standard normal distribution (mean = 0, standard deviation = 1). The PDF of this random variable is given by the bell-shaped curve known as the Gaussian curve or bell curve."
   ]
  },
  {
   "cell_type": "markdown",
   "id": "23281ea6",
   "metadata": {},
   "source": [
    "#### Q2: What is Cumulative Density Function (CDF)? Explain with an example. Why CDF is used?\n",
    "    Ans. The Cumulative Density Function (CDF) is a function that gives the probability that a random variable is less than or equal to a specific value. For both discrete and continuous random variables, the CDF accumulates the probabilities up to a particular point on the distribution.\n",
    "\n",
    "    Example:\n",
    "    Suppose we have a random variable X that follows a uniform distribution between 0 and 1. The CDF of this random variable is defined as follows:\n",
    "    CDF(X ≤ x) = x for 0 ≤ x ≤ 1\n",
    "    CDF(X ≤ x) = 0 for x < 0\n",
    "    CDF(X ≤ x) = 1 for x > 1\n",
    "\n",
    "    The CDF is used to calculate probabilities and quantiles (percentiles) of a random variable. It is especially useful in hypothesis testing and confidence intervals."
   ]
  },
  {
   "cell_type": "markdown",
   "id": "7945565a",
   "metadata": {},
   "source": [
    "#### Q3: What are some examples of situations where the normal distribution might be used as a model? Explain how the parameters of the normal distribution relate to the shape of the distribution.\n",
    "    Ans. Examples of situations where the normal distribution might be used as a model:\n",
    "    The normal distribution is widely used in various fields due to the Central Limit Theorem, which states that the sum or average of a large number of independent and identically distributed random variables will be approximately normally distributed, even if the original variables are not normally distributed. Some examples where the normal distribution might be used as a model include:\n",
    "\n",
    "    Heights and Weights: In the population, heights and weights of individuals often follow approximately normal distributions.\n",
    "\n",
    "    Test Scores: In educational testing, scores on standardized tests tend to be normally distributed.\n",
    "\n",
    "    Errors in Measurement: Many natural phenomena and measurement errors can be modeled using the normal distribution.\n",
    "\n",
    "    Financial Markets: Returns on financial assets are often modeled using a normal distribution.\n",
    "\n",
    "    Parameters of the normal distribution:\n",
    "    The normal distribution is characterized by two parameters:\n",
    "\n",
    "    Mean (μ): It determines the center or location of the distribution.\n",
    "    Standard Deviation (σ): It controls the spread or width of the distribution."
   ]
  },
  {
   "cell_type": "markdown",
   "id": "7ac282d7",
   "metadata": {},
   "source": [
    "#### Q4: Explain the importance of Normal Distribution. Give a few real-life examples of Normal Distribution.\n",
    "    Ans. The normal distribution is essential in statistics and data analysis due to its mathematical properties and the Central Limit Theorem. Some real-life examples of the normal distribution include:\n",
    "\n",
    "    IQ Scores: Intelligence quotient (IQ) scores in the population tend to follow a normal distribution.\n",
    "\n",
    "    Human Body Measurements: Various body measurements, such as chest circumference, waist circumference, and shoe sizes, often exhibit a normal distribution.\n",
    "\n",
    "    Test Scores: Scores on standardized tests like SAT, GRE, and IQ tests are often modeled using the normal distribution.\n",
    "\n",
    "    Quality Control: In manufacturing, the distribution of product weights, dimensions, or defects may be assumed to follow a normal distribution for quality control purposes."
   ]
  },
  {
   "cell_type": "markdown",
   "id": "6110cc18",
   "metadata": {},
   "source": [
    "#### Q5: What is Bernaulli Distribution? Give an Example. What is the difference between Bernoulli Distribution and Binomial Distribution?\n",
    "    Ans. The Bernoulli distribution is a discrete probability distribution that models a single trial with only two possible outcomes: success (usually denoted by 1) and failure (usually denoted by 0). It is a special case of the Binomial distribution where the number of trials is 1.\n",
    "\n",
    "    Example:\n",
    "    A fair coin toss can be modeled using a Bernoulli distribution, where success (1) could represent getting heads and failure (0) could represent getting tails.\n",
    "\n",
    "    Difference between Bernoulli Distribution and Binomial Distribution:\n",
    "    The Bernoulli distribution is used for a single trial with two outcomes (success or failure), whereas the Binomial distribution is used for a fixed number of independent trials with two outcomes and counts the number of successes."
   ]
  },
  {
   "cell_type": "markdown",
   "id": "79d60984",
   "metadata": {},
   "source": [
    "#### Q6. Consider a dataset with a mean of 50 and a standard deviation of 10. If we assume that the dataset is normally distributed, what is the probability that a randomly selected observation will be greater than 60? Use the appropriate formula and show your calculations.\n",
    "    Ans. Probability of a Randomly Selected Observation Greater than 60:\n",
    "    Given a normally distributed dataset with a mean (μ) of 50 and a standard deviation (σ) of 10, we can find the probability that a randomly selected observation will be greater than 60 using the Z-score formula and standard normal table (or calculator):\n",
    "\n",
    "    Z-score = (X - μ) / σ\n",
    "\n",
    "    where X is the value we want to find the probability for. In this case, X = 60.\n",
    "\n",
    "    Z-score = (60 - 50) / 10 = 1\n",
    "\n",
    "    Using the standard normal table (or calculator), we find that the probability of a Z-score of 1 or greater is approximately 0.1587.\n",
    "\n",
    "    Therefore, the probability that a randomly selected observation from this normal distribution will be greater than 60 is approximately 0.1587 (or 15.87%)."
   ]
  },
  {
   "cell_type": "markdown",
   "id": "397d77ba",
   "metadata": {},
   "source": [
    "#### Q7: Explain uniform Distribution with an example.\n",
    "    Ans. The uniform distribution is a continuous probability distribution in which all values within a specified range are equally likely to occur. It is characterized by a constant probability density function (PDF) over the entire range.\n",
    "\n",
    "    Example:\n",
    "    Consider a random variable representing the time taken by a person to reach a destination, and we know that the travel time can be anywhere between 0 and 60 minutes, with all values equally likely within this range. In this case, the uniform distribution can be used to model the travel time."
   ]
  },
  {
   "cell_type": "markdown",
   "id": "e5a16897",
   "metadata": {},
   "source": [
    "#### Q8: What is the z score? State the importance of the z score.\n",
    "    Ans. The Z-score is a standardized value representing the number of standard deviations an observation is from the mean of a distribution. It is calculated using the formula: Z-score = (X - μ) / σ, where X is the observed value, μ is the mean, and σ is the standard deviation.\n",
    "\n",
    "    The Z-score is important because it allows us to compare and standardize values from different normal distributions. It helps us identify how extreme or unusual an observation is compared to the rest of the data. Positive Z-scores indicate values above the mean, while negative Z-scores indicate values below the mean."
   ]
  },
  {
   "cell_type": "markdown",
   "id": "fa24a470",
   "metadata": {},
   "source": [
    "#### Q9: What is Central Limit Theorem? State the significance of the Central Limit Theorem.\n",
    "    Ans. The Central Limit Theorem (CLT) is a fundamental concept in statistics. It states that the sampling distribution of the sample mean (or the sum of a large number of independent and identically distributed random variables) approaches a normal distribution as the sample size increases, regardless of the shape of the original population distribution.\n",
    "\n",
    "    In simpler terms, if we take multiple random samples of the same size from any population, calculate the mean of each sample, and plot a histogram of these sample means, the resulting distribution will closely resemble a normal distribution, even if the population distribution is not normal.\n",
    "\n",
    "    Significance of the Central Limit Theorem:\n",
    "\n",
    "    Justification for Inference: It allows us to use parametric statistical methods, like hypothesis testing and confidence intervals, even when the underlying population distribution is not known. We can assume normality of the sample mean, which simplifies statistical calculations.\n",
    "\n",
    "    General Applicability: The CLT is applicable to a wide range of situations and population distributions. As long as certain assumptions are met (sample size is sufficiently large, observations are independent and identically distributed), the sample mean will be approximately normally distributed.\n",
    "\n",
    "    Efficient Estimation: With a normal distribution assumption, statistical estimators (like sample mean and sample variance) become efficient and unbiased. This property is crucial for making accurate inferences about population parameters.\n",
    "\n",
    "    Large Sample Approximations: For practical purposes, even with relatively small sample sizes, the sample mean tends to be approximately normally distributed. This is especially true when the original population is not heavily skewed."
   ]
  },
  {
   "cell_type": "markdown",
   "id": "23ca9186",
   "metadata": {},
   "source": [
    "#### Q10: State the assumptions of the Central Limit Theorem.\n",
    "    Ans. For the Central Limit Theorem to hold, there are certain assumptions that must be satisfied:\n",
    "\n",
    "    Random Sampling: The samples should be drawn randomly from the population of interest. This means that every individual in the population has an equal chance of being selected in the sample.\n",
    "\n",
    "    Independent Observations: The observations within each sample must be independent of each other. In other words, the value of one observation should not influence or be influenced by the value of another observation in the same sample.\n",
    "\n",
    "    Identically Distributed: All samples should be drawn from the same population, and the distribution of the population should have a well-defined mean (μ) and finite variance (σ^2).\n",
    "\n",
    "    Sufficiently Large Sample Size: The sample size should be \"sufficiently large.\" Although there is no strict rule for what constitutes a large sample size, as a general guideline, a sample size of around 30 or larger is often considered sufficient for the CLT to provide a good approximation to the normal distribution."
   ]
  }
 ],
 "metadata": {
  "kernelspec": {
   "display_name": "Python 3 (ipykernel)",
   "language": "python",
   "name": "python3"
  },
  "language_info": {
   "codemirror_mode": {
    "name": "ipython",
    "version": 3
   },
   "file_extension": ".py",
   "mimetype": "text/x-python",
   "name": "python",
   "nbconvert_exporter": "python",
   "pygments_lexer": "ipython3",
   "version": "3.10.9"
  }
 },
 "nbformat": 4,
 "nbformat_minor": 5
}
