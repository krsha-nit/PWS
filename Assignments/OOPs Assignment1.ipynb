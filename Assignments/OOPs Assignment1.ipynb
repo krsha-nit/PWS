{
 "cells": [
  {
   "cell_type": "markdown",
   "id": "c1437ca0",
   "metadata": {},
   "source": [
    "#### Q1. Explain Class and Object with respect to Object-Oriented Programming. Give a suitable example.\n",
    "    Ans. In object-oriented programming, a class is a blueprint or template that defines the structure and behavior of objects. It encapsulates data and functions into a single unit.\n",
    "\n",
    "    An object, on the other hand, is an instance of a class. It represents a specific entity or instance that has its own unique data and can perform actions defined by the class.\n",
    "    \n",
    "    Ex - Consider a class named Car that defines the properties and behavior of a car. An object of the Car class could be my_car, representing a specific car instance with its own unique attributes (e.g., make, model, color) and the ability to perform actions (e.g., start, accelerate, stop) defined by the Car class."
   ]
  },
  {
   "cell_type": "markdown",
   "id": "d4d578f8",
   "metadata": {},
   "source": [
    "#### Q2. Name the four pillars of OOPs.\n",
    "    Ans. - Four Pillars of OOPs are: \n",
    "    \n",
    "    Encapsulation: Encapsulation is the bundling of data and related behaviors (methods) into a single unit called a class. It allows for data hiding and provides control over accessing and modifying the data.\n",
    "\n",
    "    Inheritance: Inheritance allows a class (child class) to inherit properties and methods from another class (parent class). It promotes code reusability and establishes a hierarchical relationship between classes.\n",
    "\n",
    "    Polymorphism: Polymorphism allows objects of different classes to be treated as objects of a common superclass. It enables methods to be overridden in subclasses, providing different implementations while maintaining a consistent interface.\n",
    "\n",
    "    Abstraction: Abstraction focuses on providing a simplified and generalized representation of real-world objects. It involves defining classes and methods that hide complex implementation details and expose only essential features, allowing for easier understanding and usage."
   ]
  },
  {
   "cell_type": "markdown",
   "id": "83367966",
   "metadata": {},
   "source": [
    "#### Q3. Explain why the __init__() function is used. Give a suitable example.\n",
    "    Ans. The __init__() function is used in Python classes as a constructor method. It is automatically called when an object is created from a class and is used to initialize the object's attributes or perform any necessary setup. This allows us to set the initial state of an object by defining its attributes and their initial values. It provides a convenient way to ensure that every newly created object of a class starts with the desired state and has its necessary attributes initialized."
   ]
  },
  {
   "cell_type": "code",
   "execution_count": 1,
   "id": "25baf206",
   "metadata": {},
   "outputs": [
    {
     "name": "stdout",
     "output_type": "stream",
     "text": [
      "Car: Toyota Camry, Year: 2020\n",
      "Car: Honda Accord, Year: 2022\n"
     ]
    }
   ],
   "source": [
    "class Car:\n",
    "    def __init__(self, make, model, year):\n",
    "        self.make = make\n",
    "        self.model = model\n",
    "        self.year = year\n",
    "\n",
    "    def display_info(self):\n",
    "        print(f\"Car: {self.make} {self.model}, Year: {self.year}\")\n",
    "\n",
    "\n",
    "# Creating objects of the Car class\n",
    "car1 = Car(\"Toyota\", \"Camry\", 2020)\n",
    "car2 = Car(\"Honda\", \"Accord\", 2022)\n",
    "\n",
    "# Calling the display_info() method to display car information\n",
    "car1.display_info()\n",
    "car2.display_info()"
   ]
  },
  {
   "cell_type": "markdown",
   "id": "b401a553",
   "metadata": {},
   "source": [
    "#### Q4. Why self is used in OOPs?\n",
    "    Ans. In object-oriented programming (OOP), self is a conventionally used parameter name that refers to the instance of a class.  It is used as a reference to the current object on which a method is being called."
   ]
  },
  {
   "cell_type": "markdown",
   "id": "23648a86",
   "metadata": {},
   "source": [
    "#### Q5. What is inheritance? Give an example for each type of inheritance.\n",
    "    Ans. Inheritance is a fundamental concept in object-oriented programming (OOP) that allows a class to inherit properties and behaviors from another class. The class that inherits is called the \"subclass\" or \"derived class,\" and the class from which it inherits is called the \"superclass\" or \"base class.\" "
   ]
  },
  {
   "cell_type": "markdown",
   "id": "40472491",
   "metadata": {},
   "source": [
    "##### 1. Single Inheritance: In single inheritance, a subclass inherits from a single superclass. It forms a parent-child relationship between two classes."
   ]
  },
  {
   "cell_type": "code",
   "execution_count": 3,
   "id": "11cd2fa7",
   "metadata": {},
   "outputs": [
    {
     "name": "stdout",
     "output_type": "stream",
     "text": [
      "Animal is eating...\n",
      "Dog is barking...\n"
     ]
    }
   ],
   "source": [
    "class Animal:\n",
    "    def eat(self):\n",
    "        print(\"Animal is eating...\")\n",
    "\n",
    "class Dog(Animal):\n",
    "    def bark(self):\n",
    "        print(\"Dog is barking...\")\n",
    "\n",
    "# Dog inherits from Animal\n",
    "dog = Dog()\n",
    "dog.eat() \n",
    "dog.bark()"
   ]
  },
  {
   "cell_type": "markdown",
   "id": "d0df222f",
   "metadata": {},
   "source": [
    "##### 2. Multiple Inheritance: In multiple inheritance, a subclass inherits from multiple superclasses. It allows a class to inherit attributes and behaviors from multiple sources."
   ]
  },
  {
   "cell_type": "code",
   "execution_count": 5,
   "id": "66675a52",
   "metadata": {},
   "outputs": [
    {
     "name": "stdout",
     "output_type": "stream",
     "text": [
      "Bird is flying...\n",
      "Mammal is walking...\n",
      "Bat is feeding...\n"
     ]
    }
   ],
   "source": [
    "class Bird:\n",
    "    def fly(self):\n",
    "        print(\"Bird is flying...\")\n",
    "\n",
    "class Mammal:\n",
    "    def walk(self):\n",
    "        print(\"Mammal is walking...\")\n",
    "\n",
    "class Bat(Bird, Mammal):\n",
    "    def feed(self):\n",
    "        print(\"Bat is feeding...\")\n",
    "\n",
    "# Bat inherits from Bird and Mammal\n",
    "bat = Bat()\n",
    "bat.fly()  \n",
    "bat.walk() \n",
    "bat.feed()"
   ]
  },
  {
   "cell_type": "markdown",
   "id": "fe440a76",
   "metadata": {},
   "source": [
    "##### 3. Multilevel Inheritance: In multilevel inheritance, a subclass inherits from another subclass. It forms a hierarchical chain of inheritance."
   ]
  },
  {
   "cell_type": "code",
   "execution_count": 7,
   "id": "87055e4f",
   "metadata": {},
   "outputs": [
    {
     "name": "stdout",
     "output_type": "stream",
     "text": [
      "Vehicle is starting...\n",
      "Car is driving...\n",
      "Sports car is accelerating...\n"
     ]
    }
   ],
   "source": [
    "class Vehicle:\n",
    "    def start(self):\n",
    "        print(\"Vehicle is starting...\")\n",
    "\n",
    "class Car(Vehicle):\n",
    "    def drive(self):\n",
    "        print(\"Car is driving...\")\n",
    "\n",
    "class SportsCar(Car):\n",
    "    def accelerate(self):\n",
    "        print(\"Sports car is accelerating...\")\n",
    "\n",
    "# SportsCar inherits from Car, which in turn inherits from Vehicle\n",
    "sports_car = SportsCar()\n",
    "sports_car.start() \n",
    "sports_car.drive() \n",
    "sports_car.accelerate()"
   ]
  },
  {
   "cell_type": "markdown",
   "id": "71033b77",
   "metadata": {},
   "source": [
    "##### 4. Hierarchical Inheritance: In hierarchical inheritance, multiple subclasses inherit from a single superclass. It allows the superclass's attributes and behaviors to be shared among multiple subclasses."
   ]
  },
  {
   "cell_type": "code",
   "execution_count": 8,
   "id": "786a8bb5",
   "metadata": {},
   "outputs": [
    {
     "name": "stdout",
     "output_type": "stream",
     "text": [
      "Shape is drawing...\n",
      "Circle's area is calculating...\n",
      "Shape is drawing...\n",
      "Rectangle's perimeter is calculating...\n"
     ]
    }
   ],
   "source": [
    "class Shape:\n",
    "    def draw(self):\n",
    "        print(\"Shape is drawing...\")\n",
    "\n",
    "class Circle(Shape):\n",
    "    def area(self):\n",
    "        print(\"Circle's area is calculating...\")\n",
    "\n",
    "class Rectangle(Shape):\n",
    "    def perimeter(self):\n",
    "        print(\"Rectangle's perimeter is calculating...\")\n",
    "\n",
    "# Circle and Rectangle both inherit from Shape\n",
    "circle = Circle()\n",
    "circle.draw()\n",
    "circle.area() \n",
    "\n",
    "rectangle = Rectangle()\n",
    "rectangle.draw()\n",
    "rectangle.perimeter()  "
   ]
  },
  {
   "cell_type": "code",
   "execution_count": null,
   "id": "d4484ed6",
   "metadata": {},
   "outputs": [],
   "source": []
  }
 ],
 "metadata": {
  "kernelspec": {
   "display_name": "Python 3 (ipykernel)",
   "language": "python",
   "name": "python3"
  },
  "language_info": {
   "codemirror_mode": {
    "name": "ipython",
    "version": 3
   },
   "file_extension": ".py",
   "mimetype": "text/x-python",
   "name": "python",
   "nbconvert_exporter": "python",
   "pygments_lexer": "ipython3",
   "version": "3.10.9"
  }
 },
 "nbformat": 4,
 "nbformat_minor": 5
}
