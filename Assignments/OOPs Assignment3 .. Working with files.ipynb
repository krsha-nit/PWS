{
 "cells": [
  {
   "cell_type": "markdown",
   "id": "fff1349d-c7e7-40cf-9ae2-3de98e54896e",
   "metadata": {},
   "source": [
    "#### Q1. Which function is used to open a file? What are the different modes of opening a file? Explain each mode of file opening.\n",
    "\n",
    "    Ans- \n",
    "    open('file','mode')\n",
    "    'r'       open for reading (default)\n",
    "    'w'       open for writing, truncating the file first\n",
    "    'x'       create a new file and open it for writing\n",
    "    'a'       open for writing, appending to the end of the file if it exists\n",
    "    'b'       binary mode\n",
    "    't'       text mode (default)\n",
    "    '+'       open a disk file for updating (reading and writing)\n",
    "    'U'       universal newline mode (deprecated)"
   ]
  },
  {
   "cell_type": "markdown",
   "id": "36bd3da6-0a51-400b-8370-9690ef69e4f1",
   "metadata": {},
   "source": [
    "#### Q2. Why close() function is used? Why is it important to close a file?\n",
    "    Ans- close() is used to close the file. It is important to save and display the modification in the file."
   ]
  },
  {
   "cell_type": "markdown",
   "id": "f30d1c4d-224f-477a-b8f9-637efd51ee33",
   "metadata": {},
   "source": [
    "#### Q3. Write a python program to create a text file. Write ‘I want to become a Data Scientist’ in that file. Then close the file. Open this file and read the content of the file."
   ]
  },
  {
   "cell_type": "code",
   "execution_count": 1,
   "id": "5d27a4e8-4d47-4308-9716-b40f75ab8d38",
   "metadata": {
    "tags": []
   },
   "outputs": [
    {
     "name": "stdout",
     "output_type": "stream",
     "text": [
      "I want to become a Data Scientist\n"
     ]
    }
   ],
   "source": [
    "with open('assgn.txt','w') as f:\n",
    "    f.write('I want to become a Data Scientist')\n",
    "    f.close()\n",
    "\n",
    "with open('assgn.txt','r') as f:\n",
    "    print(f.read())"
   ]
  },
  {
   "cell_type": "markdown",
   "id": "d9774546-0b7d-4d26-b9b1-e9b8ddab36c2",
   "metadata": {},
   "source": [
    "#### Q4. Explain the following with python code: read(), readline() and readlines().\n",
    "    Ans. In Python, the read(), readline(), and readlines() methods are used for reading data from a file. \n",
    "    \n",
    "    read(): The read() method reads the entire contents of a file as a string.\n",
    "    readline(): The readline() method reads a single line from a file as a string.\n",
    "    readlines(): The readlines() method reads all lines from a file and returns them as a list of strings.\n"
   ]
  },
  {
   "cell_type": "code",
   "execution_count": 3,
   "id": "41cf5f54",
   "metadata": {},
   "outputs": [
    {
     "name": "stdout",
     "output_type": "stream",
     "text": [
      "read() method: I want to become a Data Scientist \n",
      " This is a test second line.\n",
      " Checking readlines.\n",
      "readline() method: I want to become a Data Scientist \n",
      "\n",
      "readlines() method: ['I want to become a Data Scientist \\n', ' This is a test second line.\\n', ' Checking readlines.']\n"
     ]
    }
   ],
   "source": [
    "with open('assgn.txt','w') as f:\n",
    "    f.write('I want to become a Data Scientist \\n This is a test second line.\\n Checking readlines.')\n",
    "    f.close()\n",
    "\n",
    "with open('assgn.txt','r') as f:\n",
    "    print(f\"read() method: {f.read()}\")\n",
    "    f.close()\n",
    "with open('assgn.txt','r') as f:\n",
    "    print(f\"readline() method: {f.readline()}\")\n",
    "    f.close()\n",
    "with open('assgn.txt','r') as f:\n",
    "    print(f\"readlines() method: {f.readlines()}\")\n",
    "    f.close()"
   ]
  },
  {
   "cell_type": "markdown",
   "id": "a56ff07f-94b3-46c5-be9c-01b4f2064d8f",
   "metadata": {},
   "source": [
    "#### Q5. Explain why with statement is used with open(). What is the advantage of using with statement and open() together?\n",
    "    Ans. The with statement in Python is used in conjunction with the open() function to ensure that files are properly and automatically closed after they are used. It provides a convenient and safe way to handle file I/O operations.\n",
    "\n",
    "    The advantage of using the with statement with open() is that it automatically takes care of closing the file, even if an exception occurs. This helps in preventing resource leaks and ensures that the file is always properly closed, regardless of whether an error occurs or not."
   ]
  },
  {
   "cell_type": "code",
   "execution_count": 4,
   "id": "5f4fb1bc",
   "metadata": {},
   "outputs": [
    {
     "name": "stdout",
     "output_type": "stream",
     "text": [
      "I want to become a Data Scientist \n",
      " This is a test second line.\n",
      " Checking readlines.\n",
      "I want to become a Data Scientist \n",
      " This is a test second line.\n",
      " Checking readlines.\n"
     ]
    }
   ],
   "source": [
    "# Without using with statement\n",
    "file = open('assgn.txt','r')\n",
    "data = file.read()\n",
    "print(data)\n",
    "file.close()\n",
    "\n",
    "# With using with statement\n",
    "with open('assgn.txt','r') as file:\n",
    "    data = file.read()\n",
    "    print(data)"
   ]
  },
  {
   "cell_type": "markdown",
   "id": "ebd5c0aa-b423-4c85-829a-436033f721c1",
   "metadata": {},
   "source": [
    "#### Q6. Explain the write() and writelines() functions. Give a suitable example.\n",
    "    Ans. In Python, the write() and writelines() functions are used for writing data to a file.\n",
    "    write(): The write() function is used to write a string to a file.\n",
    "    writelines(): The writelines() function is used to write a list of strings to a file."
   ]
  },
  {
   "cell_type": "code",
   "execution_count": 7,
   "id": "099f5ad7",
   "metadata": {},
   "outputs": [],
   "source": [
    "# Opening a file in write mode\n",
    "file = open('example.txt', 'w')\n",
    "file.write(\"Hello, world!\")\n",
    "file.close()"
   ]
  },
  {
   "cell_type": "code",
   "execution_count": 8,
   "id": "c5eb798d",
   "metadata": {},
   "outputs": [],
   "source": [
    "# Opening a file in write mode\n",
    "file = open('example.txt', 'w')\n",
    "lines = [\"Hello\\n\", \"world\\n\", \"Python\\n\"]\n",
    "file.writelines(lines)\n",
    "file.close()"
   ]
  },
  {
   "cell_type": "code",
   "execution_count": null,
   "id": "22a278e6",
   "metadata": {},
   "outputs": [],
   "source": []
  }
 ],
 "metadata": {
  "kernelspec": {
   "display_name": "Python 3 (ipykernel)",
   "language": "python",
   "name": "python3"
  },
  "language_info": {
   "codemirror_mode": {
    "name": "ipython",
    "version": 3
   },
   "file_extension": ".py",
   "mimetype": "text/x-python",
   "name": "python",
   "nbconvert_exporter": "python",
   "pygments_lexer": "ipython3",
   "version": "3.10.9"
  }
 },
 "nbformat": 4,
 "nbformat_minor": 5
}
