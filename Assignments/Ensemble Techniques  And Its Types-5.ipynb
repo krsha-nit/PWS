{
 "cells": [
  {
   "cell_type": "markdown",
   "id": "e17b44f9",
   "metadata": {},
   "source": [
    "### Q1. You are working on a machine learning project where you have a dataset containing numerical and categorical features. You have identified that some of the features are highly correlated and there are missing values in some of the columns. You want to build a pipeline that automates the feature engineering process and handles the missing values.\n",
    "Design a pipeline that includes the following steps:\n",
    "    \n",
    "    * Use an automated feature selection method to identify the important features in the dataset\n",
    "    * Create a numerical pipeline that includes the following steps\n",
    "    * Impute the missing values in the numerical columns using the mean of the column values\n",
    "    * Scale the numerical columns using standardisation\n",
    "    * Create a categorical pipeline that includes the following steps\n",
    "    * Impute the missing values in the categorical columns using the most frequent value of the column\n",
    "    * One-hot encode the categorical columns\n",
    "    * Combine the numerical and categorical pipelines using a ColumnTransformerC\n",
    "    * Use a Random Forest Classifier to build the final model\n",
    "    * Evaluate the accuracy of the model on the test dataset\n",
    "    \n",
    "Note! Your solution should include code snippets for each step of the pipeline, and a brief explanation of each step. You should also provide an interpretation of the results and suggest possible improvements for the pipeline."
   ]
  },
  {
   "cell_type": "code",
   "execution_count": null,
   "id": "6485bec2",
   "metadata": {},
   "outputs": [],
   "source": [
    "import pandas as pd\n",
    "import numpy as np\n",
    "from sklearn.compose import ColumnTransformer\n",
    "from sklearn.pipeline import Pipeline\n",
    "from sklearn.impute import SimpleImputer\n",
    "from sklearn.preprocessing import StandardScaler, OneHotEncoder\n",
    "from sklearn.feature_selection import SelectKBest, f_classif\n",
    "from sklearn.ensemble import RandomForestClassifier\n",
    "from sklearn.model_selection import train_test_split\n",
    "from sklearn.metrics import accuracy_score\n",
    "\n",
    "# Load your dataset here\n",
    "# For example, let's assume 'X' contains the features and 'y' contains the target variable\n",
    "\n",
    "# Step 1: Automated Feature Selection (SelectKBest with f_classif)\n",
    "selector = SelectKBest(score_func=f_classif, k='all')  # You can choose 'k' based on your dataset\n",
    "\n",
    "# Step 2: Numerical Pipeline\n",
    "num_pipeline = Pipeline([\n",
    "    ('imputer', SimpleImputer(strategy='mean')),  # Impute missing numerical values with the mean\n",
    "    ('scaler', StandardScaler())  # Standardize numerical columns\n",
    "])\n",
    "\n",
    "# Step 3: Categorical Pipeline\n",
    "cat_pipeline = Pipeline([\n",
    "    ('imputer', SimpleImputer(strategy='most_frequent')),  # Impute missing categorical values with most frequent value\n",
    "    ('encoder', OneHotEncoder(handle_unknown='ignore'))  # One-hot encode categorical columns\n",
    "])\n",
    "\n",
    "# Step 4: Combine Numerical and Categorical Pipelines using ColumnTransformer\n",
    "preprocessor = ColumnTransformer([\n",
    "    ('num', num_pipeline, X.select_dtypes(include=np.number).columns),\n",
    "    ('cat', cat_pipeline, X.select_dtypes(include='object').columns)\n",
    "])\n",
    "\n",
    "# Step 5: Final Model (Random Forest Classifier)\n",
    "model = RandomForestClassifier()\n",
    "\n",
    "# Step 6: Build the Pipeline\n",
    "pipeline = Pipeline([\n",
    "    ('feature_selection', selector),\n",
    "    ('preprocessing', preprocessor),\n",
    "    ('model', model)\n",
    "])\n",
    "\n",
    "# Split the data into training and test sets\n",
    "X_train, X_test, y_train, y_test = train_test_split(X, y, test_size=0.3, random_state=42)\n",
    "\n",
    "# Fit the pipeline on the training data\n",
    "pipeline.fit(X_train, y_train)\n",
    "\n",
    "# Evaluate the accuracy on the test data\n",
    "y_pred = pipeline.predict(X_test)\n",
    "accuracy = accuracy_score(y_test, y_pred)\n",
    "print(\"Accuracy:\", accuracy)"
   ]
  },
  {
   "cell_type": "markdown",
   "id": "e0f4d016",
   "metadata": {},
   "source": [
    "### Q2. Build a pipeline that includes a random forest classifier and a logistic regression classifier, and then use a voting classifier to combine their predictions. Train the pipeline on the iris dataset and evaluate its accuracy."
   ]
  },
  {
   "cell_type": "code",
   "execution_count": 1,
   "id": "ef1c115d",
   "metadata": {},
   "outputs": [
    {
     "name": "stdout",
     "output_type": "stream",
     "text": [
      "Accuracy: 1.0\n"
     ]
    }
   ],
   "source": [
    "from sklearn.datasets import load_iris\n",
    "from sklearn.ensemble import RandomForestClassifier, VotingClassifier\n",
    "from sklearn.linear_model import LogisticRegression\n",
    "from sklearn.model_selection import train_test_split\n",
    "from sklearn.metrics import accuracy_score\n",
    "\n",
    "# Load the iris dataset\n",
    "iris = load_iris()\n",
    "X, y = iris.data, iris.target\n",
    "\n",
    "# Split the data into training and test sets\n",
    "X_train, X_test, y_train, y_test = train_test_split(X, y, test_size=0.3, random_state=42)\n",
    "\n",
    "# Create individual classifiers\n",
    "rf_clf = RandomForestClassifier(random_state=42)\n",
    "lr_clf = LogisticRegression(random_state=42)\n",
    "\n",
    "# Create the voting classifier\n",
    "voting_clf = VotingClassifier(estimators=[('rf', rf_clf), ('lr', lr_clf)], voting='hard')\n",
    "\n",
    "# Fit the voting classifier on the training data\n",
    "voting_clf.fit(X_train, y_train)\n",
    "\n",
    "# Evaluate the accuracy on the test data\n",
    "y_pred = voting_clf.predict(X_test)\n",
    "accuracy = accuracy_score(y_test, y_pred)\n",
    "print(\"Accuracy:\", accuracy)"
   ]
  },
  {
   "cell_type": "code",
   "execution_count": null,
   "id": "23fc0691",
   "metadata": {},
   "outputs": [],
   "source": []
  }
 ],
 "metadata": {
  "kernelspec": {
   "display_name": "Python 3 (ipykernel)",
   "language": "python",
   "name": "python3"
  },
  "language_info": {
   "codemirror_mode": {
    "name": "ipython",
    "version": 3
   },
   "file_extension": ".py",
   "mimetype": "text/x-python",
   "name": "python",
   "nbconvert_exporter": "python",
   "pygments_lexer": "ipython3",
   "version": "3.10.9"
  }
 },
 "nbformat": 4,
 "nbformat_minor": 5
}
