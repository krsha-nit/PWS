{
 "cells": [
  {
   "cell_type": "markdown",
   "id": "fb18a7a3",
   "metadata": {},
   "source": [
    "#### Q1. What is a database? Differentiate between SQL and NoSQL databases.\n",
    "    Ans. A database is a structured collection of data that is organized, stored, and managed in a way that allows for efficient retrieval, manipulation, and querying of data. Databases are used to store and manage vast amounts of information in a systematic manner to support various applications and business processes.\n",
    "\n",
    "    SQL (Structured Query Language) and NoSQL (Not only SQL) are two main types of databases with different approaches to data storage and retrieval:\n",
    "\n",
    "    SQL Databases:\n",
    "\n",
    "    SQL databases are relational databases that store data in tables with predefined schemas.\n",
    "    They use SQL as the standard query language for defining and manipulating the data.\n",
    "    Examples of SQL databases include MySQL, PostgreSQL, Oracle, SQL Server, etc.\n",
    "    SQL databases are suitable for applications with complex relationships between data and well-defined schemas.\n",
    "    NoSQL Databases:\n",
    "\n",
    "    NoSQL databases are non-relational databases that provide flexibility in data storage without following a fixed schema.\n",
    "    They use various data models like key-value, document, column-family, and graph.\n",
    "    Examples of NoSQL databases include MongoDB, Cassandra, Redis, Couchbase, etc.\n",
    "    NoSQL databases are suitable for applications with unstructured or rapidly changing data, and where horizontal scaling is essential."
   ]
  },
  {
   "cell_type": "markdown",
   "id": "83b22c20",
   "metadata": {},
   "source": [
    "#### Q2. What is DDL? Explain why CREATE, DROP, ALTER, and TRUNCATE are used with an example.\n",
    "    Ans. DDL stands for Data Definition Language. It is a subset of SQL used to define and manage the structure of database objects like tables, indexes, and constraints. DDL commands do not manipulate data directly but instead modify the database's structure.\n",
    "    \n",
    "    1. CREATE: Used to create new database objects.\n",
    "    CREATE TABLE employees (\n",
    "    id INT PRIMARY KEY,\n",
    "    name VARCHAR(100),\n",
    "    salary DECIMAL(10, 2)\n",
    "    );\n",
    "    \n",
    "    2. DROP: Used to remove database objects like tables, indexes, or views.\n",
    "    DROP TABLE employees;\n",
    "    \n",
    "    3. ALTER: Used to modify the structure of an existing database object.\n",
    "    ALTER TABLE employees\n",
    "    ADD COLUMN department VARCHAR(50);\n",
    "\n",
    "    4. TRUNCATE: Used to remove all data from a table, but not the table structure itself. It is faster than the DELETE command for large data sets since it does not log individual row deletions.\n",
    "    TRUNCATE TABLE employees;"
   ]
  },
  {
   "cell_type": "markdown",
   "id": "4b1c4838",
   "metadata": {},
   "source": [
    "#### Q3. What is DML? Explain INSERT, UPDATE, and DELETE with an example.\n",
    "    Ans. DML stands for Data Manipulation Language. It is a subset of SQL used to manipulate the data stored in the database. DML commands are used to insert, update, and delete records in the database.\n",
    "    \n",
    "    1. INSERT: Used to add new records to a table.\n",
    "    INSERT INTO employees (id, name, salary, department)\n",
    "    VALUES (1, 'John Doe', 50000, 'HR');\n",
    "    \n",
    "    2. UPDATE: Used to modify existing records in a table.\n",
    "    UPDATE employees\n",
    "    SET salary = 55000\n",
    "    WHERE name = 'John Doe';\n",
    "    \n",
    "    3. DELETE: Used to remove one or more records from a table.\n",
    "    DELETE FROM employees\n",
    "    WHERE name = 'John Doe';"
   ]
  },
  {
   "cell_type": "markdown",
   "id": "1c1bae57",
   "metadata": {},
   "source": [
    "#### Q4. What is DQL? Explain SELECT with an example.\n",
    "    Ans. DQL stands for Data Query Language. It is a subset of SQL used to retrieve and query data from the database. The most commonly used DQL command is SELECT, which allows you to retrieve specific data from one or more tables.\n",
    "    Eg - SELECT name, course FROM students\n",
    "         WHERE age > 20;"
   ]
  },
  {
   "cell_type": "markdown",
   "id": "1fd63060",
   "metadata": {},
   "source": [
    "#### Q5. Explain Primary Key and Foreign Key.\n",
    "    Ans. Primary Key:\n",
    "    A primary key is a column or a set of columns in a table that uniquely identifies each row in the table.\n",
    "    It enforces the entity's uniqueness and ensures that each row has a distinct identity.\n",
    "    A primary key column cannot contain duplicate or null values.\n",
    "    In most databases, a primary key also automatically creates an index on the column(s) to optimize search and retrieval operations.\n",
    "    For example, in an \"employees\" table, the \"employee_id\" column can be the primary key as it uniquely identifies each employee record.\n",
    "    \n",
    "    Foreign Key:\n",
    "    A foreign key is a column or a set of columns in a table that refers to the primary key of another table, establishing a link between the two tables.\n",
    "    It creates a relationship between the data in different tables and maintains referential integrity.\n",
    "    Foreign keys ensure that data in the child table (referring table) corresponds to data in the parent table (referred table).\n",
    "    When a foreign key is defined, it typically enforces that the values in the foreign key column(s) must exist in the primary key column(s) of the referenced table.\n",
    "    For example, in a \"orders\" table, there could be a \"customer_id\" column that is a foreign key referring to the \"customer_id\" primary key column in the \"customers\" table. This ensures that each order is associated with an existing customer."
   ]
  },
  {
   "cell_type": "markdown",
   "id": "5651f3ad",
   "metadata": {},
   "source": [
    "#### Q6. Write a python code to connect MySQL to python. Explain the cursor() and execute() method.\n",
    "    Ans. mycursor = mydb.cursor(): This creates a cursor object. A cursor is like a pointer that allows you to execute SQL queries and fetch results from the database.\n",
    "\n",
    "    mycursor.execute(\"SELECT * FROM employees\"): This line executes the SQL query specified within the execute() method. In this example, we are selecting all rows from the \"employees\" table.\n",
    "    \n",
    "    mycursor.fetchall(): This method retrieves all the rows from the last executed query. The result is stored in the result variable."
   ]
  },
  {
   "cell_type": "code",
   "execution_count": null,
   "id": "cf0a8211",
   "metadata": {},
   "outputs": [],
   "source": [
    "# pip install mysql-connector-python\n",
    "\n",
    "import mysql.connector\n",
    "\n",
    "# Establish a connection to the MySQL database\n",
    "mydb = mysql.connector.connect(\n",
    "    host=\"localhost\",\n",
    "    user=\"your_username\",\n",
    "    password=\"your_password\",\n",
    "    database=\"your_database\"\n",
    ")\n",
    "\n",
    "# Create a cursor object to interact with the database\n",
    "mycursor = mydb.cursor()\n",
    "\n",
    "# Execute an SQL query\n",
    "mycursor.execute(\"SELECT * FROM employees\")\n",
    "\n",
    "# Fetch the results from the executed query\n",
    "result = mycursor.fetchall()\n",
    "\n",
    "# Display the results\n",
    "for row in result:\n",
    "    print(row)\n",
    "\n",
    "# Close the cursor and database connection\n",
    "mycursor.close()\n",
    "mydb.close()\n"
   ]
  },
  {
   "cell_type": "markdown",
   "id": "24400b23",
   "metadata": {},
   "source": [
    "#### Q7. Give the order of execution of SQL clauses in an SQL query.\n",
    "    Ans. Order of execution of SQL clauses in an SQL query:-\n",
    "    \n",
    "    FROM: The FROM clause specifies the table(s) from which the data is retrieved.\n",
    "\n",
    "    JOIN: If applicable, the JOIN clause is used to combine rows from multiple tables based on a related column between them.\n",
    "\n",
    "    WHERE: The WHERE clause filters the rows based on specified conditions. It is used to retrieve only the rows that meet the specified criteria.\n",
    "\n",
    "    GROUP BY: The GROUP BY clause groups the result set into summary rows based on specified columns.\n",
    "\n",
    "    HAVING: The HAVING clause filters the grouped rows based on specified conditions. It is similar to the WHERE clause but used with grouped data.\n",
    "\n",
    "    SELECT: The SELECT clause retrieves the specified columns from the result set.\n",
    "\n",
    "    DISTINCT: The DISTINCT keyword filters out duplicate rows from the result set.\n",
    "\n",
    "    ORDER BY: The ORDER BY clause sorts the result set based on specified columns in ascending or descending order.\n",
    "\n",
    "    LIMIT or OFFSET: The LIMIT and OFFSET clauses limit the number of rows returned or skip a specified number of rows, respectively."
   ]
  },
  {
   "cell_type": "code",
   "execution_count": null,
   "id": "68c62573",
   "metadata": {},
   "outputs": [],
   "source": []
  }
 ],
 "metadata": {
  "kernelspec": {
   "display_name": "Python 3 (ipykernel)",
   "language": "python",
   "name": "python3"
  },
  "language_info": {
   "codemirror_mode": {
    "name": "ipython",
    "version": 3
   },
   "file_extension": ".py",
   "mimetype": "text/x-python",
   "name": "python",
   "nbconvert_exporter": "python",
   "pygments_lexer": "ipython3",
   "version": "3.10.9"
  }
 },
 "nbformat": 4,
 "nbformat_minor": 5
}
