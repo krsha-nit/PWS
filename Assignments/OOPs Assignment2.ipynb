{
 "cells": [
  {
   "cell_type": "markdown",
   "id": "8104bdc9-7136-45fe-b81e-b6508131ce48",
   "metadata": {},
   "source": [
    "#### Q1. Create a vehicle class with an init method having instance variables as name_of_vehicle, max_speed and average_of_vehicle."
   ]
  },
  {
   "cell_type": "code",
   "execution_count": 3,
   "id": "fc103022-1f52-4dc1-8649-92a7b2bedb73",
   "metadata": {},
   "outputs": [
    {
     "name": "stdout",
     "output_type": "stream",
     "text": [
      "Vehicle Information:\n",
      "Name: Car\n",
      "Max Speed: 200\n",
      "Average: 15\n"
     ]
    }
   ],
   "source": [
    "class Vehicle:\n",
    "    \n",
    "    def __init__(self, name_of_vehicle, max_speed, average_of_vehicle):\n",
    "        self.name_of_vehicle = name_of_vehicle\n",
    "        self.max_speed = max_speed\n",
    "        self.average_of_vehicle = average_of_vehicle\n",
    "    \n",
    "    def display_info(self):\n",
    "        print(\"Vehicle Information:\")\n",
    "        print(\"Name:\", self.name_of_vehicle)\n",
    "        print(\"Max Speed:\", self.max_speed)\n",
    "        print(\"Average:\", self.average_of_vehicle)\n",
    "\n",
    "vehicle = Vehicle(\"Car\", 200, 15)\n",
    "vehicle.display_info()"
   ]
  },
  {
   "cell_type": "markdown",
   "id": "de86982e-cfb2-4ca7-ba8e-0f516d3ac0f2",
   "metadata": {},
   "source": [
    "#### Q2. Create a child class car from the vehicle class created in Que 1, which will inherit the vehicle class. Create a method named seating_capacity which takes capacity as an argument and returns the name of the vehicle and its seating capacity."
   ]
  },
  {
   "cell_type": "code",
   "execution_count": 6,
   "id": "660167e1-bf49-4558-abfe-d813f5f72fb3",
   "metadata": {},
   "outputs": [
    {
     "name": "stdout",
     "output_type": "stream",
     "text": [
      "Vehicle Information:\n",
      "Name: Sedan\n",
      "Max Speed: 180\n",
      "Average: 4\n",
      "Sedan - Seating Capacity: 5\n"
     ]
    }
   ],
   "source": [
    "class Car(Vehicle):\n",
    "    def seating_capacity(self, capacity):\n",
    "        return f\"{self.name_of_vehicle} - Seating Capacity: {capacity}\"\n",
    "\n",
    "# Creating an instance of the Car class\n",
    "car = Car(\"Sedan\", 180, 4)\n",
    "\n",
    "car.display_info()\n",
    "print(car.seating_capacity(5))"
   ]
  },
  {
   "cell_type": "markdown",
   "id": "9f4afbbb-c312-4af4-84ef-178e09098965",
   "metadata": {},
   "source": [
    "#### Q3. What is multiple inheritance? Write a python code to demonstrate multiple inheritance."
   ]
  },
  {
   "cell_type": "code",
   "execution_count": 8,
   "id": "de879a33-5592-4daf-9208-02af66e6bd93",
   "metadata": {},
   "outputs": [
    {
     "name": "stdout",
     "output_type": "stream",
     "text": [
      "this is cl1\n",
      "this is cl2\n"
     ]
    },
    {
     "data": {
      "text/plain": [
       "(None, None)"
      ]
     },
     "execution_count": 8,
     "metadata": {},
     "output_type": "execute_result"
    }
   ],
   "source": [
    "class c1:\n",
    "    def cl1(self):\n",
    "        print('this is cl1')\n",
    "\n",
    "class c2:\n",
    "    def cl2(self):\n",
    "        print('this is cl2')\n",
    "        \n",
    "class mult(c1,c2):\n",
    "    pass\n",
    "\n",
    "m=mult()\n",
    "m.cl1(),m.cl2() #it's multiclass as it can inherit charecteristic from class1 and class2"
   ]
  },
  {
   "cell_type": "markdown",
   "id": "bec4f685-9d2d-4fff-9f5e-3d9279e8cc99",
   "metadata": {},
   "source": [
    "#### Q4. What are getter and setter in python? Create a class and create a getter and a setter method in this class.\n",
    "    Ans. By using getter and setter methods, we can control how the attributes are accessed and modified, ensuring data integrity and encapsulation within the class. In Python, getters and setters are methods used to access and modify the attributes (variables) of an object, providing a controlled way to interact with the object's data. They are commonly used for implementing data encapsulation and maintaining data integrity.\n",
    "    \n",
    "    A getter is a method that retrieves the value of an attribute. It provides read-only access to the attribute, allowing other parts of the program to retrieve the value but not modify it directly.\n",
    "\n",
    "    A setter is a method that sets the value of an attribute. It provides write access to the attribute, allowing other parts of the program to modify the value but with certain restrictions or validations if necessary."
   ]
  },
  {
   "cell_type": "code",
   "execution_count": 9,
   "id": "0654c821-7f18-4106-8dba-4929ecd2bfcb",
   "metadata": {},
   "outputs": [],
   "source": [
    "# here get_balance is used as getter and deposite and withdraw is used as setter\n",
    "class bank_acc:\n",
    "    def __inti__(self,balance):\n",
    "        self.__balance = balance # __is used so that users can't modify using the assignment (tab will not show this)\n",
    "    \n",
    "    def get_balance(self,balance):\n",
    "        return self.__balance #will only be used to show the balance\n",
    "    \n",
    "    #set balance -- deposite and withdraw\n",
    "    def deposite(self,amt): #deposite\n",
    "        if self.__amt>0:\n",
    "            self.__balance += amt\n",
    "        else:\n",
    "            False\n",
    "    def withdraw(self,amt): #deposite\n",
    "        if self.__amt>0 and self.__amt>self.__balance:\n",
    "            self.__balance -= amt\n",
    "        else:\n",
    "            False"
   ]
  },
  {
   "cell_type": "markdown",
   "id": "1685f7e1-974b-4a19-b1ce-e83eddb84a04",
   "metadata": {},
   "source": [
    "#### Q5.What is method overriding in python? Write a python code to demonstrate method overriding.\n",
    "    Ans. Method overriding is a concept in object-oriented programming where a subclass provides its own implementation of a method that is already defined in its superclass. It allows the subclass to change or extend the behavior of the inherited method."
   ]
  },
  {
   "cell_type": "code",
   "execution_count": 10,
   "id": "7ba61854-8c73-4247-bc9e-84270fcec6a5",
   "metadata": {},
   "outputs": [
    {
     "name": "stdout",
     "output_type": "stream",
     "text": [
      "Animal makes a sound.\n",
      "Dog barks.\n",
      "Cat meows.\n"
     ]
    }
   ],
   "source": [
    "class Animal:\n",
    "    def sound(self):\n",
    "        print(\"Animal makes a sound.\")\n",
    "\n",
    "class Dog(Animal):\n",
    "    def sound(self):\n",
    "        print(\"Dog barks.\")\n",
    "\n",
    "class Cat(Animal):\n",
    "    def sound(self):\n",
    "        print(\"Cat meows.\")\n",
    "\n",
    "# Creating objects of the classes\n",
    "animal = Animal()\n",
    "dog = Dog()\n",
    "cat = Cat()\n",
    "\n",
    "# Calling the sound() method on each object\n",
    "animal.sound()\n",
    "dog.sound() \n",
    "cat.sound()\n"
   ]
  },
  {
   "cell_type": "markdown",
   "id": "54df16d9",
   "metadata": {},
   "source": [
    "##### class Animal that defines a method sound() which prints a generic message indicating that an animal makes a sound. The Dog class and Cat class are subclasses of Animal and both override the sound() method with their own implementations specific to dogs and cats. When the sound() method is called on the objects animal, dog, and cat, each object executes its respective implementation of the method based on its class. This demonstrates method overriding, where the subclass provides a modified or extended implementation of the method defined in the superclass."
   ]
  },
  {
   "cell_type": "code",
   "execution_count": null,
   "id": "ec019d77",
   "metadata": {},
   "outputs": [],
   "source": []
  }
 ],
 "metadata": {
  "kernelspec": {
   "display_name": "Python 3 (ipykernel)",
   "language": "python",
   "name": "python3"
  },
  "language_info": {
   "codemirror_mode": {
    "name": "ipython",
    "version": 3
   },
   "file_extension": ".py",
   "mimetype": "text/x-python",
   "name": "python",
   "nbconvert_exporter": "python",
   "pygments_lexer": "ipython3",
   "version": "3.10.9"
  }
 },
 "nbformat": 4,
 "nbformat_minor": 5
}
