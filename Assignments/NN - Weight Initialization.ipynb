{
 "cells": [
  {
   "cell_type": "markdown",
   "id": "1ee76db4",
   "metadata": {},
   "source": [
    "# Objective: Assess understanding of weight initialization techniques in artificial neural networks. Evaluate the impact of different initialization methods on model performance. Enhance knowledge of weight initialization's role in improving convergence and avoiding vanishing/exploding gradients.\n",
    "\n",
    "\n",
    "\n",
    "## Part 1: Upderstanding Weight Initialization\n",
    "\n",
    "### 1. Explain the importance of weight initialization in artificial neural networks. Why is it necessary to initialize the weights carefully?\n",
    "Ans. Weight initialization is crucial in artificial neural networks because the initial values of the weights significantly impact the convergence and performance of the model during training. Initializing weights carefully is necessary to set a proper starting point for the optimization process. If the weights are initialized too large or too small, it can lead to various issues during training, such as vanishing gradients or exploding gradients. Proper initialization helps the model converge faster and more reliably, leading to better generalization on unseen data.\n",
    "\n",
    "### 2. Describe the challenges associated with improper weight initialization. How do these issues affect model training and convergence?\n",
    "Ans. Improper weight initialization can lead to several issues:\n",
    "\n",
    "Vanishing Gradients: When weights are initialized too small, during backpropagation, gradients can become extremely small as they pass through the layers. As a result, the model learns very slowly, leading to a prolonged training process or getting stuck in local minima.\n",
    "\n",
    "Exploding Gradients: On the other hand, if weights are initialized too large, gradients can become extremely large, causing the model to diverge during training.\n",
    "\n",
    "Saturation: Improper initialization can cause neurons to saturate, where they get stuck in the flat regions of activation functions. This results in very low or no gradients, preventing effective learning.\n",
    "\n",
    "Slow Convergence: Inappropriate initialization can lead to slow convergence, increasing the time required to train the model and making it harder to find optimal solutions.\n",
    "\n",
    "### 3. Discuss the concept of variance and how it relates to weight initialization. Why is it crucial to consider the variance of weights during initialization?\n",
    "Ans. In weight initialization, variance refers to the spread or dispersion of initial weight values. When initializing weights, it is essential to control the variance to prevent the issues mentioned above.\n",
    "\n",
    "    High variance (large initial weights): Can lead to exploding gradients and divergent training.\n",
    "    Low variance (small initial weights): Can cause vanishing gradients and slow convergence.\n",
    "\n",
    "Balancing the variance is crucial for effectively training neural networks. The goal is to set the variance such that the signals during forward and backward passes neither die out (vanish) nor blow up (explode).\n",
    "\n",
    "## Part 2: Weight Initialization Technique\n",
    "\n",
    "### 4. Explain the concept of zero initialization. Discuss its potential limitations and when it can be appropriate to use.\n",
    "Ans. Zero initialization involves setting all weights in the neural network to zero. However, this method is not ideal because it causes all neurons in a layer to compute the same output during forward propagation and have the same gradients during backpropagation. Consequently, the weights will remain symmetric and never break the symmetry, leading to ineffective learning and poor model performance.\n",
    "\n",
    "### 5. Describe the process of random initialization. How can random initialization be adjusted to mitigate potential issues like saturation or vanishing/exploding gradients?\n",
    "Ans. Random initialization involves setting the weights to random values, typically drawn from a distribution like the uniform or normal distribution. By introducing randomness, the symmetry problem of zero initialization is mitigated. However, this method can still suffer from the vanishing or exploding gradient problem if the initial weights have high variance.\n",
    "\n",
    "To mitigate potential issues:\n",
    "\n",
    "    The scale of random initialization can be controlled by dividing the randomly initialized weights by the square root of the number of neurons in the previous layer (Xavier/Glorot initialization) or by the number of neurons in the current layer (He initialization).\n",
    "    Using activation functions that have nonzero gradients for a wide range of inputs, such as ReLU, can help with the vanishing gradient problem.\n",
    "\n",
    "### 6. Discuss the concept of Xavier/Glorot initialization. Explain how it addresses the challenges of improper weight initialization and the underlying theory behind it.\n",
    "Ans. Xavier/Glorot initialization sets the initial weights using a Gaussian or uniform distribution with a variance that depends on the number of input and output neurons in the layer. For a layer with n inputs and m outputs, the weights are initialized with variance 2 / (n + m). This technique balances the variance, making it suitable for sigmoid and hyperbolic tangent (tanh) activation functions.\n",
    "\n",
    "### 7. Explain the concept of He initialization. How does it differ from Xavier initialization, and when is it preferred?\n",
    "Ans. He initialization is a variation of Xavier initialization but is tailored for ReLU (and its variants) activation functions. For a layer with n inputs, the weights are initialized with variance 2 / n. It allows higher variance in the weights, which is beneficial for ReLU activations as they can suffer from the dying ReLU problem when initialized with low variances.\n",
    "\n",
    "\n",
    "## Part 3: Applying Weight Initialization\n",
    "\n",
    "### 8. Implement different weight initialization techniques (zero initialization, random initialization, Xavier initialization, and He initialization) in a neural network using a framework of your choice. Train the model on a suitable dataset and compare the performance of the initialized models."
   ]
  },
  {
   "cell_type": "code",
   "execution_count": 1,
   "id": "8c934326",
   "metadata": {},
   "outputs": [],
   "source": [
    "import numpy as np\n",
    "import tensorflow as tf\n",
    "from sklearn.datasets import load_iris\n",
    "from sklearn.model_selection import train_test_split\n",
    "from sklearn.preprocessing import StandardScaler\n",
    "from sklearn.metrics import accuracy_score"
   ]
  },
  {
   "cell_type": "code",
   "execution_count": 2,
   "id": "ca9aefb7",
   "metadata": {},
   "outputs": [],
   "source": [
    "# Load the Iris dataset\n",
    "iris = load_iris()\n",
    "X, y = iris.data, iris.target"
   ]
  },
  {
   "cell_type": "code",
   "execution_count": 5,
   "id": "20441206",
   "metadata": {},
   "outputs": [
    {
     "data": {
      "text/plain": [
       "(array([[5.1, 3.5, 1.4, 0.2],\n",
       "        [4.9, 3. , 1.4, 0.2],\n",
       "        [4.7, 3.2, 1.3, 0.2],\n",
       "        [4.6, 3.1, 1.5, 0.2],\n",
       "        [5. , 3.6, 1.4, 0.2]]),\n",
       " array([0, 0, 0, 0, 0]))"
      ]
     },
     "execution_count": 5,
     "metadata": {},
     "output_type": "execute_result"
    }
   ],
   "source": [
    "X[:5], y[:5]"
   ]
  },
  {
   "cell_type": "code",
   "execution_count": 6,
   "id": "6eb557ca",
   "metadata": {},
   "outputs": [],
   "source": [
    "# Split the data into training and testing sets\n",
    "X_train, X_test, y_train, y_test = train_test_split(X, y, test_size=0.2, random_state=42)"
   ]
  },
  {
   "cell_type": "code",
   "execution_count": 7,
   "id": "0376ca48",
   "metadata": {},
   "outputs": [],
   "source": [
    "# Standardize the features\n",
    "scaler = StandardScaler()\n",
    "X_train = scaler.fit_transform(X_train)\n",
    "X_test = scaler.transform(X_test)"
   ]
  },
  {
   "cell_type": "code",
   "execution_count": 8,
   "id": "148c4afb",
   "metadata": {},
   "outputs": [],
   "source": [
    "# One-hot encode the target labels\n",
    "y_train = tf.keras.utils.to_categorical(y_train, num_classes=3)\n",
    "y_test = tf.keras.utils.to_categorical(y_test, num_classes=3)"
   ]
  },
  {
   "cell_type": "code",
   "execution_count": 26,
   "id": "07159b82",
   "metadata": {},
   "outputs": [],
   "source": [
    "# Define the neural network architecture\n",
    "def create_model(initializer):\n",
    "    model = tf.keras.Sequential([\n",
    "        tf.keras.layers.Dense(32, activation='relu', kernel_initializer=initializer, input_shape=(4,)),\n",
    "        tf.keras.layers.Dense(16, activation='relu', kernel_initializer=initializer),\n",
    "        tf.keras.layers.Dense(3, activation='softmax', kernel_initializer=initializer)\n",
    "    ])\n",
    "    return model\n",
    "\n",
    "# Train and evaluate models with different initializers\n",
    "def train_and_evaluate_model(initializer):\n",
    "    model = create_model(initializer)\n",
    "    model.compile(optimizer='adam', loss='categorical_crossentropy', metrics=['accuracy'])\n",
    "    history = model.fit(X_train, y_train, epochs=50, batch_size=32, verbose=0)\n",
    "    \n",
    "    _, test_accuracy = model.evaluate(X_test, y_test, verbose=0)\n",
    "    return history, test_accuracy"
   ]
  },
  {
   "cell_type": "code",
   "execution_count": 27,
   "id": "f2bd0cd3",
   "metadata": {},
   "outputs": [],
   "source": [
    "# Define the weight initialization techniques\n",
    "zero_initializer = tf.keras.initializers.Zeros()\n",
    "random_initializer = tf.keras.initializers.RandomNormal(mean=0.0, stddev=0.1)\n",
    "xavier_initializer = tf.keras.initializers.GlorotNormal()\n",
    "he_initializer = tf.keras.initializers.HeNormal()\n",
    "\n",
    "# Evaluate models using different initializers\n",
    "accuracy_zero = train_and_evaluate_model(zero_initializer)\n",
    "accuracy_random = train_and_evaluate_model(random_initializer)\n",
    "accuracy_xavier = train_and_evaluate_model(xavier_initializer)\n",
    "accuracy_he = train_and_evaluate_model(he_initializer)"
   ]
  },
  {
   "cell_type": "code",
   "execution_count": 32,
   "id": "3626619d",
   "metadata": {},
   "outputs": [
    {
     "name": "stdout",
     "output_type": "stream",
     "text": [
      "Accuracy using Zero Initialization: 0.30000001192092896\n",
      "Accuracy using Random Initialization: 0.9333333373069763\n",
      "Accuracy using Xavier Initialization: 1.0\n",
      "Accuracy using He Initialization: 0.8999999761581421\n"
     ]
    }
   ],
   "source": [
    "# Compare the performance of initialized models\n",
    "print(\"Accuracy using Zero Initialization:\", accuracy_zero[1])\n",
    "print(\"Accuracy using Random Initialization:\", accuracy_random[1])\n",
    "print(\"Accuracy using Xavier Initialization:\", accuracy_xavier[1])\n",
    "print(\"Accuracy using He Initialization:\", accuracy_he[1])"
   ]
  },
  {
   "cell_type": "code",
   "execution_count": 34,
   "id": "5fe0bec9",
   "metadata": {},
   "outputs": [
    {
     "name": "stderr",
     "output_type": "stream",
     "text": [
      "C:\\anacoda\\lib\\site-packages\\keras\\src\\initializers\\initializers.py:120: UserWarning: The initializer RandomNormal is unseeded and being called multiple times, which will return identical values each time (even if the initializer is unseeded). Please update your code to provide a seed to the initializer, or avoid using the same initializer instance more than once.\n",
      "  warnings.warn(\n",
      "C:\\anacoda\\lib\\site-packages\\keras\\src\\initializers\\initializers.py:120: UserWarning: The initializer GlorotNormal is unseeded and being called multiple times, which will return identical values each time (even if the initializer is unseeded). Please update your code to provide a seed to the initializer, or avoid using the same initializer instance more than once.\n",
      "  warnings.warn(\n",
      "C:\\anacoda\\lib\\site-packages\\keras\\src\\initializers\\initializers.py:120: UserWarning: The initializer HeNormal is unseeded and being called multiple times, which will return identical values each time (even if the initializer is unseeded). Please update your code to provide a seed to the initializer, or avoid using the same initializer instance more than once.\n",
      "  warnings.warn(\n"
     ]
    },
    {
     "data": {
      "image/png": "[encoded data removed]",
      "text/plain": [
       "<Figure size 640x480 with 1 Axes>"
      ]
     },
     "metadata": {},
     "output_type": "display_data"
    },
    {
     "data": {
      "text/plain": [
       "<Figure size 640x480 with 0 Axes>"
      ]
     },
     "metadata": {},
     "output_type": "display_data"
    }
   ],
   "source": [
    "import matplotlib.pyplot as plt\n",
    "\n",
    "# Evaluate models using different initializers and store their histories\n",
    "histories = []\n",
    "accuracies = []\n",
    "\n",
    "for initializer in [zero_initializer, random_initializer, xavier_initializer, he_initializer]:\n",
    "    history, accuracy = train_and_evaluate_model(initializer)\n",
    "    histories.append(history)\n",
    "    accuracies.append(accuracy)\n",
    "\n",
    "# Visualize the performance of the initialized models\n",
    "labels = ['Zero Initialization', 'Random Initialization', 'Xavier Initialization', 'He Initialization']\n",
    "x_pos = np.arange(len(labels))\n",
    "\n",
    "plt.bar(x_pos, accuracies, align='center', alpha=0.7)\n",
    "plt.xticks(x_pos, labels, rotation=45, ha='right')\n",
    "plt.ylabel('Accuracy')\n",
    "plt.title('Performance Comparison of Initialized Models')\n",
    "plt.ylim([0, 1.0])\n",
    "# Evaluate models using different initializers and store their histories\n",
    "histories = []\n",
    "accuracies = []\n",
    "\n",
    "for initializer in [zero_initializer, random_initializer, xavier_initializer, he_initializer]:\n",
    "    history, accuracy = train_and_evaluate_model(initializer)\n",
    "    histories.append(history)\n",
    "    accuracies.append(accuracy)\n",
    "\n",
    "# Visualize the performance of the initialized models\n",
    "labels = ['Zero Initialization', 'Random Initialization', 'Xavier Initialization', 'He Initialization']\n",
    "x_pos = np.arange(len(labels))\n",
    "\n",
    "plt.bar(x_pos, accuracies, align='center', alpha=0.7)\n",
    "plt.xticks(x_pos, labels, rotation=45, ha='right')\n",
    "plt.ylabel('Accuracy')\n",
    "plt.title('Performance Comparison of Initialized Models')\n",
    "plt.ylim([0, 1.0])\n",
    "\n",
    "# Annotate the bars with the accuracy values\n",
    "for i, v in enumerate(accuracies):\n",
    "    plt.text(i, v + 0.01, f'{v:.2f}', ha='center')\n",
    "\n",
    "plt.tight_layout()\n",
    "plt.show()\n",
    "plt.tight_layout()\n",
    "plt.show()"
   ]
  },
  {
   "cell_type": "markdown",
   "id": "61c10a9a",
   "metadata": {},
   "source": [
    "### 9. Discuss the considerations and tradeoffs when choosing the appropriate weight initialization technique for a given neural network architecture and task.\n",
    "Ans. When choosing a weight initialization technique, consider the following:\n",
    "\n",
    "    The choice of activation function: Different initialization techniques are suitable for different activation functions (e.g., Xavier for sigmoid/tanh, He for ReLU).\n",
    "    Network architecture: The number of layers, the number of neurons in each layer, and the depth of the network can influence the choice of initialization technique.\n",
    "    Data distribution: The scale of the data can also affect the performance of different initialization methods.\n",
    "    Computational cost: Some initialization techniques may require more computation during training.\n",
    "\n",
    "It's essential to experiment with different initialization methods and monitor the training process to choose the one that leads to faster convergence and better model performance for the specific task and architecture."
   ]
  },
  {
   "cell_type": "code",
   "execution_count": null,
   "id": "fdb52a37",
   "metadata": {},
   "outputs": [],
   "source": []
  }
 ],
 "metadata": {
  "kernelspec": {
   "display_name": "Python 3 (ipykernel)",
   "language": "python",
   "name": "python3"
  },
  "language_info": {
   "codemirror_mode": {
    "name": "ipython",
    "version": 3
   },
   "file_extension": ".py",
   "mimetype": "text/x-python",
   "name": "python",
   "nbconvert_exporter": "python",
   "pygments_lexer": "ipython3",
   "version": "3.10.9"
  }
 },
 "nbformat": 4,
 "nbformat_minor": 5
}
