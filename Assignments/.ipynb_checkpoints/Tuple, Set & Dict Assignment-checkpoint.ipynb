{
 "cells": [
  {
   "cell_type": "markdown",
   "id": "ee9dc6ec",
   "metadata": {},
   "source": [
    "## Tuple, Set & Dict Assignment"
   ]
  },
  {
   "cell_type": "markdown",
   "id": "31534c3d",
   "metadata": {},
   "source": [
    "#### Q1. What are the characteristics of the tuples? Is tuple immutable?\n",
    "    Ans.  A tuple is a collection which is ordered and unchangeable. Tuple is immuatable."
   ]
  },
  {
   "cell_type": "markdown",
   "id": "e3f1b0e5",
   "metadata": {},
   "source": [
    "#### Q2. What are the two tuple methods in python? Give an example of each method. Give a reason why tuples have only two in-built methods as compared to Lists.\n",
    "    Ans. count() and index() are two tuple methods in python.\n",
    "        eg. - A = (1,2,3,1,4,2)\n",
    "        A.count(1) # will output 2 (count of element '1' in tuple A)\n",
    "        A.index(2) # will output 1 (first index of element '2')\n",
    "        \n",
    "        Tuples have only two in-built methods as compared to lists because of tuples are immutable. "
   ]
  },
  {
   "cell_type": "code",
   "execution_count": 5,
   "id": "9754e123",
   "metadata": {},
   "outputs": [
    {
     "data": {
      "text/plain": [
       "(2, 1)"
      ]
     },
     "execution_count": 5,
     "metadata": {},
     "output_type": "execute_result"
    }
   ],
   "source": [
    "A = (1,2,3,1,4,2)\n",
    "A.count(1), A.index(2) "
   ]
  },
  {
   "cell_type": "markdown",
   "id": "d61b2ace",
   "metadata": {},
   "source": [
    "#### Q3.  Which collection datatypes in python do not allow duplicate items? Write a code using a set to remove duplicates from the given list.\n",
    "    List = [1, 1, 1, 2, 1, 3, 1, 4, 2, 1, 2, 2, 2, 3, 2, 4, 3, 1, 3, 2, 3, 3, 3, 4, 4, 1, 4, 2, 4, 3, 4, 4]\n",
    "    \n",
    "    Ans. set() doesn't allow duplicate items\n",
    "    set(List) # will remove duplicate from the given list"
   ]
  },
  {
   "cell_type": "code",
   "execution_count": 7,
   "id": "ccfdb748",
   "metadata": {},
   "outputs": [
    {
     "data": {
      "text/plain": [
       "{1, 2, 3, 4}"
      ]
     },
     "execution_count": 7,
     "metadata": {},
     "output_type": "execute_result"
    }
   ],
   "source": [
    "List = [1, 1, 1, 2, 1, 3, 1, 4, 2, 1, 2, 2, 2, 3, 2, 4, 3, 1, 3, 2, 3, 3, 3, 4, 4, 1, 4, 2, 4, 3, 4, 4]\n",
    "set(List)"
   ]
  },
  {
   "cell_type": "markdown",
   "id": "630820b4",
   "metadata": {},
   "source": [
    "#### Q4. Explain the difference between the union() and update() methods for a set. Give an example of each method.\n",
    "    Ans. union() will take union of 2 sets while update() will adds elements from a set (passed as an argument) to the set.\n",
    "    Example below:"
   ]
  },
  {
   "cell_type": "code",
   "execution_count": 17,
   "id": "1becc800",
   "metadata": {},
   "outputs": [
    {
     "data": {
      "text/plain": [
       "({1, 2, 3, 4}, None, {1, 2, 3, 4, 5})"
      ]
     },
     "execution_count": 17,
     "metadata": {},
     "output_type": "execute_result"
    }
   ],
   "source": [
    "A = {1,2,3}\n",
    "B = {4,2,3}\n",
    "C = {4,5}\n",
    "\n",
    "A.union(B), A.update(C), A"
   ]
  },
  {
   "cell_type": "markdown",
   "id": "bd743e91",
   "metadata": {},
   "source": [
    "#### Q5. What is a dictionary? Give an example. Also, state whether a dictionary is ordered or unordered.\n",
    "    Ans. Dictionary in Python is a collection of keys values, used to store data values like a map, with unique keys.\n",
    "    e.g. dict1 = {'k1': 1, 'k2': 2}\n",
    "    Dictionary is ordered."
   ]
  },
  {
   "cell_type": "markdown",
   "id": "317ed9d4",
   "metadata": {},
   "source": [
    "#### Q6. Can we create a nested dictionary? If so, please give an example by creating a simple one-level nested dictionary.\n",
    "    Ans. Yes, we can create nested dictionary.\n",
    "    e.g.- dict1 = {'k1':{'k11':2},'k2': 2}"
   ]
  },
  {
   "cell_type": "code",
   "execution_count": 20,
   "id": "5e019642",
   "metadata": {},
   "outputs": [
    {
     "data": {
      "text/plain": [
       "2"
      ]
     },
     "execution_count": 20,
     "metadata": {},
     "output_type": "execute_result"
    }
   ],
   "source": [
    "dict1 = {'k1':{'k11':2},'k2': 5}\n",
    "dict1['k1']['k11']"
   ]
  },
  {
   "cell_type": "markdown",
   "id": "9731d041",
   "metadata": {},
   "source": [
    "#### Q7. Using setdefault() method, create key named topics in the given dictionary and also add the value of the key as this list ['Python', 'Machine Learning’, 'Deep Learning']"
   ]
  },
  {
   "cell_type": "code",
   "execution_count": 22,
   "id": "dc11765f",
   "metadata": {},
   "outputs": [
    {
     "data": {
      "text/plain": [
       "{'name': 'John',\n",
       " 'age': 25,\n",
       " 'topics': ['Python', 'Machine Learning', 'Deep Learning']}"
      ]
     },
     "execution_count": 22,
     "metadata": {},
     "output_type": "execute_result"
    }
   ],
   "source": [
    "my_dict = {'name': 'John', 'age': 25}\n",
    "my_dict.setdefault('topics', ['Python', 'Machine Learning', 'Deep Learning'])\n",
    "my_dict"
   ]
  },
  {
   "cell_type": "markdown",
   "id": "6f67610f",
   "metadata": {},
   "source": [
    "#### Q8. What are the three view objects in dictionaries? Use the three in-built methods in python to display these three view objects for the given dictionary.\n",
    "    dict1 = {'Sport': 'Cricket' , 'Teams': ['India', 'Australia', 'England', 'South Africa', 'Sri Lanka', 'New Zealand']}\n",
    "    \n",
    "    Ans. keys() - This view object provides a list-like view of the keys in the dictionary.\n",
    "         values() - This view object provides a list-like view of the values in the dictionary.\n",
    "         items() - This view object provides a list-like view of the key-value pairs in the dictionary."
   ]
  },
  {
   "cell_type": "code",
   "execution_count": 24,
   "id": "00d5c306",
   "metadata": {},
   "outputs": [
    {
     "name": "stdout",
     "output_type": "stream",
     "text": [
      "keys:  dict_keys(['Sport', 'Teams'])\n",
      "values:  dict_values(['Cricket', ['India', 'Australia', 'England', 'South Africa', 'Sri Lanka', 'New Zealand']])\n",
      "items:  dict_items([('Sport', 'Cricket'), ('Teams', ['India', 'Australia', 'England', 'South Africa', 'Sri Lanka', 'New Zealand'])])\n"
     ]
    }
   ],
   "source": [
    "dict1 = {'Sport': 'Cricket' , 'Teams': ['India', 'Australia', 'England', 'South Africa', 'Sri Lanka', 'New Zealand']}\n",
    "print('keys: ', dict1.keys())\n",
    "print('values: ', dict1.values())\n",
    "print('items: ', dict1.items())"
   ]
  },
  {
   "cell_type": "code",
   "execution_count": null,
   "id": "5957e42d",
   "metadata": {},
   "outputs": [],
   "source": []
  },
  {
   "cell_type": "code",
   "execution_count": null,
   "id": "bb627300",
   "metadata": {},
   "outputs": [],
   "source": []
  }
 ],
 "metadata": {
  "kernelspec": {
   "display_name": "Python 3 (ipykernel)",
   "language": "python",
   "name": "python3"
  },
  "language_info": {
   "codemirror_mode": {
    "name": "ipython",
    "version": 3
   },
   "file_extension": ".py",
   "mimetype": "text/x-python",
   "name": "python",
   "nbconvert_exporter": "python",
   "pygments_lexer": "ipython3",
   "version": "3.10.9"
  }
 },
 "nbformat": 4,
 "nbformat_minor": 5
}
