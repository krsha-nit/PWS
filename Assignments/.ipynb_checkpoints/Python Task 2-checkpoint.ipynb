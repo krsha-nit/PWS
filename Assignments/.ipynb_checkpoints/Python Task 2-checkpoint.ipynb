{
 "cells": [
  {
   "cell_type": "markdown",
   "id": "daa758a0",
   "metadata": {},
   "source": [
    "#### Q1. You are writing code for a company. The requirement of the company is that you create a python function that will check whether the password entered by the user is correct or not. The function should take the password as input and return the string “Valid Password” if the entered password follows the below-given password guidelines else it should return “Invalid Password”.\n",
    "    Note: 1. The Password should contain at least two uppercase letters and at least two lowercase letters.\n",
    "    2. The Password should contain at least a number and three special characters.\n",
    "    3. The length of the password should be 10 characters long."
   ]
  },
  {
   "cell_type": "code",
   "execution_count": 8,
   "id": "583fcaf1",
   "metadata": {},
   "outputs": [
    {
     "name": "stdout",
     "output_type": "stream",
     "text": [
      "Valid Password\n",
      "Invalid Password\n",
      "Invalid Password\n",
      "Invalid Password\n"
     ]
    }
   ],
   "source": [
    "import re\n",
    "\n",
    "def password_validity_check(password):\n",
    "    \n",
    "    # The length of the password should be 10 characters long.\n",
    "    if len(password) != 10:\n",
    "        return \"Invalid Password\"\n",
    "    \n",
    "    # The Password should contain at least two uppercase letters and at least two lowercase letters.\n",
    "    uppercase_count = sum(1 for char in password if char.isupper())\n",
    "    lowercase_count = sum(1 for char in password if char.islower())\n",
    "    if uppercase_count < 2 or lowercase_count < 2:\n",
    "        return \"Invalid Password\"\n",
    "    \n",
    "    # The Password should contain at least a number and three special characters.\n",
    "    number_count = sum(1 for char in password if char.isdigit())\n",
    "    special_char_count = re.findall(r'[^\\w\\s\\d]',password)\n",
    "    if number_count < 1 or len(special_char_count) < 3:\n",
    "        return \"Invalid Password\"\n",
    "    \n",
    "    return \"Valid Password\"\n",
    "\n",
    "\n",
    "password1 = \"AbcDef1@#!\"\n",
    "password2 = \"aBcdEf1234\"\n",
    "password3 = \"abcdefghij\"\n",
    "password4 = \"ABCDEF1234\"\n",
    "print(password_validity_check(password1))\n",
    "print(password_validity_check(password2))\n",
    "print(password_validity_check(password3))\n",
    "print(password_validity_check(password4))"
   ]
  },
  {
   "cell_type": "markdown",
   "id": "090a862d",
   "metadata": {},
   "source": [
    "#### Q2. Solve the below-given questions using at least one of the following:\n",
    "    1. Lambda function\n",
    "    2. Filter function\n",
    "    3. Zap function\n",
    "    4. List Comprehension\n",
    "    \n",
    "    * Check if the string starts with a particular letter.\n",
    "    * Check if the string is numeric.\n",
    "    * Sort a list of tuples having fruit names and their quantity. [(\"mango\",99),(\"orange\",80), (\"grapes\", 1000)-\n",
    "    * Find the squares of numbers from 1 to 10.\n",
    "    * Find the cube root of numbers from 1 to 10.\n",
    "    * Check if a given number is even.\n",
    "    * Filter odd numbers from the given list.\n",
    "    [1,2,3,4,5,6,7,8,9,10]\n",
    "    * Sort a list of integers into positive and negative integers lists.\n",
    "    [1,2,3,4,5,6,-1,-2,-3,-4,-5,0]"
   ]
  },
  {
   "cell_type": "code",
   "execution_count": 10,
   "id": "9ffed76c",
   "metadata": {},
   "outputs": [
    {
     "data": {
      "text/plain": [
       "(True, False)"
      ]
     },
     "execution_count": 10,
     "metadata": {},
     "output_type": "execute_result"
    }
   ],
   "source": [
    "# Check if the string starts with a particular letter.\n",
    "def str_starts_with(str_,char_):\n",
    "    return str_.startswith(char_)\n",
    "\n",
    "str_starts_with(\"ABC\",\"A\"), str_starts_with(\"ABC\",\"a\")"
   ]
  },
  {
   "cell_type": "code",
   "execution_count": 11,
   "id": "66c83915",
   "metadata": {},
   "outputs": [
    {
     "data": {
      "text/plain": [
       "(False, True)"
      ]
     },
     "execution_count": 11,
     "metadata": {},
     "output_type": "execute_result"
    }
   ],
   "source": [
    "#Check if the string is numeric.\n",
    "def is_string_numeric(str_):\n",
    "    return str_.isdigit()\n",
    "\n",
    "is_string_numeric(\"AB\"), is_string_numeric(\"123\")"
   ]
  },
  {
   "cell_type": "code",
   "execution_count": 13,
   "id": "2d36612e",
   "metadata": {},
   "outputs": [
    {
     "data": {
      "text/plain": [
       "[('orange', 80), ('mango', 99), ('grapes', 1000)]"
      ]
     },
     "execution_count": 13,
     "metadata": {},
     "output_type": "execute_result"
    }
   ],
   "source": [
    "# Sort a list of tuples having fruit names and their quantity. [(\"mango\",99),(\"orange\",80), (\"grapes\", 1000)]\n",
    "fruits = [(\"mango\",99),(\"orange\",80), (\"grapes\", 1000)]\n",
    "sorted_fruits = sorted(fruits,key= lambda x: x[1])\n",
    "sorted_fruits"
   ]
  },
  {
   "cell_type": "code",
   "execution_count": 14,
   "id": "234213a2",
   "metadata": {},
   "outputs": [
    {
     "data": {
      "text/plain": [
       "[1, 4, 9, 16, 25, 36, 49, 64, 81, 100]"
      ]
     },
     "execution_count": 14,
     "metadata": {},
     "output_type": "execute_result"
    }
   ],
   "source": [
    "# Find the squares of numbers from 1 to 10.\n",
    "square_1_to_10 = [x**2 for x in range(1,11)]\n",
    "square_1_to_10"
   ]
  },
  {
   "cell_type": "code",
   "execution_count": 17,
   "id": "e90538fe",
   "metadata": {},
   "outputs": [
    {
     "data": {
      "text/plain": [
       "[1.0, 1.26, 1.44, 1.59, 1.71, 1.82, 1.91, 2.0, 2.08, 2.15]"
      ]
     },
     "execution_count": 17,
     "metadata": {},
     "output_type": "execute_result"
    }
   ],
   "source": [
    "# Find the cube root of numbers from 1 to 10.\n",
    "import math\n",
    "cuberoot_1to10 = [round(math.pow(x,1/3),2) for x in range(1,11)]\n",
    "cuberoot_1to10"
   ]
  },
  {
   "cell_type": "code",
   "execution_count": 18,
   "id": "3243e805",
   "metadata": {},
   "outputs": [
    {
     "data": {
      "text/plain": [
       "(False, True)"
      ]
     },
     "execution_count": 18,
     "metadata": {},
     "output_type": "execute_result"
    }
   ],
   "source": [
    "# Check if a given number is even.\n",
    "def check_even(num):\n",
    "    return num % 2 == 0\n",
    "\n",
    "check_even(5), check_even(1000)"
   ]
  },
  {
   "cell_type": "code",
   "execution_count": 21,
   "id": "1eccaa56",
   "metadata": {},
   "outputs": [
    {
     "data": {
      "text/plain": [
       "[1, 3, 5, 7, 9]"
      ]
     },
     "execution_count": 21,
     "metadata": {},
     "output_type": "execute_result"
    }
   ],
   "source": [
    "# Filter odd numbers from the given list.\n",
    "list1 = [1,2,3,4,5,6,7,8,9,10]\n",
    "odd_nums = [x for x in list1 if x % 2 != 0]\n",
    "odd_nums = list(filter(lambda x: x % 2 != 0, list1))\n",
    "odd_nums"
   ]
  },
  {
   "cell_type": "code",
   "execution_count": 25,
   "id": "9bd75a48",
   "metadata": {},
   "outputs": [
    {
     "data": {
      "text/plain": [
       "([1, 2, 3, 4, 5, 6, 0], [-1, -2, -3, -4, -5])"
      ]
     },
     "execution_count": 25,
     "metadata": {},
     "output_type": "execute_result"
    }
   ],
   "source": [
    "# Sort a list of integers into positive and negative integers lists.\n",
    "list2 = [1,2,3,4,5,6,-1,-2,-3,-4,-5,0]\n",
    "postive_nums = [num for num in list2 if num >= 0]\n",
    "negative_nums = [num for num in list2 if num < 0]\n",
    "postive_nums, negative_nums"
   ]
  },
  {
   "cell_type": "code",
   "execution_count": null,
   "id": "2168be9d",
   "metadata": {},
   "outputs": [],
   "source": []
  }
 ],
 "metadata": {
  "kernelspec": {
   "display_name": "Python 3 (ipykernel)",
   "language": "python",
   "name": "python3"
  },
  "language_info": {
   "codemirror_mode": {
    "name": "ipython",
    "version": 3
   },
   "file_extension": ".py",
   "mimetype": "text/x-python",
   "name": "python",
   "nbconvert_exporter": "python",
   "pygments_lexer": "ipython3",
   "version": "3.10.9"
  }
 },
 "nbformat": 4,
 "nbformat_minor": 5
}
