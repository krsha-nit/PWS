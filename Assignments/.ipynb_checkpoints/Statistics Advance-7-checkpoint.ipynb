{
 "cells": [
  {
   "cell_type": "markdown",
   "id": "7965cdc1",
   "metadata": {},
   "source": [
    "#### Q1. Write a Python function that takes in two arrays of data and calculates the F-value for a variance ratio test. The function should return the F-value and the corresponding p-value for the test."
   ]
  },
  {
   "cell_type": "code",
   "execution_count": 10,
   "id": "d2adc892",
   "metadata": {},
   "outputs": [
    {
     "name": "stdout",
     "output_type": "stream",
     "text": [
      "F-value: 4.0\n",
      "p-value: 0.896\n"
     ]
    }
   ],
   "source": [
    "import numpy as np\n",
    "from scipy.stats import f\n",
    "\n",
    "def variance_ratio_test(data1, data2):\n",
    "    # Calculate the variances of the two data sets\n",
    "    variance1 = np.var(data1, ddof=1)\n",
    "    variance2 = np.var(data2, ddof=1)\n",
    "\n",
    "    # Ensure that variance1 is the larger variance\n",
    "    if variance2 > variance1:\n",
    "        variance1, variance2 = variance2, variance1\n",
    "\n",
    "    # Calculate the F-value for the variance ratio test\n",
    "    f_value = variance1 / variance2\n",
    "\n",
    "    # Calculate the degrees of freedom\n",
    "    df1 = len(data1) - 1\n",
    "    df2 = len(data2) - 1\n",
    "\n",
    "    # Calculate the p-value for the F-test\n",
    "    p_value = f.cdf(f_value, df1, df2)\n",
    "\n",
    "    return f_value, p_value\n",
    "\n",
    "# Example usage:\n",
    "data1 = [1, 2, 3, 4, 5]\n",
    "data2 = [2, 4, 6, 8, 10]\n",
    "f_value, p_value = variance_ratio_test(data1, data2)\n",
    "print(\"F-value:\", f_value)\n",
    "print(\"p-value:\", p_value)"
   ]
  },
  {
   "cell_type": "markdown",
   "id": "341e1bc2",
   "metadata": {},
   "source": [
    "#### Q2. Given a significance level of 0.05 and the degrees of freedom for the numerator and denominator of an F-distribution, write a Python function that returns the critical F-value for a two-tailed test."
   ]
  },
  {
   "cell_type": "code",
   "execution_count": 11,
   "id": "36743084",
   "metadata": {},
   "outputs": [
    {
     "name": "stdout",
     "output_type": "stream",
     "text": [
      "Critical F-value: 4.236085668188633\n"
     ]
    }
   ],
   "source": [
    "from scipy.stats import f\n",
    "\n",
    "def critical_f_value(alpha, df1, df2):\n",
    "    # Calculate the critical F-value for a two-tailed test\n",
    "    return f.ppf(1 - alpha/2, df1, df2)\n",
    "\n",
    "# Example usage:\n",
    "significance_level = 0.05\n",
    "numerator_df = 5\n",
    "denominator_df = 10\n",
    "critical_f = critical_f_value(significance_level, numerator_df, denominator_df)\n",
    "print(\"Critical F-value:\", critical_f)"
   ]
  },
  {
   "cell_type": "markdown",
   "id": "e06f6ac6",
   "metadata": {},
   "source": [
    "#### Q3. Write a Python program that generates random samples from two normal distributions with known variances and uses an F-test to determine if the variances are equal. The program should output the F- value, degrees of freedom, and p-value for the test."
   ]
  },
  {
   "cell_type": "code",
   "execution_count": 12,
   "id": "74fb5b62",
   "metadata": {},
   "outputs": [
    {
     "name": "stdout",
     "output_type": "stream",
     "text": [
      "F-value: 1.0167572245354737\n",
      "Degrees of freedom (numerator): 19\n",
      "Degrees of freedom (denominator): 19\n",
      "p-value: 0.514257343534805\n"
     ]
    }
   ],
   "source": [
    "import numpy as np\n",
    "from scipy.stats import f\n",
    "\n",
    "def f_test_for_equal_variances(data1, data2):\n",
    "    # Calculate the variances of the two data sets\n",
    "    variance1 = np.var(data1, ddof=1)\n",
    "    variance2 = np.var(data2, ddof=1)\n",
    "\n",
    "    # Ensure that variance1 is the larger variance\n",
    "    if variance2 > variance1:\n",
    "        variance1, variance2 = variance2, variance1\n",
    "\n",
    "    # Calculate the F-value for the variance ratio test\n",
    "    f_value = variance1 / variance2\n",
    "\n",
    "    # Calculate the degrees of freedom\n",
    "    df1 = len(data1) - 1\n",
    "    df2 = len(data2) - 1\n",
    "\n",
    "    # Calculate the p-value for the F-test\n",
    "    p_value = f.cdf(f_value, df1, df2)\n",
    "\n",
    "    return f_value, df1, df2, p_value\n",
    "\n",
    "# Example usage:\n",
    "np.random.seed(42)\n",
    "sample_size = 20\n",
    "mean1, variance1 = 10, 10\n",
    "mean2, variance2 = 15, 10\n",
    "\n",
    "data1 = np.random.normal(mean1, np.sqrt(variance1), sample_size)\n",
    "data2 = np.random.normal(mean2, np.sqrt(variance2), sample_size)\n",
    "\n",
    "f_value, df1, df2, p_value = f_test_for_equal_variances(data1, data2)\n",
    "print(\"F-value:\", f_value)\n",
    "print(\"Degrees of freedom (numerator):\", df1)\n",
    "print(\"Degrees of freedom (denominator):\", df2)\n",
    "print(\"p-value:\", p_value)"
   ]
  },
  {
   "cell_type": "markdown",
   "id": "d932e5c0",
   "metadata": {},
   "source": [
    "#### Q4.The variances of two populations are known to be 10 and 15. A sample of 12 observations is taken from each population. Conduct an F-test at the 5% significance level to determine if the variances are significantly different."
   ]
  },
  {
   "cell_type": "code",
   "execution_count": 13,
   "id": "0c0f61f3",
   "metadata": {},
   "outputs": [
    {
     "name": "stdout",
     "output_type": "stream",
     "text": [
      "F-value: 0.6666666666666666\n",
      "Degrees of freedom (numerator): 11\n",
      "Degrees of freedom (denominator): 11\n",
      "p-value: 0.2561948993678998\n",
      "There is no significant difference in variances.\n"
     ]
    }
   ],
   "source": [
    "from scipy.stats import f\n",
    "\n",
    "def f_test_for_known_variances(variance1, variance2, sample_size1, sample_size2):\n",
    "    # Calculate the F-value for the variance ratio test\n",
    "    f_value = variance1 / variance2\n",
    "\n",
    "    # Calculate the degrees of freedom\n",
    "    df1 = sample_size1 - 1\n",
    "    df2 = sample_size2 - 1\n",
    "\n",
    "    # Calculate the p-value for the F-test\n",
    "    p_value = f.cdf(f_value, df1, df2)\n",
    "\n",
    "    return f_value, df1, df2, p_value\n",
    "\n",
    "# Example usage:\n",
    "variance1 = 10\n",
    "variance2 = 15\n",
    "sample_size1 = 12\n",
    "sample_size2 = 12\n",
    "\n",
    "f_value, df1, df2, p_value = f_test_for_known_variances(variance1, variance2, sample_size1, sample_size2)\n",
    "significance_level = 0.05\n",
    "\n",
    "print(\"F-value:\", f_value)\n",
    "print(\"Degrees of freedom (numerator):\", df1)\n",
    "print(\"Degrees of freedom (denominator):\", df2)\n",
    "print(\"p-value:\", p_value)\n",
    "\n",
    "if p_value < significance_level:\n",
    "    print(\"The variances are significantly different.\")\n",
    "else:\n",
    "    print(\"There is no significant difference in variances.\")"
   ]
  },
  {
   "cell_type": "markdown",
   "id": "ca9fc05c",
   "metadata": {},
   "source": [
    "#### Q5. A manufacturer claims that the variance of the diameter of a certain product is 0.005. A sample of 25 products is taken, and the sample variance is found to be 0.006. Conduct an F-test at the 1% significance level to determine if the claim is justified."
   ]
  },
  {
   "cell_type": "code",
   "execution_count": 14,
   "id": "048425b3",
   "metadata": {},
   "outputs": [
    {
     "name": "stdout",
     "output_type": "stream",
     "text": [
      "F-value: 1.2\n",
      "Degrees of freedom (numerator): 24\n",
      "Degrees of freedom (denominator): 1\n",
      "p-value: 0.3703900380040642\n",
      "The claim is justified. There is no significant difference in variance.\n"
     ]
    }
   ],
   "source": [
    "from scipy.stats import f\n",
    "\n",
    "def f_test_for_claim(variance_claimed, sample_variance, sample_size):\n",
    "    # Calculate the F-value for the variance ratio test\n",
    "    f_value = sample_variance / variance_claimed\n",
    "\n",
    "    # Calculate the degrees of freedom\n",
    "    df1 = sample_size - 1\n",
    "    df2 = 1  # Degrees of freedom for the denominator (since variance_claimed has 1 degree of freedom)\n",
    "\n",
    "    # Calculate the p-value for the F-test\n",
    "    p_value = f.cdf(f_value, df1, df2)\n",
    "\n",
    "    return f_value, df1, df2, p_value\n",
    "\n",
    "# Example usage:\n",
    "variance_claimed = 0.005\n",
    "sample_variance = 0.006\n",
    "sample_size = 25\n",
    "significance_level = 0.01\n",
    "\n",
    "f_value, df1, df2, p_value = f_test_for_claim(variance_claimed, sample_variance, sample_size)\n",
    "\n",
    "print(\"F-value:\", f_value)\n",
    "print(\"Degrees of freedom (numerator):\", df1)\n",
    "print(\"Degrees of freedom (denominator):\", df2)\n",
    "print(\"p-value:\", p_value)\n",
    "\n",
    "if p_value < significance_level:\n",
    "    print(\"The claim is not justified. There is significant difference in variance.\")\n",
    "else:\n",
    "    print(\"The claim is justified. There is no significant difference in variance.\")"
   ]
  },
  {
   "cell_type": "markdown",
   "id": "77ac7262",
   "metadata": {},
   "source": [
    "#### Q6. Write a Python function that takes in the degrees of freedom for the numerator and denominator of an F-distribution and calculates the mean and variance of the distribution. The function should return the mean and variance as a tuple."
   ]
  },
  {
   "cell_type": "code",
   "execution_count": 15,
   "id": "5d653112",
   "metadata": {},
   "outputs": [
    {
     "name": "stdout",
     "output_type": "stream",
     "text": [
      "Mean of F-distribution: 1.25\n",
      "Variance of F-distribution: 1.3541666666666667\n"
     ]
    }
   ],
   "source": [
    "from scipy.stats import f\n",
    "\n",
    "def f_distribution_mean_variance(df1, df2):\n",
    "    # Calculate the mean and variance of the F-distribution\n",
    "    mean = df2 / (df2 - 2)\n",
    "    variance = (2 * df2**2 * (df1 + df2 - 2)) / (df1 * (df2 - 2)**2 * (df2 - 4))\n",
    "\n",
    "    return mean, variance\n",
    "\n",
    "# Example usage:\n",
    "numerator_df = 5\n",
    "denominator_df = 10\n",
    "mean, variance = f_distribution_mean_variance(numerator_df, denominator_df)\n",
    "print(\"Mean of F-distribution:\", mean)\n",
    "print(\"Variance of F-distribution:\", variance)"
   ]
  },
  {
   "cell_type": "markdown",
   "id": "5c5b272f",
   "metadata": {},
   "source": [
    "#### Q7. A random sample of 10 measurements is taken from a normal population with unknown variance. The sample variance is found to be 25. Another random sample of 15 measurements is taken from another normal population with unknown variance, and the sample variance is found to be 20. Conduct an F-test at the 10% significance level to determine if the variances are significantly different."
   ]
  },
  {
   "cell_type": "code",
   "execution_count": 16,
   "id": "ee990d6e",
   "metadata": {},
   "outputs": [
    {
     "name": "stdout",
     "output_type": "stream",
     "text": [
      "F-value: 1.25\n",
      "Degrees of freedom (numerator): 9\n",
      "Degrees of freedom (denominator): 14\n",
      "p-value: 0.6583902808707023\n",
      "There is no significant difference in variances.\n"
     ]
    }
   ],
   "source": [
    "from scipy.stats import f\n",
    "\n",
    "def f_test_for_unknown_variances(sample_var1, sample_size1, sample_var2, sample_size2):\n",
    "    # Calculate the F-value for the variance ratio test\n",
    "    f_value = sample_var1 / sample_var2\n",
    "\n",
    "    # Calculate the degrees of freedom\n",
    "    df1 = sample_size1 - 1\n",
    "    df2 = sample_size2 - 1\n",
    "\n",
    "    # Calculate the p-value for the F-test\n",
    "    p_value = f.cdf(f_value, df1, df2)\n",
    "\n",
    "    return f_value, df1, df2, p_value\n",
    "\n",
    "# Example usage:\n",
    "sample_var1 = 25\n",
    "sample_size1 = 10\n",
    "sample_var2 = 20\n",
    "sample_size2 = 15\n",
    "significance_level = 0.10\n",
    "\n",
    "f_value, df1, df2, p_value = f_test_for_unknown_variances(sample_var1, sample_size1, sample_var2, sample_size2)\n",
    "\n",
    "print(\"F-value:\", f_value)\n",
    "print(\"Degrees of freedom (numerator):\", df1)\n",
    "print(\"Degrees of freedom (denominator):\", df2)\n",
    "print(\"p-value:\", p_value)\n",
    "\n",
    "if p_value < significance_level:\n",
    "    print(\"The variances are significantly different.\")\n",
    "else:\n",
    "    print(\"There is no significant difference in variances.\")"
   ]
  },
  {
   "cell_type": "markdown",
   "id": "ad2d70e3",
   "metadata": {},
   "source": [
    "#### Q8. The following data represent the waiting times in minutes at two different restaurants on a Saturday night: Restaurant A: 24, 25, 28, 23, 22, 20, 27; Restaurant B: 31, 33, 35, 30, 32, 36. Conduct an F-test at the 5% significance level to determine if the variances are significantly different."
   ]
  },
  {
   "cell_type": "code",
   "execution_count": 17,
   "id": "8bf2024c",
   "metadata": {},
   "outputs": [
    {
     "name": "stdout",
     "output_type": "stream",
     "text": [
      "F-value: 1.4551907719609583\n",
      "Degrees of freedom (numerator): 6\n",
      "Degrees of freedom (denominator): 5\n",
      "p-value: 0.6512592126031258\n",
      "There is no significant difference in variances.\n"
     ]
    }
   ],
   "source": [
    "import numpy as np\n",
    "from scipy.stats import f\n",
    "\n",
    "def f_test_for_samples(data1, data2):\n",
    "    # Calculate the sample variances\n",
    "    sample_var1 = np.var(data1, ddof=1)\n",
    "    sample_var2 = np.var(data2, ddof=1)\n",
    "\n",
    "    # Ensure that sample_var1 is the larger variance\n",
    "    if sample_var2 > sample_var1:\n",
    "        sample_var1, sample_var2 = sample_var2, sample_var1\n",
    "\n",
    "    # Calculate the F-value for the variance ratio test\n",
    "    f_value = sample_var1 / sample_var2\n",
    "\n",
    "    # Calculate the degrees of freedom\n",
    "    df1 = len(data1) - 1\n",
    "    df2 = len(data2) - 1\n",
    "\n",
    "    # Calculate the p-value for the F-test\n",
    "    p_value = f.cdf(f_value, df1, df2)\n",
    "\n",
    "    return f_value, df1, df2, p_value\n",
    "\n",
    "# Example usage:\n",
    "restaurant_A = [24, 25, 28, 23, 22, 20, 27]\n",
    "restaurant_B = [31, 33, 35, 30, 32, 36]\n",
    "\n",
    "f_value, df1, df2, p_value = f_test_for_samples(restaurant_A, restaurant_B)\n",
    "significance_level = 0.05\n",
    "\n",
    "print(\"F-value:\", f_value)\n",
    "print(\"Degrees of freedom (numerator):\", df1)\n",
    "print(\"Degrees of freedom (denominator):\", df2)\n",
    "print(\"p-value:\", p_value)\n",
    "\n",
    "if p_value < significance_level:\n",
    "    print(\"The variances are significantly different.\")\n",
    "else:\n",
    "    print(\"There is no significant difference in variances.\")"
   ]
  },
  {
   "cell_type": "markdown",
   "id": "e2baa88f",
   "metadata": {},
   "source": [
    "#### Q9. The following data represent the test scores of two groups of students: Group A: 80, 85, 90, 92, 87, 83; Group B: 75, 78, 82, 79, 81, 84. Conduct an F-test at the 1% significance level to determine if the variances are significantly different."
   ]
  },
  {
   "cell_type": "code",
   "execution_count": 18,
   "id": "749a9be0",
   "metadata": {},
   "outputs": [
    {
     "name": "stdout",
     "output_type": "stream",
     "text": [
      "F-value: 1.9442622950819677\n",
      "Degrees of freedom (numerator): 5\n",
      "Degrees of freedom (denominator): 5\n",
      "p-value: 0.7584478225464656\n",
      "There is no significant difference in variances.\n"
     ]
    }
   ],
   "source": [
    "import numpy as np\n",
    "from scipy.stats import f\n",
    "\n",
    "def f_test_for_samples(data1, data2):\n",
    "    # Calculate the sample variances\n",
    "    sample_var1 = np.var(data1, ddof=1)\n",
    "    sample_var2 = np.var(data2, ddof=1)\n",
    "\n",
    "    # Ensure that sample_var1 is the larger variance\n",
    "    if sample_var2 > sample_var1:\n",
    "        sample_var1, sample_var2 = sample_var2, sample_var1\n",
    "\n",
    "    # Calculate the F-value for the variance ratio test\n",
    "    f_value = sample_var1 / sample_var2\n",
    "\n",
    "    # Calculate the degrees of freedom\n",
    "    df1 = len(data1) - 1\n",
    "    df2 = len(data2) - 1\n",
    "\n",
    "    # Calculate the p-value for the F-test\n",
    "    p_value = f.cdf(f_value, df1, df2)\n",
    "\n",
    "    return f_value, df1, df2, p_value\n",
    "\n",
    "# Example usage:\n",
    "group_A = [80, 85, 90, 92, 87, 83]\n",
    "group_B = [75, 78, 82, 79, 81, 84]\n",
    "\n",
    "f_value, df1, df2, p_value = f_test_for_samples(group_A, group_B)\n",
    "significance_level = 0.01\n",
    "\n",
    "print(\"F-value:\", f_value)\n",
    "print(\"Degrees of freedom (numerator):\", df1)\n",
    "print(\"Degrees of freedom (denominator):\", df2)\n",
    "print(\"p-value:\", p_value)\n",
    "\n",
    "if p_value < significance_level:\n",
    "    print(\"The variances are significantly different.\")\n",
    "else:\n",
    "    print(\"There is no significant difference in variances.\")"
   ]
  },
  {
   "cell_type": "code",
   "execution_count": null,
   "id": "c946f99e",
   "metadata": {},
   "outputs": [],
   "source": []
  },
  {
   "cell_type": "code",
   "execution_count": null,
   "id": "b560911d",
   "metadata": {},
   "outputs": [],
   "source": []
  },
  {
   "cell_type": "code",
   "execution_count": null,
   "id": "f103c251",
   "metadata": {},
   "outputs": [],
   "source": []
  },
  {
   "cell_type": "code",
   "execution_count": null,
   "id": "7b1ee505",
   "metadata": {},
   "outputs": [],
   "source": []
  },
  {
   "cell_type": "code",
   "execution_count": null,
   "id": "321c3cad",
   "metadata": {},
   "outputs": [],
   "source": []
  }
 ],
 "metadata": {
  "kernelspec": {
   "display_name": "Python 3 (ipykernel)",
   "language": "python",
   "name": "python3"
  },
  "language_info": {
   "codemirror_mode": {
    "name": "ipython",
    "version": 3
   },
   "file_extension": ".py",
   "mimetype": "text/x-python",
   "name": "python",
   "nbconvert_exporter": "python",
   "pygments_lexer": "ipython3",
   "version": "3.10.9"
  }
 },
 "nbformat": 4,
 "nbformat_minor": 5
}
