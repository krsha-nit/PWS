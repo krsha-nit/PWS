{
 "cells": [
  {
   "cell_type": "markdown",
   "id": "cac3a4a0",
   "metadata": {},
   "source": [
    "#### Q1. What is the difference between Ordinal Encoding and Label Encoding? Provide an example of when you might choose one over the other.\n",
    "    Ans. Ordinal Encoding: Ordinal encoding is a type of data encoding that assigns a unique integer value to each category in a categorical feature, but it considers the inherent order or ranking of the categories. For example, if we have categories like \"low,\" \"medium,\" and \"high,\" ordinal encoding may assign values like 1, 2, and 3, respectively, to represent their relative order.\n",
    "    Label Encoding: Label encoding is a type of data encoding that assigns a unique integer value to each category in a categorical feature without considering any specific order or ranking. It simply labels the categories with integers in the order they appear in the dataset.\n",
    "    When to Choose One over the Other:\n",
    "    You might choose ordinal encoding over label encoding when the categorical feature has a clear order or ranking, and preserving that order is essential for the analysis or model training. For example, when dealing with educational qualifications like \"High School,\" \"Bachelor's,\" \"Master's,\" and \"Ph.D.,\" ordinal encoding would be more appropriate as it captures the increasing levels of education.\n",
    "\n",
    "    On the other hand, if there is no inherent order among the categories or preserving the order is not necessary for your analysis or model, label encoding can be used to simplify the representation of the categorical data.\n",
    "    \n",
    "    \n",
    "#### Q2. Explain how Target Guided Ordinal Encoding works and provide an example of when you might use it in a machine learning project.\n",
    "    Ans. Target Guided Ordinal Encoding is a technique used for ordinal encoding where the categories are ranked based on their relationship with the target variable. It is especially useful for binary classification problems where the goal is to predict one of the two classes.\n",
    "\n",
    "    Example:\n",
    "    Suppose you have a dataset of customer feedback with categorical features like \"Feedback\" (Positive, Neutral, Negative) and a target variable \"Churn\" (Yes/No), indicating whether the customer churned or not. You want to rank the \"Feedback\" categories based on their impact on customer churn.\n",
    "\n",
    "    To implement Target Guided Ordinal Encoding, you would calculate the mean churn rate for each \"Feedback\" category and rank them accordingly. The category with the highest churn rate would be assigned the highest rank, and so on. This way, the encoding captures the relationship between the \"Feedback\" categories and the target variable \"Churn.\"\n",
    "\n",
    "#### Q3. Define covariance and explain why it is important in statistical analysis. How is covariance calculated?\n",
    "    Ans. Covariance is a statistical measure that quantifies the degree of joint variability between two random variables. It indicates whether two variables increase or decrease together (positive covariance), are independent (zero covariance), or move in opposite directions (negative covariance).\n",
    "\n",
    "    Importance in Statistical Analysis:\n",
    "\n",
    "    Covariance is crucial for understanding the relationship between variables. A positive covariance suggests that when one variable increases, the other tends to increase as well, while a negative covariance indicates an inverse relationship.\n",
    "    In finance, covariance helps in analyzing the risk and diversification of a portfolio. Positive covariance between assets implies they are likely to move together, while negative covariance indicates diversification benefits.\n",
    "    Covariance is used in machine learning algorithms for dimensionality reduction techniques like Principal Component Analysis (PCA), where it helps in finding the principal components that explain the maximum variance in the data.\n",
    "    Calculation of Covariance:\n",
    "    The covariance between two variables X and Y, with n data points, is calculated using the following formula:\n",
    "\n",
    "\n",
    "#### Q4. For a dataset with the following categorical variables: Color (red, green, blue), Size (small, medium, large), and Material (wood, metal, plastic), perform label encoding using Python's scikit-learn library. Show your code and explain the output.\n"
   ]
  },
  {
   "cell_type": "code",
   "execution_count": 3,
   "id": "c2d75bda",
   "metadata": {},
   "outputs": [
    {
     "name": "stdout",
     "output_type": "stream",
     "text": [
      "Encoded Color: [2 1 0]\n",
      "Encoded Size: [2 1 0]\n",
      "Encoded Material: [2 0 1]\n"
     ]
    }
   ],
   "source": [
    "from sklearn.preprocessing import LabelEncoder\n",
    "\n",
    "# Sample data\n",
    "color = ['red', 'green', 'blue']\n",
    "size = ['small', 'medium', 'large']\n",
    "material = ['wood', 'metal', 'plastic']\n",
    "\n",
    "# Initialize LabelEncoder\n",
    "label_encoder = LabelEncoder()\n",
    "\n",
    "# Fit and transform each categorical variable\n",
    "color_encoded = label_encoder.fit_transform(color)\n",
    "size_encoded = label_encoder.fit_transform(size)\n",
    "material_encoded = label_encoder.fit_transform(material)\n",
    "\n",
    "# Print the encoded values\n",
    "print(\"Encoded Color:\", color_encoded)\n",
    "print(\"Encoded Size:\", size_encoded)\n",
    "print(\"Encoded Material:\", material_encoded)"
   ]
  },
  {
   "cell_type": "markdown",
   "id": "7f015e76",
   "metadata": {},
   "source": [
    "#### Q5. Calculate the covariance matrix for the following variables in a dataset: Age, Income, and Education level. Interpret the results.\n",
    "    Age: [30, 40, 25, 35, 28]\n",
    "    Income: [50000, 60000, 45000, 55000, 52000]\n",
    "    Education level: [12, 16, 10, 14, 11]\n",
    "    Mean Age = (30 + 40 + 25 + 35 + 28) / 5 = 31.6\n",
    "    Mean Income = (50000 + 60000 + 45000 + 55000 + 52000) / 5 = 52400\n",
    "    Mean Education level = (12 + 16 + 10 + 14 + 11) / 5 = 12.6\n",
    "\n",
    "    Cov(Age, Income) = ((30-31.6)*(50000-52400) + (40-31.6)*(60000-52400) + (25-31.6)*(45000-52400) + (35-31.6)*(55000-52400) + (28-31.6)*(52000-52400)) / 4\n",
    "                    = (-11200 - 2440 - 8400 + 4840 - 1280) / 4\n",
    "                    = -10780 / 4\n",
    "                    = -2695\n",
    "    Cov(Age, Education level) = ((30-31.6)*(12-12.6) + (40-31.6)*(16-12.6) + (25-31.6)*(10-12.6) + (35-31.6)*(14-12.6) + (28-31.6)*(11-12.6)) / 4\n",
    "                             = (-0.64 + 35.04 - 8.96 + 19.04 - 5.04) / 4\n",
    "                             = 39.44 / 4\n",
    "                             = 9.86\n",
    "    Cov(Income, Education level) = ((50000-52400)*(12-12.6) + (60000-52400)*(16-12.6) + (45000-52400)*(10-12.6) + (55000-52400)*(14-12.6) + (52000-52400)*(11-12.6)) / 4\n",
    "                                = (-48400 + 36600 - 82000 + 30800 - 16000) / 4\n",
    "                                = -79000 / 4\n",
    "                                = -19750\n",
    "    Covariance Matrix:\n",
    "              | Age      | Income   | Education level\n",
    "    -------------------------------------------\n",
    "    Age       | 2695.0   | -10780.0 | 9.86\n",
    "    Income    | -10780.0 | 79240000 | -19750\n",
    "    Edu. level| 9.86     | -19750   | 3.5\n",
    "\n",
    "    Interpretation:\n",
    "\n",
    "    The diagonal elements of the covariance matrix represent the variance of each variable. For example, the variance of \"Age\" is 2695.0, the variance of \"Income\" is 79240000, and the variance of \"Education level\" is 3.5.\n",
    "    The off-diagonal elements represent the covariances between pairs of variables. For example, the covariance between \"Age\" and \"Income\" is -10780.0, indicating a negative relationship between these variables.\n",
    "    A positive covariance indicates that as one variable increases, the other tends to increase, and a negative covariance indicates that as one variable increases, the other tends to decrease. In this example, \"Age\" and \"Income\" have a negative covariance, suggesting an inverse relationship.\n",
    "    The magnitude of the covariance values can be challenging to interpret directly, but they indicate the strength of the relationship between the variables. For more interpretable results, standardized measures like correlation coefficients can be used."
   ]
  },
  {
   "cell_type": "markdown",
   "id": "8de4f483",
   "metadata": {},
   "source": [
    "#### Q6. You are working on a machine learning project with a dataset containing several categorical variables, including \"Gender\" (Male/Female), \"Education Level\" (High School/Bachelor's/Master's/PhD), and \"Employment Status\" (Unemployed/Part-Time/Full-Time). Which encoding method would you use for each variable, and why?\n",
    "    Ans. Gender: Since \"Gender\" is a binary categorical variable with two unique categories (Male/Female), we can use label encoding. Label encoding will represent \"Male\" as 0 and \"Female\" as 1, which captures the binary nature of the variable.\n",
    "\n",
    "    Education Level: For the \"Education Level\" variable, we can use ordinal encoding. Ordinal encoding will assign a unique integer value to each category based on their inherent order or ranking. In this case, \"High School\" might be encoded as 0, \"Bachelor's\" as 1, \"Master's\" as 2, and \"PhD\" as 3, preserving their relative ranking in terms of education level.\n",
    "\n",
    "    Employment Status: Since \"Employment Status\" is a nominal categorical variable with three non-ordinal categories (Unemployed/Part-Time/Full-Time), we can use one-hot encoding. One-hot encoding will create three binary columns, each representing one of the three categories. For example, \"Unemployed\" might be represented as [1, 0, 0], \"Part-Time\" as [0, 1, 0], and \"Full-Time\" as [0, 0, 1]. One-hot encoding ensures that there is no inherent order among the categories and prevents the model from assuming any numerical relationship.\n",
    "    \n",
    "    \n",
    "#### Q7. You are analyzing a dataset with two continuous variables, \"Temperature\" and \"Humidity\", and two categorical variables, \"Weather Condition\" (Sunny/Cloudy/Rainy) and \"Wind Direction\" (North/South/ East/West). Calculate the covariance between each pair of variables and interpret the results.\n",
    "    Ans. Temperature: [25, 28, 30, 22, 27]\n",
    "        Humidity: [60, 55, 70, 40, 65]\n",
    "        Weather Condition: ['Sunny', 'Cloudy', 'Rainy', 'Sunny', 'Rainy']\n",
    "        Wind Direction: ['North', 'South', 'East', 'West', 'North']\n",
    "\n",
    "        Mean Temperature = (25 + 28 + 30 + 22 + 27) / 5 = 26.4\n",
    "        Mean Humidity = (60 + 55 + 70 + 40 + 65) / 5 = 58\n",
    "\n",
    "        Cov(Temperature, Humidity) = ((25-26.4)*(60-58) + (28-26.4)*(55-58) + (30-26.4)*(70-58) + (22-26.4)*(40-58) + (27-26.4)*(65-58)) / 4\n",
    "                                   = (-2.4*2 + 1.6*(-3) + 3.6*12 + (-4.4)*(-18) + 0.6*7) / 4\n",
    "                                   = (47.2 - 4.8 + 43.2 + 79.2 + 4.2) / 4\n",
    "                                   = 169.8 / 4\n",
    "                                   = 42.45\n",
    "\n",
    "        Cov(Temperature, Wind Direction) = Not applicable (as Wind Direction is a categorical variable)\n",
    "        Cov(Humidity, Weather Condition) = Not applicable (as Weather Condition is a categorical variable)\n",
    "        Cov(Humidity, Wind Direction) = Not applicable (as Wind Direction is a categorical variable)\n"
   ]
  },
  {
   "cell_type": "code",
   "execution_count": null,
   "id": "383dbe48",
   "metadata": {},
   "outputs": [],
   "source": []
  },
  {
   "cell_type": "code",
   "execution_count": null,
   "id": "4c002955",
   "metadata": {},
   "outputs": [],
   "source": []
  },
  {
   "cell_type": "code",
   "execution_count": null,
   "id": "8e87150f",
   "metadata": {},
   "outputs": [],
   "source": []
  }
 ],
 "metadata": {
  "kernelspec": {
   "display_name": "Python 3 (ipykernel)",
   "language": "python",
   "name": "python3"
  },
  "language_info": {
   "codemirror_mode": {
    "name": "ipython",
    "version": 3
   },
   "file_extension": ".py",
   "mimetype": "text/x-python",
   "name": "python",
   "nbconvert_exporter": "python",
   "pygments_lexer": "ipython3",
   "version": "3.10.9"
  }
 },
 "nbformat": 4,
 "nbformat_minor": 5
}
