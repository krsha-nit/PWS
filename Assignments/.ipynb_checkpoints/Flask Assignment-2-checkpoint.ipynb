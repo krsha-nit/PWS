{
 "cells": [
  {
   "cell_type": "markdown",
   "id": "19acbc34",
   "metadata": {},
   "source": [
    "#### Q1. Explain GET and POST methods.\n",
    "    Ans. In web development, the GET and POST methods are HTTP request methods used to communicate with a server.\n",
    "\n",
    "    GET method:\n",
    "\n",
    "    The GET method is used to retrieve data from the server.\n",
    "    When a client (such as a web browser) sends a GET request, it includes the requested data in the URL's query string.\n",
    "    It is used for safe and idempotent operations, meaning multiple identical requests will produce the same result without changing the server's state.\n",
    "    GET requests should not have a request body, and their parameters are visible in the URL, which makes them less secure for sensitive data.\n",
    "    \n",
    "    \n",
    "    POST method:\n",
    "\n",
    "    The POST method is used to send data to the server to be processed and potentially stored on the server.\n",
    "    When a client sends a POST request, the data is included in the request's body, which makes it more suitable for sending large amounts of data or sensitive information.\n",
    "    It is used for non-idempotent operations, meaning multiple identical POST requests may produce different results as they may change the server's state with each request."
   ]
  },
  {
   "cell_type": "code",
   "execution_count": null,
   "id": "9b1ed42f",
   "metadata": {},
   "outputs": [],
   "source": [
    "from flask import Flask, request\n",
    "\n",
    "app = Flask(__name__)\n",
    "\n",
    "@app.route('/get_example', methods=['GET'])\n",
    "def handle_get_request():\n",
    "    # Handle GET request logic here\n",
    "    return 'This is a GET request.'\n",
    "\n",
    "@app.route('/post_example', methods=['POST'])\n",
    "def handle_post_request():\n",
    "    # Handle POST request logic here\n",
    "    return 'This is a POST request.'\n",
    "\n",
    "if __name__ == '__main__':\n",
    "    app.run()"
   ]
  },
  {
   "cell_type": "markdown",
   "id": "ad4f05ff",
   "metadata": {},
   "source": [
    "#### Q2. Why is request used in Flask?\n",
    "    Ans. In Flask, the request object is used to access incoming request data from a client, such as form data, URL parameters, and uploaded files. It provides a way for Flask applications to interact with the data sent by the client in both GET and POST requests.\n",
    "\n",
    "    The request object in Flask provides various attributes and methods to access request data, including:\n",
    "\n",
    "    request.args: A dictionary-like object containing the parsed URL parameters (for GET requests).\n",
    "    request.form: A dictionary-like object containing the parsed form data (for POST requests with application/x-www-form-urlencoded or multipart/form-data).\n",
    "    request.json: A dictionary-like object containing the parsed JSON data (for POST requests with JSON payload).\n",
    "    request.files: A dictionary-like object containing uploaded files.\n",
    "    Using the request object, you can access data sent by the client and use it to process the request and provide a response accordingly."
   ]
  },
  {
   "cell_type": "markdown",
   "id": "09eebae1",
   "metadata": {},
   "source": [
    "#### Q3. Why is redirect() used in Flask?\n",
    "    Ans. In Flask, the redirect() function is used to redirect a user's request from one URL to another. It is often used after processing a form submission or performing some action that requires a redirect to a different page.\n",
    "\n",
    "    When you need to perform an action and then show the result on a different page, you can use redirect() to send the user to that page. This helps avoid resubmission of form data when the user refreshes the page, as it instructs the browser to make a new request to the redirected URL."
   ]
  },
  {
   "cell_type": "code",
   "execution_count": null,
   "id": "80c7adc7",
   "metadata": {},
   "outputs": [],
   "source": [
    "from flask import Flask, redirect, url_for\n",
    "\n",
    "app = Flask(__name__)\n",
    "\n",
    "@app.route('/login')\n",
    "def login():\n",
    "    # Perform login logic here\n",
    "    # If login is successful, redirect to the dashboard page\n",
    "    return redirect(url_for('dashboard'))\n",
    "\n",
    "@app.route('/dashboard')\n",
    "def dashboard():\n",
    "    return 'Welcome to the dashboard!'\n",
    "\n",
    "if __name__ == '__main__':\n",
    "    app.run()"
   ]
  },
  {
   "cell_type": "markdown",
   "id": "e4e7d60e",
   "metadata": {},
   "source": [
    "#### Q4. What are templates in Flask? Why is the render_template() function used?\n",
    "    Ans. In Flask, templates are files that contain dynamic content mixed with HTML or other markup languages. They allow you to separate the presentation (HTML) from the logic (Python code) in your web application.\n",
    "\n",
    "    The render_template() function in Flask is used to render these templates. It takes the name of the template file as its argument and returns the HTML content with dynamic data inserted into the placeholders defined in the template.\n",
    "\n",
    "    Using templates allows you to create dynamic web pages by injecting data from your Python code into the HTML template. This makes it easier to manage the layout and design of your web pages separately from the Python code that generates the data."
   ]
  },
  {
   "cell_type": "code",
   "execution_count": null,
   "id": "fef72a37",
   "metadata": {},
   "outputs": [],
   "source": [
    "# hello.html\n",
    "<!DOCTYPE html>\n",
    "<html>\n",
    "<head>\n",
    "    <title>Greeting Page</title>\n",
    "</head>\n",
    "<body>\n",
    "    <h1>Hello, {{ name }}!</h1>\n",
    "</body>\n",
    "</html>"
   ]
  },
  {
   "cell_type": "code",
   "execution_count": null,
   "id": "70c3747c",
   "metadata": {},
   "outputs": [],
   "source": [
    "# using above hello.html file \n",
    "from flask import Flask, render_template\n",
    "\n",
    "app = Flask(__name__)\n",
    "\n",
    "@app.route('/greet/<name>')\n",
    "def greet(name):\n",
    "    return render_template('hello.html', name=name)\n",
    "\n",
    "if __name__ == '__main__':\n",
    "    app.run()"
   ]
  },
  {
   "cell_type": "markdown",
   "id": "04795751",
   "metadata": {},
   "source": [
    "#### Q5. Create a simple API. Use Postman to test it. Attach the screenshot of the output in the Jupyter Notebook."
   ]
  },
  {
   "cell_type": "code",
   "execution_count": null,
   "id": "43cc4c79",
   "metadata": {},
   "outputs": [],
   "source": [
    "from flask import Flask, jsonify\n",
    "\n",
    "app = Flask(__name__)\n",
    "\n",
    "# Sample data for the API\n",
    "data = {\n",
    "    'name': 'John Doe',\n",
    "    'age': 30,\n",
    "    'city': 'New York'\n",
    "}\n",
    "\n",
    "@app.route('/api', methods=['GET'])\n",
    "def get_data():\n",
    "    return jsonify(data)\n",
    "\n",
    "if __name__ == '__main__':\n",
    "    app.run()\n"
   ]
  },
  {
   "attachments": {
    "image.png": {
     "image/png": "[encoded data removed]"
    }
   },
   "cell_type": "markdown",
   "id": "c82fabc6",
   "metadata": {},
   "source": [
    "![image.png](attachment:image.png)"
   ]
  },
  {
   "cell_type": "code",
   "execution_count": null,
   "id": "3458689a",
   "metadata": {},
   "outputs": [],
   "source": []
  }
 ],
 "metadata": {
  "kernelspec": {
   "display_name": "Python 3 (ipykernel)",
   "language": "python",
   "name": "python3"
  },
  "language_info": {
   "codemirror_mode": {
    "name": "ipython",
    "version": 3
   },
   "file_extension": ".py",
   "mimetype": "text/x-python",
   "name": "python",
   "nbconvert_exporter": "python",
   "pygments_lexer": "ipython3",
   "version": "3.10.9"
  }
 },
 "nbformat": 4,
 "nbformat_minor": 5
}
