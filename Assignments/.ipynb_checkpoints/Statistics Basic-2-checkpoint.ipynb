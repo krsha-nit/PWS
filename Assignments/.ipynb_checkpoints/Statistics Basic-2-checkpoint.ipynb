{
 "cells": [
  {
   "cell_type": "markdown",
   "id": "8851abbc",
   "metadata": {},
   "source": [
    "#### Q1. What are the three measures of central tendency?\n",
    "    Ans. Mean, median, mode"
   ]
  },
  {
   "cell_type": "markdown",
   "id": "a9dc628a",
   "metadata": {},
   "source": [
    "#### Q2. What is the difference between the mean, median, and mode? How are they used to measure the central tendency of a dataset?\n",
    "    Ans. \n",
    "    1. Mean:\n",
    "    The mean is calculated by summing up all the values in the dataset and then dividing that sum by the number of data points. It represents the average value of the dataset. The formula for calculating the mean is:\n",
    "    Mean = (Sum of all values) / (Number of data points)\n",
    "\n",
    "    The mean is sensitive to extreme values, so if you have a few outliers in your dataset, they can heavily influence the mean. For example, in the dataset [1, 2, 3, 4, 100], the mean would be significantly affected by the outlier 100.\n",
    "\n",
    "    \n",
    "    2.Median:\n",
    "    The median is the middle value of a dataset when the values are arranged in ascending or descending order. If the dataset has an odd number of data points, the median is the middle value. If the dataset has an even number of data points, the median is the average of the two middle values. The median is not affected by extreme values and is a robust measure of central tendency.\n",
    "    To find the median, first, arrange the data in ascending or descending order, then find the middle value(s).\n",
    "\n",
    "    \n",
    "    3. Mode:\n",
    "    The mode is the value that appears most frequently in the dataset. In some datasets, there may be multiple modes (bimodal, trimodal, etc.) if more than one value occurs with the highest frequency. Unlike the mean and median, the mode can be used for both numerical and categorical data.\n",
    "    \n",
    "    \n",
    "    \n",
    "    How to choose the appropriate measure:\n",
    "\n",
    "    Mean: Use the mean when the data is roughly symmetric and does not have significant outliers.\n",
    "    Median: Use the median when the data contains outliers or is skewed (as it is not sensitive to extreme values).\n",
    "    Mode: Use the mode when you want to identify the most frequently occurring value in a dataset, especially in categorical data."
   ]
  },
  {
   "cell_type": "markdown",
   "id": "18831393",
   "metadata": {},
   "source": [
    "#### Q3. Measure the three measures of central tendency for the given height data:\n",
    "    [178,177,176,177,178.2,178,175,179,180,175,178.9,176.2,177,172.5,178,176.5]"
   ]
  },
  {
   "cell_type": "code",
   "execution_count": 15,
   "id": "a755bc59",
   "metadata": {},
   "outputs": [
    {
     "data": {
      "text/plain": [
       "(177.01875, 177.0, ModeResult(mode=array([177.]), count=array([3])))"
      ]
     },
     "execution_count": 15,
     "metadata": {},
     "output_type": "execute_result"
    }
   ],
   "source": [
    "import numpy as np\n",
    "from scipy import stats\n",
    "import warnings\n",
    "\n",
    "warnings.filterwarnings(\"ignore\")\n",
    "arr1 = np.array([178,177,176,177,178.2,178,175,179,180,175,178.9,176.2,177,172.5,178,176.5])\n",
    "np.mean(arr1), np.median(arr1), stats.mode(arr1)"
   ]
  },
  {
   "cell_type": "markdown",
   "id": "c510da9c",
   "metadata": {},
   "source": [
    "#### Q4. Find the standard deviation for the given data:\n",
    "    [178,177,176,177,178.2,178,175,179,180,175,178.9,176.2,177,172.5,178,176.5]"
   ]
  },
  {
   "cell_type": "code",
   "execution_count": 16,
   "id": "16e7a52e",
   "metadata": {},
   "outputs": [
    {
     "data": {
      "text/plain": [
       "1.7885814036548633"
      ]
     },
     "execution_count": 16,
     "metadata": {},
     "output_type": "execute_result"
    }
   ],
   "source": [
    "arr2 = np.array([178,177,176,177,178.2,178,175,179,180,175,178.9,176.2,177,172.5,178,176.5])\n",
    "np.std(arr2)"
   ]
  },
  {
   "cell_type": "markdown",
   "id": "9e8c5010",
   "metadata": {},
   "source": [
    "#### Q5. How are measures of dispersion such as range, variance, and standard deviation used to describe the spread of a dataset? Provide an example.\n",
    "    Ans. Measures of dispersion, such as range, variance, and standard deviation, are used to quantify how spread out or dispersed the values in a dataset are. They provide valuable information about the variability or spread of the data points from the central tendency (mean, median, or mode).\n",
    "    1. Range:\n",
    "    The range is the simplest measure of dispersion and is calculated as the difference between the maximum and minimum values in the dataset. It provides a quick overview of how widely the data values are spread.\n",
    "    Range = Maximum value - Minimum value\n",
    "    \n",
    "    2. Variance:\n",
    "    The variance is a measure of how much the data points deviate from the mean of the dataset. It is calculated by taking the average of the squared differences between each data point and the mean. A higher variance indicates a greater spread or dispersion of data points from the mean.\n",
    "    Variance = Σ((x - μ)^2) / N\n",
    "\n",
    "    where:\n",
    "    x = individual data points\n",
    "    μ = mean of the dataset\n",
    "    N = number of data points\n",
    "    \n",
    "    3.Standard Deviation:\n",
    "    The standard deviation is the square root of the variance. It provides a more interpretable measure of dispersion, as it is in the same unit as the original data, making it easier to compare with the mean.\n",
    "    Standard Deviation = sqrt(Variance)"
   ]
  },
  {
   "cell_type": "markdown",
   "id": "06435d47",
   "metadata": {},
   "source": [
    "#### Q6. What is a Venn diagram?\n",
    "    Ans. A Venn diagram is a graphical representation of the relationships between different sets. It uses circles (or other closed shapes) to depict these sets and their overlapping regions, illustrating the common elements shared among the sets and the unique elements present in each set. Venn diagrams are widely used to visualize set theory and the relationships between various categories or groups.\n",
    "\n",
    "    Key components of a Venn diagram:\n",
    "\n",
    "        Sets: Each circle in the diagram represents a set. A set is a collection of objects or elements that share certain characteristics or properties.\n",
    "\n",
    "        Overlapping regions: When two or more sets have elements in common, their circles overlap, creating regions that represent the shared elements among those sets.\n",
    "\n",
    "        Non-overlapping regions: The portions of the circles that do not overlap with any other circle represent the elements that are unique to each individual set.\n",
    "\n",
    "        Universal set: The space within the rectangle or boundary of the Venn diagram is the universal set, which includes all possible elements relevant to the context of the diagram.\n",
    "\n",
    "    Uses of Venn diagrams:\n",
    "\n",
    "        Venn diagrams are used in various fields, including mathematics, statistics, logic, and data analysis. Some common applications include:\n",
    "\n",
    "        Set theory: Venn diagrams are commonly used to depict the relationships between sets, intersections, unions, and complements.\n",
    "\n",
    "        Logic and reasoning: They are used to illustrate logical relationships and identify contradictions or overlaps in arguments.\n",
    "\n",
    "        Probability: Venn diagrams can help visualize probabilities and understand events' intersections and unions in probability theory.\n",
    "\n",
    "        Data analysis: In data science, Venn diagrams are used to compare data sets, identify common elements, and understand the relationships between different data categories."
   ]
  },
  {
   "cell_type": "markdown",
   "id": "c92e5db5",
   "metadata": {},
   "source": [
    "#### Q7. For the two given sets A = (2,3,4,5,6,7) & B = (0,2,6,8,10). Find:\n",
    "    (i) A ⋂ B\n",
    "    Ans. A.intersection(B):{2, 6}\n",
    "    (ii) A ⋃ B\n",
    "    Ans. A.union(B): {0, 2, 3, 4, 5, 6, 7, 8, 10}"
   ]
  },
  {
   "cell_type": "markdown",
   "id": "8eda0bb0",
   "metadata": {},
   "source": [
    "#### Q8. What do you understand about skewness in data?\n",
    "    Ans. Skewness is a statistical measure that helps describe the asymmetry of the probability distribution of a dataset. In other words, it measures the degree to which a dataset deviates from being symmetrical (i.e., having a bell-shaped or normal distribution). Skewness provides insights into the shape and behavior of the data distribution.\n",
    "\n",
    "    There are three main types of skewness:\n",
    "\n",
    "        Positive Skewness (Right Skewness):\n",
    "        In a positively skewed distribution, the majority of the data is concentrated on the left side, while the right tail is longer. The mean is typically greater than the median, and the median is greater than the mode. This happens when there are few extremely high values that pull the mean towards the right.\n",
    "        Example of a positively skewed distribution:\n",
    "        [5, 6, 7, 8, 9, 10, 50]\n",
    "\n",
    "        Negative Skewness (Left Skewness):\n",
    "        In a negatively skewed distribution, the majority of the data is concentrated on the right side, while the left tail is longer. The mean is typically less than the median, and the median is less than the mode. This occurs when there are a few extremely low values that pull the mean towards the left.\n",
    "        Example of a negatively skewed distribution:\n",
    "        [70, 40, 30, 20, 10, 9, 8, 7, 6, 5]\n",
    "\n",
    "        Zero Skewness (Symmetrical):\n",
    "        In a symmetrical distribution, the data is evenly distributed around the mean, and the left and right tails are roughly equal in length. The mean, median, and mode are all approximately the same value.\n",
    "        Example of a symmetrical distribution:\n",
    "        [10, 20, 30, 40, 50]\n",
    "\n",
    "    The concept of skewness is essential in understanding the underlying patterns and characteristics of data. It helps in selecting appropriate statistical methods and models for analysis. For instance, in the presence of skewness, using the mean as a measure of central tendency may not be ideal, as it can be heavily influenced by outliers. In such cases, the median is often a more robust choice.\n",
    "\n",
    "    Skewness is a valuable tool in data analysis, especially when assessing the distribution of variables in research, finance, economics, and other fields. Understanding the skewness of a dataset can lead to more accurate interpretations and predictions."
   ]
  },
  {
   "cell_type": "markdown",
   "id": "a51979df",
   "metadata": {},
   "source": [
    "#### Q9. If a data is right skewed then what will be the position of median with respect to mean?\n",
    "    Ans. mean<median<mode"
   ]
  },
  {
   "cell_type": "markdown",
   "id": "ac484b7b",
   "metadata": {},
   "source": [
    "#### Q10. Explain the difference between covariance and correlation. How are these measures used in statistical analysis?\n",
    "    Ans. Covariance and correlation are both measures used to describe the relationship between two variables in statistical analysis, but they have some key differences in their interpretation and scale:\n",
    "\n",
    "    Covariance:\n",
    "    Covariance measures the degree to which two variables change together. It indicates whether the two variables tend to increase or decrease at the same time. If the covariance is positive, it means that when one variable increases, the other tends to increase as well, and when one variable decreases, the other tends to decrease. If the covariance is negative, it means that one variable tends to increase when the other decreases, and vice versa.\n",
    "    However, the magnitude of the covariance does not provide a standardized measure of the strength of the relationship between the variables. It can be influenced by the scale of the variables, making it difficult to interpret its value in isolation.\n",
    "\n",
    "    The formula for covariance between two variables X and Y with n data points is given as:\n",
    "\n",
    "    Cov(X, Y) = Σ[(X_i - mean(X)) * (Y_i - mean(Y))] / n\n",
    "\n",
    "    Correlation:\n",
    "    Correlation is a standardized measure of the relationship between two variables. It quantifies both the strength and direction of the linear relationship between the variables, and its value always falls within the range of -1 to 1.\n",
    "    A correlation of +1 indicates a perfect positive linear relationship, -1 indicates a perfect negative linear relationship, and 0 indicates no linear relationship (though there could be other types of relationships present). Correlation allows for easier comparison across different datasets, as it is not influenced by the scale of the variables.\n",
    "\n",
    "    The most commonly used measure of correlation is Pearson correlation coefficient, which is defined as:\n",
    "\n",
    "    Corr(X, Y) = Cov(X, Y) / (σ_X * σ_Y)\n",
    "\n",
    "    where Cov(X, Y) is the covariance between X and Y, and σ_X and σ_Y are the standard deviations of X and Y, respectively.\n",
    "\n",
    "    Usage in statistical analysis:\n",
    "\n",
    "    Covariance: Covariance is used to understand the direction of the relationship between two variables. However, since the covariance is not standardized, it is challenging to compare the strength of relationships across different datasets or variable scales.\n",
    "\n",
    "    Correlation: Correlation is widely used in statistical analysis to assess the strength and direction of the linear relationship between two variables. It provides a standardized measure that allows for easy comparison. Correlation is commonly used in fields such as economics, finance, social sciences, and data analysis to identify patterns, model relationships, and make predictions."
   ]
  },
  {
   "cell_type": "markdown",
   "id": "25bb3b40",
   "metadata": {},
   "source": [
    "#### Q11. What is the formula for calculating the sample mean? Provide an example calculation for a dataset.\n",
    "    Ans. The formula for calculating the sample mean (also known as the sample average) is relatively straightforward. It is the sum of all data points divided by the number of data points in the sample. If we have a dataset with 'n' data points represented as x1, x2, x3, ..., xn, then the sample mean (denoted as \"x̄\") is calculated as follows:\n",
    "\n",
    "    Sample Mean (x̄) = (x1 + x2 + x3 + ... + xn) / n\n",
    "\n",
    "    Example calculation:\n",
    "\n",
    "    Let's consider a dataset of exam scores for a class of 10 students:\n",
    "\n",
    "    {85, 78, 92, 89, 76, 95, 88, 84, 91, 82}\n",
    "\n",
    "    To find the sample mean, we sum up all the scores and then divide by the number of data points (which is 10 in this case):\n",
    "\n",
    "    Sample Mean (x̄) = (85 + 78 + 92 + 89 + 76 + 95 + 88 + 84 + 91 + 82) / 10\n",
    "\n",
    "    Sample Mean (x̄) = 870 / 10\n",
    "\n",
    "    Sample Mean (x̄) = 87\n",
    "\n",
    "    So, the sample mean for this dataset is 87. This means that, on average, the students in the class scored 87 on the exam. The sample mean is a useful measure of central tendency that represents the typical value of the data and is commonly used in various statistical analyses."
   ]
  },
  {
   "cell_type": "markdown",
   "id": "007c29c1",
   "metadata": {},
   "source": [
    "#### Q12. For a normal distribution data what is the relationship between its measure of central tendency?\n",
    "    Ans. mean = median = mode"
   ]
  },
  {
   "cell_type": "markdown",
   "id": "07412a05",
   "metadata": {},
   "source": [
    "#### Q13. How is covariance different from correlation?\n",
    "    Ans. Covariance and correlation are both measures that describe the relationship between two variables, but they have some key differences:\n",
    "\n",
    "    Definition:\n",
    "    Covariance: Covariance is a measure of how two variables change together. It indicates the degree to which the values of one variable increase or decrease in relation to the corresponding values of the other variable. A positive covariance indicates a direct relationship (both variables increase or decrease together), while a negative covariance indicates an inverse relationship (one variable increases as the other decreases).\n",
    "    Correlation: Correlation, on the other hand, is a standardized measure of the linear relationship between two variables. It quantifies both the strength and direction of the linear association between the variables. Correlation values range from -1 to 1, where +1 indicates a perfect positive linear relationship, -1 indicates a perfect negative linear relationship, and 0 indicates no linear relationship (though other relationships might exist).\n",
    "    \n",
    "    Scale:\n",
    "    Covariance: The magnitude of the covariance is not standardized and depends on the scales of the variables involved. Therefore, it is challenging to interpret the absolute value of covariance, and comparing covariances from different datasets can be difficult.\n",
    "    Correlation: Correlation standardizes the relationship by dividing the covariance by the product of the standard deviations of the two variables. This makes correlation values independent of the scale of the variables and allows for easier comparison of the strength of relationships across different datasets.\n",
    "    \n",
    "    Interpretation:\n",
    "    Covariance: The sign of the covariance (+ or -) indicates the direction of the relationship, while the magnitude tells us about the strength of the relationship. However, the magnitude of covariance alone does not provide a clear indication of the strength of the relationship, especially when comparing different datasets with different scales.\n",
    "    Correlation: Correlation values, being standardized, provide a clear indication of the strength and direction of the linear relationship. A correlation of +1 or -1 implies a perfect linear relationship, while values closer to 0 indicate weaker or no linear relationships.\n",
    "    \n",
    "    Range of Values:\n",
    "    Covariance: Covariance can take any real value, from negative infinity to positive infinity.\n",
    "    Correlation: Correlation values are always between -1 and +1, inclusive."
   ]
  },
  {
   "cell_type": "markdown",
   "id": "8cb26e3e",
   "metadata": {},
   "source": [
    "#### Q14. How do outliers affect measures of central tendency and dispersion? Provide an example.\n",
    "    Ans. Outliers can have a significant impact on measures of central tendency and dispersion in a dataset. An outlier is an extreme value that differs greatly from the other data points in the dataset. Outliers can distort the typical pattern of the data and affect the overall summary statistics.\n",
    "\n",
    "    Measures of Central Tendency (Mean, Median, Mode):\n",
    "    Mean: The mean is sensitive to outliers because it takes into account the value of each data point. When there are extreme values (outliers) in the dataset, they can pull the mean towards their direction. Consequently, the mean can be significantly affected by outliers, leading to a distorted representation of the central tendency if the dataset is not well-distributed.\n",
    "\n",
    "    Median: The median is less sensitive to outliers compared to the mean. It represents the middle value of the dataset when it is arranged in ascending or descending order. Since the median only considers the position of the data points, outliers do not influence it as much as they do the mean.\n",
    "\n",
    "    Mode: The mode is the most frequent value in the dataset. Outliers do not affect the mode, as it is determined by the frequency of values, not their actual magnitude.\n",
    "\n",
    "    Example:\n",
    "    Consider the following dataset of exam scores:\n",
    "\n",
    "    {85, 78, 92, 89, 76, 95, 88, 84, 91, 150}\n",
    "\n",
    "    In this dataset, 150 is an outlier since it is significantly larger than the other scores. Let's calculate the mean, median, and mode:\n",
    "\n",
    "    Mean: (85 + 78 + 92 + 89 + 76 + 95 + 88 + 84 + 91 + 150) / 10 = 948 / 10 = 94.8\n",
    "    Median: The middle value is the average of the 5th and 6th scores, which are 76 and 95. So, (76 + 95) / 2 = 171 / 2 = 85.5\n",
    "    Mode: The mode is 85 since it appears twice, more frequently than any other value.\n",
    "    As you can see, the outlier 150 significantly affected the mean, pulling it towards the higher end. However, the median and mode remained less affected by the outlier.\n",
    "\n",
    "    Measures of Dispersion (Range, Variance, Standard Deviation):\n",
    "    Outliers can also have a significant impact on measures of dispersion, which quantify the spread or variability of data points.\n",
    "    Range: Outliers can substantially affect the range, which is simply the difference between the maximum and minimum values in the dataset. Outliers that are very large or very small can widen the range.\n",
    "\n",
    "    Variance and Standard Deviation: Both variance and standard deviation are influenced by outliers because they involve squaring the differences between data points and the mean. Since outliers have large differences from the mean, squaring them amplifies their effect on these measures.\n",
    "\n",
    "    Example:\n",
    "    Let's consider the same dataset as before, but with an additional outlier:\n",
    "\n",
    "    {85, 78, 92, 89, 76, 95, 88, 84, 91, 150, 50}\n",
    "\n",
    "    Calculating the variance and standard deviation for this dataset will show a significant increase due to the presence of the outlier 150 and the low-value outlier 50."
   ]
  }
 ],
 "metadata": {
  "kernelspec": {
   "display_name": "Python 3 (ipykernel)",
   "language": "python",
   "name": "python3"
  },
  "language_info": {
   "codemirror_mode": {
    "name": "ipython",
    "version": 3
   },
   "file_extension": ".py",
   "mimetype": "text/x-python",
   "name": "python",
   "nbconvert_exporter": "python",
   "pygments_lexer": "ipython3",
   "version": "3.10.9"
  }
 },
 "nbformat": 4,
 "nbformat_minor": 5
}
