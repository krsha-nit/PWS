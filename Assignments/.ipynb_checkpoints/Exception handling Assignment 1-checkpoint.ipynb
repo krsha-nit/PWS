{
 "cells": [
  {
   "cell_type": "markdown",
   "id": "d6489b04",
   "metadata": {},
   "source": [
    "#### Q1. What is an Exception in pthon? Write the difference between Exceptions and Syntax errors.\n",
    "    Ans. In Python, an exception is an event that occurs during the execution of a program, which disrupts the normal flow of the program's instructions. When an exception occurs, the program stops executing its current instructions and jumps to a special code block called an exception handler, which can handle or process the exception.\n",
    "    Exceptions are typically caused by errors in the program's logic, such as dividing a number by zero or trying to access a variable that has not been defined. They can also be raised intentionally by the programmer to indicate a specific condition or error.\n",
    "    \n",
    "    Syntax errors occur during the parsing stage and prevent the program from running, while exceptions occur during program execution and can be caught and handled to prevent program termination. Exceptions provide a mechanism to handle and recover from errors, making the program more robust and resilient.\n",
    "    "
   ]
  },
  {
   "cell_type": "markdown",
   "id": "903b01ef",
   "metadata": {},
   "source": [
    "#### Q2. What happens when an exception is not handled? Example.\n",
    "    Ans. When an exception is not handled in a program, it leads to what is known as an \"unhandled exception.\" In such cases, the default behavior of Python is to print a traceback, which is a detailed error message that shows the sequence of function calls and lines of code that led to the exception. After displaying the traceback, the program execution is terminated, and an error message is displayed.\n",
    "    "
   ]
  },
  {
   "cell_type": "code",
   "execution_count": 1,
   "id": "8077bef2",
   "metadata": {},
   "outputs": [
    {
     "ename": "ZeroDivisionError",
     "evalue": "division by zero",
     "output_type": "error",
     "traceback": [
      "\u001b[1;31m---------------------------------------------------------------------------\u001b[0m",
      "\u001b[1;31mZeroDivisionError\u001b[0m                         Traceback (most recent call last)",
      "Cell \u001b[1;32mIn[1], line 4\u001b[0m\n\u001b[0;32m      2\u001b[0m num1 \u001b[38;5;241m=\u001b[39m \u001b[38;5;241m10\u001b[39m\n\u001b[0;32m      3\u001b[0m num2 \u001b[38;5;241m=\u001b[39m \u001b[38;5;241m0\u001b[39m\n\u001b[1;32m----> 4\u001b[0m result \u001b[38;5;241m=\u001b[39m \u001b[43mnum1\u001b[49m\u001b[43m \u001b[49m\u001b[38;5;241;43m/\u001b[39;49m\u001b[43m \u001b[49m\u001b[43mnum2\u001b[49m\n\u001b[0;32m      5\u001b[0m \u001b[38;5;28mprint\u001b[39m(result)\n",
      "\u001b[1;31mZeroDivisionError\u001b[0m: division by zero"
     ]
    }
   ],
   "source": [
    "# Division by zero exception\n",
    "num1 = 10\n",
    "num2 = 0\n",
    "result = num1 / num2\n",
    "print(result)"
   ]
  },
  {
   "cell_type": "markdown",
   "id": "bca0ce04",
   "metadata": {},
   "source": [
    "#### Q3. which python statements are used to catch and handle exceptions? Example.\n",
    "    Ans. In Python, the try-except statement is used to catch and handle exceptions. The try block contains the code that may raise an exception, and the except block specifies the actions to be taken if a specific exception is raised.\n",
    "    \n",
    "    the try block contains the code that may raise exceptions, such as ValueError (when non-integer input is provided) and ZeroDivisionError (when the second number is zero). If an exception is raised within the try block, it is caught and handled by the appropriate except block."
   ]
  },
  {
   "cell_type": "code",
   "execution_count": 2,
   "id": "9222e0ab",
   "metadata": {},
   "outputs": [
    {
     "name": "stdout",
     "output_type": "stream",
     "text": [
      "Enter the first number: 1\n",
      "Enter the second number: 0\n",
      "Error: Division by zero is not allowed.\n"
     ]
    }
   ],
   "source": [
    "try:\n",
    "    num1 = int(input(\"Enter the first number: \"))\n",
    "    num2 = int(input(\"Enter the second number: \"))\n",
    "    result = num1 / num2\n",
    "    print(\"Result:\", result)\n",
    "except ValueError:\n",
    "    print(\"Invalid input. Please enter valid integers.\")\n",
    "except ZeroDivisionError:\n",
    "    print(\"Error: Division by zero is not allowed.\")\n"
   ]
  },
  {
   "cell_type": "markdown",
   "id": "b66ec4b8",
   "metadata": {},
   "source": [
    "#### Q4. Explain with an example:\n",
    "    * try and else - The else block is used in conjunction with the try-except statement. The code inside the else block is executed if no exceptions are raised in the corresponding try block. It allows you to specify actions that should be performed when the try block executes successfully without any exceptions.\n",
    "    \n",
    "    * finally - The finally block is used along with the try-except statement to specify a block of code that will always be executed, regardless of whether an exception is raised or not. It is commonly used to clean up resources or perform any necessary finalization steps.\n",
    "    \n",
    "    * raise - The raise statement is used to explicitly raise an exception in Python. It allows you to generate and throw exceptions based on specific conditions or requirements within your code."
   ]
  },
  {
   "cell_type": "code",
   "execution_count": 4,
   "id": "1bc03e2d",
   "metadata": {},
   "outputs": [
    {
     "name": "stdout",
     "output_type": "stream",
     "text": [
      "Enter a number: a\n",
      "Invalid input. Please enter valid integers.\n"
     ]
    }
   ],
   "source": [
    "try:\n",
    "    num1 = int(input(\"Enter a number: \"))\n",
    "    num2 = int(input(\"Enter another number: \"))\n",
    "    result = num1 / num2\n",
    "except ValueError:\n",
    "    print(\"Invalid input. Please enter valid integers.\")\n",
    "else:\n",
    "    print(\"Division result:\", result)\n"
   ]
  },
  {
   "cell_type": "code",
   "execution_count": 5,
   "id": "9f5ea28b",
   "metadata": {},
   "outputs": [
    {
     "name": "stdout",
     "output_type": "stream",
     "text": [
      "File closed successfully.\n"
     ]
    }
   ],
   "source": [
    "try:\n",
    "    file = open(\"example.txt\", \"r\")\n",
    "    # Perform some file operations\n",
    "finally:\n",
    "    file.close()\n",
    "    print(\"File closed successfully.\")"
   ]
  },
  {
   "cell_type": "code",
   "execution_count": 3,
   "id": "0ec72dfd",
   "metadata": {},
   "outputs": [
    {
     "name": "stdout",
     "output_type": "stream",
     "text": [
      "Average: 5.4\n"
     ]
    }
   ],
   "source": [
    "def calculate_average(numbers):\n",
    "    if not numbers:\n",
    "        raise ValueError(\"Input list cannot be empty.\")\n",
    "    total = sum(numbers)\n",
    "    average = total / len(numbers)\n",
    "    return average\n",
    "\n",
    "try:\n",
    "    data = [5, 7, 3, 2, 10]\n",
    "    result = calculate_average(data)\n",
    "    print(\"Average:\", result)\n",
    "except ValueError as error:\n",
    "    print(\"Error:\", str(error))\n"
   ]
  },
  {
   "cell_type": "markdown",
   "id": "beb5fea9",
   "metadata": {},
   "source": [
    "#### Q5. What are Custom exceptoins in python? Why is it needed? Example.\n",
    "    Ans. Custom exceptions in Python are user-defined exception classes that inherit from the base Exception class or one of its derived classes. They allow programmers to define and raise their own exception types to handle specific error conditions or situations that may occur in their code.\n",
    "\n",
    "    Custom exceptions are needed for the following reasons:\n",
    "\n",
    "    1. Specificity: Custom exceptions provide a way to indicate and handle specific error conditions in your code. By defining custom exception classes, you can create exception hierarchies that reflect the different types of errors that your program may encounter. This allows for more precise exception handling and better control over the flow of your program.\n",
    "\n",
    "    2. Readability: Custom exceptions can improve code readability and maintainability. By raising and catching custom exception types, you can clearly communicate the intent and meaning of different error situations in your code. This makes it easier for other developers to understand and work with your code.\n",
    "\n",
    "    3. Error Handling: Custom exceptions enable you to implement specialized error handling strategies. You can catch specific custom exceptions and handle them differently based on the requirements of your program. This allows you to provide more informative error messages, log specific details, or perform additional actions based on the type of exception raised."
   ]
  },
  {
   "cell_type": "code",
   "execution_count": 6,
   "id": "8a70d4a5",
   "metadata": {},
   "outputs": [
    {
     "name": "stdout",
     "output_type": "stream",
     "text": [
      "Error: Insufficient balance in account 123456.\n"
     ]
    }
   ],
   "source": [
    "class InsufficientBalanceError(Exception):\n",
    "    def __init__(self, account_id):\n",
    "        self.account_id = account_id\n",
    "        super().__init__(f\"Insufficient balance in account {account_id}.\")\n",
    "\n",
    "def withdraw(account_balance, amount):\n",
    "    if account_balance < amount:\n",
    "        raise InsufficientBalanceError(\"123456\")\n",
    "    else:\n",
    "        account_balance -= amount\n",
    "        print(\"Withdrawal successful.\")\n",
    "\n",
    "try:\n",
    "    account_balance = 1000\n",
    "    withdrawal_amount = 1500\n",
    "    withdraw(account_balance, withdrawal_amount)\n",
    "except InsufficientBalanceError as error:\n",
    "    print(\"Error:\", str(error))\n"
   ]
  },
  {
   "cell_type": "markdown",
   "id": "d6a714aa",
   "metadata": {},
   "source": [
    "#### Q6. Create a custom exception class. Use this class to handle an exception."
   ]
  },
  {
   "cell_type": "code",
   "execution_count": 7,
   "id": "04897a75",
   "metadata": {},
   "outputs": [
    {
     "name": "stdout",
     "output_type": "stream",
     "text": [
      "Enter an email address: abc\n",
      "Error: Invalid email address: abc.\n"
     ]
    }
   ],
   "source": [
    "class InvalidEmailError(Exception):\n",
    "    def __init__(self, email):\n",
    "        self.email = email\n",
    "        super().__init__(f\"Invalid email address: {email}.\")\n",
    "\n",
    "\n",
    "def validate_email(email):\n",
    "    if \"@\" not in email:\n",
    "        raise InvalidEmailError(email)\n",
    "    else:\n",
    "        print(\"Email is valid.\")\n",
    "\n",
    "\n",
    "try:\n",
    "    email_address = input(\"Enter an email address: \")\n",
    "    validate_email(email_address)\n",
    "except InvalidEmailError as error:\n",
    "    print(\"Error:\", str(error))\n"
   ]
  },
  {
   "cell_type": "code",
   "execution_count": null,
   "id": "2ebea35e",
   "metadata": {},
   "outputs": [],
   "source": []
  },
  {
   "cell_type": "code",
   "execution_count": null,
   "id": "9c450271",
   "metadata": {},
   "outputs": [],
   "source": []
  }
 ],
 "metadata": {
  "kernelspec": {
   "display_name": "Python 3 (ipykernel)",
   "language": "python",
   "name": "python3"
  },
  "language_info": {
   "codemirror_mode": {
    "name": "ipython",
    "version": 3
   },
   "file_extension": ".py",
   "mimetype": "text/x-python",
   "name": "python",
   "nbconvert_exporter": "python",
   "pygments_lexer": "ipython3",
   "version": "3.10.9"
  }
 },
 "nbformat": 4,
 "nbformat_minor": 5
}
