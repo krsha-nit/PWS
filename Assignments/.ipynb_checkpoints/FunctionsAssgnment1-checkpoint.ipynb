{
 "cells": [
  {
   "cell_type": "markdown",
   "id": "5f166d40-41f3-4056-8f7e-6d5f6402e4ae",
   "metadata": {},
   "source": [
    "\n",
    "Q2. Why *args and **kwargs is used in some functions? Create a function each for *args and **kwargs to\n",
    "demonstrate their use.\n",
    "\n",
    "Q3. What is an iterator in python? Name the method used to initialise the iterator object and the method\n",
    "used for iteration. Use these methods to print the first five elements of the given list [2, 4, 6, 8, 10, 12, 14, 16,\n",
    "18, 20].\n",
    "Q4. What is a generator function in python? Why yield keyword is used? Give an example of a generator\n",
    "function.\n",
    "Q5. Create a generator function for prime numbers less than 1000. Use the next() method to print the\n",
    "first 20 prime numbers."
   ]
  },
  {
   "cell_type": "markdown",
   "id": "93965f71",
   "metadata": {},
   "source": [
    "#### Q1. Which keyword is used to create a function? Create a function to return a list of odd numbers in the range of 1 to 25.\n",
    "    Ans. def function_name(arg,*args,**kwargs):"
   ]
  },
  {
   "cell_type": "code",
   "execution_count": 1,
   "id": "4d57d5b9-413f-4c27-8cab-bb057fe9f17d",
   "metadata": {},
   "outputs": [],
   "source": [
    "#Create a function to return a list of odd numbers in the range of 1 to 25.\n",
    "def odd_numbers(list_):\n",
    "    a = []\n",
    "    for i in list_:\n",
    "        if i%2 != 0:\n",
    "            a.append(i)\n",
    "    \n",
    "    return a"
   ]
  },
  {
   "cell_type": "code",
   "execution_count": 2,
   "id": "562188ca-7806-4c38-b119-efab3134ba6c",
   "metadata": {},
   "outputs": [
    {
     "data": {
      "text/plain": [
       "[1, 3, 5, 7, 9, 11, 13, 15, 17, 19, 21, 23]"
      ]
     },
     "execution_count": 2,
     "metadata": {},
     "output_type": "execute_result"
    }
   ],
   "source": [
    "odd_numbers(range(25))"
   ]
  },
  {
   "cell_type": "code",
   "execution_count": 3,
   "id": "f59b3d3b-47c2-42d7-9f1d-c49d768c4c4c",
   "metadata": {},
   "outputs": [],
   "source": [
    "l1 = [2, 4, 6, 8, 10, 12, 14, 16, 18, 20]"
   ]
  },
  {
   "cell_type": "code",
   "execution_count": 4,
   "id": "3de92ede-13ed-4161-8685-2dd10ee01b77",
   "metadata": {},
   "outputs": [],
   "source": [
    "def first_five(list_):\n",
    "    for i in range(5):\n",
    "        yield list_[i]"
   ]
  },
  {
   "cell_type": "code",
   "execution_count": 5,
   "id": "3a184042-42d8-4c3e-9b33-276954ecfca7",
   "metadata": {},
   "outputs": [
    {
     "data": {
      "text/plain": [
       "<generator object first_five at 0x7fbb6ae0d7e0>"
      ]
     },
     "execution_count": 5,
     "metadata": {},
     "output_type": "execute_result"
    }
   ],
   "source": [
    "first_five(l1)"
   ]
  },
  {
   "cell_type": "code",
   "execution_count": 6,
   "id": "918ac6fe-3430-49ec-996b-4879ddcc6003",
   "metadata": {},
   "outputs": [
    {
     "data": {
      "text/plain": [
       "[2, 4, 6, 8, 10]"
      ]
     },
     "execution_count": 6,
     "metadata": {},
     "output_type": "execute_result"
    }
   ],
   "source": [
    "list(first_five(l1))"
   ]
  },
  {
   "cell_type": "code",
   "execution_count": 11,
   "id": "92ec0819-bb78-4680-8179-791e6dc2645e",
   "metadata": {},
   "outputs": [],
   "source": [
    "def first_five2(list_):\n",
    "    yield list_[:5]"
   ]
  },
  {
   "cell_type": "code",
   "execution_count": 12,
   "id": "273c45ca-e7c8-4157-9fde-17fa6e0cd496",
   "metadata": {},
   "outputs": [
    {
     "data": {
      "text/plain": [
       "[[2, 4, 6, 8, 10]]"
      ]
     },
     "execution_count": 12,
     "metadata": {},
     "output_type": "execute_result"
    }
   ],
   "source": [
    "list(first_five2(l1))"
   ]
  },
  {
   "cell_type": "markdown",
   "id": "1eac1d43-5c56-4289-832e-f6392253ff83",
   "metadata": {},
   "source": [
    "Create a generator function for prime numbers less than 1000. Use the next() method to print the\n",
    "first 20 prime numbers"
   ]
  },
  {
   "cell_type": "code",
   "execution_count": 37,
   "id": "01a35339-9536-4077-bc50-56abed573541",
   "metadata": {},
   "outputs": [],
   "source": [
    "def prime_num(n):\n",
    "    cnt = 0\n",
    "    prime = []\n",
    "    for i in range(1,n+1):\n",
    "        for j in range(1,i+1):\n",
    "            if i%j ==0:\n",
    "                cnt+=1\n",
    "        if cnt==2:\n",
    "            prime.append(i)\n",
    "            \n",
    "        cnt=0\n",
    "            \n",
    "    return prime"
   ]
  },
  {
   "cell_type": "code",
   "execution_count": 38,
   "id": "51a97748-a6f2-4741-8f61-90332d00d9bd",
   "metadata": {},
   "outputs": [
    {
     "data": {
      "text/plain": [
       "[2, 3, 5, 7, 11, 13, 17]"
      ]
     },
     "execution_count": 38,
     "metadata": {},
     "output_type": "execute_result"
    }
   ],
   "source": [
    "prime_num(17)"
   ]
  },
  {
   "cell_type": "code",
   "execution_count": 1,
   "id": "00a64136-688e-4a06-8fe2-4be1ea450e2f",
   "metadata": {},
   "outputs": [],
   "source": [
    "def prime_num2(n):\n",
    "    cnt = 0\n",
    "    #prime = []\n",
    "    for i in range(1,n+1):\n",
    "        for j in range(1,i+1):\n",
    "            if i%j ==0:\n",
    "                cnt+=1\n",
    "        if cnt==2:\n",
    "            #prime.append(i)\n",
    "            yield i\n",
    "        cnt=0\n",
    "    \n",
    "    #return prime"
   ]
  },
  {
   "cell_type": "code",
   "execution_count": 2,
   "id": "a4b48883-992e-4ccc-872b-1c728877d9b2",
   "metadata": {},
   "outputs": [
    {
     "data": {
      "text/plain": [
       "<generator object prime_num2 at 0x7f8d26bd5690>"
      ]
     },
     "execution_count": 2,
     "metadata": {},
     "output_type": "execute_result"
    }
   ],
   "source": [
    "prime_num2(17)"
   ]
  },
  {
   "cell_type": "code",
   "execution_count": 3,
   "id": "39a1eea6-e6cf-4897-9879-558c19dc48e0",
   "metadata": {},
   "outputs": [
    {
     "data": {
      "text/plain": [
       "[2, 3, 5, 7, 11, 13, 17]"
      ]
     },
     "execution_count": 3,
     "metadata": {},
     "output_type": "execute_result"
    }
   ],
   "source": [
    "list(prime_num2(17))"
   ]
  },
  {
   "cell_type": "code",
   "execution_count": 5,
   "id": "28827b67-34af-4e5b-9be6-86afc1753891",
   "metadata": {},
   "outputs": [
    {
     "data": {
      "text/plain": [
       "2"
      ]
     },
     "execution_count": 5,
     "metadata": {},
     "output_type": "execute_result"
    }
   ],
   "source": [
    "next(prime_num2(17))"
   ]
  },
  {
   "cell_type": "code",
   "execution_count": 9,
   "id": "717ac497-30d7-4fdf-9bed-a8c9cd130236",
   "metadata": {},
   "outputs": [
    {
     "data": {
      "text/plain": [
       "2"
      ]
     },
     "execution_count": 9,
     "metadata": {},
     "output_type": "execute_result"
    }
   ],
   "source": [
    "next(prime_num2(17))"
   ]
  },
  {
   "cell_type": "code",
   "execution_count": null,
   "id": "4bb41c1d-da9c-4a96-b4b9-5cf1377e4825",
   "metadata": {},
   "outputs": [],
   "source": []
  }
 ],
 "metadata": {
  "kernelspec": {
   "display_name": "Python 3 (ipykernel)",
   "language": "python",
   "name": "python3"
  },
  "language_info": {
   "codemirror_mode": {
    "name": "ipython",
    "version": 3
   },
   "file_extension": ".py",
   "mimetype": "text/x-python",
   "name": "python",
   "nbconvert_exporter": "python",
   "pygments_lexer": "ipython3",
   "version": "3.10.9"
  }
 },
 "nbformat": 4,
 "nbformat_minor": 5
}
