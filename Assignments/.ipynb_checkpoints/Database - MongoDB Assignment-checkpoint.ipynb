{
 "cells": [
  {
   "cell_type": "markdown",
   "id": "43f3b1cb",
   "metadata": {},
   "source": [
    "#### Q1. What is MongoDB? Explain non-relational databases in short. In which scenarios it is preferred to use MongoDB over SQL databases?\n",
    "    Ans. MongoDB is a popular NoSQL database that falls under the category of non-relational databases. In contrast to traditional SQL databases, which use structured tables and a fixed schema, MongoDB uses a flexible document model in the form of JSON-like BSON documents. Non-relational databases are designed to handle unstructured or semi-structured data and provide horizontal scalability, making them suitable for handling large amounts of data and high-velocity applications.\n",
    "\n",
    "    Scenarios where MongoDB is preferred over SQL databases include:\n",
    "\n",
    "    Scalability: MongoDB's distributed architecture allows for horizontal scaling, making it well-suited for handling large-scale applications with massive amounts of data.\n",
    "    Flexibility: Since MongoDB uses a flexible schema, it can handle dynamic and evolving data structures without requiring costly schema migrations.\n",
    "    Complex Data: When dealing with complex, hierarchical, or nested data, MongoDB's document-based approach provides a more natural representation of the data.\n",
    "    Real-time Analytics: MongoDB's ability to store and process large volumes of data quickly makes it suitable for real-time analytics and reporting.\n",
    "    Agile Development: In scenarios where the application requirements are not fully defined upfront and are likely to change during development, MongoDB's flexible nature can be advantageous."
   ]
  },
  {
   "cell_type": "markdown",
   "id": "211886fc",
   "metadata": {},
   "source": [
    "#### Q2. State and Explain the features of MongoDB.\n",
    "    Ans. Document-Oriented: MongoDB stores data in JSON-like BSON documents, which can hold various data types and be nested.\n",
    "    Schema Flexibility: No fixed schema is required, allowing for easy modifications to the data structure without downtime.\n",
    "    High Scalability: MongoDB can distribute data across multiple servers and scale horizontally to handle large data volumes and high traffic.\n",
    "    High Availability: It supports replica sets for automatic failover and data redundancy, ensuring continuous availability.\n",
    "    Indexing: MongoDB provides efficient indexing for faster queries and aggregation operations.\n",
    "    Ad Hoc Queries: Supports dynamic queries on documents using a rich query language.\n",
    "    Aggregation Framework: Allows complex data aggregation and processing within the database.\n",
    "    Geospatial Queries: Supports location-based data and geospatial indexes.\n",
    "    Full-Text Search: MongoDB offers text indexes for fast text search.\n",
    "    Auto-Sharding: Built-in auto-sharding feature for transparent horizontal data partitioning.\n",
    "    Adaptive Memory Management: Uses memory-mapped storage for efficient memory usage.\n",
    "    Professional Support: MongoDB offers enterprise-grade support for production deployments."
   ]
  },
  {
   "cell_type": "markdown",
   "id": "0391264c",
   "metadata": {},
   "source": [
    "#### Q3. Write a code to connect MongoDB to Python. Also, create a database and a collection in MongoDB."
   ]
  },
  {
   "cell_type": "code",
   "execution_count": null,
   "id": "ef81c6dd",
   "metadata": {},
   "outputs": [],
   "source": [
    "import pymongo\n",
    "\n",
    "# Replace 'your_mongodb_uri' with the actual MongoDB connection URI\n",
    "# For local development, use 'mongodb://localhost:27017/' as the URI\n",
    "mongo_client = pymongo.MongoClient('your_mongodb_uri')\n",
    "\n",
    "# Create a database named 'mydatabase'\n",
    "my_database = mongo_client['mydatabase']\n",
    "\n",
    "# Create a collection named 'mycollection'\n",
    "my_collection = my_database['mycollection']\n",
    "\n",
    "print(\"Connected to MongoDB successfully!\")"
   ]
  },
  {
   "cell_type": "markdown",
   "id": "3704ed94",
   "metadata": {},
   "source": [
    "#### Q4. Using the database and the collection created in question number 3, write a code to insert one record, and insert many records. Use the find() and find_one() methods to print the inserted record."
   ]
  },
  {
   "cell_type": "code",
   "execution_count": null,
   "id": "55a2a5c2",
   "metadata": {},
   "outputs": [],
   "source": [
    "import pymongo\n",
    "\n",
    "# Replace 'your_mongodb_uri' with the actual MongoDB connection URI\n",
    "mongo_client = pymongo.MongoClient('your_mongodb_uri')\n",
    "\n",
    "# Create a database named 'mydatabase'\n",
    "my_database = mongo_client['mydatabase']\n",
    "\n",
    "# Create a collection named 'mycollection'\n",
    "my_collection = my_database['mycollection']\n",
    "\n",
    "# Insert one record\n",
    "single_record = {\"name\": \"John Doe\", \"age\": 30, \"email\": \"john.doe@example.com\"}\n",
    "inserted_single = my_collection.insert_one(single_record)\n",
    "print(\"Inserted Single Record ID:\", inserted_single.inserted_id)\n",
    "\n",
    "# Insert many records\n",
    "many_records = [\n",
    "    {\"name\": \"Alice\", \"age\": 25, \"email\": \"alice@example.com\"},\n",
    "    {\"name\": \"Bob\", \"age\": 28, \"email\": \"bob@example.com\"},\n",
    "    {\"name\": \"Eve\", \"age\": 22, \"email\": \"eve@example.com\"}\n",
    "]\n",
    "inserted_many = my_collection.insert_many(many_records)\n",
    "print(\"Inserted Many Records IDs:\", inserted_many.inserted_ids)\n",
    "\n",
    "# Find and print inserted records\n",
    "print(\"Inserted Single Record:\")\n",
    "print(my_collection.find_one({\"_id\": inserted_single.inserted_id}))\n",
    "\n",
    "print(\"\\nInserted Many Records:\")\n",
    "for record in my_collection.find({\"_id\": {\"$in\": inserted_many.inserted_ids}}):\n",
    "    print(record)\n"
   ]
  },
  {
   "cell_type": "markdown",
   "id": "33ed121e",
   "metadata": {},
   "source": [
    "#### Q5. Explain how you can use the find() method to query the MongoDB database. Write a simple code to demonstrate this.\n",
    "    Ans. The find() method in MongoDB is used to query the database and retrieve documents that match the specified criteria. It allows you to perform complex queries by specifying filtering conditions, projections, and sorting options.\n",
    "    \n",
    "    cursor = collection.find(filter, projection)\n",
    "    filter (optional): A dictionary specifying the query criteria to filter the documents. If not provided, it will match all documents in the collection.\n",
    "    projection (optional): A dictionary specifying which fields to include or exclude in the result set. By default, all fields are returned.\n",
    "    \n",
    "    ** The find() method returns a cursor object that can be iterated to access the matched documents."
   ]
  },
  {
   "cell_type": "code",
   "execution_count": null,
   "id": "3c52db02",
   "metadata": {},
   "outputs": [],
   "source": [
    "import pymongo\n",
    "\n",
    "# Replace 'your_mongodb_uri' with the actual MongoDB connection URI\n",
    "mongo_client = pymongo.MongoClient('your_mongodb_uri')\n",
    "\n",
    "# Create a database named 'mydatabase'\n",
    "my_database = mongo_client['mydatabase']\n",
    "\n",
    "# Create a collection named 'mycollection'\n",
    "my_collection = my_database['mycollection']\n",
    "\n",
    "# Insert some sample data (if not already inserted)\n",
    "sample_data = [\n",
    "    {\"name\": \"John Doe\", \"age\": 30, \"email\": \"john.doe@example.com\"},\n",
    "    {\"name\": \"Alice\", \"age\": 25, \"email\": \"alice@example.com\"},\n",
    "    {\"name\": \"Bob\", \"age\": 28, \"email\": \"bob@example.com\"}\n",
    "]\n",
    "my_collection.insert_many(sample_data)\n",
    "\n",
    "# Use the find() method to retrieve all documents\n",
    "all_documents = my_collection.find()\n",
    "\n",
    "# Iterate and print the documents\n",
    "for doc in all_documents:\n",
    "    print(doc)"
   ]
  },
  {
   "cell_type": "markdown",
   "id": "0d5f0e0f",
   "metadata": {},
   "source": [
    "#### Q6. Explain the sort() method. Give an example to demonstrate sorting in MongoDB.\n",
    "    Ans. The sort() method in MongoDB is used to specify the sorting order for the result set of a query. It allows you to sort the documents based on one or more fields, either in ascending or descending order. \n",
    "    \n",
    "    cursor = collection.find(filter).sort(field_name, direction)\n",
    "    filter: The filter criteria to select the documents.\n",
    "    field_name: The name of the field by which the documents should be sorted.\n",
    "    direction: Optional. It specifies the sorting order, either 1 for ascending or -1 for descending. Default is ascending (1)."
   ]
  },
  {
   "cell_type": "code",
   "execution_count": null,
   "id": "0c3fcd6f",
   "metadata": {},
   "outputs": [],
   "source": [
    "import pymongo\n",
    "\n",
    "# Replace 'your_mongodb_uri' with the actual MongoDB connection URI\n",
    "mongo_client = pymongo.MongoClient('your_mongodb_uri')\n",
    "\n",
    "# Create a database named 'mydatabase'\n",
    "my_database = mongo_client['mydatabase']\n",
    "\n",
    "# Create a collection named 'mycollection'\n",
    "my_collection = my_database['mycollection']\n",
    "\n",
    "# Insert some sample data (if not already inserted)\n",
    "sample_data = [\n",
    "    {\"name\": \"John Doe\", \"age\": 30, \"email\": \"john.doe@example.com\"},\n",
    "    {\"name\": \"Alice\", \"age\": 25, \"email\": \"alice@example.com\"},\n",
    "    {\"name\": \"Bob\", \"age\": 28, \"email\": \"bob@example.com\"}\n",
    "]\n",
    "my_collection.insert_many(sample_data)\n",
    "\n",
    "# Use the find() method with sort() to retrieve documents sorted by age in descending order\n",
    "sorted_documents = my_collection.find().sort(\"age\", -1)\n",
    "\n",
    "# Iterate and print the sorted documents\n",
    "for doc in sorted_documents:\n",
    "    print(doc)\n"
   ]
  },
  {
   "cell_type": "markdown",
   "id": "407ef6fa",
   "metadata": {},
   "source": [
    "#### Q7. Explain why delete_one(), delete_many(), and drop() is used.\n",
    "    Ans. delete_one(filter): This method is used to delete a single document that matches the specified filter. If multiple documents match the filter, it will delete only the first one encountered.\n",
    "\n",
    "    delete_many(filter): This method is used to delete multiple documents that match the specified filter. It will delete all documents that satisfy the filter condition.\n",
    "\n",
    "    drop(): This method is used to remove an entire collection from the database, effectively deleting all the documents in that collection. It is a more drastic operation and should be used with caution."
   ]
  },
  {
   "cell_type": "code",
   "execution_count": null,
   "id": "0c0980a3",
   "metadata": {},
   "outputs": [],
   "source": [
    "# delete_one()\n",
    "\n",
    "\n",
    "import pymongo\n",
    "\n",
    "# Replace 'your_mongodb_uri' with the actual MongoDB connection URI\n",
    "mongo_client = pymongo.MongoClient('your_mongodb_uri')\n",
    "\n",
    "# Create a database named 'mydatabase'\n",
    "my_database = mongo_client['mydatabase']\n",
    "\n",
    "# Create a collection named 'mycollection'\n",
    "my_collection = my_database['mycollection']\n",
    "\n",
    "# Delete a single document with name \"John Doe\"\n",
    "my_collection.delete_one({\"name\": \"John Doe\"})"
   ]
  },
  {
   "cell_type": "code",
   "execution_count": null,
   "id": "2f971e09",
   "metadata": {},
   "outputs": [],
   "source": [
    "# delete_many()\n",
    "\n",
    "\n",
    "import pymongo\n",
    "\n",
    "# Replace 'your_mongodb_uri' with the actual MongoDB connection URI\n",
    "mongo_client = pymongo.MongoClient('your_mongodb_uri')\n",
    "\n",
    "# Create a database named 'mydatabase'\n",
    "my_database = mongo_client['mydatabase']\n",
    "\n",
    "# Create a collection named 'mycollection'\n",
    "my_collection = my_database['mycollection']\n",
    "\n",
    "# Delete all documents with age greater than 25\n",
    "my_collection.delete_many({\"age\": {\"$gt\": 25}})"
   ]
  },
  {
   "cell_type": "code",
   "execution_count": null,
   "id": "f6cd6a8c",
   "metadata": {},
   "outputs": [],
   "source": [
    "# drop()\n",
    "\n",
    "\n",
    "import pymongo\n",
    "\n",
    "# Replace 'your_mongodb_uri' with the actual MongoDB connection URI\n",
    "mongo_client = pymongo.MongoClient('your_mongodb_uri')\n",
    "\n",
    "# Create a database named 'mydatabase'\n",
    "my_database = mongo_client['mydatabase']\n",
    "\n",
    "# Drop the collection 'mycollection'\n",
    "my_collection = my_database['mycollection']\n",
    "my_collection.drop()"
   ]
  }
 ],
 "metadata": {
  "kernelspec": {
   "display_name": "Python 3 (ipykernel)",
   "language": "python",
   "name": "python3"
  },
  "language_info": {
   "codemirror_mode": {
    "name": "ipython",
    "version": 3
   },
   "file_extension": ".py",
   "mimetype": "text/x-python",
   "name": "python",
   "nbconvert_exporter": "python",
   "pygments_lexer": "ipython3",
   "version": "3.10.9"
  }
 },
 "nbformat": 4,
 "nbformat_minor": 5
}
