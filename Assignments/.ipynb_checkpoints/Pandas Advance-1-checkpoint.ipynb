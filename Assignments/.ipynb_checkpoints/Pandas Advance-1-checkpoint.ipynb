{
 "cells": [
  {
   "cell_type": "markdown",
   "id": "fd6eafaa",
   "metadata": {},
   "source": [
    "#### Q1. List any five functions of the pandas library with execution.\n",
    "    pd.read_csv(\"path/file.csv\"),head(),tail(),sample(), type(df), df.dtypes, df.describe()"
   ]
  },
  {
   "cell_type": "code",
   "execution_count": 2,
   "id": "33eb132f",
   "metadata": {},
   "outputs": [],
   "source": [
    "import pandas as pd\n",
    "import seaborn as sns"
   ]
  },
  {
   "cell_type": "code",
   "execution_count": 4,
   "id": "b2ae3342",
   "metadata": {},
   "outputs": [],
   "source": [
    "# 1. Read data from a CSV file\n",
    "df =  pd.read_csv('https://raw.githubusercontent.com/datasciencedojo/datasets/master/titanic.csv')"
   ]
  },
  {
   "cell_type": "code",
   "execution_count": 7,
   "id": "ab205ace",
   "metadata": {},
   "outputs": [
    {
     "data": {
      "text/html": [
       "<div>\n",
       "<style scoped>\n",
       "    .dataframe tbody tr th:only-of-type {\n",
       "        vertical-align: middle;\n",
       "    }\n",
       "\n",
       "    .dataframe tbody tr th {\n",
       "        vertical-align: top;\n",
       "    }\n",
       "\n",
       "    .dataframe thead th {\n",
       "        text-align: right;\n",
       "    }\n",
       "</style>\n",
       "<table border=\"1\" class=\"dataframe\">\n",
       "  <thead>\n",
       "    <tr style=\"text-align: right;\">\n",
       "      <th></th>\n",
       "      <th>PassengerId</th>\n",
       "      <th>Survived</th>\n",
       "      <th>Pclass</th>\n",
       "      <th>Name</th>\n",
       "      <th>Sex</th>\n",
       "      <th>Age</th>\n",
       "      <th>SibSp</th>\n",
       "      <th>Parch</th>\n",
       "      <th>Ticket</th>\n",
       "      <th>Fare</th>\n",
       "      <th>Cabin</th>\n",
       "      <th>Embarked</th>\n",
       "    </tr>\n",
       "  </thead>\n",
       "  <tbody>\n",
       "    <tr>\n",
       "      <th>0</th>\n",
       "      <td>1</td>\n",
       "      <td>0</td>\n",
       "      <td>3</td>\n",
       "      <td>Braund, Mr. Owen Harris</td>\n",
       "      <td>male</td>\n",
       "      <td>22.0</td>\n",
       "      <td>1</td>\n",
       "      <td>0</td>\n",
       "      <td>A/5 21171</td>\n",
       "      <td>7.2500</td>\n",
       "      <td>NaN</td>\n",
       "      <td>S</td>\n",
       "    </tr>\n",
       "    <tr>\n",
       "      <th>1</th>\n",
       "      <td>2</td>\n",
       "      <td>1</td>\n",
       "      <td>1</td>\n",
       "      <td>Cumings, Mrs. John Bradley (Florence Briggs Th...</td>\n",
       "      <td>female</td>\n",
       "      <td>38.0</td>\n",
       "      <td>1</td>\n",
       "      <td>0</td>\n",
       "      <td>PC 17599</td>\n",
       "      <td>71.2833</td>\n",
       "      <td>C85</td>\n",
       "      <td>C</td>\n",
       "    </tr>\n",
       "  </tbody>\n",
       "</table>\n",
       "</div>"
      ],
      "text/plain": [
       "   PassengerId  Survived  Pclass  \\\n",
       "0            1         0       3   \n",
       "1            2         1       1   \n",
       "\n",
       "                                                Name     Sex   Age  SibSp  \\\n",
       "0                            Braund, Mr. Owen Harris    male  22.0      1   \n",
       "1  Cumings, Mrs. John Bradley (Florence Briggs Th...  female  38.0      1   \n",
       "\n",
       "   Parch     Ticket     Fare Cabin Embarked  \n",
       "0      0  A/5 21171   7.2500   NaN        S  \n",
       "1      0   PC 17599  71.2833   C85        C  "
      ]
     },
     "execution_count": 7,
     "metadata": {},
     "output_type": "execute_result"
    }
   ],
   "source": [
    "# 2. Display the first n rows of the DataFrame (default 5)\n",
    "df.head(2)"
   ]
  },
  {
   "cell_type": "code",
   "execution_count": 8,
   "id": "0fe91b7e",
   "metadata": {},
   "outputs": [
    {
     "name": "stdout",
     "output_type": "stream",
     "text": [
      "<class 'pandas.core.frame.DataFrame'>\n",
      "RangeIndex: 891 entries, 0 to 890\n",
      "Data columns (total 12 columns):\n",
      " #   Column       Non-Null Count  Dtype  \n",
      "---  ------       --------------  -----  \n",
      " 0   PassengerId  891 non-null    int64  \n",
      " 1   Survived     891 non-null    int64  \n",
      " 2   Pclass       891 non-null    int64  \n",
      " 3   Name         891 non-null    object \n",
      " 4   Sex          891 non-null    object \n",
      " 5   Age          714 non-null    float64\n",
      " 6   SibSp        891 non-null    int64  \n",
      " 7   Parch        891 non-null    int64  \n",
      " 8   Ticket       891 non-null    object \n",
      " 9   Fare         891 non-null    float64\n",
      " 10  Cabin        204 non-null    object \n",
      " 11  Embarked     889 non-null    object \n",
      "dtypes: float64(2), int64(5), object(5)\n",
      "memory usage: 83.7+ KB\n"
     ]
    }
   ],
   "source": [
    "# 3. Get information about the DataFrame\n",
    "df.info()"
   ]
  },
  {
   "cell_type": "code",
   "execution_count": 9,
   "id": "da200ee0",
   "metadata": {},
   "outputs": [
    {
     "name": "stdout",
     "output_type": "stream",
     "text": [
      "Embarked\n",
      "C     93\n",
      "Q     30\n",
      "S    217\n",
      "Name: Survived, dtype: int64\n"
     ]
    }
   ],
   "source": [
    "# 4. Group the data by 'Category' column and calculate the mean of 'Value'\n",
    "grouped = df.groupby('Embarked')['Survived'].sum()\n",
    "print(grouped)"
   ]
  },
  {
   "cell_type": "code",
   "execution_count": 13,
   "id": "23b724fd",
   "metadata": {},
   "outputs": [
    {
     "data": {
      "text/plain": [
       "<Axes: xlabel='Embarked'>"
      ]
     },
     "execution_count": 13,
     "metadata": {},
     "output_type": "execute_result"
    },
    {
     "data": {
      "image/png": "[encoded data removed]",
      "text/plain": [
       "<Figure size 640x480 with 1 Axes>"
      ]
     },
     "metadata": {},
     "output_type": "display_data"
    }
   ],
   "source": [
    "import matplotlib.pyplot as plt\n",
    "\n",
    "# 5. Plot a line chart of 'Sales' column\n",
    "grouped.plot()"
   ]
  },
  {
   "cell_type": "markdown",
   "id": "064139a3",
   "metadata": {},
   "source": [
    "#### Q2. Given a Pandas DataFrame df with columns 'A', 'B', and 'C', write a Python function to re-index the DataFrame with a new index that starts from 1 and increments by 2 for each row."
   ]
  },
  {
   "cell_type": "code",
   "execution_count": 14,
   "id": "2e182a8d",
   "metadata": {},
   "outputs": [
    {
     "name": "stdout",
     "output_type": "stream",
     "text": [
      "    A   B   C\n",
      "1  10  40  70\n",
      "3  20  50  80\n",
      "5  30  60  90\n"
     ]
    }
   ],
   "source": [
    "import pandas as pd\n",
    "\n",
    "def reindex_dataframe(df):\n",
    "    new_index = pd.Index(range(1, len(df)*2+1, 2))\n",
    "    df = df.reset_index(drop=True)\n",
    "    df.index = new_index\n",
    "    return df\n",
    "\n",
    "# Example\n",
    "df = pd.DataFrame({'A': [10, 20, 30], 'B': [40, 50, 60], 'C': [70, 80, 90]})\n",
    "\n",
    "# Re-index the DataFrame\n",
    "df_reindexed = reindex_dataframe(df)\n",
    "print(df_reindexed)"
   ]
  },
  {
   "cell_type": "markdown",
   "id": "dbd814ba",
   "metadata": {},
   "source": [
    "#### Q3. You have a Pandas DataFrame df with a column named 'Values'. Write a Python function that iterates over the DataFrame and calculates the sum of the first three values in the 'Values' column. The function should print the sum to the console.\n",
    "    For example, if the 'Values' column of df contains the values [10, 20, 30, 40, 50], your function should calculate and print the sum of the first three values, which is 60."
   ]
  },
  {
   "cell_type": "code",
   "execution_count": 15,
   "id": "03c0a252",
   "metadata": {},
   "outputs": [
    {
     "name": "stdout",
     "output_type": "stream",
     "text": [
      "Sum of the first three values: 60\n"
     ]
    }
   ],
   "source": [
    "import pandas as pd\n",
    "\n",
    "def calculate_sum_first_3_rows(df):\n",
    "    values_column = df['Values']\n",
    "    sum_first_three = sum(values_column[:3])\n",
    "    print(\"Sum of the first three values:\", sum_first_three)\n",
    "\n",
    "    import pandas as pd\n",
    "\n",
    "# Example\n",
    "df = pd.DataFrame({'Values': [10, 20, 30, 40, 50]})\n",
    "\n",
    "# Call the function to calculate and print the sum of the first three values\n",
    "calculate_sum_first_3_rows(df)"
   ]
  },
  {
   "cell_type": "markdown",
   "id": "1a73b93c",
   "metadata": {},
   "source": [
    "#### Q4. Given a Pandas DataFrame df with a column 'Text', write a Python function to create a new column 'Word_Count' that contains the number of words in each row of the 'Text' column.\n",
    "    Ans. df['Name len'] = df['Name'].apply(lambda x: len(x))"
   ]
  },
  {
   "cell_type": "markdown",
   "id": "c8efc967",
   "metadata": {},
   "source": [
    "##### Q5. How are DataFrame.size() and DataFrame.shape() different?\n",
    "    Ans. df.shape = (row,col) and df.size = row*col"
   ]
  },
  {
   "cell_type": "markdown",
   "id": "5a8a33c8",
   "metadata": {},
   "source": [
    "#### Q6. Which function of pandas do we use to read an excel file? \n",
    "    Ans. pd.read_excel('file.xlxs', sheetname = 'sheetname')"
   ]
  },
  {
   "cell_type": "markdown",
   "id": "6ffcb6d4",
   "metadata": {},
   "source": [
    "#### Q7. You have a Pandas DataFrame df that contains a column named 'Email' that contains email addresses in the format 'username@domain.com'. Write a Python function that creates a new column 'Username' in df that contains only the username part of each email address. The username is the part of the email address that appears before the '@' symbol. For example, if the email address is 'john.doe@example.com', the 'Username' column should contain 'john.doe'. Your function should extract the username from each email address and store it in the new 'Username' column.\n",
    "    Ans. df_email['username']=df_email['email'].apply(lambda x: x.split('@')[0]) \n",
    "    df_email['domain']=df_email['email'].apply(lambda x: x.split('@')[1]).apply(lambda x: x.split('.')[0])"
   ]
  },
  {
   "cell_type": "markdown",
   "id": "a7f06df8",
   "metadata": {},
   "source": [
    "#### Q8. You have a Pandas DataFrame df with columns 'A', 'B', and 'C'. Write a Python function that selects all rows where the value in column 'A' is greater than 5 and the value in column 'B' is less than 10. The function should return a new DataFrame that contains only the selected rows.\n",
    "    For example, if df contains the following values:\n",
    "    A B C\n",
    "    0 3 5 1\n",
    "    1 8 2 7\n",
    "    2 6 9 4\n",
    "    3 2 3 5\n",
    "    4 9 1 2\n",
    "    Your function should select the following rows: A B C\n",
    "    1 8 2 7\n",
    "    4 9 1 2\n",
    "    The function should return a new DataFrame that contains only the selected rows.\n",
    "\n",
    "    Ans. filtered_df = df[(df['A'] > 5) & (df['B'] < 10)]"
   ]
  },
  {
   "cell_type": "markdown",
   "id": "af03b1f5",
   "metadata": {},
   "source": [
    "#### Q9. Given a Pandas DataFrame df with a column 'Values', write a Python function to calculate the mean, median, and standard deviation of the values in the 'Values' column.\n",
    "     Ans. df['Fare'].mean(), df['Fare'].median(), df['Fare'].std()"
   ]
  },
  {
   "cell_type": "markdown",
   "id": "99fe95a6",
   "metadata": {},
   "source": [
    "#### Q10. Given a Pandas DataFrame df with a column 'Sales' and a column 'Date', write a Python function to create a new column 'MovingAverage' that contains the moving average of the sales for the past 7 days for each row in the DataFrame. The moving average should be calculated using a window of size 7 and should include the current day.\n",
    "    Ans. df['MovingAverage'] = df['Sales'].rolling(window=7, min_periods=1).mean()"
   ]
  },
  {
   "cell_type": "markdown",
   "id": "1e55827d",
   "metadata": {},
   "source": [
    "#### Q11. You have a Pandas DataFrame df with a column 'Date'. Write a Python function that creates a new column 'Weekday' in the DataFrame. The 'Weekday' column should contain the weekday name (e.g. Monday, Tuesday) corresponding to each date in the 'Date' column.\n",
    "    For example, if df contains the following values:\n",
    "    Date\n",
    "    0 2023-01-01\n",
    "    1 2023-01-02\n",
    "    2 2023-01-03\n",
    "    3 2023-01-04\n",
    "    4 2023-01-05\n",
    "    Your function should create the following DataFrame:\n",
    "\n",
    "    Date Weekday\n",
    "    0 2023-01-01 Sunday\n",
    "    1 2023-01-02 Monday\n",
    "    2 2023-01-03 Tuesday\n",
    "    3 2023-01-04 Wednesday\n",
    "    4 2023-01-05 Thursday\n",
    "    The function should return the modified DataFrame.\n",
    "\n",
    "    Ans. dt_df['WeekDay'] = dt_df['Date'].apply(lambda x: x.strftime('%A'))"
   ]
  },
  {
   "cell_type": "markdown",
   "id": "982d35b3",
   "metadata": {},
   "source": [
    "#### Q12. Given a Pandas DataFrame df with a column 'Date' that contains timestamps, write a Python function to select all rows where the date is between '2023-01-01' and '2023-01-31'.\n",
    "    Ans. df2[(df2['Date']>='2023-01-01') & (df2['Date']<='2023-01-31')]"
   ]
  },
  {
   "cell_type": "markdown",
   "id": "56716ef8",
   "metadata": {},
   "source": [
    "#### Q13. To use the basic functions of pandas, what is the first and foremost necessary library that needs to be imported?\n",
    "\n",
    "    Ans. import pandas as pd"
   ]
  },
  {
   "cell_type": "code",
   "execution_count": null,
   "id": "77e63d4f",
   "metadata": {},
   "outputs": [],
   "source": []
  }
 ],
 "metadata": {
  "kernelspec": {
   "display_name": "Python 3 (ipykernel)",
   "language": "python",
   "name": "python3"
  },
  "language_info": {
   "codemirror_mode": {
    "name": "ipython",
    "version": 3
   },
   "file_extension": ".py",
   "mimetype": "text/x-python",
   "name": "python",
   "nbconvert_exporter": "python",
   "pygments_lexer": "ipython3",
   "version": "3.10.9"
  }
 },
 "nbformat": 4,
 "nbformat_minor": 5
}
