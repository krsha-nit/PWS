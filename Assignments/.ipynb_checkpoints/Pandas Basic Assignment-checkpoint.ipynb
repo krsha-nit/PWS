{
 "cells": [
  {
   "cell_type": "markdown",
   "id": "aecb9334",
   "metadata": {},
   "source": [
    "#### Q1. Create a Pandas Series that contains the following data: 4, 8, 15, 16, 23, and 42. Then, print the series."
   ]
  },
  {
   "cell_type": "code",
   "execution_count": 4,
   "id": "147c77b5-cb90-47df-a82b-c37ff5edc37e",
   "metadata": {},
   "outputs": [
    {
     "data": {
      "text/plain": [
       "0     4\n",
       "1     8\n",
       "2    15\n",
       "3    16\n",
       "4    23\n",
       "5    42\n",
       "6     4\n",
       "7     5\n",
       "8     6\n",
       "9     7\n",
       "dtype: int64"
      ]
     },
     "execution_count": 4,
     "metadata": {},
     "output_type": "execute_result"
    }
   ],
   "source": [
    "#Q1. Create a Pandas Series that contains the following data: 4, 8, 15, 16, 23, and 42. Then, print the series.\n",
    "import pandas as pd\n",
    "ls1 = [4, 8, 15, 16, 23, 42,4,5,6,7]\n",
    "ser1 = pd.Series(ls1)\n",
    "ser1"
   ]
  },
  {
   "cell_type": "markdown",
   "id": "133feb68",
   "metadata": {},
   "source": [
    "#### Q2. Create a variable of list type containing 10 elements in it, and apply pandas.Series function on the variable print it."
   ]
  },
  {
   "cell_type": "code",
   "execution_count": 3,
   "id": "67af6f44",
   "metadata": {},
   "outputs": [
    {
     "name": "stdout",
     "output_type": "stream",
     "text": [
      "0    1\n",
      "1    2\n",
      "2    3\n",
      "3    4\n",
      "4    5\n",
      "5    6\n",
      "6    a\n",
      "7    b\n",
      "8    c\n",
      "9    d\n",
      "dtype: object\n"
     ]
    },
    {
     "data": {
      "text/html": [
       "<div>\n",
       "<style scoped>\n",
       "    .dataframe tbody tr th:only-of-type {\n",
       "        vertical-align: middle;\n",
       "    }\n",
       "\n",
       "    .dataframe tbody tr th {\n",
       "        vertical-align: top;\n",
       "    }\n",
       "\n",
       "    .dataframe thead th {\n",
       "        text-align: right;\n",
       "    }\n",
       "</style>\n",
       "<table border=\"1\" class=\"dataframe\">\n",
       "  <thead>\n",
       "    <tr style=\"text-align: right;\">\n",
       "      <th></th>\n",
       "      <th>0</th>\n",
       "    </tr>\n",
       "  </thead>\n",
       "  <tbody>\n",
       "    <tr>\n",
       "      <th>1</th>\n",
       "      <td>4</td>\n",
       "    </tr>\n",
       "    <tr>\n",
       "      <th>2</th>\n",
       "      <td>8</td>\n",
       "    </tr>\n",
       "    <tr>\n",
       "      <th>3</th>\n",
       "      <td>15</td>\n",
       "    </tr>\n",
       "    <tr>\n",
       "      <th>4</th>\n",
       "      <td>16</td>\n",
       "    </tr>\n",
       "    <tr>\n",
       "      <th>5</th>\n",
       "      <td>23</td>\n",
       "    </tr>\n",
       "    <tr>\n",
       "      <th>6</th>\n",
       "      <td>42</td>\n",
       "    </tr>\n",
       "    <tr>\n",
       "      <th>a</th>\n",
       "      <td>4</td>\n",
       "    </tr>\n",
       "    <tr>\n",
       "      <th>b</th>\n",
       "      <td>5</td>\n",
       "    </tr>\n",
       "    <tr>\n",
       "      <th>c</th>\n",
       "      <td>6</td>\n",
       "    </tr>\n",
       "    <tr>\n",
       "      <th>d</th>\n",
       "      <td>7</td>\n",
       "    </tr>\n",
       "  </tbody>\n",
       "</table>\n",
       "</div>"
      ],
      "text/plain": [
       "    0\n",
       "1   4\n",
       "2   8\n",
       "3  15\n",
       "4  16\n",
       "5  23\n",
       "6  42\n",
       "a   4\n",
       "b   5\n",
       "c   6\n",
       "d   7"
      ]
     },
     "execution_count": 3,
     "metadata": {},
     "output_type": "execute_result"
    }
   ],
   "source": [
    "\n",
    "#Q2. Create a variable of list type containing 10 elements in it, and apply pandas.Series function on the\n",
    "#variable print it.\n",
    "ls2 = [1,2,3,4,5,6,'a','b','c','d']\n",
    "ser2 = pd.Series(ls2)\n",
    "print(ser2)\n",
    "\n",
    "df2 = pd.DataFrame({'ser1':ls1, 'ser2': ls2})\n",
    "df2\n",
    "\n",
    "df3 = pd.DataFrame(ls1,ls2)\n",
    "df3"
   ]
  },
  {
   "cell_type": "markdown",
   "id": "98d569c4-ee77-4ab1-a6b1-be10b36a7899",
   "metadata": {},
   "source": [
    "#### Q3. Create a Pandas DataFrame that contains the following data:\n",
    "    Name, Age, Gender\n",
    "    Alice, 25, Female\n",
    "    Bob, 30, Male\n",
    "    Claire, 27, Female"
   ]
  },
  {
   "cell_type": "code",
   "execution_count": 5,
   "id": "14141636-eec0-409f-b1b8-433d77aef637",
   "metadata": {},
   "outputs": [
    {
     "data": {
      "text/html": [
       "<div>\n",
       "<style scoped>\n",
       "    .dataframe tbody tr th:only-of-type {\n",
       "        vertical-align: middle;\n",
       "    }\n",
       "\n",
       "    .dataframe tbody tr th {\n",
       "        vertical-align: top;\n",
       "    }\n",
       "\n",
       "    .dataframe thead th {\n",
       "        text-align: right;\n",
       "    }\n",
       "</style>\n",
       "<table border=\"1\" class=\"dataframe\">\n",
       "  <thead>\n",
       "    <tr style=\"text-align: right;\">\n",
       "      <th></th>\n",
       "      <th>Name</th>\n",
       "      <th>Age</th>\n",
       "      <th>Gender</th>\n",
       "    </tr>\n",
       "  </thead>\n",
       "  <tbody>\n",
       "    <tr>\n",
       "      <th>0</th>\n",
       "      <td>Alice</td>\n",
       "      <td>25</td>\n",
       "      <td>Female</td>\n",
       "    </tr>\n",
       "    <tr>\n",
       "      <th>1</th>\n",
       "      <td>Bob</td>\n",
       "      <td>30</td>\n",
       "      <td>Male</td>\n",
       "    </tr>\n",
       "    <tr>\n",
       "      <th>2</th>\n",
       "      <td>Claire</td>\n",
       "      <td>27</td>\n",
       "      <td>Female</td>\n",
       "    </tr>\n",
       "  </tbody>\n",
       "</table>\n",
       "</div>"
      ],
      "text/plain": [
       "     Name  Age  Gender\n",
       "0   Alice   25  Female\n",
       "1     Bob   30    Male\n",
       "2  Claire   27  Female"
      ]
     },
     "execution_count": 5,
     "metadata": {},
     "output_type": "execute_result"
    }
   ],
   "source": [
    "dic1 = {'Name':['Alice','Bob','Claire'],\n",
    "        'Age':[25,30,27],\n",
    "        'Gender':['Female', 'Male', 'Female']\n",
    "                }\n",
    "df = pd.DataFrame(dic1)\n",
    "df"
   ]
  },
  {
   "cell_type": "markdown",
   "id": "9c3e4ef3",
   "metadata": {},
   "source": [
    "#### Q4. What is ‘DataFrame’ in pandas and how is it different from pandas.series? Explain with an example.\n",
    "    Ans. In pandas, a DataFrame is a two-dimensional labeled data structure that is capable of holding data of different types. It is similar to a table in a relational database or a spreadsheet in Excel. A DataFrame consists of rows and columns, where each column can have a different data type (e.g., integer, float, string).\n",
    "\n",
    "    On the other hand, a Series is a one-dimensional labeled array that can hold data of any type. It is similar to a single column in a DataFrame or a one-dimensional array in NumPy."
   ]
  },
  {
   "cell_type": "code",
   "execution_count": 7,
   "id": "7f2cdbfb",
   "metadata": {},
   "outputs": [
    {
     "name": "stdout",
     "output_type": "stream",
     "text": [
      "  Product  Quantity  Price\n",
      "0       A        10   25.5\n",
      "1       B         5   12.9\n",
      "2       C         8   18.7\n",
      "3       D        12   10.2\n",
      "0    A\n",
      "1    B\n",
      "2    C\n",
      "3    D\n",
      "Name: Product, dtype: object\n"
     ]
    }
   ],
   "source": [
    "data = {\n",
    "    'Product': ['A', 'B', 'C', 'D'],\n",
    "    'Quantity': [10, 5, 8, 12],\n",
    "    'Price': [25.5, 12.9, 18.7, 10.2]\n",
    "}\n",
    "\n",
    "df = pd.DataFrame(data)\n",
    "\n",
    "ser = df['Product']\n",
    "print(df) # example of dataframe\n",
    "print(ser) # example of series"
   ]
  },
  {
   "cell_type": "markdown",
   "id": "4323dbef",
   "metadata": {},
   "source": [
    "#### Q5. What are some common functions you can use to manipulate data in a Pandas DataFrame? Can you give an example of when you might use one of these functions?\n",
    "    Ans. head() and tail(): These functions are used to view the first few rows (head()) or the last few rows (tail()) of a DataFrame. They are helpful for inspecting the structure and content of the DataFrame.\n",
    "\n",
    "    info(): It provides a summary of the DataFrame, including the data types, number of non-null values, and memory usage. It helps in understanding the overall structure of the DataFrame.\n",
    "\n",
    "    describe(): This function generates descriptive statistics of the DataFrame, such as count, mean, standard deviation, minimum, maximum, and quartiles, for numeric columns. It provides a quick overview of the distribution of the data.\n",
    "\n",
    "    shape: It returns the dimensions of the DataFrame as a tuple, representing the number of rows and columns.\n",
    "\n",
    "    columns: It returns the column labels of the DataFrame.\n",
    "\n",
    "    index: It returns the row labels of the DataFrame.\n",
    "\n",
    "    loc[] and iloc[]: These functions are used for indexing and selecting data from a DataFrame. loc[] is label-based, meaning it uses row and column labels, while iloc[] is integer-based, using integer positions. You can use these functions to access specific rows or columns based on your criteria.\n",
    "\n",
    "    drop(): This function is used to drop specified rows or columns from the DataFrame. It allows you to remove unnecessary or redundant data.\n",
    "\n",
    "    sort_values(): It sorts the DataFrame based on specified columns. You can sort the data in ascending or descending order. Sorting is useful for organizing data and finding patterns.\n",
    "\n",
    "    groupby(): This function is used for grouping data based on one or more columns. It enables you to perform aggregate operations on the grouped data, such as calculating sums, means, or counts.\n",
    "\n",
    "    fillna(): It is used to fill missing values in the DataFrame with specified values or methods, such as forward-fill or backward-fill.\n",
    "\n",
    "    apply(): This function applies a given function to each element or column of the DataFrame. It is useful for performing custom operations or transformations on the data."
   ]
  },
  {
   "cell_type": "markdown",
   "id": "2ccbe52f",
   "metadata": {},
   "source": [
    "#### Q6. Which of the following is mutable in nature Series, DataFrame, Panel?\n",
    "    Ans. Series and DataFrame are mutable while Panel is not. "
   ]
  },
  {
   "cell_type": "markdown",
   "id": "ac7ceffe",
   "metadata": {},
   "source": [
    "#### Q7. Create a DataFrame using multiple Series. Explain with an example."
   ]
  },
  {
   "cell_type": "code",
   "execution_count": 9,
   "id": "62592ef1",
   "metadata": {},
   "outputs": [
    {
     "data": {
      "text/html": [
       "<div>\n",
       "<style scoped>\n",
       "    .dataframe tbody tr th:only-of-type {\n",
       "        vertical-align: middle;\n",
       "    }\n",
       "\n",
       "    .dataframe tbody tr th {\n",
       "        vertical-align: top;\n",
       "    }\n",
       "\n",
       "    .dataframe thead th {\n",
       "        text-align: right;\n",
       "    }\n",
       "</style>\n",
       "<table border=\"1\" class=\"dataframe\">\n",
       "  <thead>\n",
       "    <tr style=\"text-align: right;\">\n",
       "      <th></th>\n",
       "      <th>Name</th>\n",
       "      <th>Age</th>\n",
       "      <th>City</th>\n",
       "    </tr>\n",
       "  </thead>\n",
       "  <tbody>\n",
       "    <tr>\n",
       "      <th>0</th>\n",
       "      <td>Alice</td>\n",
       "      <td>25</td>\n",
       "      <td>New York</td>\n",
       "    </tr>\n",
       "    <tr>\n",
       "      <th>1</th>\n",
       "      <td>Bob</td>\n",
       "      <td>30</td>\n",
       "      <td>London</td>\n",
       "    </tr>\n",
       "    <tr>\n",
       "      <th>2</th>\n",
       "      <td>Charlie</td>\n",
       "      <td>35</td>\n",
       "      <td>Paris</td>\n",
       "    </tr>\n",
       "    <tr>\n",
       "      <th>3</th>\n",
       "      <td>David</td>\n",
       "      <td>40</td>\n",
       "      <td>Tokyo</td>\n",
       "    </tr>\n",
       "  </tbody>\n",
       "</table>\n",
       "</div>"
      ],
      "text/plain": [
       "      Name  Age      City\n",
       "0    Alice   25  New York\n",
       "1      Bob   30    London\n",
       "2  Charlie   35     Paris\n",
       "3    David   40     Tokyo"
      ]
     },
     "execution_count": 9,
     "metadata": {},
     "output_type": "execute_result"
    }
   ],
   "source": [
    "import pandas as pd\n",
    "\n",
    "names = pd.Series(['Alice', 'Bob', 'Charlie', 'David'])\n",
    "ages = pd.Series([25, 30, 35, 40])\n",
    "cities = pd.Series(['New York', 'London', 'Paris', 'Tokyo'])\n",
    "\n",
    "# Create a DataFrame using the above 3 Series\n",
    "data = {'Name': names, 'Age': ages, 'City': cities}\n",
    "df = pd.DataFrame(data)\n",
    "df"
   ]
  },
  {
   "cell_type": "code",
   "execution_count": null,
   "id": "aacd8626",
   "metadata": {},
   "outputs": [],
   "source": []
  }
 ],
 "metadata": {
  "kernelspec": {
   "display_name": "Python 3 (ipykernel)",
   "language": "python",
   "name": "python3"
  },
  "language_info": {
   "codemirror_mode": {
    "name": "ipython",
    "version": 3
   },
   "file_extension": ".py",
   "mimetype": "text/x-python",
   "name": "python",
   "nbconvert_exporter": "python",
   "pygments_lexer": "ipython3",
   "version": "3.10.9"
  }
 },
 "nbformat": 4,
 "nbformat_minor": 5
}
