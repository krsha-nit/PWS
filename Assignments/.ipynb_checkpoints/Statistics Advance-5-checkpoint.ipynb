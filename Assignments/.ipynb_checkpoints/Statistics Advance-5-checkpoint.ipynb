{
 "cells": [
  {
   "cell_type": "markdown",
   "id": "bafc5c30",
   "metadata": {},
   "source": [
    "#### Q1. Calculate the 95% confidence interval for a sample of data with a mean of 50 and a standard deviation of 5 using Python. Interpret the results."
   ]
  },
  {
   "cell_type": "code",
   "execution_count": 9,
   "id": "2fe1b81a",
   "metadata": {},
   "outputs": [
    {
     "name": "stdout",
     "output_type": "stream",
     "text": [
      "95% Confidence Interval: (49.02, 50.98)\n"
     ]
    }
   ],
   "source": [
    "import numpy as np\n",
    "from scipy.stats import norm\n",
    "\n",
    "sample_mean = 50\n",
    "sample_std_dev = 5\n",
    "sample_size = 100  # Replace this with the actual sample size\n",
    "\n",
    "# Calculate the standard error\n",
    "standard_error = sample_std_dev / np.sqrt(sample_size)\n",
    "\n",
    "# Set the desired confidence level\n",
    "confidence_level = 0.95\n",
    "\n",
    "# Calculate the critical value (z-score) based on the confidence level\n",
    "critical_value = norm.ppf((1 + confidence_level) / 2)\n",
    "\n",
    "# Calculate the confidence interval\n",
    "lower_bound = sample_mean - critical_value * standard_error\n",
    "upper_bound = sample_mean + critical_value * standard_error\n",
    "\n",
    "print(f\"95% Confidence Interval: ({lower_bound:.2f}, {upper_bound:.2f})\")"
   ]
  },
  {
   "cell_type": "markdown",
   "id": "11855062",
   "metadata": {},
   "source": [
    "    The 95% confidence interval means that we are 95% confident that the true population mean lies within the calculated interval. In this case, the interval will be (lower_bound, upper_bound). For example, if we were to repeat the process of taking samples and calculating their confidence intervals many times, approximately 95% of those intervals would contain the true population mean."
   ]
  },
  {
   "cell_type": "markdown",
   "id": "744e5e15",
   "metadata": {},
   "source": [
    "#### Q2. Conduct a chi-square goodness of fit test to determine if the distribution of colors of M&Ms in a bag matches the expected distribution of 20% blue, 20% orange, 20% green, 10% yellow, 10% red, and 20% brown. Use Python to perform the test with a significance level of 0.05."
   ]
  },
  {
   "cell_type": "code",
   "execution_count": 10,
   "id": "73ccb731",
   "metadata": {},
   "outputs": [
    {
     "name": "stdout",
     "output_type": "stream",
     "text": [
      "Chi-square statistic: 3.00\n",
      "P-value: 0.69999\n",
      "There is no significant evidence to reject the null hypothesis.\n"
     ]
    }
   ],
   "source": [
    "from scipy.stats import chisquare\n",
    "\n",
    "observed_frequencies = [30, 25, 25, 15, 10, 20]  # Replace this with the actual observed frequencies\n",
    "\n",
    "expected_frequencies = [0.2, 0.2, 0.2, 0.1, 0.1, 0.2]  # Expected proportions for each color\n",
    "\n",
    "# Convert expected proportions to expected frequencies based on the total number of M&Ms\n",
    "total_mms = sum(observed_frequencies)\n",
    "expected_frequencies = [freq * total_mms for freq in expected_frequencies]\n",
    "\n",
    "# Perform the chi-square goodness of fit test\n",
    "chi2_statistic, p_value = chisquare(observed_frequencies, expected_frequencies)\n",
    "\n",
    "# Set the significance level\n",
    "significance_level = 0.05\n",
    "\n",
    "print(f\"Chi-square statistic: {chi2_statistic:.2f}\")\n",
    "print(f\"P-value: {p_value:.5f}\")\n",
    "\n",
    "# Compare the p-value with the significance level to make a decision\n",
    "if p_value <= significance_level:\n",
    "    print(\"There is significant evidence to reject the null hypothesis.\")\n",
    "else:\n",
    "    print(\"There is no significant evidence to reject the null hypothesis.\")"
   ]
  },
  {
   "cell_type": "markdown",
   "id": "09e654ff",
   "metadata": {},
   "source": [
    "    Interpretation:\n",
    "    The chi-square goodness of fit test is used to determine if the observed distribution of colors in the bag matches the expected distribution. The null hypothesis (H0) assumes that there is no significant difference between the observed and expected distributions. The alternative hypothesis (H1) assumes that there is a significant difference.\n",
    "\n",
    "    If the p-value is less than or equal to the significance level (0.05 in this case), we reject the null hypothesis, which means that there is significant evidence that the distribution of colors in the bag does not match the expected distribution. Conversely, if the p-value is greater than the significance level, we fail to reject the null hypothesis, indicating that there is no significant evidence to suggest that the distributions are different.\n",
    "\n",
    "    Keep in mind that the example provided assumes you have the observed frequencies of each color in the bag. If you don't have this data yet, you need to gather it before conducting the test."
   ]
  },
  {
   "cell_type": "markdown",
   "id": "a402aa21",
   "metadata": {},
   "source": [
    "#### Q3. Use Python to calculate the chi-square statistic and p-value for a contingency table with the following\n",
    "    data:\n",
    "    +---------+---------+---------+\n",
    "    |         | Group A | Group B |\n",
    "    +---------+---------+---------+\n",
    "    | Outcome 1 |   20    |   15    |\n",
    "    +---------+---------+---------+\n",
    "    | Outcome 2 |   10    |   25    |\n",
    "    +---------+---------+---------+\n",
    "    | Outcome 3 |   15    |   20    |\n",
    "    +---------+---------+---------+\n",
    "\n",
    "    Interpret the results of the test."
   ]
  },
  {
   "cell_type": "code",
   "execution_count": 11,
   "id": "c9bf64d4",
   "metadata": {},
   "outputs": [
    {
     "name": "stdout",
     "output_type": "stream",
     "text": [
      "Chi-square statistic: 5.83\n",
      "P-value: 0.05411\n"
     ]
    }
   ],
   "source": [
    "import numpy as np\n",
    "from scipy.stats import chi2_contingency\n",
    "\n",
    "# Create the contingency table as a 2D array\n",
    "contingency_table = np.array([[20, 15], [10, 25], [15, 20]])\n",
    "\n",
    "# Perform the chi-square test\n",
    "chi2_statistic, p_value, dof, expected = chi2_contingency(contingency_table)\n",
    "\n",
    "print(f\"Chi-square statistic: {chi2_statistic:.2f}\")\n",
    "print(f\"P-value: {p_value:.5f}\")"
   ]
  },
  {
   "cell_type": "markdown",
   "id": "65bfead0",
   "metadata": {},
   "source": [
    "    Interpretation of the results:\n",
    "\n",
    "    The chi-square statistic measures the difference between the observed and expected frequencies in the contingency table. A larger value indicates a greater discrepancy between the observed and expected data.\n",
    "    The p-value represents the probability of observing a chi-square statistic as extreme as the one calculated, assuming the null hypothesis is true (i.e., there is no association between the two categorical variables). A smaller p-value suggests stronger evidence against the null hypothesis.\n",
    "    In general, if the p-value is less than the chosen significance level (commonly 0.05), we reject the null hypothesis. Conversely, if the p-value is greater than the significance level, we fail to reject the null hypothesis.\n",
    "    Interpretation for the given data:\n",
    "    The interpretation of the results depends on the p-value compared to the significance level. Suppose we use a significance level of 0.05. If the calculated p-value is less than 0.05, we reject the null hypothesis and conclude that there is a significant association between the two groups (Group A and Group B). On the other hand, if the p-value is greater than 0.05, we fail to reject the null hypothesis, and there is not enough evidence to suggest an association between the two groups."
   ]
  },
  {
   "cell_type": "markdown",
   "id": "0b4287b8",
   "metadata": {},
   "source": [
    "#### Q4. A study of the prevalence of smoking in a population of 500 individuals found that 60 individuals smoked. Use Python to calculate the 95% confidence interval for the true proportion of individuals in the population who smoke."
   ]
  },
  {
   "cell_type": "code",
   "execution_count": 12,
   "id": "9fe44274",
   "metadata": {},
   "outputs": [
    {
     "name": "stdout",
     "output_type": "stream",
     "text": [
      "95% Confidence Interval: (0.0915, 0.1485)\n"
     ]
    }
   ],
   "source": [
    "import numpy as np\n",
    "from scipy.stats import norm\n",
    "\n",
    "sample_proportion = 60 / 500\n",
    "sample_size = 500\n",
    "\n",
    "# Calculate the standard error\n",
    "standard_error = np.sqrt(sample_proportion * (1 - sample_proportion) / sample_size)\n",
    "\n",
    "# Set the desired confidence level\n",
    "confidence_level = 0.95\n",
    "\n",
    "# Calculate the critical value (z-score) based on the confidence level\n",
    "critical_value = norm.ppf((1 + confidence_level) / 2)\n",
    "\n",
    "# Calculate the confidence interval\n",
    "lower_bound = sample_proportion - critical_value * standard_error\n",
    "upper_bound = sample_proportion + critical_value * standard_error\n",
    "\n",
    "print(f\"95% Confidence Interval: ({lower_bound:.4f}, {upper_bound:.4f})\")"
   ]
  },
  {
   "cell_type": "markdown",
   "id": "67b15593",
   "metadata": {},
   "source": [
    "#### Q5. Calculate the 90% confidence interval for a sample of data with a mean of 75 and a standard deviation of 12 using Python. Interpret the results."
   ]
  },
  {
   "cell_type": "code",
   "execution_count": 13,
   "id": "eb0b0c08",
   "metadata": {},
   "outputs": [
    {
     "name": "stdout",
     "output_type": "stream",
     "text": [
      "90% Confidence Interval: (73.03, 76.97)\n"
     ]
    }
   ],
   "source": [
    "sample_mean = 75\n",
    "sample_std_dev = 12\n",
    "sample_size = 100  # Replace this with the actual sample size\n",
    "\n",
    "# Calculate the standard error\n",
    "standard_error = sample_std_dev / np.sqrt(sample_size)\n",
    "\n",
    "# Set the desired confidence level\n",
    "confidence_level = 0.90\n",
    "\n",
    "# Calculate the critical value (z-score) based on the confidence level\n",
    "critical_value = norm.ppf((1 + confidence_level) / 2)\n",
    "\n",
    "# Calculate the confidence interval\n",
    "lower_bound = sample_mean - critical_value * standard_error\n",
    "upper_bound = sample_mean + critical_value * standard_error\n",
    "\n",
    "print(f\"90% Confidence Interval: ({lower_bound:.2f}, {upper_bound:.2f})\")"
   ]
  },
  {
   "cell_type": "markdown",
   "id": "51a39ab2",
   "metadata": {},
   "source": [
    "    Interpretation:\n",
    "    The 90% confidence interval means that we are 90% confident that the true population mean lies within the calculated interval. For example, if we were to repeat the process of taking samples and calculating their confidence intervals many times, approximately 90% of those intervals would contain the true population mean."
   ]
  },
  {
   "cell_type": "markdown",
   "id": "4d4d3331",
   "metadata": {},
   "source": [
    "#### Q6. Use Python to plot the chi-square distribution with 10 degrees of freedom. Label the axes and shade the area corresponding to a chi-square statistic of 15.\n"
   ]
  },
  {
   "cell_type": "code",
   "execution_count": 14,
   "id": "d591ad83",
   "metadata": {},
   "outputs": [
    {
     "data": {
      "image/png": "[encoded data removed]",
      "text/plain": [
       "<Figure size 640x480 with 1 Axes>"
      ]
     },
     "metadata": {},
     "output_type": "display_data"
    }
   ],
   "source": [
    "import numpy as np\n",
    "import matplotlib.pyplot as plt\n",
    "from scipy.stats import chi2\n",
    "\n",
    "# Degrees of freedom\n",
    "df = 10\n",
    "\n",
    "# Create a range of chi-square values from 0 to 30\n",
    "x = np.linspace(0, 30, 500)\n",
    "\n",
    "# Calculate the probability density function (PDF) of the chi-square distribution\n",
    "y = chi2.pdf(x, df)\n",
    "\n",
    "# Plot the chi-square distribution\n",
    "plt.plot(x, y, label=f\"Chi-square Distribution (df={df})\")\n",
    "\n",
    "# Shade the area corresponding to a chi-square statistic of 15\n",
    "plt.fill_between(x, y, where=(x >= 15), color='gray', alpha=0.5, label=\"Chi-square Statistic = 15\")\n",
    "\n",
    "# Label the axes and add a legend\n",
    "plt.xlabel(\"Chi-square Value\")\n",
    "plt.ylabel(\"Probability Density\")\n",
    "plt.legend()\n",
    "plt.title(\"Chi-square Distribution\")\n",
    "plt.grid(True)\n",
    "plt.show()"
   ]
  },
  {
   "cell_type": "markdown",
   "id": "35bdece3",
   "metadata": {},
   "source": [
    "#### Q7. A random sample of 1000 people was asked if they preferred Coke or Pepsi. Of the sample, 520 preferred Coke. Calculate a 99% confidence interval for the true proportion of people in the population who prefer Coke."
   ]
  },
  {
   "cell_type": "code",
   "execution_count": 15,
   "id": "e35ebd3f",
   "metadata": {},
   "outputs": [
    {
     "name": "stdout",
     "output_type": "stream",
     "text": [
      "99% Confidence Interval: (0.4793, 0.5607)\n"
     ]
    }
   ],
   "source": [
    "import numpy as np\n",
    "from scipy.stats import norm\n",
    "\n",
    "sample_proportion = 520 / 1000\n",
    "sample_size = 1000\n",
    "\n",
    "# Calculate the standard error\n",
    "standard_error = np.sqrt(sample_proportion * (1 - sample_proportion) / sample_size)\n",
    "\n",
    "# Set the desired confidence level\n",
    "confidence_level = 0.99\n",
    "\n",
    "# Calculate the critical value (z-score) based on the confidence level\n",
    "critical_value = norm.ppf((1 + confidence_level) / 2)\n",
    "\n",
    "# Calculate the confidence interval\n",
    "lower_bound = sample_proportion - critical_value * standard_error\n",
    "upper_bound = sample_proportion + critical_value * standard_error\n",
    "\n",
    "print(f\"99% Confidence Interval: ({lower_bound:.4f}, {upper_bound:.4f})\")"
   ]
  },
  {
   "cell_type": "markdown",
   "id": "07a7b7dc",
   "metadata": {},
   "source": [
    "#### Q8. A researcher hypothesizes that a coin is biased towards tails. They flip the coin 100 times and observe 45 tails. Conduct a chi-square goodness of fit test to determine if the observed frequencies match the expected frequencies of a fair coin. Use a significance level of 0.05."
   ]
  },
  {
   "cell_type": "code",
   "execution_count": 16,
   "id": "94789d57",
   "metadata": {},
   "outputs": [
    {
     "name": "stdout",
     "output_type": "stream",
     "text": [
      "Chi-square statistic: 1.00\n",
      "P-value: 0.31731\n",
      "There is no significant evidence to reject the null hypothesis.\n"
     ]
    }
   ],
   "source": [
    "from scipy.stats import chisquare\n",
    "\n",
    "observed_frequencies = [45, 55]  # Tails and heads observed in 100 flips\n",
    "expected_frequencies = [50, 50]  # Expected tails and heads for a fair coin\n",
    "\n",
    "# Perform the chi-square goodness of fit test\n",
    "chi2_statistic, p_value = chisquare(observed_frequencies, expected_frequencies)\n",
    "\n",
    "# Set the significance level\n",
    "significance_level = 0.05\n",
    "\n",
    "print(f\"Chi-square statistic: {chi2_statistic:.2f}\")\n",
    "print(f\"P-value: {p_value:.5f}\")\n",
    "\n",
    "# Compare the p-value with the significance level to make a decision\n",
    "if p_value <= significance_level:\n",
    "    print(\"There is significant evidence to reject the null hypothesis.\")\n",
    "else:\n",
    "    print(\"There is no significant evidence to reject the null hypothesis.\")\n"
   ]
  },
  {
   "cell_type": "markdown",
   "id": "df8f8f63",
   "metadata": {},
   "source": [
    "    Interpretation:\n",
    "    The chi-square goodness of fit test is used to determine if the observed frequencies (tails and heads) match the expected frequencies (50 each) for a fair coin. If the p-value is less than or equal to the significance level (0.05 in this case), we reject the null hypothesis, which means that there is significant evidence that the observed frequencies deviate from the expected frequencies, and the coin may be biased. On the other hand, if the p-value is greater than the significance level, we fail to reject the null hypothesis, indicating that there is no significant evidence to suggest that the coin is biased."
   ]
  },
  {
   "cell_type": "markdown",
   "id": "0a8c8f8f",
   "metadata": {},
   "source": [
    "#### Q9. A study was conducted to determine if there is an association between smoking status (smoker or non-smoker) and lung cancer diagnosis (yes or no). The results are shown in the contingency table below. Conduct a chi-square test for independence to determine if there is a significant association between smoking status and lung cancer diagnosis.\n",
    "\n",
    "    |             | Lung Cancer: Yes | Lung Cancer: No |\n",
    "    |-------------|------------------|-----------------|\n",
    "    | Smoker      |       60         |       140       |\n",
    "    | Non-smoker  |       30         |       170       |\n",
    "\n",
    "    Use a significance level of 0.05."
   ]
  },
  {
   "cell_type": "code",
   "execution_count": 18,
   "id": "7359668a",
   "metadata": {},
   "outputs": [
    {
     "name": "stdout",
     "output_type": "stream",
     "text": [
      "Chi-square statistic: 12.06\n",
      "P-value: 0.00052\n"
     ]
    }
   ],
   "source": [
    "import numpy as np\n",
    "from scipy.stats import chi2_contingency\n",
    "\n",
    "# Create the contingency table as a 2D array\n",
    "contingency_table = np.array([[60, 140], [30, 170]])\n",
    "\n",
    "# Perform the chi-square test for independence\n",
    "chi2_statistic, p_value, dof, expected = chi2_contingency(contingency_table)\n",
    "\n",
    "print(f\"Chi-square statistic: {chi2_statistic:.2f}\")\n",
    "print(f\"P-value: {p_value:.5f}\")"
   ]
  },
  {
   "cell_type": "markdown",
   "id": "efe34224",
   "metadata": {},
   "source": [
    "    Interpretation of the results:\n",
    "\n",
    "    The chi-square statistic measures the difference between the observed and expected frequencies in the contingency table. A larger value indicates a greater discrepancy between the observed data and what would be expected if there were no association between the variables.\n",
    "    The p-value represents the probability of observing a chi-square statistic as extreme as the one calculated, assuming the null hypothesis is true (i.e., there is no association between smoking status and lung cancer diagnosis).\n",
    "    In this case, with a significance level of 0.05, if the p-value is less than or equal to 0.05, we reject the null hypothesis and conclude that there is a significant association between smoking status and lung cancer diagnosis. Conversely, if the p-value is greater than 0.05, we fail to reject the null hypothesis, indicating that there is no significant evidence to suggest an association between the two variables."
   ]
  },
  {
   "cell_type": "markdown",
   "id": "d648d19d",
   "metadata": {},
   "source": [
    "#### Q10. A study was conducted to determine if the proportion of people who prefer milk chocolate, dark chocolate, or white chocolate is different in the U.S. versus the U.K. A random sample of 500 people from the U.S. and a random sample of 500 people from the U.K. were surveyed. The results are shown in the contingency table below. Conduct a chi-square test for independence to determine if there is a significant association between chocolate preference and country of origin.\n",
    "\n",
    "    |               | Milk Chocolate | Dark Chocolate | White Chocolate |\n",
    "    |---------------|----------------|----------------|-----------------|\n",
    "    | U.S. (n=500)  |      200       |      150       |       150       |\n",
    "    | U.K. (n=500)  |      225       |      175       |       100       |\n",
    "    \n",
    "    Use a significance level of 0.01."
   ]
  },
  {
   "cell_type": "code",
   "execution_count": 19,
   "id": "ee772234",
   "metadata": {},
   "outputs": [
    {
     "name": "stdout",
     "output_type": "stream",
     "text": [
      "Chi-square statistic: 13.39\n",
      "P-value: 0.00123\n"
     ]
    }
   ],
   "source": [
    "import numpy as np\n",
    "from scipy.stats import chi2_contingency\n",
    "\n",
    "# Create the contingency table as a 2D array\n",
    "contingency_table = np.array([[200, 150, 150], [225, 175, 100]])\n",
    "\n",
    "# Perform the chi-square test for independence\n",
    "chi2_statistic, p_value, dof, expected = chi2_contingency(contingency_table)\n",
    "\n",
    "print(f\"Chi-square statistic: {chi2_statistic:.2f}\")\n",
    "print(f\"P-value: {p_value:.5f}\")"
   ]
  },
  {
   "cell_type": "markdown",
   "id": "d4e473c1",
   "metadata": {},
   "source": [
    "    Interpretation of the results:\n",
    "\n",
    "    The chi-square statistic measures the difference between the observed and expected frequencies in the contingency table. A larger value indicates a greater discrepancy between the observed data and what would be expected if there were no association between chocolate preference and country of origin.\n",
    "    The p-value represents the probability of observing a chi-square statistic as extreme as the one calculated, assuming the null hypothesis is true (i.e., there is no association between chocolate preference and country of origin).\n",
    "    In this case, with a significance level of 0.01, if the p-value is less than or equal to 0.01, we reject the null hypothesis and conclude that there is a significant association between chocolate preference and country of origin. Conversely, if the p-value is greater than 0.01, we fail to reject the null hypothesis, indicating that there is no significant evidence to suggest an association between the two variables."
   ]
  },
  {
   "cell_type": "markdown",
   "id": "69403382",
   "metadata": {},
   "source": [
    "#### Q11. A random sample of 30 people was selected from a population with an unknown mean and standard deviation. The sample mean was found to be 72 and the sample standard deviation was found to be 10. Conduct a hypothesis test to determine if the population mean is significantly different from 70. Use a significance level of 0.05."
   ]
  },
  {
   "cell_type": "code",
   "execution_count": 22,
   "id": "677bc8a8",
   "metadata": {},
   "outputs": [
    {
     "name": "stdout",
     "output_type": "stream",
     "text": [
      "T-statistic: 6.00\n",
      "P-value: 0.00000\n",
      "There is significant evidence to reject the null hypothesis.\n"
     ]
    }
   ],
   "source": [
    "import numpy as np\n",
    "from scipy.stats import ttest_1samp\n",
    "\n",
    "# Given data\n",
    "sample_mean = 72\n",
    "sample_std_dev = 10\n",
    "sample_size = 30\n",
    "population_mean = 70\n",
    "significance_level = 0.05\n",
    "\n",
    "# Calculate the standard error of the sample mean\n",
    "standard_error = sample_std_dev / np.sqrt(sample_size)\n",
    "\n",
    "# Generate a sample data array with the given sample mean and standard error\n",
    "sample_data = np.random.normal(sample_mean, standard_error, size=sample_size)\n",
    "\n",
    "# Perform the one-sample t-test\n",
    "t_statistic, p_value = ttest_1samp(sample_data, population_mean)\n",
    "\n",
    "print(f\"T-statistic: {t_statistic:.2f}\")\n",
    "print(f\"P-value: {p_value:.5f}\")\n",
    "\n",
    "# Compare the p-value with the significance level to make a decision\n",
    "if p_value <= significance_level:\n",
    "    print(\"There is significant evidence to reject the null hypothesis.\")\n",
    "else:\n",
    "    print(\"There is no significant evidence to reject the null hypothesis.\")"
   ]
  },
  {
   "cell_type": "markdown",
   "id": "9e8e3025",
   "metadata": {},
   "source": [
    "    Interpretation of the results:\n",
    "\n",
    "    The t-statistic represents the number of standard errors the sample mean is away from the hypothesized population mean. A larger absolute t-statistic indicates a greater difference between the sample mean and the hypothesized mean.\n",
    "    The p-value represents the probability of observing a t-statistic as extreme as the one calculated, assuming the null hypothesis is true (i.e., the population mean is 70).\n",
    "    With a significance level of 0.05, if the p-value is less than or equal to 0.05, we reject the null hypothesis and conclude that the population mean is significantly different from 70. Conversely, if the p-value is greater than 0.05, we fail to reject the null hypothesis, and there is no significant evidence to suggest that the population mean is different from 70."
   ]
  },
  {
   "cell_type": "markdown",
   "id": "d3c73ff5",
   "metadata": {},
   "source": []
  },
  {
   "cell_type": "markdown",
   "id": "a6a859e0",
   "metadata": {},
   "source": []
  }
 ],
 "metadata": {
  "kernelspec": {
   "display_name": "Python 3 (ipykernel)",
   "language": "python",
   "name": "python3"
  },
  "language_info": {
   "codemirror_mode": {
    "name": "ipython",
    "version": 3
   },
   "file_extension": ".py",
   "mimetype": "text/x-python",
   "name": "python",
   "nbconvert_exporter": "python",
   "pygments_lexer": "ipython3",
   "version": "3.10.9"
  }
 },
 "nbformat": 4,
 "nbformat_minor": 5
}
