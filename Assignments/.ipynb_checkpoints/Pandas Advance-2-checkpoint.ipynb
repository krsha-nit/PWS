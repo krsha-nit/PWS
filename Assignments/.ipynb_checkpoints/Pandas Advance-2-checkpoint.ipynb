{
 "cells": [
  {
   "cell_type": "code",
   "execution_count": 3,
   "id": "1d95fced",
   "metadata": {},
   "outputs": [
    {
     "data": {
      "text/html": [
       "<div>\n",
       "<style scoped>\n",
       "    .dataframe tbody tr th:only-of-type {\n",
       "        vertical-align: middle;\n",
       "    }\n",
       "\n",
       "    .dataframe tbody tr th {\n",
       "        vertical-align: top;\n",
       "    }\n",
       "\n",
       "    .dataframe thead th {\n",
       "        text-align: right;\n",
       "    }\n",
       "</style>\n",
       "<table border=\"1\" class=\"dataframe\">\n",
       "  <thead>\n",
       "    <tr style=\"text-align: right;\">\n",
       "      <th></th>\n",
       "      <th>course_name</th>\n",
       "      <th>duration</th>\n",
       "    </tr>\n",
       "  </thead>\n",
       "  <tbody>\n",
       "    <tr>\n",
       "      <th>0</th>\n",
       "      <td>Data Science</td>\n",
       "      <td>2</td>\n",
       "    </tr>\n",
       "    <tr>\n",
       "      <th>1</th>\n",
       "      <td>Machine Learning</td>\n",
       "      <td>3</td>\n",
       "    </tr>\n",
       "    <tr>\n",
       "      <th>2</th>\n",
       "      <td>Big Data</td>\n",
       "      <td>6</td>\n",
       "    </tr>\n",
       "    <tr>\n",
       "      <th>3</th>\n",
       "      <td>Data Engineer</td>\n",
       "      <td>4</td>\n",
       "    </tr>\n",
       "  </tbody>\n",
       "</table>\n",
       "</div>"
      ],
      "text/plain": [
       "        course_name  duration\n",
       "0      Data Science         2\n",
       "1  Machine Learning         3\n",
       "2          Big Data         6\n",
       "3     Data Engineer         4"
      ]
     },
     "execution_count": 3,
     "metadata": {},
     "output_type": "execute_result"
    }
   ],
   "source": [
    "# Consider following code to answer further questions:\n",
    "import pandas as pd\n",
    "course_name = ['Data Science', 'Machine Learning', 'Big Data', 'Data Engineer']\n",
    "duration = [2,3,6,4]\n",
    "df = pd.DataFrame(data = {'course_name' : course_name, 'duration' : duration})\n",
    "df"
   ]
  },
  {
   "cell_type": "markdown",
   "id": "aa2585df",
   "metadata": {},
   "source": [
    "#### Q1. Write a code to print the data present in the second row of the dataframe, df.\n",
    "    Ans. df[1:2]\n",
    "        df.iloc[1:2]\n",
    "        df.iloc[[1]]"
   ]
  },
  {
   "cell_type": "code",
   "execution_count": 4,
   "id": "d9852ba3",
   "metadata": {},
   "outputs": [
    {
     "data": {
      "text/plain": [
       "(        course_name  duration\n",
       " 1  Machine Learning         3,\n",
       "         course_name  duration\n",
       " 1  Machine Learning         3,\n",
       "         course_name  duration\n",
       " 1  Machine Learning         3)"
      ]
     },
     "execution_count": 4,
     "metadata": {},
     "output_type": "execute_result"
    }
   ],
   "source": [
    "df[1:2],df.iloc[1:2],df.iloc[[1]]"
   ]
  },
  {
   "cell_type": "markdown",
   "id": "671b8e52",
   "metadata": {},
   "source": [
    "#### Q2. What is the difference between the functions loc and iloc in pandas.DataFrame?\n",
    "    Ans. loc - if named index, have to pass index name, iloc - even for named index, work like default index starts 0 to n"
   ]
  },
  {
   "cell_type": "markdown",
   "id": "d11d7186",
   "metadata": {},
   "source": [
    "#### Q3. Reindex the given dataframe using a variable, reindex = [3,0,1,2] and store it in the variable, new_df  then find the output for both new_df.loc[2] and new_df.iloc[2].\n",
    "    Did you observe any difference in both the outputs? If so then explain it.\n",
    "    \n",
    "    Ans. yes, \n",
    "        new_df.loc[2] = same\n",
    "        new_df.iloc[2] = new_df.loc[1]"
   ]
  },
  {
   "cell_type": "code",
   "execution_count": 5,
   "id": "389cb43f",
   "metadata": {},
   "outputs": [],
   "source": [
    "# Consider the below code to answer further questions:\n",
    "import pandas as pd\n",
    "import numpy as np\n",
    "columns = ['column_1', 'column_2', 'column_3', 'column_4', 'column_5', 'column_6']\n",
    "indices = [1,2,3,4,5,6]\n",
    "\n",
    "# Creating a dataframe:\n",
    "df1 = pd.DataFrame(np.random.rand(6,6), columns = columns, index = indices)"
   ]
  },
  {
   "cell_type": "markdown",
   "id": "9bc01549",
   "metadata": {},
   "source": [
    "#### Q4. Write a code to find the following statistical measurements for the above dataframe df1:\n",
    "#### (i) mean of each and every column present in the dataframe.\n",
    "    Ans. df1.mean() # or can use to get stats of df using df.describe()\n",
    "\n",
    "#### (ii) standard deviation of column, ‘column_2’\n",
    "    Ans. df1.std(), df1['column_2'].std()"
   ]
  },
  {
   "cell_type": "code",
   "execution_count": 12,
   "id": "5701e84b",
   "metadata": {},
   "outputs": [
    {
     "name": "stdout",
     "output_type": "stream",
     "text": [
      "column_1    0.673739\n",
      "column_2    0.672470\n",
      "column_3    0.477540\n",
      "column_4    0.498156\n",
      "column_5    0.592556\n",
      "column_6    0.511024\n",
      "dtype: float64 column_1    0.248221\n",
      "column_2    0.220997\n",
      "column_3    0.252876\n",
      "column_4    0.252860\n",
      "column_5    0.266331\n",
      "column_6    0.337863\n",
      "dtype: float64 0.2209965306582894\n"
     ]
    }
   ],
   "source": [
    "print(df1.mean(), df1.std(), df1['column_2'].std())"
   ]
  },
  {
   "cell_type": "markdown",
   "id": "ba7e2fa2",
   "metadata": {},
   "source": [
    "#### Q5. Replace the data present in the second row of column, ‘column_2’ by a string variable then find the mean of column, column_2.\n",
    "    [Hint: To replace the data use df1.loc[] and equate this to string data of your choice.] \n",
    "    If you are getting errors in executing it then explain why.\n",
    "\n",
    "    Ans. df1.loc[2,'column_2'] = 'str'\n",
    "        column - will provide mean of all columns but, column_2\n",
    "        column_2 will give error as can't compute mean with num and str values as data types are different."
   ]
  },
  {
   "cell_type": "markdown",
   "id": "a63d0884",
   "metadata": {},
   "source": [
    "#### Q6. What do you understand about the windows function in pandas and list the types of windows functions?\n",
    "    Ans. window functions are useful for performing various calculations, such as moving averages, cumulative sums, rolling standard deviations, and more, on your data. In pandas, the window functions allow you to perform calculations on a rolling or expanding window of data in a DataFrame or Series. These functions operate on a specified window of data, which can be defined by a fixed size or based on a time period.\n",
    "    \n",
    "    Rolling Window Functions: These functions perform calculations on a fixed-size rolling window of data. The window moves along the data, and the calculations are applied to each window. Some common rolling window functions include:\n",
    "\n",
    "        rolling(): This function creates a rolling window object that can be used with various aggregating functions like mean(), sum(), max(), etc.\n",
    "\n",
    "        rolling().mean(): Calculates the mean value of the rolling window.\n",
    "\n",
    "        rolling().sum(): Calculates the sum of the values in the rolling window.\n",
    "\n",
    "        rolling().max(): Finds the maximum value in the rolling window.\n",
    "\n",
    "        rolling().min(): Finds the minimum value in the rolling window.\n",
    "\n",
    "    Expanding Window Functions: These functions perform calculations on an expanding window of data. The window starts from the beginning of the data and expands as new data points are encountered. Some common expanding window functions include:\n",
    "\n",
    "        expanding(): This function creates an expanding window object that can be used with various aggregating functions like mean(), sum(), max(), etc.\n",
    "\n",
    "        expanding().mean(): Calculates the mean value of the expanding window.\n",
    "\n",
    "        expanding().sum(): Calculates the cumulative sum of the values in the expanding window.\n",
    "\n",
    "        expanding().max(): Finds the maximum value encountered so far in the expanding window.\n",
    "\n",
    "        expanding().min(): Finds the minimum value encountered so far in the expanding window."
   ]
  },
  {
   "cell_type": "markdown",
   "id": "a454a52c",
   "metadata": {},
   "source": [
    "#### Q7. Write a code to print only the current month and year at the time of answering this question.\n",
    "    [Hint: Use pandas.datetime function]"
   ]
  },
  {
   "cell_type": "code",
   "execution_count": 13,
   "id": "44d2a371",
   "metadata": {},
   "outputs": [
    {
     "data": {
      "text/plain": [
       "(14, 7, 2023)"
      ]
     },
     "execution_count": 13,
     "metadata": {},
     "output_type": "execute_result"
    }
   ],
   "source": [
    "from datetime import date\n",
    "today = date.today()\n",
    "current_date = today.day\n",
    "current_month = today.month\n",
    "current_year = today.year\n",
    "current_date, current_month, current_year"
   ]
  },
  {
   "cell_type": "markdown",
   "id": "898f616f",
   "metadata": {},
   "source": [
    "#### Q8. Write a Python program that takes in two dates as input (in the format YYYY-MM-DD) and calculates the difference between them in days, hours, and minutes using Pandas time delta. The program should prompt the user to enter the dates and display the result."
   ]
  },
  {
   "cell_type": "code",
   "execution_count": 14,
   "id": "ad032024",
   "metadata": {},
   "outputs": [
    {
     "name": "stdout",
     "output_type": "stream",
     "text": [
      "Enter Start Date: 2023-03-05\n",
      "Enter end Date: 2023-03-10\n",
      "Date diff is 5 days 00:00:00\n"
     ]
    }
   ],
   "source": [
    "import pandas as pd\n",
    "# dt2 = pd.date_range(start='2023-03-02',end='2023-03-03')\n",
    "start = pd.to_datetime(input('Enter Start Date: '))\n",
    "end = pd.to_datetime(input('Enter end Date: '))\n",
    "diff = pd.Timedelta(end - start,'h')\n",
    "print('Date diff is {}'.format(diff))"
   ]
  },
  {
   "cell_type": "markdown",
   "id": "5ec92ac8",
   "metadata": {},
   "source": [
    "#### Q9. Write a Python program that reads a CSV file containing categorical data and converts a specified column to a categorical data type. The program should prompt the user to enter the file path, column name, and category order, and then display the sorted data."
   ]
  },
  {
   "cell_type": "code",
   "execution_count": 15,
   "id": "647022d5",
   "metadata": {},
   "outputs": [
    {
     "name": "stdout",
     "output_type": "stream",
     "text": [
      "Enter the file path: https://raw.githubusercontent.com/datasciencedojo/datasets/master/titanic.csv\n",
      "Enter the column name to convert: Embarked\n",
      "Enter the category order (comma-separated): S,Q,C\n",
      "     PassengerId  Survived  Pclass                                       Name  \\\n",
      "0              1         0       3                    Braund, Mr. Owen Harris   \n",
      "540          541         1       1                    Crosby, Miss. Harriet R   \n",
      "541          542         0       3       Andersson, Miss. Ingeborg Constanzia   \n",
      "542          543         0       3          Andersson, Miss. Sigrid Elisabeth   \n",
      "543          544         1       2                          Beane, Mr. Edward   \n",
      "..           ...       ...     ...                                        ...   \n",
      "255          256         1       3    Touma, Mrs. Darwis (Hanne Youssef Razi)   \n",
      "244          245         0       3                       Attalah, Mr. Sleiman   \n",
      "381          382         1       3                Nakid, Miss. Maria (\"Mary\")   \n",
      "61            62         1       1                        Icard, Miss. Amelie   \n",
      "829          830         1       1  Stone, Mrs. George Nelson (Martha Evelyn)   \n",
      "\n",
      "        Sex   Age  SibSp  Parch     Ticket     Fare Cabin Embarked  \n",
      "0      male  22.0      1      0  A/5 21171   7.2500   NaN        S  \n",
      "540  female  36.0      0      2  WE/P 5735  71.0000   B22        S  \n",
      "541  female   9.0      4      2     347082  31.2750   NaN        S  \n",
      "542  female  11.0      4      2     347082  31.2750   NaN        S  \n",
      "543    male  32.0      1      0       2908  26.0000   NaN        S  \n",
      "..      ...   ...    ...    ...        ...      ...   ...      ...  \n",
      "255  female  29.0      0      2       2650  15.2458   NaN        C  \n",
      "244    male  30.0      0      0       2694   7.2250   NaN        C  \n",
      "381  female   1.0      0      2       2653  15.7417   NaN        C  \n",
      "61   female  38.0      0      0     113572  80.0000   B28      NaN  \n",
      "829  female  62.0      0      0     113572  80.0000   B28      NaN  \n",
      "\n",
      "[891 rows x 12 columns]\n"
     ]
    }
   ],
   "source": [
    "import pandas as pd\n",
    "\n",
    "file_path = input(\"Enter the file path: \")\n",
    "df = pd.read_csv(file_path)\n",
    "\n",
    "column_name = input(\"Enter the column name to convert: \")\n",
    "df[column_name] = pd.Categorical(df[column_name])\n",
    "\n",
    "category_order = input(\"Enter the category order (comma-separated): \")\n",
    "category_order = [category.strip() for category in category_order.split(\",\")]\n",
    "\n",
    "df[column_name] = df[column_name].cat.set_categories(category_order)\n",
    "\n",
    "df_sorted = df.sort_values(column_name)\n",
    "print(df_sorted)"
   ]
  },
  {
   "cell_type": "markdown",
   "id": "d42e3838",
   "metadata": {},
   "source": [
    "#### Q10. Write a Python program that reads a CSV file containing sales data for different products and visualizes the data using a stacked bar chart to show the sales of each product category over time. The program should prompt the user to enter the file path and display the chart."
   ]
  },
  {
   "cell_type": "code",
   "execution_count": null,
   "id": "796051c4",
   "metadata": {},
   "outputs": [],
   "source": [
    "import pandas as pd\n",
    "import matplotlib.pyplot as plt\n",
    "\n",
    "file_path = input(\"Enter the file path: \")\n",
    "df = pd.read_csv(file_path)\n",
    "\n",
    "df['Date'] = pd.to_datetime(df['Date'])\n",
    "df.set_index('Date', inplace=True)\n",
    "\n",
    "df_grouped = df.groupby('Category').resample('M').sum()\n",
    "df_unstacked = df_grouped.unstack(level='Category')\n",
    "df_unstacked.plot(kind='bar', stacked=True)\n",
    "\n",
    "plt.title('Sales by Product Category')\n",
    "plt.xlabel('Month')\n",
    "plt.ylabel('Sales')\n",
    "plt.show()"
   ]
  },
  {
   "cell_type": "markdown",
   "id": "eee80595",
   "metadata": {},
   "source": [
    "#### Q11. You are given a CSV file containing student data that includes the student ID and their test score. Write a Python program that reads the CSV file, calculates the mean, median, and mode of the test scores, and displays the results in a table.\n",
    "    The program should do the following\n",
    "    * Prompt the user to enter the file path of the CSV file containing the student dataR\n",
    "    * Read the CSV file into a Pandas DataFrameR\n",
    "    I Calculate the mean, median, and mode of the test scores using Pandas toolsR\n",
    "     * Display the mean, median, and mode in a table.\n",
    "     \n",
    "    Assume the CSV file contains the following columns:\n",
    "     * Student ID: The ID of the studentR\n",
    "     * Test Score: The score of the student's test.\n",
    "     \n",
    "    Example usage of the program:\n",
    "    Enter the file path of the CSV file containing the student data: student_data.csv\n",
    "    +-----------+--------+\n",
    "    | Statistic | Value |\n",
    "    +-----------+--------+\n",
    "    | Mean | 79.6 |\n",
    "    | Median | 82 |\n",
    "    | Mode | 85, 90 |\n",
    "    +-----------+--------+\n",
    "    \n",
    "    Assume that the CSV file student_data.csv contains the following data:\n",
    "    Student ID,Test Score\n",
    "    1,85\n",
    "    2,90\n",
    "    3,80\n",
    "    4,75\n",
    "    5,85\n",
    "    6,82\n",
    "    7,78\n",
    "    8,85\n",
    "    9,90\n",
    "    10,85\n",
    "    \n",
    "    The program should calculate the mean, median, and mode of the test scores and display the results in a table."
   ]
  },
  {
   "cell_type": "code",
   "execution_count": null,
   "id": "3cd50ef5",
   "metadata": {},
   "outputs": [],
   "source": [
    "import pandas as pd\n",
    "\n",
    "file_path = input(\"Enter the file path of the CSV file containing the student data: \")\n",
    "df = pd.read_csv(file_path)\n",
    "\n",
    "mean_score = df['Test Score'].mean()\n",
    "median_score = df['Test Score'].median()\n",
    "mode_scores = df['Test Score'].mode()\n",
    "\n",
    "results_table = pd.DataFrame({\n",
    "    'Statistic': ['Mean', 'Median', 'Mode'],\n",
    "    'Value': [mean_score, median_score, ', '.join(map(str, mode_scores))]\n",
    "})\n",
    "print(results_table)"
   ]
  }
 ],
 "metadata": {
  "kernelspec": {
   "display_name": "Python 3 (ipykernel)",
   "language": "python",
   "name": "python3"
  },
  "language_info": {
   "codemirror_mode": {
    "name": "ipython",
    "version": 3
   },
   "file_extension": ".py",
   "mimetype": "text/x-python",
   "name": "python",
   "nbconvert_exporter": "python",
   "pygments_lexer": "ipython3",
   "version": "3.10.9"
  }
 },
 "nbformat": 4,
 "nbformat_minor": 5
}
