{
 "cells": [
  {
   "cell_type": "markdown",
   "id": "5f66845e",
   "metadata": {},
   "source": [
    "### Q1. Write a Python code to implement the KNN classifier algorithm on load_iris dataset in sklearn.datasets.\n",
    "### Q2. Write a Python code to implement the KNN regressor algorithm on load_boston dataset in sklearn.datasets.\n",
    "### Q3. Write a Python code snippet to find the optimal value of K for the KNN classifier algorithm using cross-validation on load_iris dataset in sklearn.datasets.\n",
    "### Q4. Implement the KNN regressor algorithm with feature scaling on load_boston dataset in sklearn.datasets.\n",
    "### Q5. Write a Python code snippet to implement the KNN classifier algorithm with weighted voting on load_iris dataset in sklearn.datasets.\n",
    "### Q6. Implement a function to standardise the features before applying KNN classifier.\n",
    "### Q7. Write a Python function to calculate the euclidean distance between two points.\n",
    "### Q8. Write a Python function to calculate the manhattan distance between two points."
   ]
  },
  {
   "cell_type": "code",
   "execution_count": 1,
   "id": "bc8a9b19",
   "metadata": {},
   "outputs": [
    {
     "name": "stdout",
     "output_type": "stream",
     "text": [
      "Accuracy: 1.0\n"
     ]
    }
   ],
   "source": [
    "### Q1. Write a Python code to implement the KNN classifier algorithm on load_iris dataset in sklearn.datasets.\n",
    "from sklearn.datasets import load_iris\n",
    "from sklearn.model_selection import train_test_split\n",
    "from sklearn.neighbors import KNeighborsClassifier\n",
    "from sklearn.metrics import accuracy_score\n",
    "\n",
    "# Load the iris dataset\n",
    "data = load_iris()\n",
    "X, y = data.data, data.target\n",
    "\n",
    "# Split the dataset into training and testing sets\n",
    "X_train, X_test, y_train, y_test = train_test_split(X, y, test_size=0.2, random_state=42)\n",
    "\n",
    "# Initialize KNN classifier with K=3\n",
    "knn_classifier = KNeighborsClassifier(n_neighbors=3)\n",
    "\n",
    "# Train the KNN classifier\n",
    "knn_classifier.fit(X_train, y_train)\n",
    "\n",
    "# Make predictions on the test set\n",
    "y_pred = knn_classifier.predict(X_test)\n",
    "\n",
    "# Calculate and print the accuracy\n",
    "accuracy = accuracy_score(y_test, y_pred)\n",
    "print(\"Accuracy:\", accuracy)"
   ]
  },
  {
   "cell_type": "code",
   "execution_count": 8,
   "id": "6acff606",
   "metadata": {},
   "outputs": [
    {
     "name": "stdout",
     "output_type": "stream",
     "text": [
      "Mean Squared Error: 25.860125490196076\n"
     ]
    }
   ],
   "source": [
    "### Q2. Write a Python code to implement the KNN regressor algorithm on load_boston dataset in sklearn.datasets.\n",
    "# from sklearn.datasets import load_boston\n",
    "from sklearn.model_selection import train_test_split\n",
    "from sklearn.neighbors import KNeighborsRegressor\n",
    "from sklearn.metrics import mean_squared_error\n",
    "\n",
    "# Load the boston dataset\n",
    "import pandas as pd\n",
    "import numpy as np\n",
    "\n",
    "data_url = \"http://lib.stat.cmu.edu/datasets/boston\"\n",
    "raw_df = pd.read_csv(data_url, sep=\"\\s+\", skiprows=22, header=None)\n",
    "data = np.hstack([raw_df.values[::2, :], raw_df.values[1::2, :2]])\n",
    "target = raw_df.values[1::2, 2]\n",
    "\n",
    "X, y = data, target\n",
    "\n",
    "# Split the dataset into training and testing sets\n",
    "X_train, X_test, y_train, y_test = train_test_split(X, y, test_size=0.2, random_state=42)\n",
    "\n",
    "# Initialize KNN regressor with K=5\n",
    "knn_regressor = KNeighborsRegressor(n_neighbors=5)\n",
    "\n",
    "# Train the KNN regressor\n",
    "knn_regressor.fit(X_train, y_train)\n",
    "\n",
    "# Make predictions on the test set\n",
    "y_pred = knn_regressor.predict(X_test)\n",
    "\n",
    "# Calculate and print the mean squared error\n",
    "mse = mean_squared_error(y_test, y_pred)\n",
    "print(\"Mean Squared Error:\", mse)"
   ]
  },
  {
   "cell_type": "code",
   "execution_count": 9,
   "id": "548339a1",
   "metadata": {},
   "outputs": [
    {
     "name": "stdout",
     "output_type": "stream",
     "text": [
      "Optimal K: 3\n"
     ]
    }
   ],
   "source": [
    "### Q3. Write a Python code snippet to find the optimal value of K for the KNN classifier algorithm using cross-validation on load_iris dataset in sklearn.datasets.\n",
    "from sklearn.datasets import load_iris\n",
    "from sklearn.model_selection import train_test_split, cross_val_score\n",
    "from sklearn.neighbors import KNeighborsClassifier\n",
    "\n",
    "# Load the iris dataset\n",
    "data = load_iris()\n",
    "X, y = data.data, data.target\n",
    "\n",
    "# Split the dataset into training and testing sets\n",
    "X_train, X_test, y_train, y_test = train_test_split(X, y, test_size=0.2, random_state=42)\n",
    "\n",
    "# List of K values to try\n",
    "k_values = list(range(1, 11))\n",
    "\n",
    "# Initialize lists to store cross-validation scores for each K value\n",
    "cv_scores = []\n",
    "\n",
    "# Perform cross-validation for each K value\n",
    "for k in k_values:\n",
    "    knn_classifier = KNeighborsClassifier(n_neighbors=k)\n",
    "    scores = cross_val_score(knn_classifier, X_train, y_train, cv=5, scoring='accuracy')\n",
    "    cv_scores.append(scores.mean())\n",
    "\n",
    "# Find the optimal K value with the highest cross-validation score\n",
    "optimal_k = k_values[cv_scores.index(max(cv_scores))]\n",
    "print(\"Optimal K:\", optimal_k)"
   ]
  },
  {
   "cell_type": "code",
   "execution_count": 11,
   "id": "df19519a",
   "metadata": {},
   "outputs": [
    {
     "name": "stdout",
     "output_type": "stream",
     "text": [
      "Mean Squared Error: 20.60552941176471\n"
     ]
    }
   ],
   "source": [
    "### Q4. Implement the KNN regressor algorithm with feature scaling on load_boston dataset in sklearn.datasets.\n",
    "# from sklearn.datasets import load_boston\n",
    "from sklearn.model_selection import train_test_split\n",
    "from sklearn.neighbors import KNeighborsRegressor\n",
    "from sklearn.preprocessing import StandardScaler\n",
    "from sklearn.metrics import mean_squared_error\n",
    "\n",
    "# Load dataset\n",
    "data_url = \"http://lib.stat.cmu.edu/datasets/boston\"\n",
    "raw_df = pd.read_csv(data_url, sep=\"\\s+\", skiprows=22, header=None)\n",
    "data = np.hstack([raw_df.values[::2, :], raw_df.values[1::2, :2]])\n",
    "target = raw_df.values[1::2, 2]\n",
    "\n",
    "X, y = data, target\n",
    "\n",
    "# Split the dataset into training and testing sets\n",
    "X_train, X_test, y_train, y_test = train_test_split(X, y, test_size=0.2, random_state=42)\n",
    "\n",
    "# Standardize the features\n",
    "scaler = StandardScaler()\n",
    "X_train_scaled = scaler.fit_transform(X_train)\n",
    "X_test_scaled = scaler.transform(X_test)\n",
    "\n",
    "# Initialize KNN regressor with K=5\n",
    "knn_regressor = KNeighborsRegressor(n_neighbors=5)\n",
    "\n",
    "# Train the KNN regressor\n",
    "knn_regressor.fit(X_train_scaled, y_train)\n",
    "\n",
    "# Make predictions on the test set\n",
    "y_pred = knn_regressor.predict(X_test_scaled)\n",
    "\n",
    "# Calculate and print the mean squared error\n",
    "mse = mean_squared_error(y_test, y_pred)\n",
    "print(\"Mean Squared Error:\", mse)\n"
   ]
  },
  {
   "cell_type": "code",
   "execution_count": 12,
   "id": "81c06805",
   "metadata": {},
   "outputs": [
    {
     "name": "stdout",
     "output_type": "stream",
     "text": [
      "Accuracy: 1.0\n"
     ]
    }
   ],
   "source": [
    "### Q5. Write a Python code snippet to implement the KNN classifier algorithm with weighted voting on load_iris dataset in sklearn.datasets.\n",
    "from sklearn.datasets import load_iris\n",
    "from sklearn.model_selection import train_test_split\n",
    "from sklearn.neighbors import KNeighborsClassifier\n",
    "from sklearn.metrics import accuracy_score\n",
    "\n",
    "# Load the iris dataset\n",
    "data = load_iris()\n",
    "X, y = data.data, data.target\n",
    "\n",
    "# Split the dataset into training and testing sets\n",
    "X_train, X_test, y_train, y_test = train_test_split(X, y, test_size=0.2, random_state=42)\n",
    "\n",
    "# Initialize KNN classifier with K=3 and 'distance' weighting\n",
    "knn_classifier = KNeighborsClassifier(n_neighbors=3, weights='distance')\n",
    "\n",
    "# Train the KNN classifier\n",
    "knn_classifier.fit(X_train, y_train)\n",
    "\n",
    "# Make predictions on the test set\n",
    "y_pred = knn_classifier.predict(X_test)\n",
    "\n",
    "# Calculate and print the accuracy\n",
    "accuracy = accuracy_score(y_test, y_pred)\n",
    "print(\"Accuracy:\", accuracy)"
   ]
  },
  {
   "cell_type": "code",
   "execution_count": 16,
   "id": "45c9a285",
   "metadata": {},
   "outputs": [
    {
     "data": {
      "text/plain": [
       "(array([[-1.47393679,  1.20365799, -1.56253475, -1.31260282],\n",
       "        [-0.13307079,  2.99237573, -1.27600637, -1.04563275],\n",
       "        [ 1.08589829,  0.08570939,  0.38585821,  0.28921757],\n",
       "        [-1.23014297,  0.75647855, -1.2187007 , -1.31260282],\n",
       "        [-1.7177306 ,  0.30929911, -1.39061772, -1.31260282],\n",
       "        [ 0.59831066, -1.25582892,  0.72969227,  0.95664273],\n",
       "        [ 0.72020757,  0.30929911,  0.44316389,  0.4227026 ],\n",
       "        [-0.74255534,  0.98006827, -1.27600637, -1.31260282],\n",
       "        [-0.98634915,  1.20365799, -1.33331205, -1.31260282],\n",
       "        [-0.74255534,  2.32160658, -1.27600637, -1.44608785],\n",
       "        [-0.01117388, -0.80864948,  0.78699794,  0.95664273],\n",
       "        [ 0.23261993,  0.75647855,  0.44316389,  0.55618763],\n",
       "        [ 1.08589829,  0.08570939,  0.55777524,  0.4227026 ],\n",
       "        [-0.49876152,  1.87442714, -1.39061772, -1.04563275],\n",
       "        [-0.49876152,  1.4272477 , -1.27600637, -1.31260282],\n",
       "        [-0.37686461, -1.47941864, -0.01528151, -0.24472256],\n",
       "        [ 0.59831066, -0.58505976,  0.78699794,  0.4227026 ],\n",
       "        [ 0.72020757,  0.08570939,  1.01622064,  0.8231577 ],\n",
       "        [ 0.96400139, -0.13788033,  0.38585821,  0.28921757],\n",
       "        [ 1.69538284,  1.20365799,  1.3600547 ,  1.75755292],\n",
       "        [-0.13307079, -0.36147005,  0.27124686,  0.15573254],\n",
       "        [ 2.18297047, -0.13788033,  1.64658307,  1.22361279],\n",
       "        [-0.2549677 , -0.13788033,  0.44316389,  0.4227026 ],\n",
       "        [-0.86445224,  0.98006827, -1.33331205, -1.31260282],\n",
       "        [ 2.30486738, -0.58505976,  1.70388875,  1.09012776],\n",
       "        [-0.01117388, -0.80864948,  0.21394119, -0.24472256],\n",
       "        [-0.74255534,  0.75647855, -1.33331205, -1.31260282],\n",
       "        [-0.98634915,  0.98006827, -1.39061772, -1.17911778],\n",
       "        [-0.86445224,  1.65083742, -1.04678367, -1.04563275],\n",
       "        [-0.98634915, -2.37377751, -0.12989286, -0.24472256],\n",
       "        [ 0.59831066, -0.80864948,  0.67238659,  0.8231577 ],\n",
       "        [-1.23014297,  0.75647855, -1.04678367, -1.31260282],\n",
       "        [-0.98634915, -0.13788033, -1.2187007 , -1.31260282],\n",
       "        [-0.86445224,  0.53288883, -1.16139502, -0.91214772],\n",
       "        [-0.2549677 , -0.80864948,  0.27124686,  0.15573254],\n",
       "        [-0.86445224,  0.75647855, -1.27600637, -1.31260282],\n",
       "        [-0.13307079, -0.13788033,  0.27124686,  0.02224751],\n",
       "        [ 2.30486738,  1.65083742,  1.70388875,  1.35709783],\n",
       "        [-1.47393679,  0.30929911, -1.33331205, -1.31260282],\n",
       "        [ 0.47641375, -0.36147005,  0.32855254,  0.15573254],\n",
       "        [-0.13307079, -1.25582892,  0.72969227,  1.09012776],\n",
       "        [-0.37686461,  2.5451963 , -1.33331205, -1.31260282],\n",
       "        [ 0.23261993, -0.13788033,  0.61508092,  0.8231577 ],\n",
       "        [-0.01117388, -0.80864948,  0.78699794,  0.95664273],\n",
       "        [ 0.23261993, -1.92659808,  0.15663551, -0.24472256],\n",
       "        [-0.49876152, -0.13788033,  0.44316389,  0.4227026 ],\n",
       "        [ 0.47641375,  0.75647855,  0.95891497,  1.49058286],\n",
       "        [-0.37686461, -1.70300836,  0.15663551,  0.15573254],\n",
       "        [-0.49876152,  1.87442714, -1.16139502, -1.04563275],\n",
       "        [-0.98634915, -1.70300836, -0.24450422, -0.24472256],\n",
       "        [ 0.72020757, -0.80864948,  0.90160929,  0.95664273],\n",
       "        [-0.98634915,  0.53288883, -1.33331205, -1.31260282],\n",
       "        [-0.98634915,  0.30929911, -1.4479234 , -1.31260282],\n",
       "        [-0.37686461, -1.47941864,  0.04202416, -0.11123753],\n",
       "        [ 1.08589829, -0.13788033,  0.72969227,  0.68967267],\n",
       "        [-1.10824606,  0.08570939, -1.27600637, -1.31260282],\n",
       "        [-0.01117388, -0.58505976,  0.78699794,  1.62406789],\n",
       "        [-0.98634915,  0.75647855, -1.27600637, -1.31260282],\n",
       "        [-0.98634915,  0.98006827, -1.2187007 , -0.77866269],\n",
       "        [ 0.11072303,  0.30929911,  0.61508092,  0.8231577 ],\n",
       "        [-0.86445224, -1.25582892, -0.41642124, -0.11123753],\n",
       "        [ 1.32969211,  0.30929911,  1.130832  ,  1.49058286],\n",
       "        [ 0.23261993, -0.80864948,  0.78699794,  0.55618763],\n",
       "        [ 0.35451684, -1.0322392 ,  1.07352632,  0.28921757],\n",
       "        [ 2.30486738, -0.13788033,  1.3600547 ,  1.49058286],\n",
       "        [-0.37686461, -1.25582892,  0.15663551,  0.15573254],\n",
       "        [-1.7177306 , -0.36147005, -1.33331205, -1.31260282],\n",
       "        [-1.83962751, -0.13788033, -1.50522907, -1.44608785],\n",
       "        [ 0.23261993, -1.92659808,  0.72969227,  0.4227026 ],\n",
       "        [ 1.69538284,  0.30929911,  1.30274902,  0.8231577 ],\n",
       "        [-1.47393679,  0.08570939, -1.27600637, -1.31260282],\n",
       "        [-0.86445224,  0.98006827, -1.33331205, -1.17911778],\n",
       "        [-1.7177306 , -0.13788033, -1.39061772, -1.31260282],\n",
       "        [ 0.59831066, -1.25582892,  0.67238659,  0.4227026 ],\n",
       "        [ 0.59831066,  0.75647855,  1.07352632,  1.62406789],\n",
       "        [-1.47393679,  0.75647855, -1.33331205, -1.17911778],\n",
       "        [ 1.2077952 , -0.13788033,  1.01622064,  1.22361279],\n",
       "        [ 0.59831066,  0.53288883,  1.30274902,  1.75755292],\n",
       "        [-1.35203988,  0.30929911, -1.39061772, -1.31260282],\n",
       "        [ 0.35451684, -0.36147005,  0.55777524,  0.28921757],\n",
       "        [ 0.84210448, -0.58505976,  0.50046957,  0.4227026 ],\n",
       "        [ 0.47641375, -0.58505976,  0.61508092,  0.8231577 ],\n",
       "        [ 1.45158902,  0.30929911,  0.55777524,  0.28921757],\n",
       "        [ 0.72020757,  0.30929911,  0.90160929,  1.49058286],\n",
       "        [-0.86445224,  1.65083742, -1.2187007 , -1.31260282],\n",
       "        [ 1.32969211,  0.08570939,  0.95891497,  1.22361279],\n",
       "        [ 0.11072303, -0.13788033,  0.27124686,  0.4227026 ],\n",
       "        [ 0.84210448, -0.13788033,  0.84430362,  1.09012776],\n",
       "        [-0.13307079, -1.0322392 , -0.12989286, -0.24472256],\n",
       "        [-0.74255534, -0.80864948,  0.09932984,  0.28921757],\n",
       "        [ 0.35451684, -0.13788033,  0.50046957,  0.28921757],\n",
       "        [-1.5958337 , -1.70300836, -1.39061772, -1.17911778],\n",
       "        [ 0.96400139, -0.36147005,  0.50046957,  0.15573254],\n",
       "        [-0.37686461, -1.0322392 ,  0.38585821,  0.02224751],\n",
       "        [-0.62065843,  1.4272477 , -1.27600637, -1.31260282],\n",
       "        [-0.2549677 , -0.13788033,  0.21394119,  0.15573254],\n",
       "        [ 1.81727975, -0.36147005,  1.47466605,  0.8231577 ],\n",
       "        [ 1.08589829,  0.53288883,  1.130832  ,  1.22361279],\n",
       "        [-0.86445224,  1.4272477 , -1.27600637, -1.04563275],\n",
       "        [-1.10824606, -1.47941864, -0.24450422, -0.24472256],\n",
       "        [ 1.08589829,  0.53288883,  1.130832  ,  1.75755292],\n",
       "        [ 1.69538284, -0.13788033,  1.18813767,  0.55618763],\n",
       "        [-1.10824606,  1.20365799, -1.33331205, -1.44608785],\n",
       "        [ 1.08589829,  0.08570939,  1.07352632,  1.62406789],\n",
       "        [-1.10824606, -0.13788033, -1.33331205, -1.31260282],\n",
       "        [ 1.32969211,  0.08570939,  0.67238659,  0.4227026 ],\n",
       "        [ 1.93917666, -0.58505976,  1.3600547 ,  0.95664273],\n",
       "        [ 0.59831066, -0.36147005,  1.07352632,  0.8231577 ],\n",
       "        [-0.13307079, -0.58505976,  0.21394119,  0.15573254],\n",
       "        [ 0.84210448, -0.13788033,  1.01622064,  0.8231577 ],\n",
       "        [ 0.59831066, -1.70300836,  0.38585821,  0.15573254],\n",
       "        [ 0.72020757, -0.36147005,  0.32855254,  0.15573254],\n",
       "        [-0.2549677 , -0.58505976,  0.67238659,  1.09012776],\n",
       "        [ 0.11072303, -0.13788033,  0.78699794,  0.8231577 ],\n",
       "        [-0.49876152,  0.75647855, -1.16139502, -1.31260282],\n",
       "        [ 0.35451684, -0.58505976,  0.15663551,  0.15573254],\n",
       "        [-1.10824606, -1.25582892,  0.44316389,  0.68967267],\n",
       "        [-0.01117388,  2.09801686, -1.4479234 , -1.31260282],\n",
       "        [-0.01117388, -1.0322392 ,  0.15663551,  0.02224751],\n",
       "        [ 1.57348593, -0.13788033,  1.24544335,  1.22361279]]),\n",
       " array([[ 0.35451684, -0.58505976,  0.55777524,  0.02224751],\n",
       "        [-0.13307079,  1.65083742, -1.16139502, -1.17911778],\n",
       "        [ 2.30486738, -1.0322392 ,  1.8185001 ,  1.49058286],\n",
       "        [ 0.23261993, -0.36147005,  0.44316389,  0.4227026 ],\n",
       "        [ 1.2077952 , -0.58505976,  0.61508092,  0.28921757],\n",
       "        [-0.49876152,  0.75647855, -1.27600637, -1.04563275],\n",
       "        [-0.2549677 , -0.36147005, -0.07258719,  0.15573254],\n",
       "        [ 1.32969211,  0.08570939,  0.78699794,  1.49058286],\n",
       "        [ 0.47641375, -1.92659808,  0.44316389,  0.4227026 ],\n",
       "        [-0.01117388, -0.80864948,  0.09932984,  0.02224751],\n",
       "        [ 0.84210448,  0.30929911,  0.78699794,  1.09012776],\n",
       "        [-1.23014297, -0.13788033, -1.33331205, -1.44608785],\n",
       "        [-0.37686461,  0.98006827, -1.39061772, -1.31260282],\n",
       "        [-1.10824606,  0.08570939, -1.27600637, -1.44608785],\n",
       "        [-0.86445224,  1.65083742, -1.27600637, -1.17911778],\n",
       "        [ 0.59831066,  0.53288883,  0.55777524,  0.55618763],\n",
       "        [ 0.84210448, -0.13788033,  1.18813767,  1.35709783],\n",
       "        [-0.2549677 , -1.25582892,  0.09932984, -0.11123753],\n",
       "        [-0.13307079, -0.58505976,  0.44316389,  0.15573254],\n",
       "        [ 0.72020757, -0.58505976,  1.07352632,  1.35709783],\n",
       "        [-1.35203988,  0.30929911, -1.2187007 , -1.31260282],\n",
       "        [ 0.35451684, -0.13788033,  0.67238659,  0.8231577 ],\n",
       "        [-0.98634915,  0.75647855, -1.2187007 , -1.04563275],\n",
       "        [ 0.72020757, -0.58505976,  1.07352632,  1.22361279],\n",
       "        [ 2.5486612 ,  1.65083742,  1.53197172,  1.09012776],\n",
       "        [ 1.08589829, -0.13788033,  0.84430362,  1.49058286],\n",
       "        [ 1.08589829, -1.25582892,  1.18813767,  0.8231577 ],\n",
       "        [ 1.2077952 ,  0.30929911,  1.24544335,  1.49058286],\n",
       "        [-1.23014297, -0.13788033, -1.33331205, -1.17911778],\n",
       "        [-1.23014297,  0.08570939, -1.2187007 , -1.31260282]]))"
      ]
     },
     "execution_count": 16,
     "metadata": {},
     "output_type": "execute_result"
    }
   ],
   "source": [
    "### Q6. Implement a function to standardise the features before applying KNN classifier.\n",
    "from sklearn.preprocessing import StandardScaler\n",
    "\n",
    "def standardize_features(X_train, X_test):\n",
    "    scaler = StandardScaler()\n",
    "    X_train_scaled = scaler.fit_transform(X_train)\n",
    "    X_test_scaled = scaler.transform(X_test)\n",
    "    return X_train_scaled, X_test_scaled\n",
    "\n",
    "# Example\n",
    "# X_train, X_test are the feature matrices for training and testing sets\n",
    "X_train_scaled, X_test_scaled = standardize_features(X_train, X_test)\n",
    "X_train_scaled, X_test_scaled"
   ]
  },
  {
   "cell_type": "code",
   "execution_count": 18,
   "id": "11b3d538",
   "metadata": {},
   "outputs": [
    {
     "data": {
      "text/plain": [
       "4.441581668047385"
      ]
     },
     "execution_count": 18,
     "metadata": {},
     "output_type": "execute_result"
    }
   ],
   "source": [
    "### Q7. Write a Python function to calculate the euclidean distance between two points.\n",
    "import numpy as np\n",
    "\n",
    "def euclidean_distance(point1, point2):\n",
    "    return np.sqrt(np.sum((point1 - point2)**2))\n",
    "\n",
    "# Example\n",
    "point1 = np.random.randn((10))\n",
    "point2 = np.random.randn((10))\n",
    "distance = euclidean_distance(point1, point2)\n",
    "distance"
   ]
  },
  {
   "cell_type": "code",
   "execution_count": 20,
   "id": "ab3fd549",
   "metadata": {},
   "outputs": [
    {
     "data": {
      "text/plain": [
       "13.316918523945091"
      ]
     },
     "execution_count": 20,
     "metadata": {},
     "output_type": "execute_result"
    }
   ],
   "source": [
    "### Q8. Write a Python function to calculate the manhattan distance between two points.\n",
    "import numpy as np\n",
    "\n",
    "def manhattan_distance(point1, point2):\n",
    "    return np.sum(np.abs(point1 - point2))\n",
    "\n",
    "# Example\n",
    "point1 = np.random.randn((10))\n",
    "point2 = np.random.randn((10))\n",
    "distance = manhattan_distance(point1, point2)\n",
    "distance"
   ]
  },
  {
   "cell_type": "code",
   "execution_count": null,
   "id": "09961def",
   "metadata": {},
   "outputs": [],
   "source": []
  }
 ],
 "metadata": {
  "kernelspec": {
   "display_name": "Python 3 (ipykernel)",
   "language": "python",
   "name": "python3"
  },
  "language_info": {
   "codemirror_mode": {
    "name": "ipython",
    "version": 3
   },
   "file_extension": ".py",
   "mimetype": "text/x-python",
   "name": "python",
   "nbconvert_exporter": "python",
   "pygments_lexer": "ipython3",
   "version": "3.10.9"
  }
 },
 "nbformat": 4,
 "nbformat_minor": 5
}
