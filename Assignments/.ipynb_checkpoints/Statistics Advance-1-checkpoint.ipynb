{
 "cells": [
  {
   "cell_type": "markdown",
   "id": "53662cf4",
   "metadata": {},
   "source": [
    "#### Q1. What is the Probability density function?\n",
    "    Ans. In probability theory and statistics, the Probability Density Function (PDF) is a fundamental concept used to describe the probability distribution of a continuous random variable. It represents the likelihood of the random variable taking on a particular value within a certain range. The PDF itself does not give the probability of a specific value, but rather the probability \"density\" around that value. The probability of the random variable falling within a given interval can be found by integrating the PDF over that interval.\n",
    "\n",
    "    Mathematically, for a continuous random variable X, the PDF is denoted as f(x) and satisfies the following properties:\n",
    "\n",
    "    f(x) ≥ 0 for all x (non-negativity).\n",
    "    The area under the curve of the PDF over its entire domain is equal to 1 (total probability).\n",
    "    For any continuous random variable X, the probability of X being in the interval [a, b] is given by the integral of the PDF over that interval:\n",
    "\n",
    "    P(a ≤ X ≤ b) = ∫[a to b] f(x) dx"
   ]
  },
  {
   "cell_type": "markdown",
   "id": "e52933c3",
   "metadata": {},
   "source": [
    "#### Q2. What are the types of Probability distribution?\n",
    "    Ans. There are several types of probability distributions, each describing the likelihood of different random variables taking on various values. The two main categories of probability distributions are:\n",
    "\n",
    "    1. Discrete Probability Distributions:\n",
    "\n",
    "    *Bernoulli Distribution: Represents the probability of success or failure in a single trial, with only two possible outcomes.\n",
    "    *Binomial Distribution: Describes the number of successes in a fixed number of independent Bernoulli trials.\n",
    "    *Poisson Distribution: Models the number of events that occur within a fixed interval of time or space.\n",
    "    *Geometric Distribution: Represents the number of trials needed to achieve the first success in a sequence of independent Bernoulli trials.\n",
    "    *Hypergeometric Distribution: Describes the probability of obtaining a specific number of successes in a fixed number of draws without replacement.\n",
    "\n",
    "\n",
    "    2. Continuous Probability Distributions:\n",
    "\n",
    "    *Uniform Distribution: Each value in the range is equally likely to occur.\n",
    "    *Normal Distribution (Gaussian Distribution): Characterized by a bell-shaped curve and widely used due to the Central Limit Theorem.\n",
    "    *Exponential Distribution: Models the time between events in a Poisson process (a process with constant average time between events).\n",
    "    *Beta Distribution: Often used to model probabilities or proportions.\n",
    "    *Gamma Distribution: Generalizes the exponential and chi-squared distributions, among others.\n",
    "    *Weibull Distribution: Commonly used to model reliability data.\n",
    "    *Log-Normal Distribution: Results from the logarithm of a normally distributed random variable."
   ]
  },
  {
   "cell_type": "markdown",
   "id": "26d3b35a",
   "metadata": {},
   "source": [
    "#### Q3. Write a Python function to calculate the probability density function of a normal distribution with given mean and standard deviation at a given point."
   ]
  },
  {
   "cell_type": "code",
   "execution_count": 6,
   "id": "2e823659",
   "metadata": {},
   "outputs": [
    {
     "name": "stdout",
     "output_type": "stream",
     "text": [
      "PDF at x=1.5: 0.12951759566589174\n"
     ]
    }
   ],
   "source": [
    "from scipy.stats import norm\n",
    "\n",
    "def normal_pdf(x, mean, std_dev):\n",
    "    \n",
    "    pdf_value = norm.pdf(x, loc=mean, scale=std_dev)\n",
    "    return pdf_value\n",
    "\n",
    "\n",
    "# Example\n",
    "mean = 0\n",
    "std_dev = 1\n",
    "x_value = 1.5\n",
    "pdf_at_x = normal_pdf(x_value, mean, std_dev)\n",
    "print(f\"PDF at x={x_value}: {pdf_at_x}\")"
   ]
  },
  {
   "cell_type": "markdown",
   "id": "ce986b5e",
   "metadata": {},
   "source": [
    "#### Q4. What are the properties of Binomial distribution? Give two examples of events where binomial distribution can be applied.\n",
    "    Ans. The Binomial distribution is a probability distribution that models the number of successes in a fixed number of independent Bernoulli trials, where each trial can have only two outcomes: success or failure. The key properties of the Binomial distribution are as follows:\n",
    "\n",
    "    Fixed Number of Trials (n): The distribution is based on a fixed number of trials, denoted by 'n'. Each trial is independent of others, meaning the outcome of one trial does not influence the outcome of another.\n",
    "\n",
    "    Two Outcomes (Success/Failure): Each trial can result in one of two possible outcomes, typically labeled as \"success\" (S) or \"failure\" (F). The probability of success in any single trial is denoted by 'p', and the probability of failure is 'q', where q = 1 - p.\n",
    "\n",
    "    Constant Probability of Success: The probability of success 'p' remains the same for each trial. This is one of the defining characteristics of the Binomial distribution.\n",
    "\n",
    "    Discrete Outcomes: The number of successes in 'n' trials is a discrete random variable, meaning it can only take on integer values.\n",
    "\n",
    "    The probability mass function (PMF) of the Binomial distribution, which gives the probability of observing exactly 'k' successes in 'n' trials, is given by:\n",
    "\n",
    "    P(X = k) = C(n, k) * p^k * q^(n-k)\n",
    "\n",
    "    where:\n",
    "\n",
    "    X is the random variable representing the number of successes.\n",
    "    C(n, k) is the binomial coefficient, also denoted as \"n choose k,\" and it represents the number of ways to choose 'k' successes from 'n' trials, given by C(n, k) = n! / (k!(n-k)!).\n",
    "    p is the probability of success in a single trial.\n",
    "    q is the probability of failure in a single trial (q = 1 - p).\n",
    "    Examples of Events where the Binomial Distribution can be Applied:\n",
    "\n",
    "    Coin Toss: The classic example of a binomial distribution is flipping a biased coin 'n' times. If the coin has a probability 'p' of landing heads, then the number of heads obtained in 'n' coin tosses follows a Binomial distribution.\n",
    "\n",
    "    Product Defects: Consider a manufacturing process that produces items with a certain probability 'p' of being defective. If you inspect 'n' randomly selected items from the production line, the number of defective items among the 'n' inspected items follows a Binomial distribution."
   ]
  },
  {
   "cell_type": "markdown",
   "id": "84908936",
   "metadata": {},
   "source": [
    "#### Q5. Generate a random sample of size 1000 from a binomial distribution with probability of success 0.4 and plot a histogram of the results using matplotlib."
   ]
  },
  {
   "cell_type": "code",
   "execution_count": 7,
   "id": "f75955b0",
   "metadata": {},
   "outputs": [
    {
     "data": {
      "image/png": "[encoded data removed]",
      "text/plain": [
       "<Figure size 640x480 with 1 Axes>"
      ]
     },
     "metadata": {},
     "output_type": "display_data"
    }
   ],
   "source": [
    "import numpy as np\n",
    "import matplotlib.pyplot as plt\n",
    "\n",
    "def generate_binomial_sample(n, p, sample_size):\n",
    "\n",
    "    return np.random.binomial(n, p, sample_size)\n",
    "\n",
    "\n",
    "# Parameters\n",
    "probability_of_success = 0.4\n",
    "number_of_trials = 1  # We are dealing with a single trial at a time\n",
    "sample_size = 1000\n",
    "\n",
    "# Generate the random sample from the binomial distribution\n",
    "random_sample = generate_binomial_sample(number_of_trials, probability_of_success, sample_size)\n",
    "\n",
    "# Plotting the histogram\n",
    "plt.hist(random_sample, bins=np.arange(-0.5, number_of_trials + 1.5, 1), density=True, edgecolor='black', alpha=0.75)\n",
    "plt.xlabel('Number of Successes')\n",
    "plt.ylabel('Probability Density')\n",
    "plt.title('Histogram of Random Sample from Binomial Distribution')\n",
    "plt.xticks(np.arange(number_of_trials + 1))\n",
    "plt.grid(True, axis='y', linestyle='--', alpha=0.7)\n",
    "plt.show()"
   ]
  },
  {
   "cell_type": "markdown",
   "id": "c7552d2b",
   "metadata": {},
   "source": [
    "#### Q6. Write a Python function to calculate the cumulative distribution function of a Poisson distribution with given mean at a given point."
   ]
  },
  {
   "cell_type": "code",
   "execution_count": 8,
   "id": "3d45bdae",
   "metadata": {},
   "outputs": [
    {
     "name": "stdout",
     "output_type": "stream",
     "text": [
      "CDF at x=5: 0.8576135530957782\n"
     ]
    }
   ],
   "source": [
    "from scipy.stats import poisson\n",
    "\n",
    "def poisson_cdf(x, mean):\n",
    "\n",
    "    cdf_value = poisson.cdf(x, mu=mean)\n",
    "    return cdf_value\n",
    "\n",
    "# Example usage:\n",
    "mean = 3.5\n",
    "x_value = 5\n",
    "cdf_at_x = poisson_cdf(x_value, mean)\n",
    "print(f\"CDF at x={x_value}: {cdf_at_x}\")"
   ]
  },
  {
   "cell_type": "markdown",
   "id": "5d2c6ac5",
   "metadata": {},
   "source": [
    "#### Q7. How Binomial distribution different from Poisson distribution?\n",
    "    Ans. The Binomial distribution and the Poisson distribution are two distinct probability distributions used in statistics to model different types of events. While they are both related to counting the number of events, they have several key differences:\n",
    "\n",
    "    1. Nature of Events:\n",
    "\n",
    "    Binomial Distribution: The binomial distribution is used to model the number of successes in a fixed number of independent Bernoulli trials, where each trial can result in only two outcomes: success or failure. The probability of success remains constant across all trials.\n",
    "    Poisson Distribution: The Poisson distribution, on the other hand, is used to model the number of events that occur within a fixed interval of time or space. It is commonly applied to situations where events happen randomly and independently, but the average rate of events per interval is known.\n",
    "    \n",
    "    2. Number of Trials or Events:\n",
    "\n",
    "    Binomial Distribution: The binomial distribution requires a fixed number of trials 'n' to be specified in advance. The random variable in a binomial distribution represents the number of successes in these 'n' trials.\n",
    "    Poisson Distribution: The Poisson distribution does not have a fixed number of trials. It models the count of events in a continuous or discrete interval, without specifying an upper limit for the number of events.\n",
    "    \n",
    "    3. Probability Parameters:\n",
    "\n",
    "    Binomial Distribution: The binomial distribution depends on two parameters: the probability of success 'p' in each trial and the number of trials 'n'.\n",
    "    Poisson Distribution: The Poisson distribution has only one parameter: the average rate of events 'λ' (lambda) per unit interval.\n",
    "    \n",
    "    4. Type of Outcomes:\n",
    "\n",
    "    Binomial Distribution: The outcomes in a binomial distribution are discrete, as the number of successes is an integer value that can range from 0 to 'n'.\n",
    "    Poisson Distribution: The outcomes in a Poisson distribution are also discrete, representing the counts of events, which are non-negative integers (0, 1, 2, ...).\n",
    "    \n",
    "    5. Assumptions:\n",
    "\n",
    "    Binomial Distribution: The binomial distribution assumes a fixed number of trials, independence between trials, and a constant probability of success for each trial.\n",
    "    Poisson Distribution: The Poisson distribution assumes that events occur independently and at a constant rate within the given interval."
   ]
  },
  {
   "cell_type": "markdown",
   "id": "d2211114",
   "metadata": {},
   "source": [
    "#### Q8. Generate a random sample of size 1000 from a Poisson distribution with mean 5 and calculate the sample mean and variance."
   ]
  },
  {
   "cell_type": "code",
   "execution_count": 9,
   "id": "ce048f3d",
   "metadata": {},
   "outputs": [
    {
     "name": "stdout",
     "output_type": "stream",
     "text": [
      "Sample Mean: 5.01\n",
      "Sample Variance: 4.9939\n"
     ]
    }
   ],
   "source": [
    "import numpy as np\n",
    "\n",
    "def generate_poisson_sample(mean, sample_size):\n",
    "\n",
    "    return np.random.poisson(mean, sample_size)\n",
    "\n",
    "# Parameters\n",
    "mean = 5\n",
    "sample_size = 1000\n",
    "\n",
    "# Generate the random sample from the Poisson distribution\n",
    "random_sample = generate_poisson_sample(mean, sample_size)\n",
    "\n",
    "# Calculate the sample mean and variance\n",
    "sample_mean = np.mean(random_sample)\n",
    "sample_variance = np.var(random_sample)\n",
    "\n",
    "print(f\"Sample Mean: {sample_mean}\")\n",
    "print(f\"Sample Variance: {sample_variance}\")"
   ]
  },
  {
   "cell_type": "markdown",
   "id": "d708c9b1",
   "metadata": {},
   "source": [
    "#### Q9. How mean and variance are related in Binomial distribution and Poisson distribution?\n",
    "    Ans. In both the Binomial distribution and the Poisson distribution, the mean and variance are related, but the relationship is different for each distribution.\n",
    "\n",
    "    Binomial Distribution:\n",
    "    For a Binomial distribution with parameters 'n' (number of trials) and 'p' (probability of success in a single trial), the mean (μ) and variance (σ^2) are related as follows:\n",
    "\n",
    "    Mean (μ) = n * p\n",
    "\n",
    "    Variance (σ^2) = n * p * (1 - p)\n",
    "\n",
    "    In the Binomial distribution, the mean represents the expected number of successes in 'n' trials, and the variance measures the spread or dispersion of the distribution around the mean. The variance is highest when the probability of success (p) is 0.5 (i.e., equally likely to succeed or fail in each trial) and decreases as the probability of success deviates from 0.5 in either direction.\n",
    "\n",
    "    Poisson Distribution:\n",
    "    For a Poisson distribution with parameter 'λ' (average rate of events per unit interval), the mean (μ) and variance (σ^2) are related as follows:\n",
    "\n",
    "    Mean (μ) = λ\n",
    "\n",
    "    Variance (σ^2) = λ\n",
    "\n",
    "    In the Poisson distribution, the mean represents the average rate of events occurring in a given interval, and the variance is equal to the mean. This property is unique to the Poisson distribution and distinguishes it from other distributions where the variance may depend on additional parameters.\n",
    "    \n",
    "    \n",
    "    In summary, the relationship between mean and variance is different for the Binomial and Poisson distributions. In the Binomial distribution, the variance depends on both the number of trials ('n') and the probability of success ('p'). As the probability of success becomes more extreme (close to 0 or 1), the variance decreases. However, in the Poisson distribution, the variance is equal to the mean, regardless of the value of the average rate parameter ('λ')."
   ]
  },
  {
   "cell_type": "markdown",
   "id": "8e780337",
   "metadata": {},
   "source": [
    "#### Q10. In normal distribution with respect to mean position, where does the least frequent data appear?\n",
    "    Ans. In a normal distribution, the least frequent data appears at the tails of the distribution, farthest away from the mean. The normal distribution is a symmetric distribution, and the data is concentrated around the mean, with the frequency of data decreasing as we move away from the mean towards the tails.\n",
    "\n",
    "    The normal distribution is characterized by a bell-shaped curve, and its shape is entirely determined by its mean (μ) and standard deviation (σ). The mean is the center of the distribution, and the curve is symmetric around the mean. The standard deviation controls the spread or width of the distribution.\n",
    "\n",
    "    In a standard normal distribution (with mean μ = 0 and standard deviation σ = 1), approximately 68% of the data falls within one standard deviation of the mean (between μ - σ and μ + σ), about 95% falls within two standard deviations (between μ - 2σ and μ + 2σ), and about 99.7% falls within three standard deviations (between μ - 3σ and μ + 3σ).\n",
    "\n",
    "    The data becomes less frequent as we move further away from the mean, approaching the tails of the distribution. Therefore, the least frequent data points are found in the extreme tails, which are at distances more than a few standard deviations away from the mean. These extreme data points represent the outliers in the distribution."
   ]
  }
 ],
 "metadata": {
  "kernelspec": {
   "display_name": "Python 3 (ipykernel)",
   "language": "python",
   "name": "python3"
  },
  "language_info": {
   "codemirror_mode": {
    "name": "ipython",
    "version": 3
   },
   "file_extension": ".py",
   "mimetype": "text/x-python",
   "name": "python",
   "nbconvert_exporter": "python",
   "pygments_lexer": "ipython3",
   "version": "3.10.9"
  }
 },
 "nbformat": 4,
 "nbformat_minor": 5
}
