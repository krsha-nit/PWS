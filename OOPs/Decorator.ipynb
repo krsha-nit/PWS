{
 "cells": [
  {
   "cell_type": "code",
   "execution_count": 3,
   "id": "b0fd3587-1748-4516-8c7b-2e5696238e67",
   "metadata": {},
   "outputs": [],
   "source": [
    "def test():\n",
    "    print('start')\n",
    "    print('funcion')\n",
    "    print('end')"
   ]
  },
  {
   "cell_type": "code",
   "execution_count": 4,
   "id": "07b488a2-099e-46c0-8ad5-ea39415e004e",
   "metadata": {},
   "outputs": [
    {
     "name": "stdout",
     "output_type": "stream",
     "text": [
      "start\n",
      "funcion\n",
      "end\n"
     ]
    }
   ],
   "source": [
    "test()"
   ]
  },
  {
   "cell_type": "code",
   "execution_count": 9,
   "id": "b34b8f35-98d9-48ad-b921-401cc37af418",
   "metadata": {},
   "outputs": [],
   "source": [
    "# decorator is used to write repetitive lines\n",
    "def deco(func):\n",
    "    def inner_deco():\n",
    "        print('start of func')\n",
    "        func()\n",
    "        print('end of func')\n",
    "    return inner_deco #not inner_deco() ??"
   ]
  },
  {
   "cell_type": "code",
   "execution_count": 10,
   "id": "4bf121f4-23f5-450e-929d-cf11f798ef1b",
   "metadata": {},
   "outputs": [],
   "source": [
    "@deco #used deco function used above to give start and end of function to remove repitivieness from the function\n",
    "def test1():\n",
    "    print(4*5)"
   ]
  },
  {
   "cell_type": "code",
   "execution_count": 11,
   "id": "95264fe9-50e3-47f8-b493-f1076c7ab6b3",
   "metadata": {},
   "outputs": [
    {
     "name": "stdout",
     "output_type": "stream",
     "text": [
      "start of func\n",
      "20\n",
      "end of func\n"
     ]
    }
   ],
   "source": [
    "test1()"
   ]
  },
  {
   "cell_type": "code",
   "execution_count": 12,
   "id": "d9f45838-3ea2-4d7f-ab47-c9d486d17eaa",
   "metadata": {},
   "outputs": [],
   "source": [
    "#use another funcion inside another function !!\n",
    "\n",
    "import time\n",
    "def timer_test(func):\n",
    "    def timer_test_inner():\n",
    "        \n",
    "        start = time.time()\n",
    "        func()\n",
    "        end = time.time()\n",
    "        print(end-start)\n",
    "    \n",
    "    return timer_test_inner #not timer_test_inner() ??\n",
    "    "
   ]
  },
  {
   "cell_type": "code",
   "execution_count": 15,
   "id": "c21a0e59-a100-49f3-92f2-1db49e82c4ca",
   "metadata": {},
   "outputs": [],
   "source": [
    "@timer_test\n",
    "def test2():\n",
    "    print(45*70)"
   ]
  },
  {
   "cell_type": "code",
   "execution_count": 16,
   "id": "ebaf040f-a37a-415a-9787-3b33f1fb9a14",
   "metadata": {},
   "outputs": [
    {
     "name": "stdout",
     "output_type": "stream",
     "text": [
      "3150\n",
      "4.553794860839844e-05\n"
     ]
    }
   ],
   "source": [
    "test2()"
   ]
  },
  {
   "cell_type": "code",
   "execution_count": 24,
   "id": "113c31ad-e16c-476d-97db-39bcc93fcf08",
   "metadata": {},
   "outputs": [],
   "source": [
    "@timer_test\n",
    "def test3():\n",
    "    for i in range(100000000):\n",
    "        pass"
   ]
  },
  {
   "cell_type": "code",
   "execution_count": 25,
   "id": "ed63f497-2c0a-451d-89fd-c1b8d438a25e",
   "metadata": {},
   "outputs": [
    {
     "name": "stdout",
     "output_type": "stream",
     "text": [
      "2.27547025680542\n"
     ]
    }
   ],
   "source": [
    "test3()"
   ]
  },
  {
   "cell_type": "code",
   "execution_count": null,
   "id": "74a6dea8-4a2c-4e0e-ba38-39db0ce01495",
   "metadata": {},
   "outputs": [],
   "source": []
  }
 ],
 "metadata": {
  "kernelspec": {
   "display_name": "Python 3 (ipykernel)",
   "language": "python",
   "name": "python3"
  },
  "language_info": {
   "codemirror_mode": {
    "name": "ipython",
    "version": 3
   },
   "file_extension": ".py",
   "mimetype": "text/x-python",
   "name": "python",
   "nbconvert_exporter": "python",
   "pygments_lexer": "ipython3",
   "version": "3.10.8"
  }
 },
 "nbformat": 4,
 "nbformat_minor": 5
}
