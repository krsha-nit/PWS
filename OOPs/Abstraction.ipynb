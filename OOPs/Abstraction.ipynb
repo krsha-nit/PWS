{
 "cells": [
  {
   "cell_type": "code",
   "execution_count": 3,
   "id": "f5a28e75-f6e5-471c-9349-6bc2312462dc",
   "metadata": {},
   "outputs": [],
   "source": [
    "import abc"
   ]
  },
  {
   "cell_type": "code",
   "execution_count": 4,
   "id": "5d84cffd-8779-49f1-8ff3-a17a09e93920",
   "metadata": {},
   "outputs": [],
   "source": [
    "class pws:\n",
    "    \n",
    "    #Skeleton/blueprint\n",
    "    @abc.abstractmethod\n",
    "    def stu_det(self):\n",
    "        pass\n",
    "    @abc.abstractmethod\n",
    "    def stu_assgn(self):\n",
    "        pass\n",
    "    @abc.abstractmethod\n",
    "    def stu_marks(self):\n",
    "        pass"
   ]
  },
  {
   "cell_type": "code",
   "execution_count": 5,
   "id": "ac686825-ac27-4162-a45d-471d1f8ece4f",
   "metadata": {},
   "outputs": [],
   "source": [
    "class ds(pws):\n",
    "    def stu_det(self):\n",
    "        return \"details of students\"\n",
    "    def stu_assgn(self):\n",
    "        return \"assgn of ds\"\n",
    "    "
   ]
  },
  {
   "cell_type": "code",
   "execution_count": 6,
   "id": "151c6a77-ed17-499a-b7d2-89e4ce12dbb2",
   "metadata": {},
   "outputs": [],
   "source": [
    "class ml(pws):\n",
    "    def stu_det(self):\n",
    "        return \"details of students\"\n",
    "    def stu_marks(self):\n",
    "        return \"assgn of ml marks\""
   ]
  },
  {
   "cell_type": "code",
   "execution_count": 7,
   "id": "a0ed4ae6-c523-41f8-8284-352726a6fae4",
   "metadata": {},
   "outputs": [],
   "source": [
    "d1=ds()"
   ]
  },
  {
   "cell_type": "code",
   "execution_count": 8,
   "id": "066ad15d-7511-4bc0-b698-d1b51246cf9e",
   "metadata": {},
   "outputs": [
    {
     "data": {
      "text/plain": [
       "'details of students'"
      ]
     },
     "execution_count": 8,
     "metadata": {},
     "output_type": "execute_result"
    }
   ],
   "source": [
    "d1.stu_det()"
   ]
  },
  {
   "cell_type": "code",
   "execution_count": 9,
   "id": "17196684-0a56-48b4-b9be-352afdd6835c",
   "metadata": {},
   "outputs": [],
   "source": [
    "d1.stu_marks()"
   ]
  },
  {
   "cell_type": "code",
   "execution_count": null,
   "id": "2feaaeca-9eac-43bf-b0f7-23d5e17bd089",
   "metadata": {},
   "outputs": [],
   "source": []
  }
 ],
 "metadata": {
  "kernelspec": {
   "display_name": "Python 3 (ipykernel)",
   "language": "python",
   "name": "python3"
  },
  "language_info": {
   "codemirror_mode": {
    "name": "ipython",
    "version": 3
   },
   "file_extension": ".py",
   "mimetype": "text/x-python",
   "name": "python",
   "nbconvert_exporter": "python",
   "pygments_lexer": "ipython3",
   "version": "3.10.8"
  }
 },
 "nbformat": 4,
 "nbformat_minor": 5
}
