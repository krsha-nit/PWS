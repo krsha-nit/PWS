{
 "cells": [
  {
   "cell_type": "code",
   "execution_count": 26,
   "id": "041e1243-7c0a-4cd6-a0e8-400791d76780",
   "metadata": {},
   "outputs": [],
   "source": [
    "# __ - Private, _ - Protected variable\n",
    "# and expose the variable to outer world - property\n",
    "# set - setter\n",
    "# delete - deleter"
   ]
  },
  {
   "cell_type": "code",
   "execution_count": 2,
   "id": "796a330f-c7cf-47cf-a34c-91ad6eb708b9",
   "metadata": {},
   "outputs": [],
   "source": [
    "class pws:\n",
    "    def __init__(self,price,course):\n",
    "        self.__price = price #no outsider have access to this, doesn't show when use tab\n",
    "        self.course = course"
   ]
  },
  {
   "cell_type": "code",
   "execution_count": 3,
   "id": "83825669-7b4c-4637-aded-c025477c8b60",
   "metadata": {},
   "outputs": [],
   "source": [
    "t1=pws(300,'ml')"
   ]
  },
  {
   "cell_type": "code",
   "execution_count": 4,
   "id": "03d29087-cbe8-4e33-ba0d-d32ff468f24f",
   "metadata": {},
   "outputs": [
    {
     "data": {
      "text/plain": [
       "'ml'"
      ]
     },
     "execution_count": 4,
     "metadata": {},
     "output_type": "execute_result"
    }
   ],
   "source": [
    "t1.course"
   ]
  },
  {
   "cell_type": "code",
   "execution_count": 5,
   "id": "b2d0acf7-4803-4fb9-8880-541cc43ebd5f",
   "metadata": {},
   "outputs": [
    {
     "data": {
      "text/plain": [
       "300"
      ]
     },
     "execution_count": 5,
     "metadata": {},
     "output_type": "execute_result"
    }
   ],
   "source": [
    "t1._pws__price #you have to know this exact instance name to view __ values"
   ]
  },
  {
   "cell_type": "code",
   "execution_count": 6,
   "id": "129041f9-5db1-4bbe-a131-16b04ab30c0d",
   "metadata": {},
   "outputs": [],
   "source": [
    "class pws:\n",
    "    def __init__(self,price,course):\n",
    "        self.__price = price #no outsider have access to this, doesn't show when use tab\n",
    "        self.course = course\n",
    "        \n",
    "    @property\n",
    "    def price_access(self):\n",
    "        return self.__price"
   ]
  },
  {
   "cell_type": "code",
   "execution_count": 7,
   "id": "f716a787-21e8-4107-bd36-0a778b25aaf3",
   "metadata": {},
   "outputs": [],
   "source": [
    "t2 = pws(500,'ds')"
   ]
  },
  {
   "cell_type": "code",
   "execution_count": 11,
   "id": "cd702043-0b42-4746-8284-46848259cdbe",
   "metadata": {},
   "outputs": [
    {
     "data": {
      "text/plain": [
       "500"
      ]
     },
     "execution_count": 11,
     "metadata": {},
     "output_type": "execute_result"
    }
   ],
   "source": [
    "t2.price_access"
   ]
  },
  {
   "cell_type": "code",
   "execution_count": 10,
   "id": "9ac7d5fb-5879-469d-82cd-7e2712afd0ff",
   "metadata": {},
   "outputs": [
    {
     "ename": "AttributeError",
     "evalue": "can't set attribute 'price_access'",
     "output_type": "error",
     "traceback": [
      "\u001b[0;31m---------------------------------------------------------------------------\u001b[0m",
      "\u001b[0;31mAttributeError\u001b[0m                            Traceback (most recent call last)",
      "Cell \u001b[0;32mIn[10], line 1\u001b[0m\n\u001b[0;32m----> 1\u001b[0m \u001b[43mt2\u001b[49m\u001b[38;5;241;43m.\u001b[39;49m\u001b[43mprice_access\u001b[49m \u001b[38;5;241m=\u001b[39m \u001b[38;5;241m900\u001b[39m\n",
      "\u001b[0;31mAttributeError\u001b[0m: can't set attribute 'price_access'"
     ]
    }
   ],
   "source": [
    "t2.price_access = 900 #can't modify the value"
   ]
  },
  {
   "cell_type": "code",
   "execution_count": 12,
   "id": "96c52534-7fcf-4961-933f-281c7403ee79",
   "metadata": {},
   "outputs": [],
   "source": [
    "class pws:\n",
    "    def __init__(self,price,course):\n",
    "        self.__price = price #no outsider have access to this, doesn't show when use tab\n",
    "        self.course = course\n",
    "        \n",
    "    @property\n",
    "    def price_access(self):\n",
    "        return self.__price\n",
    "    \n",
    "    @price_access.setter\n",
    "    def price_set(self,new_price):\n",
    "        if new_price <=1000:\n",
    "            pass\n",
    "        else:\n",
    "            self.__price = new_price\n",
    "        "
   ]
  },
  {
   "cell_type": "code",
   "execution_count": 14,
   "id": "cfd5d0ef-ad9a-4b44-9d3b-8620490497c2",
   "metadata": {},
   "outputs": [],
   "source": [
    "t4=pws(700,'psych')"
   ]
  },
  {
   "cell_type": "code",
   "execution_count": 15,
   "id": "32eda425-7fd0-4b62-9aa7-41ac799e803c",
   "metadata": {},
   "outputs": [
    {
     "data": {
      "text/plain": [
       "700"
      ]
     },
     "execution_count": 15,
     "metadata": {},
     "output_type": "execute_result"
    }
   ],
   "source": [
    "t4.price_access"
   ]
  },
  {
   "cell_type": "code",
   "execution_count": 17,
   "id": "03c828af-97d2-4bfd-85ac-f0f1f1c7d6d0",
   "metadata": {},
   "outputs": [
    {
     "data": {
      "text/plain": [
       "700"
      ]
     },
     "execution_count": 17,
     "metadata": {},
     "output_type": "execute_result"
    }
   ],
   "source": [
    "t4.price_set = 800\n",
    "t4.price_access"
   ]
  },
  {
   "cell_type": "code",
   "execution_count": 18,
   "id": "742b0b59-0a92-4b48-832d-3f33b008e710",
   "metadata": {},
   "outputs": [
    {
     "data": {
      "text/plain": [
       "1500"
      ]
     },
     "execution_count": 18,
     "metadata": {},
     "output_type": "execute_result"
    }
   ],
   "source": [
    "t4.price_set = 1500\n",
    "t4.price_access"
   ]
  },
  {
   "cell_type": "code",
   "execution_count": 19,
   "id": "127f9197-2402-4df1-be95-eaa758a0a1b3",
   "metadata": {},
   "outputs": [],
   "source": [
    "class pws:\n",
    "    def __init__(self,price,course):\n",
    "        self.__price = price #no outsider have access to this, doesn't show when use tab\n",
    "        self.course = course\n",
    "        \n",
    "    @property\n",
    "    def price_access(self):\n",
    "        return self.__price\n",
    "    \n",
    "    @price_access.setter\n",
    "    def price_set(self,new_price):\n",
    "        if new_price <=1000:\n",
    "            pass\n",
    "        else:\n",
    "            self.__price = new_price\n",
    "            \n",
    "    @price_access.deleter\n",
    "    def price_del(self):\n",
    "        del self.__price\n",
    "        "
   ]
  },
  {
   "cell_type": "code",
   "execution_count": 20,
   "id": "76379473-42fd-4e30-98f6-1585e78f2df6",
   "metadata": {},
   "outputs": [],
   "source": [
    "t5 = pws(800,'maths')"
   ]
  },
  {
   "cell_type": "code",
   "execution_count": 21,
   "id": "0a77857c-c97a-4c18-8020-0f2ef59ba230",
   "metadata": {},
   "outputs": [
    {
     "data": {
      "text/plain": [
       "800"
      ]
     },
     "execution_count": 21,
     "metadata": {},
     "output_type": "execute_result"
    }
   ],
   "source": [
    "t5.price_access"
   ]
  },
  {
   "cell_type": "code",
   "execution_count": 22,
   "id": "aa2cc917-ceaa-4912-84d1-4e2c3fd5f47e",
   "metadata": {},
   "outputs": [
    {
     "data": {
      "text/plain": [
       "800"
      ]
     },
     "execution_count": 22,
     "metadata": {},
     "output_type": "execute_result"
    }
   ],
   "source": [
    "t5.price_del"
   ]
  },
  {
   "cell_type": "code",
   "execution_count": 24,
   "id": "fb8e6652-dba1-477c-8bc1-6f09f58d4bb8",
   "metadata": {},
   "outputs": [],
   "source": [
    "del t5.price_del"
   ]
  },
  {
   "cell_type": "code",
   "execution_count": 25,
   "id": "2b31df76-4b87-432a-b348-68f7602a7b40",
   "metadata": {},
   "outputs": [
    {
     "ename": "AttributeError",
     "evalue": "'pws' object has no attribute '_pws__price'",
     "output_type": "error",
     "traceback": [
      "\u001b[0;31m---------------------------------------------------------------------------\u001b[0m",
      "\u001b[0;31mAttributeError\u001b[0m                            Traceback (most recent call last)",
      "Cell \u001b[0;32mIn[25], line 1\u001b[0m\n\u001b[0;32m----> 1\u001b[0m \u001b[43mt5\u001b[49m\u001b[38;5;241;43m.\u001b[39;49m\u001b[43mprice_access\u001b[49m\n",
      "Cell \u001b[0;32mIn[19], line 8\u001b[0m, in \u001b[0;36mpws.price_access\u001b[0;34m(self)\u001b[0m\n\u001b[1;32m      6\u001b[0m \u001b[38;5;129m@property\u001b[39m\n\u001b[1;32m      7\u001b[0m \u001b[38;5;28;01mdef\u001b[39;00m \u001b[38;5;21mprice_access\u001b[39m(\u001b[38;5;28mself\u001b[39m):\n\u001b[0;32m----> 8\u001b[0m     \u001b[38;5;28;01mreturn\u001b[39;00m \u001b[38;5;28;43mself\u001b[39;49m\u001b[38;5;241;43m.\u001b[39;49m\u001b[43m__price\u001b[49m\n",
      "\u001b[0;31mAttributeError\u001b[0m: 'pws' object has no attribute '_pws__price'"
     ]
    }
   ],
   "source": [
    "t5.price_access"
   ]
  },
  {
   "cell_type": "code",
   "execution_count": null,
   "id": "7c1bc626-be15-45be-aa5a-4866c247954a",
   "metadata": {},
   "outputs": [],
   "source": []
  }
 ],
 "metadata": {
  "kernelspec": {
   "display_name": "Python 3 (ipykernel)",
   "language": "python",
   "name": "python3"
  },
  "language_info": {
   "codemirror_mode": {
    "name": "ipython",
    "version": 3
   },
   "file_extension": ".py",
   "mimetype": "text/x-python",
   "name": "python",
   "nbconvert_exporter": "python",
   "pygments_lexer": "ipython3",
   "version": "3.10.8"
  }
 },
 "nbformat": 4,
 "nbformat_minor": 5
}
