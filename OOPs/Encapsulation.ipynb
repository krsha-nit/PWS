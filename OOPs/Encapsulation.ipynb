{
 "cells": [
  {
   "cell_type": "code",
   "execution_count": 1,
   "id": "4633a57b-8b1b-4fef-82ef-35d51fe9038b",
   "metadata": {},
   "outputs": [],
   "source": [
    "class test:\n",
    "    #init method is used to pass data to my classes\n",
    "    def __init__(self,a,b):\n",
    "        self.a = a\n",
    "        self.b = b"
   ]
  },
  {
   "cell_type": "code",
   "execution_count": 3,
   "id": "31dea5e4-dd3a-47a1-b06b-40a462114c65",
   "metadata": {},
   "outputs": [],
   "source": [
    "t=test('a1','b1')"
   ]
  },
  {
   "cell_type": "code",
   "execution_count": 4,
   "id": "77a93bfd-c17c-4541-83ea-520f327f03f7",
   "metadata": {},
   "outputs": [
    {
     "data": {
      "text/plain": [
       "('a1', 'b1')"
      ]
     },
     "execution_count": 4,
     "metadata": {},
     "output_type": "execute_result"
    }
   ],
   "source": [
    "t.a, t.b"
   ]
  },
  {
   "cell_type": "code",
   "execution_count": 6,
   "id": "7d48e789-a0f0-4906-82b9-8670fa01c39b",
   "metadata": {},
   "outputs": [],
   "source": [
    "t.a = 'a2'\n",
    "t.b = 'b2'"
   ]
  },
  {
   "cell_type": "code",
   "execution_count": 7,
   "id": "23339f0c-1b2a-4064-9ec3-107fef82ca54",
   "metadata": {},
   "outputs": [
    {
     "data": {
      "text/plain": [
       "('a2', 'b2')"
      ]
     },
     "execution_count": 7,
     "metadata": {},
     "output_type": "execute_result"
    }
   ],
   "source": [
    "t.a, t.b"
   ]
  },
  {
   "cell_type": "code",
   "execution_count": 8,
   "id": "77b66ed0-3181-4e8b-933e-60984f6ee71a",
   "metadata": {},
   "outputs": [],
   "source": [
    "# encapsulation = prevent outside user to change internal compostion of the data, modify the data (like compositon in a capsule)"
   ]
  },
  {
   "cell_type": "code",
   "execution_count": 9,
   "id": "c96f04e8-985b-4694-8340-89019c5bc191",
   "metadata": {},
   "outputs": [],
   "source": [
    "class test2:\n",
    "    #init method is used to pass data to my classes\n",
    "    def __init__(self,a,b,speed):\n",
    "        self.__a = a #__ will not enable user to see the var using tab after class\n",
    "        self.__b = b\n",
    "        self.__speed = 0"
   ]
  },
  {
   "cell_type": "code",
   "execution_count": 11,
   "id": "a4fa39cf-e229-4e95-a176-d0594ca67916",
   "metadata": {},
   "outputs": [],
   "source": [
    "t2=test2('a3','b3',78)"
   ]
  },
  {
   "cell_type": "code",
   "execution_count": 12,
   "id": "15cb1dc0-8177-4fd4-b954-3ee7c0d7255b",
   "metadata": {},
   "outputs": [
    {
     "ename": "AttributeError",
     "evalue": "'test2' object has no attribute 'a'",
     "output_type": "error",
     "traceback": [
      "\u001b[0;31m---------------------------------------------------------------------------\u001b[0m",
      "\u001b[0;31mAttributeError\u001b[0m                            Traceback (most recent call last)",
      "Cell \u001b[0;32mIn[12], line 1\u001b[0m\n\u001b[0;32m----> 1\u001b[0m \u001b[43mt2\u001b[49m\u001b[38;5;241;43m.\u001b[39;49m\u001b[43ma\u001b[49m\n",
      "\u001b[0;31mAttributeError\u001b[0m: 'test2' object has no attribute 'a'"
     ]
    }
   ],
   "source": [
    "t2.a"
   ]
  },
  {
   "cell_type": "code",
   "execution_count": 13,
   "id": "30d44e01-5ffc-4397-ab95-451f72bb77bc",
   "metadata": {},
   "outputs": [
    {
     "data": {
      "text/plain": [
       "'a3'"
      ]
     },
     "execution_count": 13,
     "metadata": {},
     "output_type": "execute_result"
    }
   ],
   "source": [
    "t2._test2__a"
   ]
  },
  {
   "cell_type": "code",
   "execution_count": 14,
   "id": "38eefc60-d8f6-4f67-bbdc-cc36039297af",
   "metadata": {},
   "outputs": [],
   "source": [
    "t2._test2__a = 'a4'"
   ]
  },
  {
   "cell_type": "code",
   "execution_count": 15,
   "id": "f152f750-5a3d-4f4c-ba02-01c535dc22d8",
   "metadata": {},
   "outputs": [
    {
     "data": {
      "text/plain": [
       "'a4'"
      ]
     },
     "execution_count": 15,
     "metadata": {},
     "output_type": "execute_result"
    }
   ],
   "source": [
    "t2._test2__a"
   ]
  },
  {
   "cell_type": "code",
   "execution_count": 16,
   "id": "08eebd69-5296-459a-947d-e316310e7a7e",
   "metadata": {},
   "outputs": [],
   "source": [
    "#unless you know the actual name of var, you can't update it"
   ]
  },
  {
   "cell_type": "code",
   "execution_count": 18,
   "id": "6d21379a-47ae-48ff-8e44-07e926558ea4",
   "metadata": {},
   "outputs": [],
   "source": [
    "class test3:\n",
    "    #init method is used to pass data to my classes\n",
    "    def __init__(self,a,b,speed):\n",
    "        self.__a = a #__ will not enable user to see the var using tab after class\n",
    "        self.__b = b\n",
    "        self.__speed = 0\n",
    "    \n",
    "    def set_speed(self,speed):\n",
    "        self.__speed = 0 if speed < 0 else speed"
   ]
  },
  {
   "cell_type": "code",
   "execution_count": 21,
   "id": "f632edce-85ef-4e2e-b466-2257fbcaf8ef",
   "metadata": {},
   "outputs": [],
   "source": [
    "t5 = test3('a5','b5',75) # speed is not updated as self.speed = 0 so it's 0"
   ]
  },
  {
   "cell_type": "code",
   "execution_count": 22,
   "id": "cfde63ff-5241-4f5e-afba-40f1ecf62a6c",
   "metadata": {},
   "outputs": [
    {
     "data": {
      "text/plain": [
       "0"
      ]
     },
     "execution_count": 22,
     "metadata": {},
     "output_type": "execute_result"
    }
   ],
   "source": [
    "t5._test3__speed"
   ]
  },
  {
   "cell_type": "code",
   "execution_count": 23,
   "id": "e594cf9f-38ad-4009-88e2-e7bf7bd3721e",
   "metadata": {},
   "outputs": [
    {
     "data": {
      "text/plain": [
       "0"
      ]
     },
     "execution_count": 23,
     "metadata": {},
     "output_type": "execute_result"
    }
   ],
   "source": [
    "t5.set_speed(-10)\n",
    "t5._test3__speed"
   ]
  },
  {
   "cell_type": "code",
   "execution_count": 24,
   "id": "07021e30-230a-4d42-8fae-07a9b4a6cc29",
   "metadata": {},
   "outputs": [
    {
     "data": {
      "text/plain": [
       "10"
      ]
     },
     "execution_count": 24,
     "metadata": {},
     "output_type": "execute_result"
    }
   ],
   "source": [
    "t5.set_speed(10)\n",
    "t5._test3__speed"
   ]
  },
  {
   "cell_type": "code",
   "execution_count": 25,
   "id": "4e6b57e3-3165-43a1-b525-bb0459ad1597",
   "metadata": {},
   "outputs": [],
   "source": [
    "class test4:\n",
    "    #init method is used to pass data to my classes\n",
    "    def __init__(self,a,b,speed):\n",
    "        self.__a = a #__ will not enable user to see the var using tab after class\n",
    "        self.__b = b\n",
    "        self.__speed = 0\n",
    "    \n",
    "    def set_speed(self,speed):\n",
    "        self.__speed = 0 if speed < 0 else speed\n",
    "        \n",
    "    def get_speed(self):\n",
    "        return self.__speed"
   ]
  },
  {
   "cell_type": "code",
   "execution_count": 27,
   "id": "38120c0e-a891-42e9-89a6-e3a2f2b7ea08",
   "metadata": {},
   "outputs": [],
   "source": [
    "t6 = test4('a6','b6',60)"
   ]
  },
  {
   "cell_type": "code",
   "execution_count": 29,
   "id": "4212e7f8-932c-4f24-a6b4-380f0301cb21",
   "metadata": {},
   "outputs": [
    {
     "data": {
      "text/plain": [
       "0"
      ]
     },
     "execution_count": 29,
     "metadata": {},
     "output_type": "execute_result"
    }
   ],
   "source": [
    "t6.get_speed()"
   ]
  },
  {
   "cell_type": "code",
   "execution_count": 30,
   "id": "fbe0769d-b686-403f-b0df-7282fac0e3d4",
   "metadata": {},
   "outputs": [
    {
     "data": {
      "text/plain": [
       "50"
      ]
     },
     "execution_count": 30,
     "metadata": {},
     "output_type": "execute_result"
    }
   ],
   "source": [
    "t6.set_speed(50)\n",
    "t6.get_speed() #using functions a person will be able to change the data"
   ]
  },
  {
   "cell_type": "code",
   "execution_count": 57,
   "id": "a7c541b5-3e0d-4472-bd31-88e3f7044265",
   "metadata": {},
   "outputs": [],
   "source": [
    "class bank_st:\n",
    "    def __init__(self,balance):\n",
    "        self.__balance = balance\n",
    "        \n",
    "    def deposit(self,amount):\n",
    "        self.__balance+=amount\n",
    "    \n",
    "    def withdraw(self,amount):\n",
    "        if self.__balance>= amount:\n",
    "            self.__balance-=amount\n",
    "            return 'Done'\n",
    "        else:\n",
    "            return 'Insufficient fund'\n",
    "    \n",
    "    def get_balance(self):\n",
    "        return self.__balance"
   ]
  },
  {
   "cell_type": "code",
   "execution_count": 58,
   "id": "bdc1d6d4-947b-48da-9abb-8789691be961",
   "metadata": {},
   "outputs": [],
   "source": [
    "a=bank_st(500)"
   ]
  },
  {
   "cell_type": "code",
   "execution_count": 59,
   "id": "ad3c46f0-4935-4856-a245-135e74e682d8",
   "metadata": {},
   "outputs": [
    {
     "data": {
      "text/plain": [
       "500"
      ]
     },
     "execution_count": 59,
     "metadata": {},
     "output_type": "execute_result"
    }
   ],
   "source": [
    "a._bank_st__balance #tab doesn't give __balance; only if you know class name and var, then only you can call it"
   ]
  },
  {
   "cell_type": "code",
   "execution_count": 60,
   "id": "24b21442-dd73-4d50-aac8-e630f91e38cf",
   "metadata": {},
   "outputs": [
    {
     "data": {
      "text/plain": [
       "500"
      ]
     },
     "execution_count": 60,
     "metadata": {},
     "output_type": "execute_result"
    }
   ],
   "source": [
    "a.get_balance()"
   ]
  },
  {
   "cell_type": "code",
   "execution_count": 61,
   "id": "ae8dd84b-ddbf-42e7-ace1-d2c0220c693d",
   "metadata": {},
   "outputs": [],
   "source": [
    "a.deposit(600)\n",
    "#a.get_balance()"
   ]
  },
  {
   "cell_type": "code",
   "execution_count": 62,
   "id": "e8415450-f69a-4c39-b769-a9e0d5d8a48b",
   "metadata": {},
   "outputs": [
    {
     "data": {
      "text/plain": [
       "'Insufficient fund'"
      ]
     },
     "execution_count": 62,
     "metadata": {},
     "output_type": "execute_result"
    }
   ],
   "source": [
    "a.withdraw(5000)"
   ]
  },
  {
   "cell_type": "code",
   "execution_count": 63,
   "id": "bbb81360-cf72-4597-9519-a843db191a32",
   "metadata": {},
   "outputs": [
    {
     "data": {
      "text/plain": [
       "1100"
      ]
     },
     "execution_count": 63,
     "metadata": {},
     "output_type": "execute_result"
    }
   ],
   "source": [
    "a.get_balance()"
   ]
  },
  {
   "cell_type": "code",
   "execution_count": 64,
   "id": "7a33f92a-253a-40e0-b596-ee3e89ef4718",
   "metadata": {},
   "outputs": [
    {
     "data": {
      "text/plain": [
       "('Done', 100)"
      ]
     },
     "execution_count": 64,
     "metadata": {},
     "output_type": "execute_result"
    }
   ],
   "source": [
    "a.withdraw(1000), a.get_balance()"
   ]
  },
  {
   "cell_type": "code",
   "execution_count": null,
   "id": "83523312-18f7-4350-805d-4e46f020326b",
   "metadata": {},
   "outputs": [],
   "source": []
  }
 ],
 "metadata": {
  "kernelspec": {
   "display_name": "Python 3 (ipykernel)",
   "language": "python",
   "name": "python3"
  },
  "language_info": {
   "codemirror_mode": {
    "name": "ipython",
    "version": 3
   },
   "file_extension": ".py",
   "mimetype": "text/x-python",
   "name": "python",
   "nbconvert_exporter": "python",
   "pygments_lexer": "ipython3",
   "version": "3.10.8"
  }
 },
 "nbformat": 4,
 "nbformat_minor": 5
}
