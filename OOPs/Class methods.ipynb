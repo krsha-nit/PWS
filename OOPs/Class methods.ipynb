{
 "cells": [
  {
   "cell_type": "code",
   "execution_count": 1,
   "id": "c067fe36-b64c-4848-b0e4-97c078888b8c",
   "metadata": {},
   "outputs": [],
   "source": [
    "# related to decorator??"
   ]
  },
  {
   "cell_type": "code",
   "execution_count": 2,
   "id": "64434121-be72-460e-b7e6-f1daed065417",
   "metadata": {},
   "outputs": [],
   "source": [
    "class pws:\n",
    "    def __init__(self,name,email):\n",
    "        self.name = name\n",
    "        self.email = email\n",
    "        \n",
    "    def stu_det(self):\n",
    "        return self.name, self.email"
   ]
  },
  {
   "cell_type": "code",
   "execution_count": 3,
   "id": "483cba5b-f7a4-4bd4-82b5-54edae2fdb0a",
   "metadata": {},
   "outputs": [],
   "source": [
    "t1=pws('ram','ram.com')"
   ]
  },
  {
   "cell_type": "code",
   "execution_count": 4,
   "id": "170c5a77-2ab8-407a-aabb-22ffbfcba946",
   "metadata": {},
   "outputs": [
    {
     "data": {
      "text/plain": [
       "('ram', 'ram', ('ram', 'ram.com'))"
      ]
     },
     "execution_count": 4,
     "metadata": {},
     "output_type": "execute_result"
    }
   ],
   "source": [
    "t1.name,t1.name,t1.stu_det() #method and stu_det-function"
   ]
  },
  {
   "cell_type": "code",
   "execution_count": 8,
   "id": "afe9e77b-b594-40d0-bd42-230acf5b44ee",
   "metadata": {},
   "outputs": [],
   "source": [
    "class pws1:\n",
    "    def __init__(self,name,email):\n",
    "        self.name = name\n",
    "        self.email = email\n",
    "    \n",
    "    #overload init method, \n",
    "    #let's say you don't have init method, how will you pass the data?\n",
    "    @classmethod    #equivalent to __init__ to pass data into the var of this class through det function, it's easier??\n",
    "    def det(cls,name,email):\n",
    "        return cls(name,email)\n",
    "        \n",
    "    def stu_det(self):\n",
    "        return self.name, self.email"
   ]
  },
  {
   "cell_type": "code",
   "execution_count": 6,
   "id": "abb631ac-fc53-41f5-9018-344e1392dd1c",
   "metadata": {},
   "outputs": [],
   "source": [
    "t2=pws1.det('mo','mo.com')"
   ]
  },
  {
   "cell_type": "code",
   "execution_count": 7,
   "id": "c986b166-0f31-4bfd-a7b2-224e779ccd1f",
   "metadata": {},
   "outputs": [
    {
     "data": {
      "text/plain": [
       "('mo', 'mo.com', ('mo', 'mo.com'))"
      ]
     },
     "execution_count": 7,
     "metadata": {},
     "output_type": "execute_result"
    }
   ],
   "source": [
    "t2.name, t2.email, t2.stu_det()"
   ]
  },
  {
   "cell_type": "code",
   "execution_count": 11,
   "id": "c711755b-5108-4de8-ae03-6b53718b4805",
   "metadata": {},
   "outputs": [],
   "source": [
    "class pws2:\n",
    "    \n",
    "    mob = 123\n",
    "    \n",
    "    def __init__(self,name,email):\n",
    "        self.name = name\n",
    "        self.email = email\n",
    "       \n",
    "    @classmethod    #equivalent to __init__ to pass data into the var of this class through det function, it's easier??\n",
    "    def det(cls,name,email):\n",
    "        return cls(name,email)\n",
    "        \n",
    "    def stu_det(self):\n",
    "        return self.name, self.email, pws2.mob\n",
    "    "
   ]
  },
  {
   "cell_type": "code",
   "execution_count": 12,
   "id": "82ac76cf-75fa-4ac2-976e-735973e61a5e",
   "metadata": {},
   "outputs": [
    {
     "data": {
      "text/plain": [
       "123"
      ]
     },
     "execution_count": 12,
     "metadata": {},
     "output_type": "execute_result"
    }
   ],
   "source": [
    "pws2.mob # directly get the instance from the class"
   ]
  },
  {
   "cell_type": "code",
   "execution_count": 13,
   "id": "b54fe3ea-0c32-47cc-86af-c9e7348ffa4f",
   "metadata": {},
   "outputs": [],
   "source": [
    "t3 = pws2('so','so.com')"
   ]
  },
  {
   "cell_type": "code",
   "execution_count": 14,
   "id": "f116010c-7bf0-4cc2-96df-d38078afdffd",
   "metadata": {},
   "outputs": [
    {
     "data": {
      "text/plain": [
       "(123, ('so', 'so.com', 123))"
      ]
     },
     "execution_count": 14,
     "metadata": {},
     "output_type": "execute_result"
    }
   ],
   "source": [
    "t3.mob, t3.stu_det() #through instance of created var of this class or function in the class"
   ]
  },
  {
   "cell_type": "code",
   "execution_count": 15,
   "id": "7f2ee25c-8cc3-494c-a3b5-4a5dc7297f38",
   "metadata": {},
   "outputs": [
    {
     "data": {
      "text/plain": [
       "('so', 123)"
      ]
     },
     "execution_count": 15,
     "metadata": {},
     "output_type": "execute_result"
    }
   ],
   "source": [
    "t3.name, t3.mob"
   ]
  },
  {
   "cell_type": "code",
   "execution_count": 16,
   "id": "286de7ea-19fe-40dd-9c1f-6dc1a9208eb0",
   "metadata": {},
   "outputs": [],
   "source": [
    "class pws3:\n",
    "    \n",
    "    mob = 123\n",
    "    \n",
    "    def __init__(self,name,email):\n",
    "        self.name = name\n",
    "        self.email = email\n",
    "        \n",
    "    @classmethod #global method, class method is created for the class, memory =1\n",
    "    def change_mob(cls,new_mob):\n",
    "        pws3.mob = new_mob\n",
    "       \n",
    "    @classmethod    #equivalent to __init__ to pass data into the var of this class through det function, it's easier??\n",
    "    def det(cls,name,email):\n",
    "        return cls(name,email)\n",
    "        \n",
    "    def stu_det(self): #instance method\n",
    "        return self.name, self.email, pws2.mob\n",
    "    "
   ]
  },
  {
   "cell_type": "code",
   "execution_count": 17,
   "id": "7ff7b0e0-f444-4527-b538-56a81ca9beab",
   "metadata": {},
   "outputs": [
    {
     "data": {
      "text/plain": [
       "123"
      ]
     },
     "execution_count": 17,
     "metadata": {},
     "output_type": "execute_result"
    }
   ],
   "source": [
    "pws3.mob"
   ]
  },
  {
   "cell_type": "code",
   "execution_count": 19,
   "id": "9d486cd7-c0fc-473f-a895-64e4378a9efe",
   "metadata": {},
   "outputs": [
    {
     "data": {
      "text/plain": [
       "234"
      ]
     },
     "execution_count": 19,
     "metadata": {},
     "output_type": "execute_result"
    }
   ],
   "source": [
    "pws3.change_mob(234)\n",
    "pws3.mob"
   ]
  },
  {
   "cell_type": "code",
   "execution_count": 20,
   "id": "6c872dc1-3da4-4557-bf8d-c2aab1491b69",
   "metadata": {},
   "outputs": [],
   "source": [
    "t4 = pws3('ro','ro.com')"
   ]
  },
  {
   "cell_type": "code",
   "execution_count": 27,
   "id": "177f9b90-8f05-4696-93c9-e81f066c4797",
   "metadata": {},
   "outputs": [
    {
     "data": {
      "text/plain": [
       "<__main__.pws3 at 0x7fd342f4de70>"
      ]
     },
     "execution_count": 27,
     "metadata": {},
     "output_type": "execute_result"
    }
   ],
   "source": [
    "t4.det('','')"
   ]
  },
  {
   "cell_type": "code",
   "execution_count": 28,
   "id": "8c5404e1-7e83-4277-b245-bea085b07119",
   "metadata": {},
   "outputs": [
    {
     "data": {
      "text/plain": [
       "('ro', 'ro.com')"
      ]
     },
     "execution_count": 28,
     "metadata": {},
     "output_type": "execute_result"
    }
   ],
   "source": [
    "t4.name, t4.email #showint value which was give during creation this variable"
   ]
  },
  {
   "cell_type": "code",
   "execution_count": 22,
   "id": "cfea1b89-2588-4522-8722-9fba06660000",
   "metadata": {},
   "outputs": [
    {
     "data": {
      "text/plain": [
       "234"
      ]
     },
     "execution_count": 22,
     "metadata": {},
     "output_type": "execute_result"
    }
   ],
   "source": [
    "t4.mob"
   ]
  },
  {
   "cell_type": "code",
   "execution_count": 23,
   "id": "b9192a66-d5a8-4d24-bf8b-08710fec37ee",
   "metadata": {},
   "outputs": [
    {
     "data": {
      "text/plain": [
       "678"
      ]
     },
     "execution_count": 23,
     "metadata": {},
     "output_type": "execute_result"
    }
   ],
   "source": [
    "t4.change_mob(678) #I can access and modify other class method function to update the number\n",
    "t4.mob"
   ]
  },
  {
   "cell_type": "code",
   "execution_count": 24,
   "id": "9b316a71-4472-47bb-975e-ad6a46c1c8fd",
   "metadata": {},
   "outputs": [
    {
     "data": {
      "text/plain": [
       "678"
      ]
     },
     "execution_count": 24,
     "metadata": {},
     "output_type": "execute_result"
    }
   ],
   "source": [
    "pws3.mob"
   ]
  },
  {
   "cell_type": "code",
   "execution_count": 29,
   "id": "098ed317-3be9-4672-ad51-8b12a7646675",
   "metadata": {},
   "outputs": [],
   "source": [
    "class pws4:\n",
    "    \n",
    "    mob = 123\n",
    "    \n",
    "    def __init__(self,name,email):\n",
    "        self.name = name\n",
    "        self.email = email\n",
    "        \n",
    "    @classmethod #global method, class method is created for the class, memory =1\n",
    "    def change_mob(cls,new_mob):\n",
    "        pws3.mob = new_mob\n",
    "       \n",
    "    @classmethod    #equivalent to __init__ to pass data into the var of this class through det function, it's easier??\n",
    "    def det(cls,name,email):\n",
    "        return cls(name,email)\n",
    "        \n",
    "    def stu_det(self): #instance method for all the variables\n",
    "        return self.name, self.email, pws2.mob"
   ]
  },
  {
   "cell_type": "code",
   "execution_count": 30,
   "id": "90a8f83c-9d74-46ed-9d53-bec989bf287f",
   "metadata": {},
   "outputs": [],
   "source": [
    "def course_det(cls,course_name):\n",
    "    print('course: ', course_name)"
   ]
  },
  {
   "cell_type": "code",
   "execution_count": 31,
   "id": "56999136-bfec-4201-af4c-0e978640e567",
   "metadata": {},
   "outputs": [],
   "source": [
    "pws4.course_det = classmethod(course_det)"
   ]
  },
  {
   "cell_type": "code",
   "execution_count": 32,
   "id": "562df326-4258-458f-9634-3fe9dd30ed51",
   "metadata": {},
   "outputs": [
    {
     "name": "stdout",
     "output_type": "stream",
     "text": [
      "course:  ds\n"
     ]
    }
   ],
   "source": [
    "pws4.course_det('ds')"
   ]
  },
  {
   "cell_type": "code",
   "execution_count": 33,
   "id": "4c4f9e09-8e83-4730-be49-fe49e5d87f49",
   "metadata": {},
   "outputs": [],
   "source": [
    "t5 = pws4('su','su.com')"
   ]
  },
  {
   "cell_type": "code",
   "execution_count": 34,
   "id": "18fe284e-ef96-47e2-903a-d9c7abdfd2b1",
   "metadata": {},
   "outputs": [
    {
     "name": "stdout",
     "output_type": "stream",
     "text": [
      "course:  ml\n"
     ]
    }
   ],
   "source": [
    "t5.course_det('ml') #through a var, I can call the external function"
   ]
  },
  {
   "cell_type": "code",
   "execution_count": 35,
   "id": "dfbb1db7-4e91-4841-a870-7b54f7b9f03c",
   "metadata": {},
   "outputs": [],
   "source": [
    "# to delete a function from a class M1\n",
    "del pws4.change_mob"
   ]
  },
  {
   "cell_type": "code",
   "execution_count": 36,
   "id": "f79f4d5b-156c-4f1e-b2f8-ad7dd79d2eb8",
   "metadata": {},
   "outputs": [
    {
     "ename": "AttributeError",
     "evalue": "type object 'pws4' has no attribute 'change_mob'",
     "output_type": "error",
     "traceback": [
      "\u001b[0;31m---------------------------------------------------------------------------\u001b[0m",
      "\u001b[0;31mAttributeError\u001b[0m                            Traceback (most recent call last)",
      "Cell \u001b[0;32mIn[36], line 1\u001b[0m\n\u001b[0;32m----> 1\u001b[0m \u001b[43mpws4\u001b[49m\u001b[38;5;241;43m.\u001b[39;49m\u001b[43mchange_mob\u001b[49m\n",
      "\u001b[0;31mAttributeError\u001b[0m: type object 'pws4' has no attribute 'change_mob'"
     ]
    }
   ],
   "source": [
    "pws4.change_mob"
   ]
  },
  {
   "cell_type": "code",
   "execution_count": 37,
   "id": "757e01cb-d4e2-43e7-9084-bee9d68f30ba",
   "metadata": {},
   "outputs": [],
   "source": [
    "#m2\n",
    "delattr(pws4, 'det')"
   ]
  },
  {
   "cell_type": "code",
   "execution_count": 38,
   "id": "a8579a8d-4fbb-4948-861a-84fc2736188a",
   "metadata": {},
   "outputs": [
    {
     "ename": "AttributeError",
     "evalue": "type object 'pws4' has no attribute 'det'",
     "output_type": "error",
     "traceback": [
      "\u001b[0;31m---------------------------------------------------------------------------\u001b[0m",
      "\u001b[0;31mAttributeError\u001b[0m                            Traceback (most recent call last)",
      "Cell \u001b[0;32mIn[38], line 1\u001b[0m\n\u001b[0;32m----> 1\u001b[0m \u001b[43mpws4\u001b[49m\u001b[38;5;241;43m.\u001b[39;49m\u001b[43mdet\u001b[49m()\n",
      "\u001b[0;31mAttributeError\u001b[0m: type object 'pws4' has no attribute 'det'"
     ]
    }
   ],
   "source": [
    "pws4.det()"
   ]
  },
  {
   "cell_type": "code",
   "execution_count": 39,
   "id": "99706404-a828-4014-82a7-b8248500edfb",
   "metadata": {},
   "outputs": [
    {
     "data": {
      "text/plain": [
       "123"
      ]
     },
     "execution_count": 39,
     "metadata": {},
     "output_type": "execute_result"
    }
   ],
   "source": [
    "pws4.mob"
   ]
  },
  {
   "cell_type": "code",
   "execution_count": 42,
   "id": "25382801-a8dc-4d30-88d9-cae2059d84c3",
   "metadata": {},
   "outputs": [],
   "source": [
    "delattr(pws4,'mob')"
   ]
  },
  {
   "cell_type": "code",
   "execution_count": 43,
   "id": "2fa7255b-8978-40da-9a5d-be74248f6bdc",
   "metadata": {},
   "outputs": [
    {
     "ename": "AttributeError",
     "evalue": "type object 'pws4' has no attribute 'mob'",
     "output_type": "error",
     "traceback": [
      "\u001b[0;31m---------------------------------------------------------------------------\u001b[0m",
      "\u001b[0;31mAttributeError\u001b[0m                            Traceback (most recent call last)",
      "Cell \u001b[0;32mIn[43], line 1\u001b[0m\n\u001b[0;32m----> 1\u001b[0m \u001b[43mpws4\u001b[49m\u001b[38;5;241;43m.\u001b[39;49m\u001b[43mmob\u001b[49m\n",
      "\u001b[0;31mAttributeError\u001b[0m: type object 'pws4' has no attribute 'mob'"
     ]
    }
   ],
   "source": [
    "pws4.mob"
   ]
  },
  {
   "cell_type": "code",
   "execution_count": null,
   "id": "c2c6ed0b-f089-4812-ba2e-8e64c8be3eee",
   "metadata": {},
   "outputs": [],
   "source": []
  }
 ],
 "metadata": {
  "kernelspec": {
   "display_name": "Python 3 (ipykernel)",
   "language": "python",
   "name": "python3"
  },
  "language_info": {
   "codemirror_mode": {
    "name": "ipython",
    "version": 3
   },
   "file_extension": ".py",
   "mimetype": "text/x-python",
   "name": "python",
   "nbconvert_exporter": "python",
   "pygments_lexer": "ipython3",
   "version": "3.10.8"
  }
 },
 "nbformat": 4,
 "nbformat_minor": 5
}
