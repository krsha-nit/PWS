{
 "cells": [
  {
   "cell_type": "code",
   "execution_count": 1,
   "id": "8ef8c126-33fc-4170-9a6f-b393445bb72c",
   "metadata": {},
   "outputs": [],
   "source": [
    "#Poly - multiple, morphism - different charecteristics"
   ]
  },
  {
   "cell_type": "code",
   "execution_count": 3,
   "id": "cf801285-93bc-4961-96f3-ccccda1472a5",
   "metadata": {},
   "outputs": [],
   "source": [
    "def add(a,b):\n",
    "    return a+b"
   ]
  },
  {
   "cell_type": "code",
   "execution_count": 6,
   "id": "f2abae4e-fe38-4d49-aea8-7c524d6a40d0",
   "metadata": {},
   "outputs": [
    {
     "data": {
      "text/plain": [
       "(9, 'ab', [1, 2, 3, 4])"
      ]
     },
     "execution_count": 6,
     "metadata": {},
     "output_type": "execute_result"
    }
   ],
   "source": [
    "#this func is example of polymorphism --multiple charecteristic wrt different data type\n",
    "add(4,5), add('a','b'), add([1,2],[3,4])"
   ]
  },
  {
   "cell_type": "code",
   "execution_count": 7,
   "id": "44a654ac-c072-4fb5-8b2c-ec46958899f5",
   "metadata": {},
   "outputs": [],
   "source": [
    "class ds:\n",
    "    def syl(self):\n",
    "        print('method for ds')"
   ]
  },
  {
   "cell_type": "code",
   "execution_count": 8,
   "id": "960df74f-eebf-48a8-9ea1-9a0ae26f9736",
   "metadata": {},
   "outputs": [],
   "source": [
    "class ml:\n",
    "    def syl(self):\n",
    "        print('method for ml')"
   ]
  },
  {
   "cell_type": "code",
   "execution_count": 9,
   "id": "cab42653-8e4c-4394-bb94-4121bc109f6d",
   "metadata": {},
   "outputs": [],
   "source": [
    "def class_parcer(class_obj):\n",
    "    for i in class_obj:\n",
    "        i.syl()"
   ]
  },
  {
   "cell_type": "code",
   "execution_count": 15,
   "id": "a867dd4f-0cbd-4a38-bd92-5a5bdc120af1",
   "metadata": {},
   "outputs": [
    {
     "data": {
      "text/plain": [
       "(<__main__.ds at 0x7fe0b47d8be0>, <__main__.ml at 0x7fe0b47d8e20>)"
      ]
     },
     "execution_count": 15,
     "metadata": {},
     "output_type": "execute_result"
    }
   ],
   "source": [
    "obj_ds = ds()\n",
    "obj_ml = ml()\n",
    "obj_ds,obj_ml"
   ]
  },
  {
   "cell_type": "code",
   "execution_count": 16,
   "id": "0927c07b-8871-4154-965d-d60b0a81e50f",
   "metadata": {},
   "outputs": [],
   "source": [
    "class_obj=[obj_ds,obj_ml] #inside a single wrapper"
   ]
  },
  {
   "cell_type": "code",
   "execution_count": 18,
   "id": "9a9bc5ab-47c7-414a-869c-df35e8eec059",
   "metadata": {},
   "outputs": [
    {
     "name": "stdout",
     "output_type": "stream",
     "text": [
      "method for ds\n",
      "method for ml\n"
     ]
    }
   ],
   "source": [
    "class_parcer(class_obj) #func is acting differently with different class - achieved polymorphism"
   ]
  },
  {
   "cell_type": "code",
   "execution_count": null,
   "id": "238bec4a-ce8a-46b7-a420-ac4ab909f710",
   "metadata": {},
   "outputs": [],
   "source": []
  }
 ],
 "metadata": {
  "kernelspec": {
   "display_name": "Python 3 (ipykernel)",
   "language": "python",
   "name": "python3"
  },
  "language_info": {
   "codemirror_mode": {
    "name": "ipython",
    "version": 3
   },
   "file_extension": ".py",
   "mimetype": "text/x-python",
   "name": "python",
   "nbconvert_exporter": "python",
   "pygments_lexer": "ipython3",
   "version": "3.10.8"
  }
 },
 "nbformat": 4,
 "nbformat_minor": 5
}
