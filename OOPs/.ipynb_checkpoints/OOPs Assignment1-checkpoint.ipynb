{
 "cells": [
  {
   "cell_type": "markdown",
   "id": "8104bdc9-7136-45fe-b81e-b6508131ce48",
   "metadata": {},
   "source": [
    "Q1, Create a vehicle class with an init method having instance variables as name_of_vehicle, max_speed\n",
    "and average_of_vehicle."
   ]
  },
  {
   "cell_type": "code",
   "execution_count": 1,
   "id": "fc103022-1f52-4dc1-8649-92a7b2bedb73",
   "metadata": {},
   "outputs": [],
   "source": [
    "class vehicle:\n",
    "    \n",
    "    def __init__(self, name_of_vehicle, max_speed, average_of_vehicle):\n",
    "        self.name_of_vehicle = name_of_vehicle\n",
    "        self.max_speed = max_speed\n",
    "        self.average_of_vehicle = average_of_vehicle\n"
   ]
  },
  {
   "cell_type": "markdown",
   "id": "de86982e-cfb2-4ca7-ba8e-0f516d3ac0f2",
   "metadata": {},
   "source": [
    "Q2. Create a child class car from the vehicle class created in Que 1, which will inherit the vehicle class.\n",
    "Create a method named seating_capacity which takes capacity as an argument and returns the name of\n",
    "the vehicle and its seating capacity.\n"
   ]
  },
  {
   "cell_type": "code",
   "execution_count": 2,
   "id": "660167e1-bf49-4558-abfe-d813f5f72fb3",
   "metadata": {},
   "outputs": [],
   "source": [
    "class child(vehicle):\n",
    "    def seating_capacity(self,capacity):\n",
    "        return self.name_of_vehicle, self.capacity"
   ]
  },
  {
   "cell_type": "code",
   "execution_count": 9,
   "id": "f1246282-f3e7-4ee3-b6e3-4d8f47d002c6",
   "metadata": {},
   "outputs": [],
   "source": [
    "a=vehicle('a',20,60)"
   ]
  },
  {
   "cell_type": "code",
   "execution_count": 12,
   "id": "cc51fab8-9c42-4d9d-85b5-d11866b98090",
   "metadata": {},
   "outputs": [
    {
     "ename": "TypeError",
     "evalue": "vehicle.__init__() missing 1 required positional argument: 'average_of_vehicle'",
     "output_type": "error",
     "traceback": [
      "\u001b[0;31m---------------------------------------------------------------------------\u001b[0m",
      "\u001b[0;31mTypeError\u001b[0m                                 Traceback (most recent call last)",
      "Cell \u001b[0;32mIn[12], line 1\u001b[0m\n\u001b[0;32m----> 1\u001b[0m b\u001b[38;5;241m=\u001b[39m\u001b[43mchild\u001b[49m\u001b[43m(\u001b[49m\u001b[38;5;124;43m'\u001b[39;49m\u001b[38;5;124;43ma\u001b[39;49m\u001b[38;5;124;43m'\u001b[39;49m\u001b[43m,\u001b[49m\u001b[38;5;241;43m5\u001b[39;49m\u001b[43m)\u001b[49m\n",
      "\u001b[0;31mTypeError\u001b[0m: vehicle.__init__() missing 1 required positional argument: 'average_of_vehicle'"
     ]
    }
   ],
   "source": [
    "b=child('a',5)"
   ]
  },
  {
   "cell_type": "code",
   "execution_count": 7,
   "id": "1e7716a8-ff09-4e21-b989-d0deb2e8ad7c",
   "metadata": {},
   "outputs": [
    {
     "ename": "TypeError",
     "evalue": "child.seating_capacity() missing 1 required positional argument: 'capacity'",
     "output_type": "error",
     "traceback": [
      "\u001b[0;31m---------------------------------------------------------------------------\u001b[0m",
      "\u001b[0;31mTypeError\u001b[0m                                 Traceback (most recent call last)",
      "Cell \u001b[0;32mIn[7], line 1\u001b[0m\n\u001b[0;32m----> 1\u001b[0m \u001b[43mb\u001b[49m\u001b[38;5;241;43m.\u001b[39;49m\u001b[43mseating_capacity\u001b[49m\u001b[43m(\u001b[49m\u001b[43m)\u001b[49m\n",
      "\u001b[0;31mTypeError\u001b[0m: child.seating_capacity() missing 1 required positional argument: 'capacity'"
     ]
    }
   ],
   "source": [
    "b.seating_capacity()"
   ]
  },
  {
   "cell_type": "markdown",
   "id": "9f4afbbb-c312-4af4-84ef-178e09098965",
   "metadata": {},
   "source": [
    "Q3. What is multiple inheritance? Write a python code to demonstrate multiple inheritance."
   ]
  },
  {
   "cell_type": "code",
   "execution_count": 13,
   "id": "de879a33-5592-4daf-9208-02af66e6bd93",
   "metadata": {},
   "outputs": [],
   "source": [
    "class c1:\n",
    "    def cl1(self):\n",
    "        print('this is cl1')\n",
    "\n",
    "class c2:\n",
    "    def cl2(self):\n",
    "        print('this is cl2')\n",
    "        \n",
    "class mult(c1,c2):\n",
    "    pass"
   ]
  },
  {
   "cell_type": "code",
   "execution_count": 14,
   "id": "ecf75658-286c-408f-983a-9390fc65baf1",
   "metadata": {},
   "outputs": [],
   "source": [
    "m=mult()"
   ]
  },
  {
   "cell_type": "code",
   "execution_count": 16,
   "id": "755d655e-8d58-4678-8dae-2fbf9eb94b6f",
   "metadata": {},
   "outputs": [
    {
     "name": "stdout",
     "output_type": "stream",
     "text": [
      "this is cl1\n",
      "this is cl2\n"
     ]
    },
    {
     "data": {
      "text/plain": [
       "(None, None)"
      ]
     },
     "execution_count": 16,
     "metadata": {},
     "output_type": "execute_result"
    }
   ],
   "source": [
    "m.cl1(),m.cl2() #it's multiclass as it can inherit charecteristic from class1 and class2"
   ]
  },
  {
   "cell_type": "markdown",
   "id": "bec4f685-9d2d-4fff-9f5e-3d9279e8cc99",
   "metadata": {},
   "source": [
    "Q4. What are getter and setter in python? Create a class and create a getter and a setter method in this\n",
    "class."
   ]
  },
  {
   "cell_type": "code",
   "execution_count": 18,
   "id": "0654c821-7f18-4106-8dba-4929ecd2bfcb",
   "metadata": {},
   "outputs": [],
   "source": [
    "#used in encapsulation where users are not enabled to modify the actual var value\n",
    "\n",
    "class bank_acc:\n",
    "    def __inti__(self,balance):\n",
    "        self.__balance = balance # __is used so that users can't modify using the assignment (tab will not show this)\n",
    "    \n",
    "    def get_balance(self,balance):\n",
    "        return self.__balance #will only be used to show the balance\n",
    "    \n",
    "    #set balance -- deposite and withdraw\n",
    "    def deposite(self,amt): #deposite\n",
    "        if self.__amt>0:\n",
    "            self.__balance += amt\n",
    "        else:\n",
    "            False\n",
    "    def withdraw(self,amt): #deposite\n",
    "        if self.__amt>0 and self.__amt>self.__balance:\n",
    "            self.__balance -= amt\n",
    "        else:\n",
    "            False\n",
    "    "
   ]
  },
  {
   "cell_type": "markdown",
   "id": "1685f7e1-974b-4a19-b1ce-e83eddb84a04",
   "metadata": {},
   "source": [
    "Q5.What is method overriding in python? Write a python code to demonstrate method overriding."
   ]
  },
  {
   "cell_type": "code",
   "execution_count": null,
   "id": "7ba61854-8c73-4247-bc9e-84270fcec6a5",
   "metadata": {},
   "outputs": [],
   "source": [
    "https://www.geeksforgeeks.org/method-overriding-in-python/"
   ]
  }
 ],
 "metadata": {
  "kernelspec": {
   "display_name": "Python 3 (ipykernel)",
   "language": "python",
   "name": "python3"
  },
  "language_info": {
   "codemirror_mode": {
    "name": "ipython",
    "version": 3
   },
   "file_extension": ".py",
   "mimetype": "text/x-python",
   "name": "python",
   "nbconvert_exporter": "python",
   "pygments_lexer": "ipython3",
   "version": "3.10.8"
  }
 },
 "nbformat": 4,
 "nbformat_minor": 5
}
