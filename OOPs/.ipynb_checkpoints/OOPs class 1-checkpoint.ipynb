{
 "cells": [
  {
   "cell_type": "markdown",
   "id": "eaba6cf0-d2b5-430a-8066-6817583ec10a",
   "metadata": {
    "tags": []
   },
   "source": [
    "## OOP Class 1"
   ]
  },
  {
   "cell_type": "code",
   "execution_count": 2,
   "id": "72c71281-583e-47dc-ba7c-a798a7e793e2",
   "metadata": {},
   "outputs": [
    {
     "name": "stdout",
     "output_type": "stream",
     "text": [
      "<class 'int'>\n"
     ]
    }
   ],
   "source": [
    "a=1\n",
    "print(type(a))"
   ]
  },
  {
   "cell_type": "code",
   "execution_count": 3,
   "id": "ee56b206-0fca-4c62-868b-f86e354f8ad8",
   "metadata": {},
   "outputs": [
    {
     "ename": "SyntaxError",
     "evalue": "incomplete input (3527747674.py, line 1)",
     "output_type": "error",
     "traceback": [
      "\u001b[0;36m  Cell \u001b[0;32mIn[3], line 1\u001b[0;36m\u001b[0m\n\u001b[0;31m    class test:\u001b[0m\n\u001b[0m               ^\u001b[0m\n\u001b[0;31mSyntaxError\u001b[0m\u001b[0;31m:\u001b[0m incomplete input\n"
     ]
    }
   ],
   "source": [
    "class test:"
   ]
  },
  {
   "cell_type": "code",
   "execution_count": 4,
   "id": "7b2993bf-b61a-49e1-a239-ac62307f3068",
   "metadata": {},
   "outputs": [],
   "source": [
    "#empty class\n",
    "class test:\n",
    "    pass"
   ]
  },
  {
   "cell_type": "code",
   "execution_count": 7,
   "id": "64402e37-b473-46f5-a86e-4ea276f3d371",
   "metadata": {},
   "outputs": [],
   "source": [
    "#object/instance/variable of a class\n",
    "a=test() #like b=list()"
   ]
  },
  {
   "cell_type": "code",
   "execution_count": 6,
   "id": "c7cb63c3-8fd3-4498-a846-a2709ece096b",
   "metadata": {},
   "outputs": [
    {
     "name": "stdout",
     "output_type": "stream",
     "text": [
      "<class '__main__.test'>\n"
     ]
    }
   ],
   "source": [
    "print(type(a))"
   ]
  },
  {
   "cell_type": "code",
   "execution_count": 8,
   "id": "b60137ae-7d16-4a24-b162-b3e4685d7add",
   "metadata": {},
   "outputs": [],
   "source": [
    "class pws:\n",
    "    \n",
    "    def wel_msg():\n",
    "        print('Welcome to Data science journey!')\n",
    "        "
   ]
  },
  {
   "cell_type": "code",
   "execution_count": 9,
   "id": "bcb79beb-977c-4568-9b91-72a2d5b470e3",
   "metadata": {},
   "outputs": [],
   "source": [
    "b=pws() # like a=1,b=2,c=3"
   ]
  },
  {
   "cell_type": "code",
   "execution_count": 10,
   "id": "42b8955c-27ae-442b-b27f-aa43b2c8f37f",
   "metadata": {},
   "outputs": [
    {
     "ename": "TypeError",
     "evalue": "pws.wel_msg() takes 0 positional arguments but 1 was given",
     "output_type": "error",
     "traceback": [
      "\u001b[0;31m---------------------------------------------------------------------------\u001b[0m",
      "\u001b[0;31mTypeError\u001b[0m                                 Traceback (most recent call last)",
      "Cell \u001b[0;32mIn[10], line 2\u001b[0m\n\u001b[1;32m      1\u001b[0m \u001b[38;5;66;03m#call function of a message\u001b[39;00m\n\u001b[0;32m----> 2\u001b[0m \u001b[43mb\u001b[49m\u001b[38;5;241;43m.\u001b[39;49m\u001b[43mwel_msg\u001b[49m\u001b[43m(\u001b[49m\u001b[43m)\u001b[49m\n",
      "\u001b[0;31mTypeError\u001b[0m: pws.wel_msg() takes 0 positional arguments but 1 was given"
     ]
    }
   ],
   "source": [
    "#call function of a message\n",
    "b.wel_msg()"
   ]
  },
  {
   "cell_type": "code",
   "execution_count": 11,
   "id": "454aaaf0-2497-4d3e-9e2a-9ccd10636c3d",
   "metadata": {},
   "outputs": [],
   "source": [
    "class pws:\n",
    "    #whenever you're creating fun in class, you're supposed to give pointer to bind the method\n",
    "    def wel_msg(self):\n",
    "        print('Welcome to Data science journey!')\n",
    "        "
   ]
  },
  {
   "cell_type": "code",
   "execution_count": 12,
   "id": "f30fbdc6-5951-4faa-a4e8-4bac1f3f769f",
   "metadata": {},
   "outputs": [],
   "source": [
    "c=pws()"
   ]
  },
  {
   "cell_type": "code",
   "execution_count": 13,
   "id": "507fd520-7b82-4fa2-a204-e50289a4a43e",
   "metadata": {},
   "outputs": [
    {
     "name": "stdout",
     "output_type": "stream",
     "text": [
      "Welcome to Data science journey!\n"
     ]
    }
   ],
   "source": [
    "c.wel_msg()"
   ]
  },
  {
   "cell_type": "markdown",
   "id": "6fc80342-4f70-4a58-b416-b218a48d6636",
   "metadata": {},
   "source": [
    "#### how to assign values to different variable in a class like a=1,b=2 for interger class"
   ]
  },
  {
   "cell_type": "code",
   "execution_count": 14,
   "id": "72df15af-7168-4930-bf63-98124b9d900f",
   "metadata": {},
   "outputs": [],
   "source": [
    "class stu_det:\n",
    "    \n",
    "    #init is a constructor, self(can be anything)-reference, \n",
    "    def __init__(self, name, mob, email):\n",
    "        \n",
    "        self.name = name\n",
    "        self.mob = mob\n",
    "        self.email = email\n",
    "        \n",
    "    def ret_stu_detail(self):\n",
    "        return self.name, self.mob, self.email"
   ]
  },
  {
   "cell_type": "code",
   "execution_count": 15,
   "id": "96e7c704-c427-4650-8ade-b49b7581748b",
   "metadata": {},
   "outputs": [
    {
     "ename": "TypeError",
     "evalue": "stu_det.__init__() missing 3 required positional arguments: 'name', 'mob', and 'email'",
     "output_type": "error",
     "traceback": [
      "\u001b[0;31m---------------------------------------------------------------------------\u001b[0m",
      "\u001b[0;31mTypeError\u001b[0m                                 Traceback (most recent call last)",
      "Cell \u001b[0;32mIn[15], line 1\u001b[0m\n\u001b[0;32m----> 1\u001b[0m ram\u001b[38;5;241m=\u001b[39m\u001b[43mstu_det\u001b[49m\u001b[43m(\u001b[49m\u001b[43m)\u001b[49m\n",
      "\u001b[0;31mTypeError\u001b[0m: stu_det.__init__() missing 3 required positional arguments: 'name', 'mob', and 'email'"
     ]
    }
   ],
   "source": [
    "ram=stu_det() #error is because we have 3 parameters to pass"
   ]
  },
  {
   "cell_type": "code",
   "execution_count": 17,
   "id": "a89c0035-cbc0-4058-8ee3-0b24127d180d",
   "metadata": {},
   "outputs": [],
   "source": [
    "ram=stu_det('Ram',123,'ram.com')"
   ]
  },
  {
   "cell_type": "code",
   "execution_count": 24,
   "id": "11071c51-d218-4728-8f40-9aa7a49240ad",
   "metadata": {},
   "outputs": [
    {
     "data": {
      "text/plain": [
       "('ram.com', 123)"
      ]
     },
     "execution_count": 24,
     "metadata": {},
     "output_type": "execute_result"
    }
   ],
   "source": [
    "ram.email, ram.mob,"
   ]
  },
  {
   "cell_type": "code",
   "execution_count": 23,
   "id": "03486ce8-5de6-4493-93c5-9de6c6527f59",
   "metadata": {},
   "outputs": [
    {
     "data": {
      "text/plain": [
       "('Ram', 123, 'ram.com')"
      ]
     },
     "execution_count": 23,
     "metadata": {},
     "output_type": "execute_result"
    }
   ],
   "source": [
    "ram.ret_stu_detail()"
   ]
  },
  {
   "cell_type": "code",
   "execution_count": 25,
   "id": "c184c81d-82fe-477c-b601-1d3d3ce5cfa5",
   "metadata": {},
   "outputs": [],
   "source": [
    "krs = stu_det('krs',456,'krs.com')"
   ]
  },
  {
   "cell_type": "code",
   "execution_count": 27,
   "id": "0012b8c0-c097-4477-b0dd-7c106b857eab",
   "metadata": {},
   "outputs": [
    {
     "data": {
      "text/plain": [
       "(456, ('krs', 456, 'krs.com'))"
      ]
     },
     "execution_count": 27,
     "metadata": {},
     "output_type": "execute_result"
    }
   ],
   "source": [
    "krs.mob, krs.ret_stu_detail()"
   ]
  },
  {
   "cell_type": "code",
   "execution_count": 29,
   "id": "c4f8d971-0e57-45c9-a19a-b8c328a0be1f",
   "metadata": {},
   "outputs": [],
   "source": [
    "class stu_det2:\n",
    "    \n",
    "    #init is a constructor, self(not a keyword, can be anything moh in this case)-reference, \n",
    "    def __init__(moh, name, mob, email):\n",
    "        \n",
    "        moh.name = name\n",
    "        moh.mob = mob\n",
    "        moh.email = email\n",
    "        \n",
    "    def ret_stu_detail(moh):\n",
    "        return moh.name, moh.mob, moh.email"
   ]
  },
  {
   "cell_type": "code",
   "execution_count": 30,
   "id": "19aa91f0-e7f4-4ed6-a221-a3ad10243c0e",
   "metadata": {},
   "outputs": [],
   "source": [
    "sudh = stu_det2('sudh',789,'sudh.com')"
   ]
  },
  {
   "cell_type": "code",
   "execution_count": 31,
   "id": "d27fa9c1-5a2d-42b0-a7e0-74c38b159a37",
   "metadata": {},
   "outputs": [
    {
     "data": {
      "text/plain": [
       "(789, ('sudh', 789, 'sudh.com'))"
      ]
     },
     "execution_count": 31,
     "metadata": {},
     "output_type": "execute_result"
    }
   ],
   "source": [
    "sudh.mob, sudh.ret_stu_detail()"
   ]
  },
  {
   "cell_type": "code",
   "execution_count": 38,
   "id": "2ed3035d-71ea-4dcf-b82a-77243254946b",
   "metadata": {},
   "outputs": [],
   "source": [
    "class test:\n",
    "    \n",
    "    #when calling a class value, is it taking self.name or name?? -- it always \n",
    "    def __init__(self, name, mob, email):\n",
    "        \n",
    "        self.name_test = name\n",
    "        self.mob_test = mob\n",
    "        self.email_test = email\n",
    "        \n",
    "    def ret_stu_detail(self):\n",
    "        return self.name_test, self.mob_test, self.email_test"
   ]
  },
  {
   "cell_type": "code",
   "execution_count": 39,
   "id": "279048fe-8389-4ce2-a676-effed65da8f1",
   "metadata": {},
   "outputs": [],
   "source": [
    "t1=test('t1',1,'t1.com')"
   ]
  },
  {
   "cell_type": "code",
   "execution_count": 35,
   "id": "88e29f10-08b4-45a0-b8b1-3445b44ca906",
   "metadata": {},
   "outputs": [
    {
     "ename": "AttributeError",
     "evalue": "'test' object has no attribute 'email'",
     "output_type": "error",
     "traceback": [
      "\u001b[0;31m---------------------------------------------------------------------------\u001b[0m",
      "\u001b[0;31mAttributeError\u001b[0m                            Traceback (most recent call last)",
      "Cell \u001b[0;32mIn[35], line 1\u001b[0m\n\u001b[0;32m----> 1\u001b[0m \u001b[43mt1\u001b[49m\u001b[38;5;241;43m.\u001b[39;49m\u001b[43memail\u001b[49m\n",
      "\u001b[0;31mAttributeError\u001b[0m: 'test' object has no attribute 'email'"
     ]
    }
   ],
   "source": [
    "t1.email"
   ]
  },
  {
   "cell_type": "code",
   "execution_count": 37,
   "id": "ed28d60e-a1d2-490b-b0cb-c0b68ee9c077",
   "metadata": {},
   "outputs": [
    {
     "data": {
      "text/plain": [
       "'t1.com'"
      ]
     },
     "execution_count": 37,
     "metadata": {},
     "output_type": "execute_result"
    }
   ],
   "source": [
    "t1.email_test"
   ]
  },
  {
   "cell_type": "code",
   "execution_count": 40,
   "id": "3b584545-cc3d-4d78-90ee-c76549cc4955",
   "metadata": {},
   "outputs": [
    {
     "data": {
      "text/plain": [
       "('t1', 1, 't1.com')"
      ]
     },
     "execution_count": 40,
     "metadata": {},
     "output_type": "execute_result"
    }
   ],
   "source": [
    "t1.ret_stu_detail()"
   ]
  },
  {
   "cell_type": "code",
   "execution_count": null,
   "id": "922a851d-e7d8-42f7-b801-8df58dfc9068",
   "metadata": {},
   "outputs": [],
   "source": []
  }
 ],
 "metadata": {
  "kernelspec": {
   "display_name": "Python 3 (ipykernel)",
   "language": "python",
   "name": "python3"
  },
  "language_info": {
   "codemirror_mode": {
    "name": "ipython",
    "version": 3
   },
   "file_extension": ".py",
   "mimetype": "text/x-python",
   "name": "python",
   "nbconvert_exporter": "python",
   "pygments_lexer": "ipython3",
   "version": "3.10.8"
  }
 },
 "nbformat": 4,
 "nbformat_minor": 5
}
