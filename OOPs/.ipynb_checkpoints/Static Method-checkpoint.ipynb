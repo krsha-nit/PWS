{
 "cells": [
  {
   "cell_type": "code",
   "execution_count": 1,
   "id": "220c6ce1-c217-4999-a361-a1b331a6ee62",
   "metadata": {},
   "outputs": [],
   "source": [
    "#Instance method? - call self\n",
    "#class method? - call cls, overload init method, give var and you can use this to do any operation\n",
    "#static method? - available across all var, reduce memory utizilation"
   ]
  },
  {
   "cell_type": "code",
   "execution_count": 2,
   "id": "a38e57a4-7c22-4788-adf5-8d7ee0414feb",
   "metadata": {},
   "outputs": [],
   "source": [
    "class pws1:\n",
    "    def stu_det(self,name,email,num):\n",
    "        print(name,email,num)"
   ]
  },
  {
   "cell_type": "code",
   "execution_count": 3,
   "id": "31eca942-0385-478f-a078-19272596e875",
   "metadata": {},
   "outputs": [],
   "source": [
    "t1 = pws1()\n",
    "#if we create 10M such objects, then this will consume memory for all 10M objects"
   ]
  },
  {
   "cell_type": "code",
   "execution_count": 4,
   "id": "611e96fe-4ed1-4699-a589-a7eaef9e4c2f",
   "metadata": {},
   "outputs": [
    {
     "name": "stdout",
     "output_type": "stream",
     "text": [
      "ram ram.com 123\n"
     ]
    }
   ],
   "source": [
    "t1.stu_det('ram','ram.com',123)"
   ]
  },
  {
   "cell_type": "code",
   "execution_count": 7,
   "id": "d4ff4f75-f5d5-4698-b17a-5e081d0b7e32",
   "metadata": {},
   "outputs": [],
   "source": [
    "class pws2:\n",
    "    def stu_det(self,name,email,num):\n",
    "        print(name,email,num)\n",
    "        \n",
    "    \n",
    "    @staticmethod #it'll be available for all the objects\n",
    "    def mentor(list_mentor):\n",
    "        print(list_mentor)\n",
    "    \n",
    "    #as you create the obj, you'll be able to use this instance method\n",
    "    def mentor_instance(self,ls_mentor):\n",
    "        print(ls_mentor)"
   ]
  },
  {
   "cell_type": "code",
   "execution_count": 6,
   "id": "391a97b7-ee0e-4916-986a-8a82954ba3b1",
   "metadata": {},
   "outputs": [
    {
     "name": "stdout",
     "output_type": "stream",
     "text": [
      "['a', 'b']\n"
     ]
    }
   ],
   "source": [
    "pws2.mentor(['a','b'])"
   ]
  },
  {
   "cell_type": "code",
   "execution_count": 8,
   "id": "98faa713-217b-4f61-b2d3-9c5343191f8a",
   "metadata": {},
   "outputs": [
    {
     "ename": "TypeError",
     "evalue": "pws2.mentor_instance() missing 1 required positional argument: 'ls_mentor'",
     "output_type": "error",
     "traceback": [
      "\u001b[0;31m---------------------------------------------------------------------------\u001b[0m",
      "\u001b[0;31mTypeError\u001b[0m                                 Traceback (most recent call last)",
      "Cell \u001b[0;32mIn[8], line 1\u001b[0m\n\u001b[0;32m----> 1\u001b[0m \u001b[43mpws2\u001b[49m\u001b[38;5;241;43m.\u001b[39;49m\u001b[43mmentor_instance\u001b[49m\u001b[43m(\u001b[49m\u001b[43m[\u001b[49m\u001b[38;5;124;43m'\u001b[39;49m\u001b[38;5;124;43mc\u001b[39;49m\u001b[38;5;124;43m'\u001b[39;49m\u001b[43m,\u001b[49m\u001b[38;5;124;43m'\u001b[39;49m\u001b[38;5;124;43md\u001b[39;49m\u001b[38;5;124;43m'\u001b[39;49m\u001b[43m]\u001b[49m\u001b[43m)\u001b[49m\n",
      "\u001b[0;31mTypeError\u001b[0m: pws2.mentor_instance() missing 1 required positional argument: 'ls_mentor'"
     ]
    }
   ],
   "source": [
    "pws2.mentor_instance(['c','d'])"
   ]
  },
  {
   "cell_type": "code",
   "execution_count": 9,
   "id": "bd2d25ab-a155-42ab-b4c7-8e242cf8440c",
   "metadata": {},
   "outputs": [],
   "source": [
    "t2 = pws2()"
   ]
  },
  {
   "cell_type": "code",
   "execution_count": 10,
   "id": "4b682d41-561f-40f2-a99a-243cce97ff6a",
   "metadata": {},
   "outputs": [
    {
     "name": "stdout",
     "output_type": "stream",
     "text": [
      "['c', 'd']\n"
     ]
    }
   ],
   "source": [
    "t2.mentor_instance(['c','d'])"
   ]
  },
  {
   "cell_type": "code",
   "execution_count": 17,
   "id": "3f76430a-55a5-4213-853a-2df797f0b0c0",
   "metadata": {},
   "outputs": [],
   "source": [
    "class pws3:\n",
    "    def stu_det(self,name,email,num):\n",
    "        print(name,email,num)\n",
    "        \n",
    "    \n",
    "    @staticmethod\n",
    "    def mentor_email(mail):\n",
    "        print(mail)\n",
    "    \n",
    "    @staticmethod #it'll be available for all the objects\n",
    "    def mentor(list_mentor):\n",
    "        print(list_mentor)\n",
    "        pws3.mentor_email(['g.com','r.com'])\n",
    "        \n",
    "    @classmethod\n",
    "    def class_name(cls,class_nm):\n",
    "        cls.mentor(['g','i'])\n",
    "    \n",
    "    #as you create the obj, you'll be able to use this instance method\n",
    "    def mentor_instance(self,ls_mentor):\n",
    "        print(ls_mentor)\n",
    "        self.mentor(['g','h'])"
   ]
  },
  {
   "cell_type": "code",
   "execution_count": 18,
   "id": "a6856114-9fa8-4216-970a-866d2c877f11",
   "metadata": {},
   "outputs": [],
   "source": [
    "t6 = pws3()"
   ]
  },
  {
   "cell_type": "code",
   "execution_count": 20,
   "id": "d7f8e474-66fd-44c5-8a4d-b8b450c504dc",
   "metadata": {},
   "outputs": [
    {
     "name": "stdout",
     "output_type": "stream",
     "text": [
      "a\n"
     ]
    }
   ],
   "source": [
    "t6.mentor_email('a')"
   ]
  },
  {
   "cell_type": "code",
   "execution_count": 21,
   "id": "5abbca3d-2335-430b-9b0a-6a27cb3e2dde",
   "metadata": {},
   "outputs": [
    {
     "name": "stdout",
     "output_type": "stream",
     "text": [
      "['g', 'i']\n",
      "['g.com', 'r.com']\n"
     ]
    }
   ],
   "source": [
    "t6.class_name('ds')"
   ]
  },
  {
   "cell_type": "code",
   "execution_count": null,
   "id": "1b01fee1-bdb9-4d7d-82e8-02f2d7f4d0ad",
   "metadata": {},
   "outputs": [],
   "source": []
  }
 ],
 "metadata": {
  "kernelspec": {
   "display_name": "Python 3 (ipykernel)",
   "language": "python",
   "name": "python3"
  },
  "language_info": {
   "codemirror_mode": {
    "name": "ipython",
    "version": 3
   },
   "file_extension": ".py",
   "mimetype": "text/x-python",
   "name": "python",
   "nbconvert_exporter": "python",
   "pygments_lexer": "ipython3",
   "version": "3.10.8"
  }
 },
 "nbformat": 4,
 "nbformat_minor": 5
}
