{
 "cells": [
  {
   "cell_type": "code",
   "execution_count": 1,
   "id": "279de85e-dd29-4fef-9c8e-98d281e055c9",
   "metadata": {},
   "outputs": [],
   "source": [
    "#Inherit a property upper class to lower class (parent to child)"
   ]
  },
  {
   "cell_type": "code",
   "execution_count": 2,
   "id": "2cc1d907-6262-4c23-ac81-f60fdebb7d5a",
   "metadata": {},
   "outputs": [],
   "source": [
    "class par:\n",
    "    def test_par(self):\n",
    "        print('this is my parent class')"
   ]
  },
  {
   "cell_type": "code",
   "execution_count": 4,
   "id": "13db1574-6e75-4123-8b5c-dd4e4ded9e22",
   "metadata": {},
   "outputs": [],
   "source": [
    "#whatever method defied for par will be available in child class\n",
    "class child(par):\n",
    "    pass"
   ]
  },
  {
   "cell_type": "code",
   "execution_count": 5,
   "id": "54aadd00-007a-4947-a731-741d86772429",
   "metadata": {},
   "outputs": [],
   "source": [
    "child_obj = child()"
   ]
  },
  {
   "cell_type": "code",
   "execution_count": 6,
   "id": "cb01b48b-58d8-42d6-a806-a98f24976ecc",
   "metadata": {},
   "outputs": [
    {
     "name": "stdout",
     "output_type": "stream",
     "text": [
      "this is my parent class\n"
     ]
    }
   ],
   "source": [
    "child_obj.test_par() #access par class using obj created with child class - inheritance"
   ]
  },
  {
   "cell_type": "markdown",
   "id": "0fe2b83d-8a30-4597-bbdc-a35e83917bb2",
   "metadata": {},
   "source": [
    "## Multilevel inheritance - one below another (grand - father- son)"
   ]
  },
  {
   "cell_type": "code",
   "execution_count": 7,
   "id": "9a6131ce-2303-4d79-a7ca-24d58f5d5028",
   "metadata": {},
   "outputs": [],
   "source": [
    "class class1:\n",
    "    def test_cl1(self):\n",
    "        print('this is cl1')"
   ]
  },
  {
   "cell_type": "code",
   "execution_count": 8,
   "id": "f8f68e2a-1ea7-46bf-be1f-8f16b27106ba",
   "metadata": {},
   "outputs": [],
   "source": [
    "class class2(class1):\n",
    "    def test_cl2(self):\n",
    "        print('this is cl2')"
   ]
  },
  {
   "cell_type": "code",
   "execution_count": 9,
   "id": "7dc708ef-2dfb-4d73-aff6-21f5fcf93722",
   "metadata": {},
   "outputs": [],
   "source": [
    "class class3(class2):\n",
    "    def test_cl3(self):\n",
    "        print('this is cl3')"
   ]
  },
  {
   "cell_type": "code",
   "execution_count": 10,
   "id": "d67f18d7-87f1-4d83-95e3-11ed742dfa01",
   "metadata": {},
   "outputs": [],
   "source": [
    "test = class3()"
   ]
  },
  {
   "cell_type": "code",
   "execution_count": 11,
   "id": "3be4df20-98d8-4ac9-8afe-080896b7aa39",
   "metadata": {},
   "outputs": [
    {
     "name": "stdout",
     "output_type": "stream",
     "text": [
      "this is cl3\n",
      "this is cl2\n",
      "this is cl3\n"
     ]
    },
    {
     "data": {
      "text/plain": [
       "(None, None, None)"
      ]
     },
     "execution_count": 11,
     "metadata": {},
     "output_type": "execute_result"
    }
   ],
   "source": [
    "test.test_cl3(), test.test_cl2(), test.test_cl3() #able to inherit class2 as well as class1 through class2"
   ]
  },
  {
   "cell_type": "markdown",
   "id": "d0094417-06cb-4659-9102-08eea8118062",
   "metadata": {},
   "source": [
    "## Multiple Inheritance"
   ]
  },
  {
   "cell_type": "code",
   "execution_count": 12,
   "id": "4ff9679b-5155-40fd-9bfe-ca3d9c2a4b6b",
   "metadata": {},
   "outputs": [],
   "source": [
    "class cls1:\n",
    "    def test_cls1(self):\n",
    "        print('this is cl1')"
   ]
  },
  {
   "cell_type": "code",
   "execution_count": 17,
   "id": "82256229-0569-464c-83c7-732cb4afdd81",
   "metadata": {},
   "outputs": [],
   "source": [
    "class cls2:\n",
    "    def test_cls2(self):\n",
    "        print('this is cl2')"
   ]
  },
  {
   "cell_type": "code",
   "execution_count": 18,
   "id": "0d022c3c-af5b-4cca-93cd-db16e314584b",
   "metadata": {},
   "outputs": [],
   "source": [
    "class cls3(cls1,cls2):\n",
    "    pass"
   ]
  },
  {
   "cell_type": "code",
   "execution_count": 19,
   "id": "73fff22f-c514-4f09-b2d8-c22c959b11aa",
   "metadata": {},
   "outputs": [],
   "source": [
    "test2 = cls3()"
   ]
  },
  {
   "cell_type": "code",
   "execution_count": 20,
   "id": "501cbd65-8fb7-4b13-b860-5bdfcbf3d434",
   "metadata": {},
   "outputs": [
    {
     "name": "stdout",
     "output_type": "stream",
     "text": [
      "this is cl1\n",
      "this is cl2\n"
     ]
    },
    {
     "data": {
      "text/plain": [
       "(None, None)"
      ]
     },
     "execution_count": 20,
     "metadata": {},
     "output_type": "execute_result"
    }
   ],
   "source": [
    "test2.test_cls1(), test2.test_cls2()"
   ]
  },
  {
   "cell_type": "code",
   "execution_count": null,
   "id": "e7656657-2169-4cdf-a401-d1709001ad83",
   "metadata": {},
   "outputs": [],
   "source": []
  }
 ],
 "metadata": {
  "kernelspec": {
   "display_name": "Python 3 (ipykernel)",
   "language": "python",
   "name": "python3"
  },
  "language_info": {
   "codemirror_mode": {
    "name": "ipython",
    "version": 3
   },
   "file_extension": ".py",
   "mimetype": "text/x-python",
   "name": "python",
   "nbconvert_exporter": "python",
   "pygments_lexer": "ipython3",
   "version": "3.10.8"
  }
 },
 "nbformat": 4,
 "nbformat_minor": 5
}
